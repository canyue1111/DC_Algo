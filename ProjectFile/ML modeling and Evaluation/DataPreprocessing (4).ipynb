{
  "nbformat": 4,
  "nbformat_minor": 0,
  "metadata": {
    "colab": {
      "name": "DataPreprocessing.ipynb",
      "provenance": [],
      "collapsed_sections": []
    },
    "kernelspec": {
      "name": "python3",
      "display_name": "Python 3"
    }
  },
  "cells": [
    {
      "cell_type": "code",
      "metadata": {
        "id": "ToI5ko3j2p_y"
      },
      "source": [
        "import requests\n",
        "import numpy as np\n",
        "import pandas as pd"
      ],
      "execution_count": 280,
      "outputs": []
    },
    {
      "cell_type": "markdown",
      "metadata": {
        "id": "kb743j4LSRtK"
      },
      "source": [
        "#Read Data and EDA"
      ]
    },
    {
      "cell_type": "code",
      "metadata": {
        "colab": {
          "base_uri": "https://localhost:8080/",
          "height": 586
        },
        "id": "zTg-PDgu2ssY",
        "outputId": "0998668d-bc06-4186-9fc6-8a219db99b8a"
      },
      "source": [
        "final = pd.DataFrame()\n",
        "\n",
        "#Read file 1.csv to 24.csv\n",
        "for i in range(1,24):\n",
        "  string = str(i) + '.csv' \n",
        "  df = pd.read_csv(string)\n",
        "  final = final.append(df, ignore_index = True) \n",
        "\n",
        "\n",
        "\n",
        "#final['Education Required'].loc[(final['Education Required'] == 's degree')|(final['Education Required'] == 'bachelors degree')] = 'bachelor degree'\n",
        "final = final.iloc[:,1:]\n",
        "final = final.replace('None',np.nan)\n",
        "\n",
        "\n",
        "final['Minimum Experience Required'] = final['Minimum Experience Required'] .replace(99,np.nan)\n",
        "final = final.replace('none',np.nan)\n",
        "final = final.drop_duplicates()\n",
        "display(final)"
      ],
      "execution_count": 281,
      "outputs": [
        {
          "output_type": "display_data",
          "data": {
            "text/html": [
              "<div>\n",
              "<style scoped>\n",
              "    .dataframe tbody tr th:only-of-type {\n",
              "        vertical-align: middle;\n",
              "    }\n",
              "\n",
              "    .dataframe tbody tr th {\n",
              "        vertical-align: top;\n",
              "    }\n",
              "\n",
              "    .dataframe thead th {\n",
              "        text-align: right;\n",
              "    }\n",
              "</style>\n",
              "<table border=\"1\" class=\"dataframe\">\n",
              "  <thead>\n",
              "    <tr style=\"text-align: right;\">\n",
              "      <th></th>\n",
              "      <th>title</th>\n",
              "      <th>company</th>\n",
              "      <th>salary</th>\n",
              "      <th>link</th>\n",
              "      <th>description</th>\n",
              "      <th>location</th>\n",
              "      <th>Minimum Experience Required</th>\n",
              "      <th>Education Required</th>\n",
              "    </tr>\n",
              "  </thead>\n",
              "  <tbody>\n",
              "    <tr>\n",
              "      <th>0</th>\n",
              "      <td>TABLEAU DEVELOPER (SOPHI)</td>\n",
              "      <td>The Globe and Mail</td>\n",
              "      <td>NaN</td>\n",
              "      <td>https://ca.indeed.com/viewjob?jk=fc1458755f9a5...</td>\n",
              "      <td>['data analysis', 'workings', 'work', 'analyti...</td>\n",
              "      <td>Toronto, ON</td>\n",
              "      <td>3.0</td>\n",
              "      <td>bachelors degree</td>\n",
              "    </tr>\n",
              "    <tr>\n",
              "      <th>1</th>\n",
              "      <td>securities analyst</td>\n",
              "      <td>DeepR Analytics, Inc.</td>\n",
              "      <td>40.87</td>\n",
              "      <td>https://ca.indeed.com/viewjob?jk=76f195c0c030f...</td>\n",
              "      <td>['investment', 'invest', 'work', 'inform', 'in...</td>\n",
              "      <td>Toronto, ON</td>\n",
              "      <td>NaN</td>\n",
              "      <td>NaN</td>\n",
              "    </tr>\n",
              "    <tr>\n",
              "      <th>2</th>\n",
              "      <td>Analyst, Compensation &amp; Classification</td>\n",
              "      <td>Vancouver Island Health Authority</td>\n",
              "      <td>NaN</td>\n",
              "      <td>https://ca.indeed.com/viewjob?jk=d3a1d8b3c545e...</td>\n",
              "      <td>['skills', 'classification', 'resources', 'res...</td>\n",
              "      <td>Victoria, BC</td>\n",
              "      <td>2.0</td>\n",
              "      <td>NaN</td>\n",
              "    </tr>\n",
              "    <tr>\n",
              "      <th>3</th>\n",
              "      <td>Analyst, Data Management and Anonymization Centre</td>\n",
              "      <td>Desjardins</td>\n",
              "      <td>NaN</td>\n",
              "      <td>https://ca.indeed.com/viewjob?jk=ce7f05f4ae1e9...</td>\n",
              "      <td>['management', 'data', 'teams', 'team', 'requi...</td>\n",
              "      <td>Montréal, QC</td>\n",
              "      <td>NaN</td>\n",
              "      <td>bachelors degree</td>\n",
              "    </tr>\n",
              "    <tr>\n",
              "      <th>4</th>\n",
              "      <td>Business Analyst \\ Business Data Analyst ( Ban...</td>\n",
              "      <td>Globewin Consulting Incorporation</td>\n",
              "      <td>NaN</td>\n",
              "      <td>https://ca.indeed.com/viewjob?jk=71f97df17cb69...</td>\n",
              "      <td>['data', 'requirements', 'required', 'requir',...</td>\n",
              "      <td>Oakville, ON</td>\n",
              "      <td>3.0</td>\n",
              "      <td>secondary degree</td>\n",
              "    </tr>\n",
              "    <tr>\n",
              "      <th>...</th>\n",
              "      <td>...</td>\n",
              "      <td>...</td>\n",
              "      <td>...</td>\n",
              "      <td>...</td>\n",
              "      <td>...</td>\n",
              "      <td>...</td>\n",
              "      <td>...</td>\n",
              "      <td>...</td>\n",
              "    </tr>\n",
              "    <tr>\n",
              "      <th>6664</th>\n",
              "      <td>Business Analyst - Business Intelligence &amp; Ana...</td>\n",
              "      <td>Affinity Staffing</td>\n",
              "      <td>NaN</td>\n",
              "      <td>https://ca.indeed.com/viewjob/pagead/clk?mo=r&amp;...</td>\n",
              "      <td>[]</td>\n",
              "      <td>Winnipeg, MB</td>\n",
              "      <td>NaN</td>\n",
              "      <td>NaN</td>\n",
              "    </tr>\n",
              "    <tr>\n",
              "      <th>6665</th>\n",
              "      <td>Lead Business Analyst - 299191</td>\n",
              "      <td>Procom</td>\n",
              "      <td>NaN</td>\n",
              "      <td>https://ca.indeed.com/viewjob/pagead/clk?mo=r&amp;...</td>\n",
              "      <td>[]</td>\n",
              "      <td>Burnaby, BC</td>\n",
              "      <td>NaN</td>\n",
              "      <td>NaN</td>\n",
              "    </tr>\n",
              "    <tr>\n",
              "      <th>6666</th>\n",
              "      <td>Business Analyst - Digital Health</td>\n",
              "      <td>Affinity Staffing</td>\n",
              "      <td>NaN</td>\n",
              "      <td>https://ca.indeed.com/viewjob/pagead/clk?mo=r&amp;...</td>\n",
              "      <td>[]</td>\n",
              "      <td>Toronto, ON</td>\n",
              "      <td>NaN</td>\n",
              "      <td>NaN</td>\n",
              "    </tr>\n",
              "    <tr>\n",
              "      <th>6667</th>\n",
              "      <td>Salesforce Business Systems Analyst</td>\n",
              "      <td>Affinity Staffing</td>\n",
              "      <td>NaN</td>\n",
              "      <td>https://ca.indeed.com/viewjob/pagead/clk?mo=r&amp;...</td>\n",
              "      <td>[]</td>\n",
              "      <td>Toronto, ON</td>\n",
              "      <td>NaN</td>\n",
              "      <td>NaN</td>\n",
              "    </tr>\n",
              "    <tr>\n",
              "      <th>6668</th>\n",
              "      <td>Intermediate Business Systems Analyst</td>\n",
              "      <td>Affinity Staffing</td>\n",
              "      <td>NaN</td>\n",
              "      <td>https://ca.indeed.com/viewjob/pagead/clk?mo=r&amp;...</td>\n",
              "      <td>[]</td>\n",
              "      <td>Victoria, BC</td>\n",
              "      <td>NaN</td>\n",
              "      <td>NaN</td>\n",
              "    </tr>\n",
              "  </tbody>\n",
              "</table>\n",
              "<p>4756 rows × 8 columns</p>\n",
              "</div>"
            ],
            "text/plain": [
              "                                                  title  ... Education Required\n",
              "0                             TABLEAU DEVELOPER (SOPHI)  ...   bachelors degree\n",
              "1                                    securities analyst  ...                NaN\n",
              "2                Analyst, Compensation & Classification  ...                NaN\n",
              "3     Analyst, Data Management and Anonymization Centre  ...   bachelors degree\n",
              "4     Business Analyst \\ Business Data Analyst ( Ban...  ...   secondary degree\n",
              "...                                                 ...  ...                ...\n",
              "6664  Business Analyst - Business Intelligence & Ana...  ...                NaN\n",
              "6665                     Lead Business Analyst - 299191  ...                NaN\n",
              "6666                  Business Analyst - Digital Health  ...                NaN\n",
              "6667                Salesforce Business Systems Analyst  ...                NaN\n",
              "6668              Intermediate Business Systems Analyst  ...                NaN\n",
              "\n",
              "[4756 rows x 8 columns]"
            ]
          },
          "metadata": {
            "tags": []
          }
        }
      ]
    },
    {
      "cell_type": "code",
      "metadata": {
        "colab": {
          "base_uri": "https://localhost:8080/",
          "height": 889
        },
        "id": "pA1wXYrk35pM",
        "outputId": "c333feaa-8c52-4424-8c96-a43168a9caf1"
      },
      "source": [
        "display(final.describe())\r\n",
        "display(final['location'].unique())"
      ],
      "execution_count": 282,
      "outputs": [
        {
          "output_type": "display_data",
          "data": {
            "text/html": [
              "<div>\n",
              "<style scoped>\n",
              "    .dataframe tbody tr th:only-of-type {\n",
              "        vertical-align: middle;\n",
              "    }\n",
              "\n",
              "    .dataframe tbody tr th {\n",
              "        vertical-align: top;\n",
              "    }\n",
              "\n",
              "    .dataframe thead th {\n",
              "        text-align: right;\n",
              "    }\n",
              "</style>\n",
              "<table border=\"1\" class=\"dataframe\">\n",
              "  <thead>\n",
              "    <tr style=\"text-align: right;\">\n",
              "      <th></th>\n",
              "      <th>Minimum Experience Required</th>\n",
              "    </tr>\n",
              "  </thead>\n",
              "  <tbody>\n",
              "    <tr>\n",
              "      <th>count</th>\n",
              "      <td>430.000000</td>\n",
              "    </tr>\n",
              "    <tr>\n",
              "      <th>mean</th>\n",
              "      <td>3.113953</td>\n",
              "    </tr>\n",
              "    <tr>\n",
              "      <th>std</th>\n",
              "      <td>1.980921</td>\n",
              "    </tr>\n",
              "    <tr>\n",
              "      <th>min</th>\n",
              "      <td>0.000000</td>\n",
              "    </tr>\n",
              "    <tr>\n",
              "      <th>25%</th>\n",
              "      <td>2.000000</td>\n",
              "    </tr>\n",
              "    <tr>\n",
              "      <th>50%</th>\n",
              "      <td>3.000000</td>\n",
              "    </tr>\n",
              "    <tr>\n",
              "      <th>75%</th>\n",
              "      <td>4.000000</td>\n",
              "    </tr>\n",
              "    <tr>\n",
              "      <th>max</th>\n",
              "      <td>12.000000</td>\n",
              "    </tr>\n",
              "  </tbody>\n",
              "</table>\n",
              "</div>"
            ],
            "text/plain": [
              "       Minimum Experience Required\n",
              "count                   430.000000\n",
              "mean                      3.113953\n",
              "std                       1.980921\n",
              "min                       0.000000\n",
              "25%                       2.000000\n",
              "50%                       3.000000\n",
              "75%                       4.000000\n",
              "max                      12.000000"
            ]
          },
          "metadata": {
            "tags": []
          }
        },
        {
          "output_type": "display_data",
          "data": {
            "text/plain": [
              "array(['Toronto, ON', 'Victoria, BC', 'Montréal, QC', 'Oakville, ON',\n",
              "       'Brantford, ON', 'Thornhill, ON', 'Mississauga, ON',\n",
              "       'Richmond, BC', 'Remote', 'Calgary, AB', 'Ontario',\n",
              "       'Longueuil, QC', 'Scarborough, ON', 'Humboldt, SK',\n",
              "       'St. Anthony, NL', 'Saint-Laurent, QC', 'Dartmouth, NS',\n",
              "       'Vancouver, BC', 'Canada', 'Ottawa, ON', 'Brampton, ON',\n",
              "       'Port Coquitlam, BC', 'Markham, ON', 'New Brunswick',\n",
              "       'Concord, ON', 'Halifax, NS', 'Greater Montreal Area, QC',\n",
              "       'Wainwright, AB', 'Kelowna, BC', 'Boucherville, QC',\n",
              "       'Winnipeg, MB', 'Alberta', 'Dieppe, NB', 'British Columbia',\n",
              "       'Burnaby, BC', 'Regina, SK', 'Saskatchewan', 'Surrey, BC',\n",
              "       'Windsor, ON', 'London, ON', 'Edmonton, AB', \"St. John's, NL\",\n",
              "       'York, ON', 'Etobicoke, ON', 'Stoney Creek, ON', 'Woodbridge, ON',\n",
              "       'Kirkland, QC', 'Moncton, NB', 'Waterloo, ON', 'Stellarton, NS',\n",
              "       'Quebec City, QC', 'Guelph, ON', 'Verdun, QC',\n",
              "       'St. Catharines, ON', 'Newmarket, ON', 'Saint John, NB',\n",
              "       'Centretown, ON', 'Pemberton, BC', 'Waterdown, ON', 'Hamilton, ON',\n",
              "       'Laval, QC', 'Sherbrooke, QC', 'Delta, BC', 'Orillia, ON',\n",
              "       'Saint-Hubert, QC', 'Kirkland Lake, ON', 'Ajax, ON',\n",
              "       'Valcourt, QC', 'Richmond Hill, ON', 'Acheson, AB',\n",
              "       'North York, ON', 'East Angus, QC', 'West Vancouver, BC',\n",
              "       'Dorval, QC', 'Langley, BC', 'Stayner, ON', 'Barrie, ON',\n",
              "       'Gatineau, QC', 'Saint-Hyacinthe, QC', 'Coquitlam, BC',\n",
              "       'Oshawa, ON', 'New Westminster, BC', 'Vaughan, ON', 'Midland, ON',\n",
              "       'Pointe-Claire, QC', 'Niagara-on-the-Lake, ON', 'Fredericton, NB',\n",
              "       'Georgetown, ON', 'Kitchener, ON', 'Essex, ON', 'Nepean, ON',\n",
              "       'Prince George, BC', 'Penticton, BC', 'Strathroy, ON',\n",
              "       'Unionville, ON', 'Pickering, ON', 'Iqaluit, NU',\n",
              "       '100 Mile House, BC', 'Lethbridge, AB', 'Yellowknife, NT',\n",
              "       'Westmount, QC', 'Saint-Césaire, QC', 'Bedford, QC', 'Aylmer, ON',\n",
              "       'Aldouane, NB', 'Sioux Lookout, ON', 'Peel, ON',\n",
              "       'Haines Junction, YT', 'Vaudreuil-Dorion, QC', 'Burlington, ON',\n",
              "       'Milton, ON', 'Vanderhoof, BC', 'Mary River, NU', 'Sydney, NS',\n",
              "       'Sparwood, BC', 'Saskatoon, SK', 'Lakeshore, ON', 'Hiawatha, ON',\n",
              "       'Greater Toronto Area, ON', 'Cambridge, ON', 'Haley Station, ON'],\n",
              "      dtype=object)"
            ]
          },
          "metadata": {
            "tags": []
          }
        }
      ]
    },
    {
      "cell_type": "code",
      "metadata": {
        "colab": {
          "base_uri": "https://localhost:8080/",
          "height": 269
        },
        "id": "KJBpWXBdJRJ0",
        "outputId": "89c2e81b-c1de-4840-bfcb-857b8635a712"
      },
      "source": [
        "labels = final['Education Required'].unique() \n",
        "\n",
        "#secondary degree\n",
        "#Bachelor degree\n",
        "#graduate degree, #master degree\n",
        "#postgraduate degree\n",
        "display(labels)"
      ],
      "execution_count": 283,
      "outputs": [
        {
          "output_type": "display_data",
          "data": {
            "text/plain": [
              "array(['bachelors degree', nan, 'secondary degree', 'bachelor degree',\n",
              "       'higher degree', 'some degree', 'university degree',\n",
              "       'superior degree high degree', 'undergraduate degree',\n",
              "       'masters degree', 'engineering degree', 'a degree',\n",
              "       'college degree', '2 degree', 'or degree', 'business degree',\n",
              "       'high degree', 'secondary degree masters degree',\n",
              "       'university degree a degree', 'graduate degree', 'varying degree',\n",
              "       'bachelors degree masters degree',\n",
              "       'associates degree bachelors degree', 'education degree',\n",
              "       'year degree', 'of degree', 'science degree', 'commerce degree',\n",
              "       'ms degree', 'bs degree', 'tertiary degree', 'advanced degree',\n",
              "       'level degree', 'baccalaureate degree masters degree',\n",
              "       'a degree masters degree', 'to degree',\n",
              "       'undergraduate degree graduate degree', 'quantitative degree',\n",
              "       'year degree formal degree', 'professional degree'], dtype=object)"
            ]
          },
          "metadata": {
            "tags": []
          }
        }
      ]
    },
    {
      "cell_type": "code",
      "metadata": {
        "id": "1VqsmdytLhSf"
      },
      "source": [
        "def summerize_degree(dgr):\n",
        "  if dgr is np.nan:\n",
        "    return \"undefine\"\n",
        "  if (\"college\" in dgr) | (\"secondary\" in dgr):\n",
        "    return \"secondary\"\n",
        "  if  (\"doctor\" in dgr)| (\"post\" in dgr):\n",
        "    return \"postgraduate\"\n",
        "  if (\"master\" in dgr) | (\"graduate\"  in dgr):\n",
        "    return \"graduate\"\n",
        "  if \"high\" in dgr:\n",
        "    return \"graduate\"\n",
        "\n",
        "  if \"bachelor\" in dgr:\n",
        "    return \"university\"\n",
        "\n",
        "  if (\"college\" in dgr) | (\"secondary\" in dgr):\n",
        "    return \"secondary\"\n",
        "\n",
        "  else: return \"university\"\n",
        "\n",
        "final['Education Required'] = final['Education Required'].apply(summerize_degree)"
      ],
      "execution_count": 284,
      "outputs": []
    },
    {
      "cell_type": "code",
      "metadata": {
        "colab": {
          "base_uri": "https://localhost:8080/",
          "height": 33
        },
        "id": "84v-lJoYPTW3",
        "outputId": "d7b7a1e2-0400-4df7-e340-7945efee78e9"
      },
      "source": [
        "labels = final['Education Required'].unique() \n",
        "display(labels)"
      ],
      "execution_count": 285,
      "outputs": [
        {
          "output_type": "display_data",
          "data": {
            "text/plain": [
              "array(['university', 'undefine', 'secondary', 'graduate'], dtype=object)"
            ]
          },
          "metadata": {
            "tags": []
          }
        }
      ]
    },
    {
      "cell_type": "code",
      "metadata": {
        "colab": {
          "base_uri": "https://localhost:8080/",
          "height": 1000
        },
        "id": "D46YKCPQ1y7d",
        "outputId": "3a657da0-5854-4575-f1f8-98f72c4735cf"
      },
      "source": [
        "temp = final.loc[:,['salary','location','Minimum Experience Required']]\n",
        "visualizable_feature_names = temp.columns #\n",
        "\n",
        "labels = final['Education Required'].unique() \n",
        "\n",
        "import plotly.graph_objects as go\n",
        "\n",
        "fig_hist = []\n",
        "for i, feature_name in enumerate(visualizable_feature_names):\n",
        "    fig_hist.append(go.Figure())\n",
        "    for label in labels:\n",
        "        fig_hist[i].add_trace(go.Histogram(x= final[final['Education Required']==label][feature_name], name=label))\n",
        "    fig_hist[i].update_layout(height=400, width=800, title_text=feature_name)\n",
        "    fig_hist[i].update_layout(barmode='overlay')\n",
        "    fig_hist[i].update_traces(opacity=0.5)\n",
        "    fig_hist[i].show()"
      ],
      "execution_count": 286,
      "outputs": [
        {
          "output_type": "display_data",
          "data": {
            "text/html": [
              "<html>\n",
              "<head><meta charset=\"utf-8\" /></head>\n",
              "<body>\n",
              "    <div>\n",
              "            <script src=\"https://cdnjs.cloudflare.com/ajax/libs/mathjax/2.7.5/MathJax.js?config=TeX-AMS-MML_SVG\"></script><script type=\"text/javascript\">if (window.MathJax) {MathJax.Hub.Config({SVG: {font: \"STIX-Web\"}});}</script>\n",
              "                <script type=\"text/javascript\">window.PlotlyConfig = {MathJaxConfig: 'local'};</script>\n",
              "        <script src=\"https://cdn.plot.ly/plotly-latest.min.js\"></script>    \n",
              "            <div id=\"4c0a6ecb-a84a-468d-b7d9-47a25e497913\" class=\"plotly-graph-div\" style=\"height:400px; width:800px;\"></div>\n",
              "            <script type=\"text/javascript\">\n",
              "                \n",
              "                    window.PLOTLYENV=window.PLOTLYENV || {};\n",
              "                    \n",
              "                if (document.getElementById(\"4c0a6ecb-a84a-468d-b7d9-47a25e497913\")) {\n",
              "                    Plotly.newPlot(\n",
              "                        '4c0a6ecb-a84a-468d-b7d9-47a25e497913',\n",
              "                        [{\"name\": \"university\", \"opacity\": 0.5, \"type\": \"histogram\", \"x\": [null, null, null, null, null, null, \"53.31\", null, null, null, null, null, null, null, null, null, null, null, null, null, null, null, null, null, null, null, null, null, null, null, null, null, null, null, null, null, \"28.71\", null, \"37.94\", null, null, null, \"102.16\", null, null, null, null, null, null, null, null, null, null, null, null, null, \"38.31\", null, null, null, null, null, null, null, null, null, null, null, null, null, null, null, null, null, null, null, null, null, null, null, null, null, null, null, null, null, null, null, null, null, null, null, null, null, null, \"26.92\", null, null, null, null, null, null, null, \"32.41\", null, null, null, null, null, null, null, null, null, null, null, null, null, null, null, null, null, null, null, null, null, null, null, null, null, null, null, null, null, null, null, null, null, null, null, null, null, null, null, null, null, null, null, \"34.92\", null, null, null, null, null, null, null, null, null, null, \"24.38\", null, null, null, null, null, null, null, null, null, null, null, null, null, null, null, null, null, null, null, null, null, null, null, null, null, null, null, null, null, null, null, null, null, \"33.9\", null, null, null, \"30.53\", \"37.94\", null, null, null, null, null, null, null, null, null, null, null, null, \"36.72\", null, null, null, null, null, null, null, null, \"37.42\", null, null, null, null, null, null, null, null, null, null, null, null, null, null, null, null, null, null, null, null, null, null, null, null, null, null, null, null, null, null, null, null, null, null, null, null, null, null, null, null, null, null, null, null, null, null, null, null]}, {\"name\": \"undefine\", \"opacity\": 0.5, \"type\": \"histogram\", \"x\": [\"40.87\", null, null, \"38.94\", null, \"31.5\", null, null, null, \"32.0\", null, null, \"32.19\", null, null, null, null, null, null, null, null, \"37.06\", null, null, \"28.85\", null, null, null, null, null, \"45.92\", null, null, \"27.25\", null, null, null, \"21.63\", null, null, null, null, null, null, null, null, null, null, \"99\", null, null, \"18.0\", null, \"35.0\", null, \"28.85\", \"59.74\", \"33.65\", null, \"28.85\", null, null, null, null, null, null, null, \"59.74\", \"99\", null, null, \"28.85\", \"17.0\", null, \"21.63\", null, \"28.85\", null, null, \"75.0\", null, null, null, \"39.5\", \"38.5\", null, null, \"28.85\", null, null, \"43.27\", \"18.0\", null, \"34.5\", null, \"99\", \"35.0\", \"28.61\", \"92.55\", null, null, null, null, \"28.85\", null, null, null, null, null, \"28.85\", null, null, null, null, null, \"40.0\", \"28.85\", null, \"62.5\", null, null, null, null, null, \"39.0\", null, \"61.0\", \"28.85\", null, null, null, \"28.85\", null, null, null, null, null, null, null, null, \"37.06\", null, null, null, null, null, null, null, null, null, \"39.5\", null, null, null, \"40.0\", null, null, null, \"92.55\", \"62.5\", null, null, null, null, null, null, null, null, \"39.0\", \"40.0\", null, null, null, null, null, null, null, \"38.46\", null, null, \"28.85\", null, null, null, null, null, null, null, null, \"21.75\", null, null, null, \"22.5\", null, null, null, null, null, null, \"59.02\", null, null, null, null, null, null, null, null, null, null, null, \"28.85\", null, \"99\", \"34.86\", null, null, null, null, \"35.0\", null, null, \"17.31\", null, null, \"38.39\", null, null, null, null, null, null, null, null, null, null, null, \"99\", null, null, null, null, null, \"25.0\", null, null, null, \"30.05\", null, \"19.83\", null, \"28.85\", null, null, \"30.0\", null, null, null, null, null, null, null, null, null, null, null, null, null, null, \"32.5\", null, null, null, null, null, null, null, null, null, null, \"25.0\", null, null, null, null, null, null, null, null, \"25.0\", \"35.0\", null, null, null, null, null, null, \"32.45\", null, \"45.0\", null, \"60.0\", null, \"40.0\", null, null, null, null, null, null, null, null, null, null, null, null, null, null, null, null, \"42.07\", null, \"32.5\", null, null, null, null, null, \"32.45\", null, null, null, null, null, null, null, null, null, null, null, null, null, null, null, null, null, null, null, null, null, null, null, null, null, \"43.27\", null, null, null, \"51.68\", null, null, null, null, null, null, null, null, null, null, null, null, null, null, null, \"51.68\", null, null, null, null, null, null, null, null, null, null, null, null, null, null, null, null, null, null, null, null, null, null, null, null, null, null, null, null, \"51.68\", null, null, null, null, null, \"99\", \"28.85\", null, null, null, \"39.0\", null, null, null, null, null, null, null, null, null, null, null, null, null, null, null, \"17.0\", null, null, null, null, \"22.12\", \"36.06\", null, \"17.0\", \"22.12\", \"36.06\", null, null, \"39.0\", null, null, null, null, null, null, null, null, null, null, null, null, null, null, null, null, null, null, null, null, \"59.74\", \"99\", \"28.85\", \"35.0\", null, null, null, null, null, \"39.5\", null, null, null, null, null, null, null, null, null, null, null, null, null, null, null, \"28.85\", null, null, \"99\", \"59.74\", null, null, \"39.5\", null, null, null, null, null, null, null, null, null, null, null, null, null, null, null, null, null, null, null, null, null, null, null, \"51.68\", null, null, null, null, \"51.68\", null, null, null, null, null, null, null, null, null, null, null, null, null, null, null, null, null, null, null, null, null, null, null, null, null, null, null, null, null, null, null, null, null, null, null, null, null, null, null, null, null, null, null, null, null, null, null, null, null, null, null, \"51.68\", null, null, null, null, null, null, null, null, null, null, null, null, null, \"51.68\", null, null, null, null, null, null, null, null, null, null, null, null, null, \"51.68\", null, null, null, null, null, null, null, null, null, null, null, null, null, null, null, null, null, null, \"28.85\", null, null, \"99\", \"59.74\", null, null, null, \"39.5\", null, null, null, null, null, null, null, null, null, \"51.68\", null, null, null, null, null, null, null, null, null, null, null, null, null, \"51.68\", null, null, null, null, null, null, null, null, null, null, null, null, null, \"51.68\", null, null, null, null, null, null, null, null, null, null, null, null, null, null, null, null, null, null, null, null, null, null, null, null, null, null, null, \"51.68\", null, null, null, null, null, null, null, null, null, null, null, null, null, null, null, null, null, null, null, null, null, null, null, null, null, null, null, null, null, \"51.68\", null, null, null, null, null, null, null, null, null, null, null, null, null, null, null, null, null, null, null, null, null, null, null, null, null, null, null, null, null, null, null, null, null, null, null, null, null, null, null, null, null, \"51.68\", null, null, null, \"99\", null, null, null, \"59.74\", null, null, null, null, null, null, null, null, null, null, null, null, null, \"51.68\", null, null, null, null, null, null, null, null, null, null, null, null, null, \"51.68\", null, null, null, null, null, null, null, null, null, null, null, null, null, \"51.68\", null, null, null, null, null, null, null, null, null, null, null, null, null, null, null, null, null, null, null, null, null, null, null, null, null, null, null, \"51.68\", null, null, null, null, null, null, null, null, null, null, null, null, null, null, null, null, null, null, null, null, null, null, null, null, null, null, null, \"51.68\", null, null, null, null, null, null, null, null, null, null, null, null, \"51.68\", null, null, null, null, \"51.68\", null, null, null, null, null, null, null, null, null, null, \"45.0\", null, null, null, null, null, null, null, null, null, null, null, null, \"51.68\", null, null, null, null, null, null, null, null, null, null, null, null, null, null, null, null, null, null, null, null, null, null, null, null, null, null, null, null, null, null, null, null, null, null, null, null, null, null, null, null, null, null, \"51.68\", null, null, null, null, null, null, null, null, null, null, null, null, null, \"51.68\", null, null, null, null, null, null, null, null, null, null, null, null, null, null, null, null, null, null, null, null, null, null, null, \"51.68\", null, null, null, null, null, null, null, null, null, null, null, null, null, null, null, null, null, null, null, null, null, null, null, null, null, null, null, null, null, null, \"51.68\", null, null, null, null, null, null, null, null, null, null, null, null, null, null, null, null, null, null, null, null, null, null, null, null, null, null, null, null, null, null, null, null, null, null, null, null, null, null, null, null, null, null, null, null, null, null, null, null, null, null, null, null, null, null, null, null, null, null, null, null, null, null, null, null, null, null, null, null, null, null, null, null, null, null, null, null, null, null, null, null, null, null, null, null, null, null, null, null, null, null, null, null, null, null, null, null, \"51.68\", null, null, null, null, null, null, null, null, null, null, null, null, null, null, null, null, null, null, null, null, null, null, null, null, null, null, null, null, null, \"51.68\", null, null, null, null, null, null, null, null, null, null, null, null, null, \"51.68\", null, null, null, null, null, null, null, null, null, null, null, null, null, null, null, null, null, null, null, null, null, null, null, null, null, \"51.68\", null, null, null, null, null, null, null, null, null, null, null, null, null, null, null, \"51.68\", null, null, null, null, null, null, null, null, null, null, null, \"51.68\", null, null, null, null, null, null, null, null, null, null, null, null, null, null, null, null, null, null, null, null, null, null, null, null, null, null, null, null, null, \"51.68\", null, null, null, null, null, null, null, null, null, null, null, null, null, \"51.68\", null, null, null, null, null, null, \"21.63\", \"28.85\", \"59.74\", null, null, null, null, null, null, \"34.13\", \"19.83\", null, null, \"36.7\", null, null, \"28.85\", null, null, null, null, null, \"55.0\", \"34.62\", null, \"34.13\", \"33.5\", null, null, null, null, null, null, \"22.5\", null, null, \"29.82\", null, \"57.99\", null, null, \"28.85\", \"99\", null, \"59.74\", \"30.5\", null, null, \"34.0\", \"34.33\", \"31.0\", null, \"34.5\", \"19.23\", null, \"36.19\", null, \"28.85\", null, null, null, null, null, \"46.0\", null, null, null, null, null, null, null, null, null, \"35.0\", \"19.83\", \"30.05\", \"34.0\", \"33.65\", \"80.0\", null, null, null, null, null, \"19.83\", null, null, null, null, null, \"34.0\", null, null, null, \"20.43\", null, \"15.87\", null, null, null, null, null, null, \"28.85\", \"51.04\", null, \"27.5\", \"22.92\", \"19.83\", null, null, null, null, null, null, null, \"27.26\", null, null, null, null, null, null, null, null, null, null, null, \"28.85\", null, null, null, \"99\", null, \"59.74\", null, \"99\", null, \"34.37\", \"28.85\", null, null, null, null, null, null, null, null, null, null, null, null, null, null, null, null, null, null, null, null, null, null, null, null, null, null, null, null, null, null, null, null, null, null, null, null, null, null, null, null, null, null, null, null, null, null, null, null, null, null, null, null, null, null, null, null, null, null, null, null, null, null, null, null, null, null, null, null, null, null, null, null, null, null, null, null, null, null, null, null, null, null, null, null, null, null, null, null, \"43.27\", null, null, null, null, null, null, null, \"51.68\", null, null, null, null, null, null, \"43.27\", null, null, null, null, null, null, null, \"51.68\", null, null, null, null, null, null, null, null, null, null, null, null, null, \"51.68\", null, null, null, null, null, null, null, null, null, null, null, null, null, \"51.68\", null, null, null, null, null, null, null, null, null, null, null, null, null, null, null, null, null, null, null, null, null, null, null, null, null, null, null, null, null, null, null, null, null, null, \"43.27\", null, \"42.07\", null, null, null, null, null, null, null, \"43.27\", null, null, null, null, null, null, null, null, null, null, null, null, null, null, null, null, null, null, null, null, null, null, null, null, \"51.68\", null, null, null, null, null, null, null, null, null, null, null, null, null, null, null, null, null, null, null, null, null, null, null, null, null, null, null, null, null, null, null, null, null, null, null, null, null, null, null, null, null, \"51.68\", null, null, null, null, null, null, null, null, null, null, null, null, null, \"51.68\", null, null, null, null, null, null, null, null, null, null, null, null, null, \"51.68\", null, null, null, null, null, null, null, null, null, null, null, null, null, null, null, null, null, null, null, null, null, null, null, null, null, null, null, null, null, null, null, null, \"51.68\", null, null, null, null, null, null, null, null, null, null, null, null, \"51.68\", null, null, null, null, null, null, null, null, null, null, null, null, null, null, \"51.68\", null, null, null, null, null, \"99\", \"59.74\", null, null, null, \"33.65\", null, null, null, null, null, null, null, null, null, null, null, null, null, null, null, null, null, null, null, null, null, null, null, null, \"51.68\", null, null, null, null, null, null, null, null, null, null, null, null, null, \"51.68\", null, null, null, null, null, null, null, null, null, null, null, null, null, null, null, null, null, null, null, null, null, null, null, null, null, null, null, null, \"51.68\", null, null, null, null, null, null, null, null, null, null, null, null, \"51.68\", null, null, null, null, null, null, null, null, null, null, null, null, null, null, null, null, null, null, null, null, null, null, null, null, null, null, null, null, null, null, null, \"59.74\", null, null, \"99\", null, null, null, null, null, null, null, null, null, null, null, null, null, \"51.68\", null, null, null, \"99\", null, \"59.74\", null, null, \"99\", \"59.74\", null, null, null, null, null, null, null, null, null, null, null, null, null, null, \"51.68\", null, null, null, null, null, null, null, null, null, null, null, null, null, null, null, null, null, null, null, null, null, null, null, null, null, null, null, \"51.68\", null, null, null, null, null, null, null, null, null, null, null, null, null, null, null, null, null, null, null, null, null, null, null, null, null, null, null, null, null, null, null, null, null, null, null, null, null, null, null, null, null, null, null, null, null, null, null, null, null, null, null, null, null, null, null, null, null, null, null, null, null, null, null, null, null, null, null, null, null, null, null, null, null, null, null, null, null, null, null, null, null, null, null, null, null, null, null, null, null, null, null, null, null, null, null, null, null, null, null, null, null, null, null, null, null, null, null, null, null, null, null, null, null, null, null, null, null, null, null, null, null, null, null, null, null, null, null, null, null, null, null, null, null, null, null, null, null, null, null, null, null, null, null, null, null, null, null, null, null, null, null, null, null, null, null, null, null, null, null, null, null, null, null, null, null, null, null, null, null, null, null, null, null, null, null, null, null, null, null, null, null, null, null, null, null, null, null, null, null, null, null, null, null, null, null, null, null, null, null, null, null, null, null, null, null, null, null, null, null, null, null, null, null, \"15.0\", \"35.0\", null, null, null, null, \"35.16\", null, null, null, null, null, null, null, null, null, null, null, null, null, null, \"35.0\", null, null, null, null, null, null, null, null, null, null, null, null, null, null, null, null, null, null, null, null, null, null, null, null, null, null, null, null, null, null, null, null, null, null, null, null, null, null, null, null, \"35.75\", \"35.34\", \"37.43\", null, null, null, \"24.04\", null, \"25.24\", null, null, null, null, null, \"43.27\", null, null, null, null, null, null, null, null, null, null, null, null, null, \"43.27\", null, null, null, null, null, null, null, null, null, null, null, null, null, \"43.27\", null, null, null, null, null, null, null, null, null, null, \"15.0\", null, null, null, null, null, null, null, null, null, null, null, null, null, null, null, null, null, null, null, null, null, null, null, null, null, \"43.27\", null, null, null, null, null, null, null, null, null, null, null, null, null, null, \"43.27\", null, null, null, null, null, null, null, null, null, null, null, null, null, null, \"43.27\", null, null, null, null, null, null, null, null, null, null, null, null, null, \"43.27\", null, null, null, null, null, null, null, null, \"15.0\", null, null, null, null, null, null, null, null, null, null, null, null, null, null, null, null, null, null, null, null, null, null, null, null, null, null, null, null, null, null, null, null, null, null, null, null, null, null, null, \"43.27\", null, null, null, null, null, null, null, null, null, null, null, null, null, \"43.27\", null, null, null, null, null, null, null, null, null, null, null, null, null, \"43.27\", null, null, null, null, null, null, null, null, null, null, null, null, null, null, null, null, null, null, null, null, null, null, null, null, null, null, null, \"43.27\", null, null, null, null, null, null, null, null, null, null, null, null, null, null, null, null, null, null, null, null, null, null, null, null, null, null, null, null, null, \"15.0\", null, null, null, null, null, null, null, null, null, null, null, null, null, null, null, null, null, null, null, null, null, null, null, null, null, null, null, null, null, null, null, null, \"35.0\", null, null, null, null, null, null, null, null, null, null, null, null, null, null, null, null, null, null, null, null, null, null, null, null, null, null, null, null, null, null, null, null, null, null, null, null, null, null, null, null, null, null, null, null, null, null, null, null, null, null, null, null, null, null, null, null, null, null, null, null, null, null, null, null, null, null, null, null, null, null, null, null, null, null, null, null, null, null, null, null, null, null, null, null, null, null, null, null, null, null, null, null, null, null, null, null, null, null, null, null, null, null, null, null, null, null, null, null, null, null, null, null, null, null, null, null, null, null, null, null, null, null, null, null, null, null, null, null, null, null, null, null, null, null, null, null, null, null, null, null, null, null, null, null, null, null, null, null, null, null, null, null, null, null, null, null, null, null, null, null, null, null, null, null, null, null, null, null, null, null, null, null, null, null, null, null, null, null, null, null, null, null, null, null, null, null, null, null, null, null, null, null, null, null, null, null, null, null, null, null, null, null, null, null, null, null, null, null, null, null, null, null, null, null, null, null, null, null, null, null, null, null, null, null, null, null, null, null, null, null, null, null, null, null, null, null, null, null, \"43.27\", null, null, null, null, null, null, null, null, null, null, null, null, null, \"43.27\", null, null, null, null, null, null, null, null, null, null, null, null, null, \"43.27\", null, null, null, null, null, null, null, null, null, null, null, null, null, null, null, null, null, null, null, null, null, null, null, null, null, null, null, null, null, null, null, null, null, null, null, null, null, null, null, null, null, null, null, null, null, null, null, null, null, null, null, null, null, null, null, null, null, null, null, null, null, null, null, null, null, null, null, null, null, null, null, null, null, null, null, null, null, null, null, null, null, null, null, \"43.27\", null, null, null, null, null, null, null, null, null, null, null, null, null, \"43.27\", null, null, null, null, null, null, null, null, null, null, null, null, null, \"43.27\", null, null, null, null, null, null, null, null, null, null, null, null, null, \"43.27\", null, null, null, null, null, null, null, null, null, null, null, null, null, null, null, null, null, null, null, null, null, null, null, null, null, null, null, null, null, null, null, null, null, null, null, null, null, null, null, null, null, null, \"43.27\", null, null, null, null, null, null, null, null, null, null, null, null, null, null, null, null, null, null, null, null, null, null, null, null, null, null, null, null, null, null, null, null, null, null, null, null, null, null, null, null, null, null, null, null, null, null, null, null, null, null, null, null, null, null, null, \"43.27\", null, null, null, null, null, null, null, null, null, null, null, null, null, \"43.27\", null, null, null, null, null, null, null, null, null, null, null, null, null, null, null, null, null, null, null, null, null, null, null, null, null, null, null, null, null, null, null, null, null, null, null, null, null, null, null, null, null, null, null, null, null, null, null, null, null, null, null, null, null, null, null, null, null, null, null, null, null, null, null, null, null, null, null, null, null, null, null, null, null, null, null, null, null, null, null, null, null, null, null, null, null, null, null, null, null, null, null, null, null, null, null, null, null, null, null, null, null, null, null, null, null, null, null, null, null, null, null, null, null, null, null, null, null, null, null, null, null, null, null, null, null, null, null, null, null, null, null, null, null, null, null, null, null, null, null, null, null, null, null, null, null, null, null, null, null, null, null, null, null, null, null, null, null, null, null, null, null, null, null, null, null, null, null, null, null, null, null, null, null, null, null, null, null, null, null, null, null, null, null, null, null, null, null, null, null, null, null, null, null, null, null, null, null, null, null, null, null, null, null, null, null, null, null, null, null, null, null, null, null, null, null, null, null, null, null, null, null, null, null, null, null, null, null, null, null, null, null, null, null, null, null, null, null, null, null, null, null, null, null, null, null, null, null, null, null, null, null, null, null, null, null, null, null, null, null, null, null, null, null, null, null, null, null, null, null, null, null, null, null, null, null, null, null, null, null, null, null, null, null, null, null, null, null, null, null, null, null, null, null, null, null, \"43.27\", null, null, null, null, null, null, null, null, null, null, null, null, null, null, null, null, null, null, null, null, null, null, null, null, null, null, null, null, null, null, null, null, null, null, null, null, null, null, null, null, null, null, null, null, null, null, null, null, null, null, null, null, \"35.0\", null, null, null, null, \"183.65\", null, null, null, \"43.27\", null, null, null, null, null, null, null, null, null, null, \"35.0\", null, null, null, null, \"183.65\", null, null, null, \"43.27\", null, null, null, null, null, null, null, null, null, null, null, null, null, \"43.27\", null, null, null, null, null, null, null, null, null, null, null, null, null, \"43.27\", null, null, null, null, null, null, null, null, null, null, \"35.0\", null, null, null, null, null, null, null, null, null, null, null, null, null, null, null, null, null, null, null, null, null, null, null, null, null, null, null, null, null, null, null, null, null, null, null, null, null, null, null, null, null, null, null, null, null, null, null, null, null, null, null, null, null, null, null, null, null, null, null, null, null, null, null, null, null, null, null, null, null, null, null, null, null, null, null, null, null, null, null, null, null, null, null, null, null, null, null, null, null, null, null, null, null, null, null, null, null, null, null, null, null, null, null, null, null, null, null, null, null, null, \"35.75\", null, null, null, null, null, null, null, null, null, null, null, null, null, null, null, null, null, null, null, null, null, null, null, null, null, null, null, null, null, null, null, null, null, null, null, null, null, null, null, null, null, null, null, null, null, null, null, null, null, null, null, null, null, null, null, null, null, null, null, null, null, null, null, null, null, null, null, null, null, null, null, null, null, null, null, null, null, null, null, null, null, null, null, null, null, null, null, null, null, null, null, null, null, null, null, null, null, null, null, null, null, null, null, null, null, null, null, null, null, null, null, null, null, null, null, null, null, null, null, null, null, null, null, null, null, null, null, null, null, null, null, null, null, null, null, null, null, null, null, null, null, null, null, null, null, null, null, null, null, null, null, null, null, null, null, null, null, null, null, null, null, null, null, null, null, null, null, null, null, null, null, null, null, null, null, null, null, null, null, null, null, null, null, null, null, null, null, null, null, null, null, null, null, null, null, null, null, null, null, null, null, null, null, null, null, null, null, null, null, null, null, null, null, null, null, null, null, null, null, null, null, null, null, null, null, null, null, null, null, null, null, null, null, null, null, null, null, null, null, null, null, null, null, null, null, null, null, null, null, null, null, null, null, null, null, null, null, null, null, null, null, null, null, null, null, null, null, null, null, null, null, null, null, null, null, null, null, \"15.0\", \"99\", null, null, null, null, \"34.86\", \"38.46\", null, null, null, \"43.27\", null, null, null, null, null, null, null, null, null, null, null, null, null, \"43.27\", null, null, null, null, null, null, null, null, null, null, null, null, null, null, null, null, null, null, null, null, null, null, null, null, null, null, null, \"43.27\", null, null, null, null, null, null, null, null, null, null, null, null, null, null, null, null, null, null, null, null, null, null, null, null, null, null, null, null, null, null, null, null, null, null, null, null, null, null, null, null, null, null, \"43.27\", null, null, null, null, null, null, null, null, null, null, null, null, null, null, \"43.27\", null, null, null, null, null, null, null, null, null, null, null, null, \"15.0\", null, null, null, null, \"34.86\", null, \"39.5\", null, null, null, null, null, null, null, null, null, null, null, null, null, null, null, null, null, null, null, \"43.27\", null, null, null, null, null, null, null, null, null, null, null, null, null, null, null, null, null, null, null, null, null, null, null, null, null, null, null, null, null, null, null, null, null, null, null, null, null, null, null, null, null, null, \"43.27\", null, null, null, null, null, null, null, null, null, null, null, null, null, \"43.27\", null, null, null, null, null, null, null, null, null, null, null, null, null, null, null, null, null, null, null, null, null, null, null, null, null, null, null, null, null, null, null, null, null, null, null, null, null, null, null, null, null, null, null, null, null, null, null, null, null, null, null, null, null, null, null, null, \"43.27\", null, null, null, null, null, null, null, null, null, null, null, null, null, \"43.27\", null, null, null, null, null, null, null, null, null, null, null, null, null, null, null, null, null, null, null, null, null, null, null, null, null, null, null, null, null, null, null, null, null, null, null, null, null, null, null, null, \"43.27\", null, null, null, null, null, null, null, null, null, null, null, null, null, null, \"43.27\", null, null, null, null, null, null, null, null, null, null, null, null, null, null, null, null, null, null, null, null, null, null, null, null, null, null, null, null, null, null, null, null, null, null, null, null, null, null, null, null, null, \"43.27\", null, null, null, null, null, null, null, null, null, null, null, null, \"43.27\", null, null, null, null, null, null, null, null, null, null, null, null, null, null, \"43.27\", null, null, null, null, null, null, null, null, null, null, null, null, null, null, null, null, null, null, null, null, null, null, null, null, null, null, null, \"43.27\", null, null, null, null, null, null, null, null, null, null, null, null, null, \"43.27\", null, null, null, null, null, null, null, null, null, null, null, null, null, \"43.27\", null, null, null, null, null, null, null, null, null, null, null, null, null, \"43.27\", null, null, null, null, null, null, null, null, null, null, null, null, null, \"35.0\", null, null, null, null, null, \"35.0\", null, null, null, null, \"43.27\", null, null, null, null, null, null, null, null, null, null, null, null, null, null, null, null, null, null, null, null, null, null, null, null, null, null, null, null, null, null, null, null, null, null, null, null, null, null]}, {\"name\": \"secondary\", \"opacity\": 0.5, \"type\": \"histogram\", \"x\": [null, null, null, null, null, \"37.06\", null, null, null, null, null, null, null, null, null, null, null, null, null, null, null, \"37.62\", null, null, null, null, null, null, null]}, {\"name\": \"graduate\", \"opacity\": 0.5, \"type\": \"histogram\", \"x\": [null, null, null, \"31.6\", null, null, null, null, null, null, null, null, null, null, null, null, null, null, null, null, null, null, null, null, \"27.09\", null, null, null, null, null, null, null, null, null, null, null, null, null, null, null, null, null, null, null, null, null, null, null, null, null, null, null, null, null, null, null, null, \"39.36\", null, null, \"45.48\", null, \"99\", null, null, null, \"35.95\", \"99\", null, null, null, \"38.72\", null, \"38.05\", null, null, null, null, null, null, null, null, null, null, null, null, null, null, null, null]}],\n",
              "                        {\"barmode\": \"overlay\", \"height\": 400, \"template\": {\"data\": {\"bar\": [{\"error_x\": {\"color\": \"#2a3f5f\"}, \"error_y\": {\"color\": \"#2a3f5f\"}, \"marker\": {\"line\": {\"color\": \"#E5ECF6\", \"width\": 0.5}}, \"type\": \"bar\"}], \"barpolar\": [{\"marker\": {\"line\": {\"color\": \"#E5ECF6\", \"width\": 0.5}}, \"type\": \"barpolar\"}], \"carpet\": [{\"aaxis\": {\"endlinecolor\": \"#2a3f5f\", \"gridcolor\": \"white\", \"linecolor\": \"white\", \"minorgridcolor\": \"white\", \"startlinecolor\": \"#2a3f5f\"}, \"baxis\": {\"endlinecolor\": \"#2a3f5f\", \"gridcolor\": \"white\", \"linecolor\": \"white\", \"minorgridcolor\": \"white\", \"startlinecolor\": \"#2a3f5f\"}, \"type\": \"carpet\"}], \"choropleth\": [{\"colorbar\": {\"outlinewidth\": 0, \"ticks\": \"\"}, \"type\": \"choropleth\"}], \"contour\": [{\"colorbar\": {\"outlinewidth\": 0, \"ticks\": \"\"}, \"colorscale\": [[0.0, \"#0d0887\"], [0.1111111111111111, \"#46039f\"], [0.2222222222222222, \"#7201a8\"], [0.3333333333333333, \"#9c179e\"], [0.4444444444444444, \"#bd3786\"], [0.5555555555555556, \"#d8576b\"], [0.6666666666666666, \"#ed7953\"], [0.7777777777777778, \"#fb9f3a\"], [0.8888888888888888, \"#fdca26\"], [1.0, \"#f0f921\"]], \"type\": \"contour\"}], \"contourcarpet\": [{\"colorbar\": {\"outlinewidth\": 0, \"ticks\": \"\"}, \"type\": \"contourcarpet\"}], \"heatmap\": [{\"colorbar\": {\"outlinewidth\": 0, \"ticks\": \"\"}, \"colorscale\": [[0.0, \"#0d0887\"], [0.1111111111111111, \"#46039f\"], [0.2222222222222222, \"#7201a8\"], [0.3333333333333333, \"#9c179e\"], [0.4444444444444444, \"#bd3786\"], [0.5555555555555556, \"#d8576b\"], [0.6666666666666666, \"#ed7953\"], [0.7777777777777778, \"#fb9f3a\"], [0.8888888888888888, \"#fdca26\"], [1.0, \"#f0f921\"]], \"type\": \"heatmap\"}], \"heatmapgl\": [{\"colorbar\": {\"outlinewidth\": 0, \"ticks\": \"\"}, \"colorscale\": [[0.0, \"#0d0887\"], [0.1111111111111111, \"#46039f\"], [0.2222222222222222, \"#7201a8\"], [0.3333333333333333, \"#9c179e\"], [0.4444444444444444, \"#bd3786\"], [0.5555555555555556, \"#d8576b\"], [0.6666666666666666, \"#ed7953\"], [0.7777777777777778, \"#fb9f3a\"], [0.8888888888888888, \"#fdca26\"], [1.0, \"#f0f921\"]], \"type\": \"heatmapgl\"}], \"histogram\": [{\"marker\": {\"colorbar\": {\"outlinewidth\": 0, \"ticks\": \"\"}}, \"type\": \"histogram\"}], \"histogram2d\": [{\"colorbar\": {\"outlinewidth\": 0, \"ticks\": \"\"}, \"colorscale\": [[0.0, \"#0d0887\"], [0.1111111111111111, \"#46039f\"], [0.2222222222222222, \"#7201a8\"], [0.3333333333333333, \"#9c179e\"], [0.4444444444444444, \"#bd3786\"], [0.5555555555555556, \"#d8576b\"], [0.6666666666666666, \"#ed7953\"], [0.7777777777777778, \"#fb9f3a\"], [0.8888888888888888, \"#fdca26\"], [1.0, \"#f0f921\"]], \"type\": \"histogram2d\"}], \"histogram2dcontour\": [{\"colorbar\": {\"outlinewidth\": 0, \"ticks\": \"\"}, \"colorscale\": [[0.0, \"#0d0887\"], [0.1111111111111111, \"#46039f\"], [0.2222222222222222, \"#7201a8\"], [0.3333333333333333, \"#9c179e\"], [0.4444444444444444, \"#bd3786\"], [0.5555555555555556, \"#d8576b\"], [0.6666666666666666, \"#ed7953\"], [0.7777777777777778, \"#fb9f3a\"], [0.8888888888888888, \"#fdca26\"], [1.0, \"#f0f921\"]], \"type\": \"histogram2dcontour\"}], \"mesh3d\": [{\"colorbar\": {\"outlinewidth\": 0, \"ticks\": \"\"}, \"type\": \"mesh3d\"}], \"parcoords\": [{\"line\": {\"colorbar\": {\"outlinewidth\": 0, \"ticks\": \"\"}}, \"type\": \"parcoords\"}], \"pie\": [{\"automargin\": true, \"type\": \"pie\"}], \"scatter\": [{\"marker\": {\"colorbar\": {\"outlinewidth\": 0, \"ticks\": \"\"}}, \"type\": \"scatter\"}], \"scatter3d\": [{\"line\": {\"colorbar\": {\"outlinewidth\": 0, \"ticks\": \"\"}}, \"marker\": {\"colorbar\": {\"outlinewidth\": 0, \"ticks\": \"\"}}, \"type\": \"scatter3d\"}], \"scattercarpet\": [{\"marker\": {\"colorbar\": {\"outlinewidth\": 0, \"ticks\": \"\"}}, \"type\": \"scattercarpet\"}], \"scattergeo\": [{\"marker\": {\"colorbar\": {\"outlinewidth\": 0, \"ticks\": \"\"}}, \"type\": \"scattergeo\"}], \"scattergl\": [{\"marker\": {\"colorbar\": {\"outlinewidth\": 0, \"ticks\": \"\"}}, \"type\": \"scattergl\"}], \"scattermapbox\": [{\"marker\": {\"colorbar\": {\"outlinewidth\": 0, \"ticks\": \"\"}}, \"type\": \"scattermapbox\"}], \"scatterpolar\": [{\"marker\": {\"colorbar\": {\"outlinewidth\": 0, \"ticks\": \"\"}}, \"type\": \"scatterpolar\"}], \"scatterpolargl\": [{\"marker\": {\"colorbar\": {\"outlinewidth\": 0, \"ticks\": \"\"}}, \"type\": \"scatterpolargl\"}], \"scatterternary\": [{\"marker\": {\"colorbar\": {\"outlinewidth\": 0, \"ticks\": \"\"}}, \"type\": \"scatterternary\"}], \"surface\": [{\"colorbar\": {\"outlinewidth\": 0, \"ticks\": \"\"}, \"colorscale\": [[0.0, \"#0d0887\"], [0.1111111111111111, \"#46039f\"], [0.2222222222222222, \"#7201a8\"], [0.3333333333333333, \"#9c179e\"], [0.4444444444444444, \"#bd3786\"], [0.5555555555555556, \"#d8576b\"], [0.6666666666666666, \"#ed7953\"], [0.7777777777777778, \"#fb9f3a\"], [0.8888888888888888, \"#fdca26\"], [1.0, \"#f0f921\"]], \"type\": \"surface\"}], \"table\": [{\"cells\": {\"fill\": {\"color\": \"#EBF0F8\"}, \"line\": {\"color\": \"white\"}}, \"header\": {\"fill\": {\"color\": \"#C8D4E3\"}, \"line\": {\"color\": \"white\"}}, \"type\": \"table\"}]}, \"layout\": {\"annotationdefaults\": {\"arrowcolor\": \"#2a3f5f\", \"arrowhead\": 0, \"arrowwidth\": 1}, \"coloraxis\": {\"colorbar\": {\"outlinewidth\": 0, \"ticks\": \"\"}}, \"colorscale\": {\"diverging\": [[0, \"#8e0152\"], [0.1, \"#c51b7d\"], [0.2, \"#de77ae\"], [0.3, \"#f1b6da\"], [0.4, \"#fde0ef\"], [0.5, \"#f7f7f7\"], [0.6, \"#e6f5d0\"], [0.7, \"#b8e186\"], [0.8, \"#7fbc41\"], [0.9, \"#4d9221\"], [1, \"#276419\"]], \"sequential\": [[0.0, \"#0d0887\"], [0.1111111111111111, \"#46039f\"], [0.2222222222222222, \"#7201a8\"], [0.3333333333333333, \"#9c179e\"], [0.4444444444444444, \"#bd3786\"], [0.5555555555555556, \"#d8576b\"], [0.6666666666666666, \"#ed7953\"], [0.7777777777777778, \"#fb9f3a\"], [0.8888888888888888, \"#fdca26\"], [1.0, \"#f0f921\"]], \"sequentialminus\": [[0.0, \"#0d0887\"], [0.1111111111111111, \"#46039f\"], [0.2222222222222222, \"#7201a8\"], [0.3333333333333333, \"#9c179e\"], [0.4444444444444444, \"#bd3786\"], [0.5555555555555556, \"#d8576b\"], [0.6666666666666666, \"#ed7953\"], [0.7777777777777778, \"#fb9f3a\"], [0.8888888888888888, \"#fdca26\"], [1.0, \"#f0f921\"]]}, \"colorway\": [\"#636efa\", \"#EF553B\", \"#00cc96\", \"#ab63fa\", \"#FFA15A\", \"#19d3f3\", \"#FF6692\", \"#B6E880\", \"#FF97FF\", \"#FECB52\"], \"font\": {\"color\": \"#2a3f5f\"}, \"geo\": {\"bgcolor\": \"white\", \"lakecolor\": \"white\", \"landcolor\": \"#E5ECF6\", \"showlakes\": true, \"showland\": true, \"subunitcolor\": \"white\"}, \"hoverlabel\": {\"align\": \"left\"}, \"hovermode\": \"closest\", \"mapbox\": {\"style\": \"light\"}, \"paper_bgcolor\": \"white\", \"plot_bgcolor\": \"#E5ECF6\", \"polar\": {\"angularaxis\": {\"gridcolor\": \"white\", \"linecolor\": \"white\", \"ticks\": \"\"}, \"bgcolor\": \"#E5ECF6\", \"radialaxis\": {\"gridcolor\": \"white\", \"linecolor\": \"white\", \"ticks\": \"\"}}, \"scene\": {\"xaxis\": {\"backgroundcolor\": \"#E5ECF6\", \"gridcolor\": \"white\", \"gridwidth\": 2, \"linecolor\": \"white\", \"showbackground\": true, \"ticks\": \"\", \"zerolinecolor\": \"white\"}, \"yaxis\": {\"backgroundcolor\": \"#E5ECF6\", \"gridcolor\": \"white\", \"gridwidth\": 2, \"linecolor\": \"white\", \"showbackground\": true, \"ticks\": \"\", \"zerolinecolor\": \"white\"}, \"zaxis\": {\"backgroundcolor\": \"#E5ECF6\", \"gridcolor\": \"white\", \"gridwidth\": 2, \"linecolor\": \"white\", \"showbackground\": true, \"ticks\": \"\", \"zerolinecolor\": \"white\"}}, \"shapedefaults\": {\"line\": {\"color\": \"#2a3f5f\"}}, \"ternary\": {\"aaxis\": {\"gridcolor\": \"white\", \"linecolor\": \"white\", \"ticks\": \"\"}, \"baxis\": {\"gridcolor\": \"white\", \"linecolor\": \"white\", \"ticks\": \"\"}, \"bgcolor\": \"#E5ECF6\", \"caxis\": {\"gridcolor\": \"white\", \"linecolor\": \"white\", \"ticks\": \"\"}}, \"title\": {\"x\": 0.05}, \"xaxis\": {\"automargin\": true, \"gridcolor\": \"white\", \"linecolor\": \"white\", \"ticks\": \"\", \"title\": {\"standoff\": 15}, \"zerolinecolor\": \"white\", \"zerolinewidth\": 2}, \"yaxis\": {\"automargin\": true, \"gridcolor\": \"white\", \"linecolor\": \"white\", \"ticks\": \"\", \"title\": {\"standoff\": 15}, \"zerolinecolor\": \"white\", \"zerolinewidth\": 2}}}, \"title\": {\"text\": \"salary\"}, \"width\": 800},\n",
              "                        {\"responsive\": true}\n",
              "                    ).then(function(){\n",
              "                            \n",
              "var gd = document.getElementById('4c0a6ecb-a84a-468d-b7d9-47a25e497913');\n",
              "var x = new MutationObserver(function (mutations, observer) {{\n",
              "        var display = window.getComputedStyle(gd).display;\n",
              "        if (!display || display === 'none') {{\n",
              "            console.log([gd, 'removed!']);\n",
              "            Plotly.purge(gd);\n",
              "            observer.disconnect();\n",
              "        }}\n",
              "}});\n",
              "\n",
              "// Listen for the removal of the full notebook cells\n",
              "var notebookContainer = gd.closest('#notebook-container');\n",
              "if (notebookContainer) {{\n",
              "    x.observe(notebookContainer, {childList: true});\n",
              "}}\n",
              "\n",
              "// Listen for the clearing of the current output cell\n",
              "var outputEl = gd.closest('.output');\n",
              "if (outputEl) {{\n",
              "    x.observe(outputEl, {childList: true});\n",
              "}}\n",
              "\n",
              "                        })\n",
              "                };\n",
              "                \n",
              "            </script>\n",
              "        </div>\n",
              "</body>\n",
              "</html>"
            ]
          },
          "metadata": {
            "tags": []
          }
        },
        {
          "output_type": "display_data",
          "data": {
            "text/html": [
              "<html>\n",
              "<head><meta charset=\"utf-8\" /></head>\n",
              "<body>\n",
              "    <div>\n",
              "            <script src=\"https://cdnjs.cloudflare.com/ajax/libs/mathjax/2.7.5/MathJax.js?config=TeX-AMS-MML_SVG\"></script><script type=\"text/javascript\">if (window.MathJax) {MathJax.Hub.Config({SVG: {font: \"STIX-Web\"}});}</script>\n",
              "                <script type=\"text/javascript\">window.PlotlyConfig = {MathJaxConfig: 'local'};</script>\n",
              "        <script src=\"https://cdn.plot.ly/plotly-latest.min.js\"></script>    \n",
              "            <div id=\"a8c0ab2d-c81a-4acb-8cbd-73fe3823788d\" class=\"plotly-graph-div\" style=\"height:400px; width:800px;\"></div>\n",
              "            <script type=\"text/javascript\">\n",
              "                \n",
              "                    window.PLOTLYENV=window.PLOTLYENV || {};\n",
              "                    \n",
              "                if (document.getElementById(\"a8c0ab2d-c81a-4acb-8cbd-73fe3823788d\")) {\n",
              "                    Plotly.newPlot(\n",
              "                        'a8c0ab2d-c81a-4acb-8cbd-73fe3823788d',\n",
              "                        [{\"name\": \"university\", \"opacity\": 0.5, \"type\": \"histogram\", \"x\": [\"Toronto, ON\", \"Montr\\u00e9al, QC\", \"Mississauga, ON\", \"Richmond, BC\", \"Toronto, ON\", \"Ontario\", \"Montr\\u00e9al, QC\", \"Toronto, ON\", \"Montr\\u00e9al, QC\", \"Toronto, ON\", \"Oakville, ON\", \"Mississauga, ON\", \"Montr\\u00e9al, QC\", \"Canada\", \"Vancouver, BC\", \"Brampton, ON\", \"Calgary, AB\", \"Toronto, ON\", \"Montr\\u00e9al, QC\", \"Montr\\u00e9al, QC\", \"Toronto, ON\", \"Toronto, ON\", \"Vancouver, BC\", \"Montr\\u00e9al, QC\", \"Toronto, ON\", \"Greater Montreal Area, QC\", \"Vancouver, BC\", \"Toronto, ON\", \"Kelowna, BC\", \"Toronto, ON\", \"Dieppe, NB\", \"Regina, SK\", \"Saskatchewan\", \"Brampton, ON\", \"Toronto, ON\", \"London, ON\", \"Toronto, ON\", \"Edmonton, AB\", \"Montr\\u00e9al, QC\", \"Vancouver, BC\", \"Windsor, ON\", \"London, ON\", \"Toronto, ON\", \"Brampton, ON\", \"Vancouver, BC\", \"Saint-Laurent, QC\", \"Mississauga, ON\", \"Moncton, NB\", \"Toronto, ON\", \"Edmonton, AB\", \"Vancouver, BC\", \"Montr\\u00e9al, QC\", \"Montr\\u00e9al, QC\", \"Guelph, ON\", \"Vancouver, BC\", \"Verdun, QC\", \"Burnaby, BC\", \"Newmarket, ON\", \"Canada\", \"Surrey, BC\", \"Saint John, NB\", \"Toronto, ON\", \"Montr\\u00e9al, QC\", \"Halifax, NS\", \"Montr\\u00e9al, QC\", \"Vancouver, BC\", \"Waterdown, ON\", \"London, ON\", \"Toronto, ON\", \"Calgary, AB\", \"Hamilton, ON\", \"Ottawa, ON\", \"Laval, QC\", \"Toronto, ON\", \"Vancouver, BC\", \"Delta, BC\", \"Calgary, AB\", \"Orillia, ON\", \"Hamilton, ON\", \"Saint-Hubert, QC\", \"Halifax, NS\", \"Valcourt, QC\", \"Richmond Hill, ON\", \"Kelowna, BC\", \"Toronto, ON\", \"Vancouver, BC\", \"Toronto, ON\", \"Longueuil, QC\", \"Montr\\u00e9al, QC\", \"Montr\\u00e9al, QC\", \"Mississauga, ON\", \"Hamilton, ON\", \"Surrey, BC\", \"Surrey, BC\", \"Edmonton, AB\", \"West Vancouver, BC\", \"Toronto, ON\", \"Toronto, ON\", \"Toronto, ON\", \"Burnaby, BC\", \"Toronto, ON\", \"Montr\\u00e9al, QC\", \"Surrey, BC\", \"Toronto, ON\", \"Vancouver, BC\", \"Montr\\u00e9al, QC\", \"Dorval, QC\", \"Toronto, ON\", \"Toronto, ON\", \"St. Catharines, ON\", \"Toronto, ON\", \"Montr\\u00e9al, QC\", \"Vancouver, BC\", \"Montr\\u00e9al, QC\", \"Victoria, BC\", \"Victoria, BC\", \"Toronto, ON\", \"Surrey, BC\", \"Vancouver, BC\", \"Toronto, ON\", \"Markham, ON\", \"Toronto, ON\", \"Montr\\u00e9al, QC\", \"Toronto, ON\", \"Montr\\u00e9al, QC\", \"Mississauga, ON\", \"Barrie, ON\", \"Gatineau, QC\", \"Toronto, ON\", \"Toronto, ON\", \"Edmonton, AB\", \"Toronto, ON\", \"Vancouver, BC\", \"Toronto, ON\", \"Victoria, BC\", \"Edmonton, AB\", \"Surrey, BC\", \"Montr\\u00e9al, QC\", \"Richmond Hill, ON\", \"Barrie, ON\", \"Toronto, ON\", \"Toronto, ON\", \"Calgary, AB\", \"Toronto, ON\", \"Toronto, ON\", \"Montr\\u00e9al, QC\", \"Moncton, NB\", \"Surrey, BC\", \"Ontario\", \"Surrey, BC\", \"Saint-Hyacinthe, QC\", \"Coquitlam, BC\", \"Waterloo, ON\", \"Waterloo, ON\", \"Richmond Hill, ON\", \"Mississauga, ON\", \"Vancouver, BC\", \"Burnaby, BC\", \"Toronto, ON\", \"Waterloo, ON\", \"Montr\\u00e9al, QC\", \"Mississauga, ON\", \"Toronto, ON\", \"Toronto, ON\", \"Ottawa, ON\", \"St. John's, NL\", \"Mississauga, ON\", \"Edmonton, AB\", \"Montr\\u00e9al, QC\", \"Vancouver, BC\", \"Ottawa, ON\", \"Mississauga, ON\", \"Kirkland Lake, ON\", \"Toronto, ON\", \"Toronto, ON\", \"Toronto, ON\", \"Ottawa, ON\", \"Calgary, AB\", \"Toronto, ON\", \"Saint-Laurent, QC\", \"Montr\\u00e9al, QC\", \"Toronto, ON\", \"Surrey, BC\", \"Mississauga, ON\", \"Ottawa, ON\", \"Quebec City, QC\", \"Markham, ON\", \"Canada\", \"Toronto, ON\", \"Toronto, ON\", \"Surrey, BC\", \"Moncton, NB\", \"Lethbridge, AB\", \"Vancouver, BC\", \"Ottawa, ON\", \"Vancouver, BC\", \"Canada\", \"Montr\\u00e9al, QC\", \"Brampton, ON\", \"Mississauga, ON\", \"Burnaby, BC\", \"Remote\", \"Waterloo, ON\", \"Peel, ON\", \"Laval, QC\", \"British Columbia\", \"Remote\", \"Winnipeg, MB\", \"Barrie, ON\", \"Burlington, ON\", \"Vancouver, BC\", \"Winnipeg, MB\", \"Saint John, NB\", \"Mississauga, ON\", \"Toronto, ON\", \"Toronto, ON\", \"Toronto, ON\", \"Montr\\u00e9al, QC\", \"North York, ON\", \"Burnaby, BC\", \"Toronto, ON\", \"Pointe-Claire, QC\", \"Waterloo, ON\", \"Montr\\u00e9al, QC\", \"Montr\\u00e9al, QC\", \"Quebec City, QC\", \"Montr\\u00e9al, QC\", \"Etobicoke, ON\", \"Quebec City, QC\", \"Montr\\u00e9al, QC\", \"Saint-Laurent, QC\", \"Ottawa, ON\", \"Canada\", \"Burlington, ON\", \"Brampton, ON\", \"Calgary, AB\", \"Toronto, ON\", \"Montr\\u00e9al, QC\", \"Concord, ON\", \"Vancouver, BC\", \"Guelph, ON\", \"Waterloo, ON\", \"Toronto, ON\", \"Mississauga, ON\", \"Toronto, ON\", \"Vancouver, BC\", \"Toronto, ON\", \"Calgary, AB\", \"Surrey, BC\", \"Burlington, ON\", \"Vancouver, BC\", \"Winnipeg, MB\", \"Mississauga, ON\", \"Greater Toronto Area, ON\", \"Montr\\u00e9al, QC\", \"Mississauga, ON\", \"Montr\\u00e9al, QC\", \"Mississauga, ON\", \"Quebec City, QC\", \"Toronto, ON\", \"Regina, SK\", \"Toronto, ON\", \"Toronto, ON\", \"Montr\\u00e9al, QC\", \"Victoria, BC\", \"Montr\\u00e9al, QC\", \"Montr\\u00e9al, QC\", \"Haley Station, ON\"]}, {\"name\": \"undefine\", \"opacity\": 0.5, \"type\": \"histogram\", \"x\": [\"Toronto, ON\", \"Victoria, BC\", \"Brantford, ON\", \"Thornhill, ON\", \"Mississauga, ON\", \"Richmond, BC\", \"Remote\", \"Oakville, ON\", \"Calgary, AB\", \"Richmond, BC\", \"Scarborough, ON\", \"Humboldt, SK\", \"St. Anthony, NL\", \"Saint-Laurent, QC\", \"Dartmouth, NS\", \"Montr\\u00e9al, QC\", \"Montr\\u00e9al, QC\", \"Victoria, BC\", \"Mississauga, ON\", \"Vancouver, BC\", \"Montr\\u00e9al, QC\", \"Toronto, ON\", \"Port Coquitlam, BC\", \"Markham, ON\", \"New Brunswick\", \"Concord, ON\", \"Vancouver, BC\", \"Oakville, ON\", \"Halifax, NS\", \"Halifax, NS\", \"Toronto, ON\", \"Vancouver, BC\", \"Wainwright, AB\", \"Kelowna, BC\", \"Boucherville, QC\", \"Winnipeg, MB\", \"Montr\\u00e9al, QC\", \"Mississauga, ON\", \"Toronto, ON\", \"Vancouver, BC\", \"Victoria, BC\", \"Alberta\", \"Toronto, ON\", \"Vancouver, BC\", \"Mississauga, ON\", \"Toronto, ON\", \"Vancouver, BC\", \"British Columbia\", \"Burnaby, BC\", \"Ontario\", \"Toronto, ON\", \"Ottawa, ON\", \"Surrey, BC\", \"Toronto, ON\", \"Windsor, ON\", \"New Brunswick\", \"Calgary, AB\", \"Toronto, ON\", \"Toronto, ON\", \"New Brunswick\", \"Toronto, ON\", \"Toronto, ON\", \"Toronto, ON\", \"Toronto, ON\", \"Toronto, ON\", \"Toronto, ON\", \"Toronto, ON\", \"Calgary, AB\", \"Burnaby, BC\", \"Windsor, ON\", \"Toronto, ON\", \"New Brunswick\", \"Vancouver, BC\", \"Calgary, AB\", \"Montr\\u00e9al, QC\", \"Toronto, ON\", \"New Brunswick\", \"Mississauga, ON\", \"Winnipeg, MB\", \"Toronto, ON\", \"St. John's, NL\", \"Vancouver, BC\", \"Oakville, ON\", \"York, ON\", \"Etobicoke, ON\", \"Stoney Creek, ON\", \"Brampton, ON\", \"New Brunswick\", \"Woodbridge, ON\", \"Kirkland, QC\", \"Richmond, BC\", \"Ottawa, ON\", \"Toronto, ON\", \"York, ON\", \"Windsor, ON\", \"Burnaby, BC\", \"Toronto, ON\", \"Calgary, AB\", \"Montr\\u00e9al, QC\", \"Waterloo, ON\", \"Toronto, ON\", \"Quebec City, QC\", \"Toronto, ON\", \"New Brunswick\", \"Toronto, ON\", \"Mississauga, ON\", \"Toronto, ON\", \"St. Catharines, ON\", \"Montr\\u00e9al, QC\", \"New Brunswick\", \"Mississauga, ON\", \"Toronto, ON\", \"St. John's, NL\", \"Halifax, NS\", \"Halifax, NS\", \"Montr\\u00e9al, QC\", \"New Brunswick\", \"Toronto, ON\", \"Edmonton, AB\", \"Edmonton, AB\", \"St. John's, NL\", \"Halifax, NS\", \"Montr\\u00e9al, QC\", \"Pemberton, BC\", \"Surrey, BC\", \"Quebec City, QC\", \"Winnipeg, MB\", \"New Brunswick\", \"Kirkland, QC\", \"Toronto, ON\", \"Toronto, ON\", \"New Brunswick\", \"Calgary, AB\", \"Calgary, AB\", \"Victoria, BC\", \"St. John's, NL\", \"Edmonton, AB\", \"Montr\\u00e9al, QC\", \"Kirkland Lake, ON\", \"Toronto, ON\", \"Oakville, ON\", \"Toronto, ON\", \"Montr\\u00e9al, QC\", \"Toronto, ON\", \"Toronto, ON\", \"Toronto, ON\", \"Ottawa, ON\", \"Vancouver, BC\", \"Concord, ON\", \"Laval, QC\", \"Ajax, ON\", \"Toronto, ON\", \"Acheson, AB\", \"Toronto, ON\", \"North York, ON\", \"Montr\\u00e9al, QC\", \"East Angus, QC\", \"London, ON\", \"Toronto, ON\", \"Richmond, BC\", \"Surrey, BC\", \"Toronto, ON\", \"Richmond, BC\", \"Toronto, ON\", \"Canada\", \"Ottawa, ON\", \"Montr\\u00e9al, QC\", \"Toronto, ON\", \"Toronto, ON\", \"Vancouver, BC\", \"Edmonton, AB\", \"Toronto, ON\", \"Langley, BC\", \"Dorval, QC\", \"Toronto, ON\", \"Toronto, ON\", \"Vancouver, BC\", \"Toronto, ON\", \"Brampton, ON\", \"Winnipeg, MB\", \"Etobicoke, ON\", \"Stayner, ON\", \"Montr\\u00e9al, QC\", \"Vancouver, BC\", \"Halifax, NS\", \"Toronto, ON\", \"Vancouver, BC\", \"Quebec City, QC\", \"Calgary, AB\", \"Toronto, ON\", \"Toronto, ON\", \"Victoria, BC\", \"Vancouver, BC\", \"Toronto, ON\", \"Toronto, ON\", \"Toronto, ON\", \"Richmond, BC\", \"Toronto, ON\", \"Oakville, ON\", \"Toronto, ON\", \"Toronto, ON\", \"Montr\\u00e9al, QC\", \"Toronto, ON\", \"Montr\\u00e9al, QC\", \"Kelowna, BC\", \"Toronto, ON\", \"Scarborough, ON\", \"Ottawa, ON\", \"Toronto, ON\", \"Montr\\u00e9al, QC\", \"Vancouver, BC\", \"Vancouver, BC\", \"New Brunswick\", \"Toronto, ON\", \"Burnaby, BC\", \"Toronto, ON\", \"Winnipeg, MB\", \"Oshawa, ON\", \"Montr\\u00e9al, QC\", \"Windsor, ON\", \"Toronto, ON\", \"New Westminster, BC\", \"Montr\\u00e9al, QC\", \"Toronto, ON\", \"Montr\\u00e9al, QC\", \"Toronto, ON\", \"Toronto, ON\", \"Laval, QC\", \"Surrey, BC\", \"Vaughan, ON\", \"Toronto, ON\", \"London, ON\", \"Mississauga, ON\", \"Laval, QC\", \"Vancouver, BC\", \"Markham, ON\", \"Toronto, ON\", \"Surrey, BC\", \"Burnaby, BC\", \"Toronto, ON\", \"Toronto, ON\", \"Toronto, ON\", \"Windsor, ON\", \"Toronto, ON\", \"Regina, SK\", \"Guelph, ON\", \"Toronto, ON\", \"Calgary, AB\", \"Toronto, ON\", \"Toronto, ON\", \"Midland, ON\", \"Montr\\u00e9al, QC\", \"New Brunswick\", \"St. John's, NL\", \"Toronto, ON\", \"Toronto, ON\", \"Pointe-Claire, QC\", \"Toronto, ON\", \"Niagara-on-the-Lake, ON\", \"Toronto, ON\", \"Vancouver, BC\", \"Mississauga, ON\", \"Toronto, ON\", \"Toronto, ON\", \"Montr\\u00e9al, QC\", \"Toronto, ON\", \"Niagara-on-the-Lake, ON\", \"Montr\\u00e9al, QC\", \"Winnipeg, MB\", \"Fredericton, NB\", \"Montr\\u00e9al, QC\", \"Toronto, ON\", \"Vancouver, BC\", \"Georgetown, ON\", \"Calgary, AB\", \"Calgary, AB\", \"Montr\\u00e9al, QC\", \"Pointe-Claire, QC\", \"Toronto, ON\", \"Victoria, BC\", \"Toronto, ON\", \"Barrie, ON\", \"Calgary, AB\", \"Kitchener, ON\", \"Mississauga, ON\", \"Toronto, ON\", \"Toronto, ON\", \"Georgetown, ON\", \"Montr\\u00e9al, QC\", \"Toronto, ON\", \"Barrie, ON\", \"Toronto, ON\", \"Montr\\u00e9al, QC\", \"Toronto, ON\", \"Victoria, BC\", \"Toronto, ON\", \"Toronto, ON\", \"Calgary, AB\", \"Montr\\u00e9al, QC\", \"Toronto, ON\", \"Toronto, ON\", \"Toronto, ON\", \"Calgary, AB\", \"Kitchener, ON\", \"Toronto, ON\", \"Brantford, ON\", \"Mississauga, ON\", \"Scarborough, ON\", \"Toronto, ON\", \"Toronto, ON\", \"Essex, ON\", \"Toronto, ON\", \"Toronto, ON\", \"Toronto, ON\", \"Burnaby, BC\", \"Quebec City, QC\", \"Waterloo, ON\", \"Calgary, AB\", \"Winnipeg, MB\", \"Quebec City, QC\", \"Vancouver, BC\", \"Edmonton, AB\", \"Edmonton, AB\", \"Markham, ON\", \"Scarborough, ON\", \"Toronto, ON\", \"Ottawa, ON\", \"Nepean, ON\", \"Toronto, ON\", \"Montr\\u00e9al, QC\", \"Toronto, ON\", \"Edmonton, AB\", \"Calgary, AB\", \"Toronto, ON\", \"Toronto, ON\", \"Winnipeg, MB\", \"Vancouver, BC\", \"Toronto, ON\", \"Calgary, AB\", \"Nepean, ON\", \"Scarborough, ON\", \"Mississauga, ON\", \"Toronto, ON\", \"Waterloo, ON\", \"Montr\\u00e9al, QC\", \"Montr\\u00e9al, QC\", \"Vancouver, BC\", \"Toronto, ON\", \"Burnaby, BC\", \"Scarborough, ON\", \"Scarborough, ON\", \"Winnipeg, MB\", \"Mississauga, ON\", \"Toronto, ON\", \"Prince George, BC\", \"Calgary, AB\", \"Toronto, ON\", \"Toronto, ON\", \"Winnipeg, MB\", \"Montr\\u00e9al, QC\", \"Toronto, ON\", \"Toronto, ON\", \"Vancouver, BC\", \"Toronto, ON\", \"Toronto, ON\", \"Winnipeg, MB\", \"Montr\\u00e9al, QC\", \"Toronto, ON\", \"Burnaby, BC\", \"Montr\\u00e9al, QC\", \"Toronto, ON\", \"Victoria, BC\", \"Toronto, ON\", \"Edmonton, AB\", \"Vancouver, BC\", \"Montr\\u00e9al, QC\", \"Vancouver, BC\", \"Mississauga, ON\", \"Calgary, AB\", \"Toronto, ON\", \"Toronto, ON\", \"Victoria, BC\", \"Victoria, BC\", \"Edmonton, AB\", \"Toronto, ON\", \"Toronto, ON\", \"Montr\\u00e9al, QC\", \"Toronto, ON\", \"Burnaby, BC\", \"Mississauga, ON\", \"Winnipeg, MB\", \"Richmond Hill, ON\", \"Calgary, AB\", \"Victoria, BC\", \"Winnipeg, MB\", \"Montr\\u00e9al, QC\", \"Toronto, ON\", \"Burnaby, BC\", \"Montr\\u00e9al, QC\", \"Toronto, ON\", \"Victoria, BC\", \"Toronto, ON\", \"Edmonton, AB\", \"Vancouver, BC\", \"Montr\\u00e9al, QC\", \"Vancouver, BC\", \"Mississauga, ON\", \"Calgary, AB\", \"Toronto, ON\", \"Windsor, ON\", \"Burnaby, BC\", \"New Brunswick\", \"Montr\\u00e9al, QC\", \"Penticton, BC\", \"York, ON\", \"Mississauga, ON\", \"Toronto, ON\", \"Toronto, ON\", \"Victoria, BC\", \"Edmonton, AB\", \"Toronto, ON\", \"Toronto, ON\", \"Montr\\u00e9al, QC\", \"Toronto, ON\", \"Burnaby, BC\", \"Mississauga, ON\", \"Winnipeg, MB\", \"Richmond Hill, ON\", \"Calgary, AB\", \"Victoria, BC\", \"Ottawa, ON\", \"Strathroy, ON\", \"Montr\\u00e9al, QC\", \"Montr\\u00e9al, QC\", \"Windsor, ON\", \"Montr\\u00e9al, QC\", \"Toronto, ON\", \"Montr\\u00e9al, QC\", \"Edmonton, AB\", \"Strathroy, ON\", \"Toronto, ON\", \"Montr\\u00e9al, QC\", \"Canada\", \"Markham, ON\", \"Unionville, ON\", \"Montr\\u00e9al, QC\", \"Regina, SK\", \"Montr\\u00e9al, QC\", \"Toronto, ON\", \"Edmonton, AB\", \"Burnaby, BC\", \"Toronto, ON\", \"Toronto, ON\", \"Scarborough, ON\", \"Toronto, ON\", \"Calgary, AB\", \"Toronto, ON\", \"Toronto, ON\", \"Montr\\u00e9al, QC\", \"Winnipeg, MB\", \"Toronto, ON\", \"Mississauga, ON\", \"Toronto, ON\", \"Toronto, ON\", \"Victoria, BC\", \"Calgary, AB\", \"Burnaby, BC\", \"New Brunswick\", \"Toronto, ON\", \"Windsor, ON\", \"Surrey, BC\", \"Calgary, AB\", \"Waterloo, ON\", \"Vaughan, ON\", \"Mississauga, ON\", \"Vancouver, BC\", \"Toronto, ON\", \"Toronto, ON\", \"Scarborough, ON\", \"Toronto, ON\", \"Calgary, AB\", \"Toronto, ON\", \"Toronto, ON\", \"Montr\\u00e9al, QC\", \"Winnipeg, MB\", \"Toronto, ON\", \"Mississauga, ON\", \"Toronto, ON\", \"Toronto, ON\", \"Victoria, BC\", \"New Brunswick\", \"Windsor, ON\", \"Toronto, ON\", \"Burnaby, BC\", \"Calgary, AB\", \"Pickering, ON\", \"Montr\\u00e9al, QC\", \"Mississauga, ON\", \"Toronto, ON\", \"Toronto, ON\", \"Scarborough, ON\", \"Toronto, ON\", \"Calgary, AB\", \"Toronto, ON\", \"Toronto, ON\", \"Montr\\u00e9al, QC\", \"Winnipeg, MB\", \"Toronto, ON\", \"Mississauga, ON\", \"Toronto, ON\", \"Toronto, ON\", \"Victoria, BC\", \"Toronto, ON\", \"Toronto, ON\", \"Vancouver, BC\", \"Montr\\u00e9al, QC\", \"Toronto, ON\", \"Toronto, ON\", \"Toronto, ON\", \"Montr\\u00e9al, QC\", \"Toronto, ON\", \"Montr\\u00e9al, QC\", \"Toronto, ON\", \"Calgary, AB\", \"Toronto, ON\", \"Mississauga, ON\", \"Montr\\u00e9al, QC\", \"Toronto, ON\", \"Vancouver, BC\", \"Scarborough, ON\", \"Toronto, ON\", \"Toronto, ON\", \"Montr\\u00e9al, QC\", \"Toronto, ON\", \"Montr\\u00e9al, QC\", \"Winnipeg, MB\", \"Calgary, AB\", \"Edmonton, AB\", \"Toronto, ON\", \"Toronto, ON\", \"Toronto, ON\", \"Toronto, ON\", \"Toronto, ON\", \"Scarborough, ON\", \"Toronto, ON\", \"Calgary, AB\", \"Toronto, ON\", \"Toronto, ON\", \"Montr\\u00e9al, QC\", \"Winnipeg, MB\", \"Toronto, ON\", \"Mississauga, ON\", \"Toronto, ON\", \"Toronto, ON\", \"Victoria, BC\", \"Toronto, ON\", \"Toronto, ON\", \"Scarborough, ON\", \"Toronto, ON\", \"Calgary, AB\", \"Toronto, ON\", \"Toronto, ON\", \"Montr\\u00e9al, QC\", \"Winnipeg, MB\", \"Toronto, ON\", \"Mississauga, ON\", \"Toronto, ON\", \"Toronto, ON\", \"Victoria, BC\", \"Toronto, ON\", \"Toronto, ON\", \"Vancouver, BC\", \"Montr\\u00e9al, QC\", \"Toronto, ON\", \"Toronto, ON\", \"Toronto, ON\", \"Montr\\u00e9al, QC\", \"Toronto, ON\", \"Montr\\u00e9al, QC\", \"Toronto, ON\", \"Calgary, AB\", \"Toronto, ON\", \"Mississauga, ON\", \"Toronto, ON\", \"Toronto, ON\", \"Vancouver, BC\", \"Montr\\u00e9al, QC\", \"Toronto, ON\", \"Toronto, ON\", \"Toronto, ON\", \"Montr\\u00e9al, QC\", \"Toronto, ON\", \"Montr\\u00e9al, QC\", \"Toronto, ON\", \"Calgary, AB\", \"Toronto, ON\", \"Mississauga, ON\", \"Toronto, ON\", \"Toronto, ON\", \"Vancouver, BC\", \"Montr\\u00e9al, QC\", \"Toronto, ON\", \"Toronto, ON\", \"Toronto, ON\", \"Montr\\u00e9al, QC\", \"Toronto, ON\", \"Montr\\u00e9al, QC\", \"Toronto, ON\", \"Calgary, AB\", \"Toronto, ON\", \"Mississauga, ON\", \"Toronto, ON\", \"Toronto, ON\", \"Scarborough, ON\", \"Toronto, ON\", \"Calgary, AB\", \"Toronto, ON\", \"Toronto, ON\", \"Montr\\u00e9al, QC\", \"Winnipeg, MB\", \"Toronto, ON\", \"Mississauga, ON\", \"Toronto, ON\", \"Toronto, ON\", \"Victoria, BC\", \"New Brunswick\", \"Windsor, ON\", \"Toronto, ON\", \"Burnaby, BC\", \"Calgary, AB\", \"Pickering, ON\", \"Montr\\u00e9al, QC\", \"Montr\\u00e9al, QC\", \"Mississauga, ON\", \"Toronto, ON\", \"Toronto, ON\", \"Vancouver, BC\", \"Montr\\u00e9al, QC\", \"Toronto, ON\", \"Toronto, ON\", \"Toronto, ON\", \"Montr\\u00e9al, QC\", \"Toronto, ON\", \"Montr\\u00e9al, QC\", \"Toronto, ON\", \"Calgary, AB\", \"Toronto, ON\", \"Mississauga, ON\", \"Toronto, ON\", \"Toronto, ON\", \"Vancouver, BC\", \"Montr\\u00e9al, QC\", \"Toronto, ON\", \"Toronto, ON\", \"Toronto, ON\", \"Montr\\u00e9al, QC\", \"Toronto, ON\", \"Montr\\u00e9al, QC\", \"Toronto, ON\", \"Calgary, AB\", \"Toronto, ON\", \"Mississauga, ON\", \"Toronto, ON\", \"Toronto, ON\", \"Vancouver, BC\", \"Montr\\u00e9al, QC\", \"Toronto, ON\", \"Toronto, ON\", \"Toronto, ON\", \"Montr\\u00e9al, QC\", \"Toronto, ON\", \"Montr\\u00e9al, QC\", \"Toronto, ON\", \"Calgary, AB\", \"Toronto, ON\", \"Mississauga, ON\", \"Toronto, ON\", \"Toronto, ON\", \"Scarborough, ON\", \"Toronto, ON\", \"Calgary, AB\", \"Toronto, ON\", \"Toronto, ON\", \"Montr\\u00e9al, QC\", \"Winnipeg, MB\", \"Toronto, ON\", \"Mississauga, ON\", \"Toronto, ON\", \"Toronto, ON\", \"Victoria, BC\", \"Toronto, ON\", \"Toronto, ON\", \"Vancouver, BC\", \"Montr\\u00e9al, QC\", \"Toronto, ON\", \"Toronto, ON\", \"Toronto, ON\", \"Montr\\u00e9al, QC\", \"Toronto, ON\", \"Montr\\u00e9al, QC\", \"Toronto, ON\", \"Calgary, AB\", \"Toronto, ON\", \"Mississauga, ON\", \"Toronto, ON\", \"Toronto, ON\", \"Scarborough, ON\", \"Toronto, ON\", \"Calgary, AB\", \"Toronto, ON\", \"Toronto, ON\", \"Montr\\u00e9al, QC\", \"Winnipeg, MB\", \"Toronto, ON\", \"Mississauga, ON\", \"Toronto, ON\", \"Toronto, ON\", \"Victoria, BC\", \"Victoria, BC\", \"Edmonton, AB\", \"Montr\\u00e9al, QC\", \"Toronto, ON\", \"Toronto, ON\", \"Toronto, ON\", \"Winnipeg, MB\", \"Toronto, ON\", \"Vancouver, BC\", \"Montr\\u00e9al, QC\", \"Toronto, ON\", \"Montr\\u00e9al, QC\", \"Toronto, ON\", \"Mississauga, ON\", \"Calgary, AB\", \"Edmonton, AB\", \"Montr\\u00e9al, QC\", \"Toronto, ON\", \"Toronto, ON\", \"Toronto, ON\", \"Toronto, ON\", \"Toronto, ON\", \"Calgary, AB\", \"Toronto, ON\", \"Montr\\u00e9al, QC\", \"Mississauga, ON\", \"Toronto, ON\", \"Victoria, BC\", \"Winnipeg, MB\", \"Edmonton, AB\", \"Montr\\u00e9al, QC\", \"Toronto, ON\", \"Toronto, ON\", \"Toronto, ON\", \"Toronto, ON\", \"Toronto, ON\", \"Calgary, AB\", \"Toronto, ON\", \"Montr\\u00e9al, QC\", \"Mississauga, ON\", \"Toronto, ON\", \"Victoria, BC\", \"Winnipeg, MB\", \"Victoria, BC\", \"Montr\\u00e9al, QC\", \"Toronto, ON\", \"Toronto, ON\", \"Winnipeg, MB\", \"Toronto, ON\", \"Toronto, ON\", \"Vancouver, BC\", \"Montr\\u00e9al, QC\", \"Toronto, ON\", \"Montr\\u00e9al, QC\", \"Toronto, ON\", \"Calgary, AB\", \"Mississauga, ON\", \"Burnaby, BC\", \"Windsor, ON\", \"Surrey, BC\", \"Toronto, ON\", \"Calgary, AB\", \"Montr\\u00e9al, QC\", \"Burnaby, BC\", \"Victoria, BC\", \"Edmonton, AB\", \"Montr\\u00e9al, QC\", \"Toronto, ON\", \"Toronto, ON\", \"Toronto, ON\", \"Winnipeg, MB\", \"Toronto, ON\", \"Vancouver, BC\", \"Montr\\u00e9al, QC\", \"Toronto, ON\", \"Montr\\u00e9al, QC\", \"Toronto, ON\", \"Mississauga, ON\", \"Calgary, AB\", \"Victoria, BC\", \"Montr\\u00e9al, QC\", \"Toronto, ON\", \"Toronto, ON\", \"Winnipeg, MB\", \"Toronto, ON\", \"Toronto, ON\", \"Vancouver, BC\", \"Montr\\u00e9al, QC\", \"Toronto, ON\", \"Montr\\u00e9al, QC\", \"Toronto, ON\", \"Calgary, AB\", \"Mississauga, ON\", \"Victoria, BC\", \"Montr\\u00e9al, QC\", \"Toronto, ON\", \"Toronto, ON\", \"Winnipeg, MB\", \"Toronto, ON\", \"Vancouver, BC\", \"Toronto, ON\", \"Montr\\u00e9al, QC\", \"Toronto, ON\", \"Montr\\u00e9al, QC\", \"Toronto, ON\", \"Calgary, AB\", \"Mississauga, ON\", \"Edmonton, AB\", \"Montr\\u00e9al, QC\", \"Toronto, ON\", \"Toronto, ON\", \"Toronto, ON\", \"Toronto, ON\", \"Toronto, ON\", \"Calgary, AB\", \"Toronto, ON\", \"Montr\\u00e9al, QC\", \"Mississauga, ON\", \"Toronto, ON\", \"Victoria, BC\", \"Winnipeg, MB\", \"Victoria, BC\", \"Montr\\u00e9al, QC\", \"Toronto, ON\", \"Toronto, ON\", \"Winnipeg, MB\", \"Toronto, ON\", \"Vancouver, BC\", \"Toronto, ON\", \"Montr\\u00e9al, QC\", \"Toronto, ON\", \"Montr\\u00e9al, QC\", \"Toronto, ON\", \"Calgary, AB\", \"Mississauga, ON\", \"Edmonton, AB\", \"Montr\\u00e9al, QC\", \"Toronto, ON\", \"Toronto, ON\", \"Toronto, ON\", \"Toronto, ON\", \"Toronto, ON\", \"Calgary, AB\", \"Toronto, ON\", \"Montr\\u00e9al, QC\", \"Mississauga, ON\", \"Toronto, ON\", \"Victoria, BC\", \"Winnipeg, MB\", \"Victoria, BC\", \"Montr\\u00e9al, QC\", \"Toronto, ON\", \"Toronto, ON\", \"Winnipeg, MB\", \"Toronto, ON\", \"Toronto, ON\", \"Vancouver, BC\", \"Montr\\u00e9al, QC\", \"Toronto, ON\", \"Montr\\u00e9al, QC\", \"Toronto, ON\", \"Calgary, AB\", \"Mississauga, ON\", \"Montr\\u00e9al, QC\", \"Toronto, ON\", \"Toronto, ON\", \"Winnipeg, MB\", \"Toronto, ON\", \"Toronto, ON\", \"Winnipeg, MB\", \"Vancouver, BC\", \"Montr\\u00e9al, QC\", \"Montr\\u00e9al, QC\", \"Montr\\u00e9al, QC\", \"Toronto, ON\", \"Calgary, AB\", \"Edmonton, AB\", \"Montr\\u00e9al, QC\", \"Toronto, ON\", \"Toronto, ON\", \"Nepean, ON\", \"Toronto, ON\", \"Edmonton, AB\", \"Vancouver, BC\", \"Montr\\u00e9al, QC\", \"Winnipeg, MB\", \"Montr\\u00e9al, QC\", \"Toronto, ON\", \"Toronto, ON\", \"Toronto, ON\", \"Toronto, ON\", \"Victoria, BC\", \"Montr\\u00e9al, QC\", \"Toronto, ON\", \"Toronto, ON\", \"Winnipeg, MB\", \"Toronto, ON\", \"Vancouver, BC\", \"Toronto, ON\", \"Montr\\u00e9al, QC\", \"Toronto, ON\", \"Montr\\u00e9al, QC\", \"Toronto, ON\", \"Calgary, AB\", \"Mississauga, ON\", \"Edmonton, AB\", \"Montr\\u00e9al, QC\", \"Toronto, ON\", \"Toronto, ON\", \"Toronto, ON\", \"Toronto, ON\", \"Toronto, ON\", \"Calgary, AB\", \"Toronto, ON\", \"Montr\\u00e9al, QC\", \"Mississauga, ON\", \"Toronto, ON\", \"Victoria, BC\", \"Winnipeg, MB\", \"Edmonton, AB\", \"Montr\\u00e9al, QC\", \"Toronto, ON\", \"Toronto, ON\", \"Toronto, ON\", \"Toronto, ON\", \"Toronto, ON\", \"Calgary, AB\", \"Toronto, ON\", \"Mississauga, ON\", \"Montr\\u00e9al, QC\", \"Toronto, ON\", \"Victoria, BC\", \"Winnipeg, MB\", \"Victoria, BC\", \"Edmonton, AB\", \"Montr\\u00e9al, QC\", \"Toronto, ON\", \"Toronto, ON\", \"Winnipeg, MB\", \"Toronto, ON\", \"Vancouver, BC\", \"Toronto, ON\", \"Montr\\u00e9al, QC\", \"Toronto, ON\", \"Montr\\u00e9al, QC\", \"Toronto, ON\", \"Calgary, AB\", \"Mississauga, ON\", \"Victoria, BC\", \"Montr\\u00e9al, QC\", \"Toronto, ON\", \"Toronto, ON\", \"Winnipeg, MB\", \"Toronto, ON\", \"Toronto, ON\", \"Vancouver, BC\", \"Montr\\u00e9al, QC\", \"Toronto, ON\", \"Montr\\u00e9al, QC\", \"Toronto, ON\", \"Calgary, AB\", \"Mississauga, ON\", \"Edmonton, AB\", \"Montr\\u00e9al, QC\", \"Toronto, ON\", \"Toronto, ON\", \"Toronto, ON\", \"Toronto, ON\", \"Toronto, ON\", \"Calgary, AB\", \"Toronto, ON\", \"Montr\\u00e9al, QC\", \"Mississauga, ON\", \"Toronto, ON\", \"Victoria, BC\", \"Winnipeg, MB\", \"Montr\\u00e9al, QC\", \"Winnipeg, MB\", \"Burnaby, BC\", \"Toronto, ON\", \"Montr\\u00e9al, QC\", \"Toronto, ON\", \"Montr\\u00e9al, QC\", \"Edmonton, AB\", \"Victoria, BC\", \"Vancouver, BC\", \"Vancouver, BC\", \"Toronto, ON\", \"Mississauga, ON\", \"Calgary, AB\", \"Vancouver, BC\", \"Toronto, ON\", \"Victoria, BC\", \"Victoria, BC\", \"Toronto, ON\", \"Edmonton, AB\", \"Toronto, ON\", \"Montr\\u00e9al, QC\", \"Toronto, ON\", \"Toronto, ON\", \"Burnaby, BC\", \"Mississauga, ON\", \"Winnipeg, MB\", \"Calgary, AB\", \"Victoria, BC\", \"Montr\\u00e9al, QC\", \"Winnipeg, MB\", \"Burnaby, BC\", \"Toronto, ON\", \"Montr\\u00e9al, QC\", \"Toronto, ON\", \"Victoria, BC\", \"Edmonton, AB\", \"Montr\\u00e9al, QC\", \"Vancouver, BC\", \"Vancouver, BC\", \"Toronto, ON\", \"Mississauga, ON\", \"Calgary, AB\", \"Vancouver, BC\", \"Toronto, ON\", \"Victoria, BC\", \"Victoria, BC\", \"Toronto, ON\", \"Edmonton, AB\", \"Toronto, ON\", \"Montr\\u00e9al, QC\", \"Toronto, ON\", \"Toronto, ON\", \"Burnaby, BC\", \"Mississauga, ON\", \"Winnipeg, MB\", \"Calgary, AB\", \"Victoria, BC\", \"Toronto, ON\", \"Victoria, BC\", \"Victoria, BC\", \"Toronto, ON\", \"Edmonton, AB\", \"Toronto, ON\", \"Montr\\u00e9al, QC\", \"Toronto, ON\", \"Toronto, ON\", \"Burnaby, BC\", \"Mississauga, ON\", \"Winnipeg, MB\", \"Calgary, AB\", \"Victoria, BC\", \"Toronto, ON\", \"Victoria, BC\", \"Victoria, BC\", \"Toronto, ON\", \"Edmonton, AB\", \"Toronto, ON\", \"Montr\\u00e9al, QC\", \"Toronto, ON\", \"Toronto, ON\", \"Burnaby, BC\", \"Mississauga, ON\", \"Winnipeg, MB\", \"Calgary, AB\", \"Victoria, BC\", \"Toronto, ON\", \"Victoria, BC\", \"Victoria, BC\", \"Toronto, ON\", \"Edmonton, AB\", \"Toronto, ON\", \"Montr\\u00e9al, QC\", \"Toronto, ON\", \"Toronto, ON\", \"Burnaby, BC\", \"Mississauga, ON\", \"Winnipeg, MB\", \"Calgary, AB\", \"Victoria, BC\", \"Toronto, ON\", \"Victoria, BC\", \"Victoria, BC\", \"Toronto, ON\", \"Edmonton, AB\", \"Toronto, ON\", \"Montr\\u00e9al, QC\", \"Toronto, ON\", \"Toronto, ON\", \"Burnaby, BC\", \"Mississauga, ON\", \"Winnipeg, MB\", \"Calgary, AB\", \"Victoria, BC\", \"Toronto, ON\", \"Victoria, BC\", \"Victoria, BC\", \"Toronto, ON\", \"Edmonton, AB\", \"Toronto, ON\", \"Montr\\u00e9al, QC\", \"Toronto, ON\", \"Toronto, ON\", \"Burnaby, BC\", \"Mississauga, ON\", \"Winnipeg, MB\", \"Calgary, AB\", \"Victoria, BC\", \"Montr\\u00e9al, QC\", \"Winnipeg, MB\", \"Burnaby, BC\", \"Toronto, ON\", \"Montr\\u00e9al, QC\", \"Toronto, ON\", \"Montr\\u00e9al, QC\", \"Edmonton, AB\", \"Victoria, BC\", \"Vancouver, BC\", \"Vancouver, BC\", \"Toronto, ON\", \"Mississauga, ON\", \"Calgary, AB\", \"Toronto, ON\", \"Victoria, BC\", \"Victoria, BC\", \"Toronto, ON\", \"Edmonton, AB\", \"Toronto, ON\", \"Montr\\u00e9al, QC\", \"Toronto, ON\", \"Toronto, ON\", \"Burnaby, BC\", \"Mississauga, ON\", \"Winnipeg, MB\", \"Calgary, AB\", \"Victoria, BC\", \"Montr\\u00e9al, QC\", \"Winnipeg, MB\", \"Burnaby, BC\", \"Toronto, ON\", \"Montr\\u00e9al, QC\", \"Toronto, ON\", \"Victoria, BC\", \"Edmonton, AB\", \"Montr\\u00e9al, QC\", \"Vancouver, BC\", \"Vancouver, BC\", \"Toronto, ON\", \"Mississauga, ON\", \"Calgary, AB\", \"Montr\\u00e9al, QC\", \"Winnipeg, MB\", \"Burnaby, BC\", \"Toronto, ON\", \"Montr\\u00e9al, QC\", \"Toronto, ON\", \"Victoria, BC\", \"Edmonton, AB\", \"Montr\\u00e9al, QC\", \"Vancouver, BC\", \"Vancouver, BC\", \"Toronto, ON\", \"Mississauga, ON\", \"Calgary, AB\", \"Toronto, ON\", \"Victoria, BC\", \"Victoria, BC\", \"Toronto, ON\", \"Edmonton, AB\", \"Toronto, ON\", \"Montr\\u00e9al, QC\", \"Toronto, ON\", \"Toronto, ON\", \"Burnaby, BC\", \"Mississauga, ON\", \"Winnipeg, MB\", \"Calgary, AB\", \"Victoria, BC\", \"Montr\\u00e9al, QC\", \"Winnipeg, MB\", \"Burnaby, BC\", \"Toronto, ON\", \"Montr\\u00e9al, QC\", \"Toronto, ON\", \"Montr\\u00e9al, QC\", \"Edmonton, AB\", \"Victoria, BC\", \"Vancouver, BC\", \"Vancouver, BC\", \"Toronto, ON\", \"Mississauga, ON\", \"Calgary, AB\", \"Montr\\u00e9al, QC\", \"Winnipeg, MB\", \"Burnaby, BC\", \"Toronto, ON\", \"Montr\\u00e9al, QC\", \"Toronto, ON\", \"Victoria, BC\", \"Edmonton, AB\", \"Montr\\u00e9al, QC\", \"Vancouver, BC\", \"Vancouver, BC\", \"Toronto, ON\", \"Mississauga, ON\", \"Calgary, AB\", \"Montr\\u00e9al, QC\", \"Winnipeg, MB\", \"Burnaby, BC\", \"Toronto, ON\", \"Montr\\u00e9al, QC\", \"Toronto, ON\", \"Montr\\u00e9al, QC\", \"Edmonton, AB\", \"Victoria, BC\", \"Vancouver, BC\", \"Vancouver, BC\", \"Toronto, ON\", \"Mississauga, ON\", \"Calgary, AB\", \"Toronto, ON\", \"Victoria, BC\", \"Victoria, BC\", \"Toronto, ON\", \"Edmonton, AB\", \"Toronto, ON\", \"Montr\\u00e9al, QC\", \"Toronto, ON\", \"Toronto, ON\", \"Burnaby, BC\", \"Mississauga, ON\", \"Winnipeg, MB\", \"Calgary, AB\", \"Victoria, BC\", \"Montr\\u00e9al, QC\", \"Winnipeg, MB\", \"Burnaby, BC\", \"Toronto, ON\", \"Montr\\u00e9al, QC\", \"Victoria, BC\", \"Toronto, ON\", \"Edmonton, AB\", \"Montr\\u00e9al, QC\", \"Vancouver, BC\", \"Vancouver, BC\", \"Toronto, ON\", \"Mississauga, ON\", \"Calgary, AB\", \"Montr\\u00e9al, QC\", \"Winnipeg, MB\", \"Burnaby, BC\", \"Toronto, ON\", \"Montr\\u00e9al, QC\", \"Victoria, BC\", \"Toronto, ON\", \"Edmonton, AB\", \"Montr\\u00e9al, QC\", \"Vancouver, BC\", \"Vancouver, BC\", \"Toronto, ON\", \"Mississauga, ON\", \"Calgary, AB\", \"Toronto, ON\", \"Mississauga, ON\", \"New Brunswick\", \"Calgary, AB\", \"100 Mile House, BC\", \"Waterloo, ON\", \"Surrey, BC\", \"Remote\", \"Canada\", \"Yellowknife, NT\", \"Toronto, ON\", \"Midland, ON\", \"Markham, ON\", \"Surrey, BC\", \"Burnaby, BC\", \"Regina, SK\", \"Montr\\u00e9al, QC\", \"New Brunswick\", \"Westmount, QC\", \"Saint-C\\u00e9saire, QC\", \"Toronto, ON\", \"Pickering, ON\", \"Delta, BC\", \"Toronto, ON\", \"Calgary, AB\", \"Montr\\u00e9al, QC\", \"Toronto, ON\", \"Richmond, BC\", \"Toronto, ON\", \"Pickering, ON\", \"Saint-C\\u00e9saire, QC\", \"Bedford, QC\", \"Aylmer, ON\", \"Montr\\u00e9al, QC\", \"Vancouver, BC\", \"Brampton, ON\", \"Bedford, QC\", \"Montr\\u00e9al, QC\", \"Mississauga, ON\", \"Ottawa, ON\", \"Montr\\u00e9al, QC\", \"Calgary, AB\", \"New Brunswick\", \"Burnaby, BC\", \"Windsor, ON\", \"Calgary, AB\", \"Aldouane, NB\", \"Toronto, ON\", \"Toronto, ON\", \"Woodbridge, ON\", \"Brampton, ON\", \"Haines Junction, YT\", \"Montr\\u00e9al, QC\", \"Mississauga, ON\", \"Burnaby, BC\", \"Richmond, BC\", \"Regina, SK\", \"Toronto, ON\", \"New Brunswick\", \"Westmount, QC\", \"Toronto, ON\", \"Vaudreuil-Dorion, QC\", \"Montr\\u00e9al, QC\", \"Halifax, NS\", \"Milton, ON\", \"Laval, QC\", \"Vanderhoof, BC\", \"Langley, BC\", \"Valcourt, QC\", \"Markham, ON\", \"Mary River, NU\", \"Boucherville, QC\", \"Toronto, ON\", \"Vancouver, BC\", \"Markham, ON\", \"Midland, ON\", \"Montr\\u00e9al, QC\", \"St. Catharines, ON\", \"Vancouver, BC\", \"Toronto, ON\", \"Toronto, ON\", \"Vancouver, BC\", \"Milton, ON\", \"Ottawa, ON\", \"Sparwood, BC\", \"Midland, ON\", \"Edmonton, AB\", \"Kelowna, BC\", \"Canada\", \"Burlington, ON\", \"Canada\", \"Concord, ON\", \"Edmonton, AB\", \"Montr\\u00e9al, QC\", \"Burnaby, BC\", \"St. John's, NL\", \"Toronto, ON\", \"Markham, ON\", \"Toronto, ON\", \"Montr\\u00e9al, QC\", \"Montr\\u00e9al, QC\", \"Waterloo, ON\", \"Calgary, AB\", \"Montr\\u00e9al, QC\", \"New Brunswick\", \"Coquitlam, BC\", \"Calgary, AB\", \"Saskatchewan\", \"Vaughan, ON\", \"Midland, ON\", \"Montr\\u00e9al, QC\", \"Brampton, ON\", \"Toronto, ON\", \"Montr\\u00e9al, QC\", \"British Columbia\", \"Montr\\u00e9al, QC\", \"Montr\\u00e9al, QC\", \"Vancouver, BC\", \"Toronto, ON\", \"Toronto, ON\", \"Toronto, ON\", \"Vancouver, BC\", \"Montr\\u00e9al, QC\", \"Vaughan, ON\", \"Montr\\u00e9al, QC\", \"Vancouver, BC\", \"Brampton, ON\", \"Toronto, ON\", \"Moncton, NB\", \"New Brunswick\", \"Toronto, ON\", \"Toronto, ON\", \"Markham, ON\", \"Burnaby, BC\", \"Winnipeg, MB\", \"Calgary, AB\", \"Pickering, ON\", \"Burnaby, BC\", \"Windsor, ON\", \"Hiawatha, ON\", \"Toronto, ON\", \"Montr\\u00e9al, QC\", \"Toronto, ON\", \"Markham, ON\", \"Mississauga, ON\", \"Montr\\u00e9al, QC\", \"Concord, ON\", \"Woodbridge, ON\", \"Toronto, ON\", \"Calgary, AB\", \"Toronto, ON\", \"Toronto, ON\", \"Saint-C\\u00e9saire, QC\", \"Vancouver, BC\", \"Mississauga, ON\", \"Toronto, ON\", \"Montr\\u00e9al, QC\", \"Montr\\u00e9al, QC\", \"British Columbia\", \"Toronto, ON\", \"Toronto, ON\", \"Victoria, BC\", \"Toronto, ON\", \"Toronto, ON\", \"Edmonton, AB\", \"Toronto, ON\", \"Montr\\u00e9al, QC\", \"Mississauga, ON\", \"Burnaby, BC\", \"Richmond Hill, ON\", \"Calgary, AB\", \"Winnipeg, MB\", \"Victoria, BC\", \"Toronto, ON\", \"Toronto, ON\", \"Victoria, BC\", \"Toronto, ON\", \"Toronto, ON\", \"Edmonton, AB\", \"Toronto, ON\", \"Montr\\u00e9al, QC\", \"Mississauga, ON\", \"Burnaby, BC\", \"Richmond Hill, ON\", \"Calgary, AB\", \"Winnipeg, MB\", \"Victoria, BC\", \"Toronto, ON\", \"Toronto, ON\", \"Victoria, BC\", \"Toronto, ON\", \"Toronto, ON\", \"Edmonton, AB\", \"Toronto, ON\", \"Montr\\u00e9al, QC\", \"Mississauga, ON\", \"Burnaby, BC\", \"Richmond Hill, ON\", \"Calgary, AB\", \"Winnipeg, MB\", \"Victoria, BC\", \"Toronto, ON\", \"Toronto, ON\", \"Victoria, BC\", \"Toronto, ON\", \"Toronto, ON\", \"Edmonton, AB\", \"Toronto, ON\", \"Montr\\u00e9al, QC\", \"Mississauga, ON\", \"Burnaby, BC\", \"Richmond Hill, ON\", \"Calgary, AB\", \"Winnipeg, MB\", \"Victoria, BC\", \"Toronto, ON\", \"Toronto, ON\", \"Victoria, BC\", \"Toronto, ON\", \"Toronto, ON\", \"Edmonton, AB\", \"Toronto, ON\", \"Montr\\u00e9al, QC\", \"Mississauga, ON\", \"Burnaby, BC\", \"Richmond Hill, ON\", \"Calgary, AB\", \"Winnipeg, MB\", \"Victoria, BC\", \"Calgary, AB\", \"Toronto, ON\", \"Winnipeg, MB\", \"Burnaby, BC\", \"Montr\\u00e9al, QC\", \"Toronto, ON\", \"Toronto, ON\", \"Toronto, ON\", \"Montr\\u00e9al, QC\", \"Vancouver, BC\", \"Vancouver, BC\", \"Victoria, BC\", \"Edmonton, AB\", \"Mississauga, ON\", \"Calgary, AB\", \"Calgary, AB\", \"Toronto, ON\", \"Winnipeg, MB\", \"Burnaby, BC\", \"Montr\\u00e9al, QC\", \"Toronto, ON\", \"Toronto, ON\", \"Toronto, ON\", \"Montr\\u00e9al, QC\", \"Vancouver, BC\", \"Vancouver, BC\", \"Edmonton, AB\", \"Victoria, BC\", \"Mississauga, ON\", \"Calgary, AB\", \"Winnipeg, MB\", \"Toronto, ON\", \"Burnaby, BC\", \"Montr\\u00e9al, QC\", \"Toronto, ON\", \"Toronto, ON\", \"Toronto, ON\", \"Montr\\u00e9al, QC\", \"Vancouver, BC\", \"Vancouver, BC\", \"Victoria, BC\", \"Edmonton, AB\", \"Mississauga, ON\", \"Calgary, AB\", \"Toronto, ON\", \"Winnipeg, MB\", \"Burnaby, BC\", \"Montr\\u00e9al, QC\", \"Toronto, ON\", \"Toronto, ON\", \"Toronto, ON\", \"Montr\\u00e9al, QC\", \"Vancouver, BC\", \"Vancouver, BC\", \"Victoria, BC\", \"Edmonton, AB\", \"Mississauga, ON\", \"Calgary, AB\", \"Toronto, ON\", \"Toronto, ON\", \"Victoria, BC\", \"Toronto, ON\", \"Toronto, ON\", \"Edmonton, AB\", \"Toronto, ON\", \"Montr\\u00e9al, QC\", \"Mississauga, ON\", \"Burnaby, BC\", \"Richmond Hill, ON\", \"Calgary, AB\", \"Winnipeg, MB\", \"Victoria, BC\", \"Toronto, ON\", \"Toronto, ON\", \"Victoria, BC\", \"Victoria, BC\", \"Toronto, ON\", \"Toronto, ON\", \"Edmonton, AB\", \"Toronto, ON\", \"Montr\\u00e9al, QC\", \"Mississauga, ON\", \"Burnaby, BC\", \"Calgary, AB\", \"Winnipeg, MB\", \"Victoria, BC\", \"Vancouver, BC\", \"Toronto, ON\", \"Edmonton, AB\", \"Vancouver, BC\", \"Toronto, ON\", \"Toronto, ON\", \"Victoria, BC\", \"Winnipeg, MB\", \"Toronto, ON\", \"Vancouver, BC\", \"Calgary, AB\", \"Edmonton, AB\", \"Mississauga, ON\", \"Calgary, AB\", \"Toronto, ON\", \"Toronto, ON\", \"Victoria, BC\", \"Toronto, ON\", \"Toronto, ON\", \"Edmonton, AB\", \"Toronto, ON\", \"Montr\\u00e9al, QC\", \"Mississauga, ON\", \"Burnaby, BC\", \"Richmond Hill, ON\", \"Calgary, AB\", \"Winnipeg, MB\", \"Victoria, BC\", \"Winnipeg, MB\", \"Toronto, ON\", \"Burnaby, BC\", \"Montr\\u00e9al, QC\", \"Toronto, ON\", \"Toronto, ON\", \"Toronto, ON\", \"Montr\\u00e9al, QC\", \"Vancouver, BC\", \"Vancouver, BC\", \"Victoria, BC\", \"Edmonton, AB\", \"Mississauga, ON\", \"Calgary, AB\", \"Toronto, ON\", \"Toronto, ON\", \"Victoria, BC\", \"Toronto, ON\", \"Toronto, ON\", \"Edmonton, AB\", \"Toronto, ON\", \"Montr\\u00e9al, QC\", \"Mississauga, ON\", \"Burnaby, BC\", \"Richmond Hill, ON\", \"Calgary, AB\", \"Winnipeg, MB\", \"Victoria, BC\", \"Toronto, ON\", \"Toronto, ON\", \"Victoria, BC\", \"Toronto, ON\", \"Toronto, ON\", \"Edmonton, AB\", \"Toronto, ON\", \"Montr\\u00e9al, QC\", \"Mississauga, ON\", \"Burnaby, BC\", \"Richmond Hill, ON\", \"Calgary, AB\", \"Winnipeg, MB\", \"Victoria, BC\", \"Toronto, ON\", \"Winnipeg, MB\", \"Burnaby, BC\", \"Montr\\u00e9al, QC\", \"Toronto, ON\", \"Toronto, ON\", \"Toronto, ON\", \"Montr\\u00e9al, QC\", \"Vancouver, BC\", \"Vancouver, BC\", \"Edmonton, AB\", \"Victoria, BC\", \"Mississauga, ON\", \"Calgary, AB\", \"Toronto, ON\", \"Winnipeg, MB\", \"Burnaby, BC\", \"Montr\\u00e9al, QC\", \"Toronto, ON\", \"Toronto, ON\", \"Toronto, ON\", \"Montr\\u00e9al, QC\", \"Vancouver, BC\", \"Vancouver, BC\", \"Edmonton, AB\", \"Victoria, BC\", \"Mississauga, ON\", \"Calgary, AB\", \"Toronto, ON\", \"Winnipeg, MB\", \"Burnaby, BC\", \"Montr\\u00e9al, QC\", \"Toronto, ON\", \"Toronto, ON\", \"Toronto, ON\", \"Montr\\u00e9al, QC\", \"Vancouver, BC\", \"Vancouver, BC\", \"Edmonton, AB\", \"Victoria, BC\", \"Mississauga, ON\", \"Calgary, AB\", \"Toronto, ON\", \"Toronto, ON\", \"Victoria, BC\", \"Toronto, ON\", \"Toronto, ON\", \"Edmonton, AB\", \"Toronto, ON\", \"Montr\\u00e9al, QC\", \"Mississauga, ON\", \"Burnaby, BC\", \"Richmond Hill, ON\", \"Calgary, AB\", \"Winnipeg, MB\", \"Victoria, BC\", \"Vancouver, BC\", \"Toronto, ON\", \"Toronto, ON\", \"Toronto, ON\", \"Montr\\u00e9al, QC\", \"Toronto, ON\", \"Toronto, ON\", \"Toronto, ON\", \"Montr\\u00e9al, QC\", \"Toronto, ON\", \"Toronto, ON\", \"Calgary, AB\", \"Montr\\u00e9al, QC\", \"Toronto, ON\", \"Mississauga, ON\", \"Toronto, ON\", \"Toronto, ON\", \"Toronto, ON\", \"Montr\\u00e9al, QC\", \"Toronto, ON\", \"Toronto, ON\", \"Toronto, ON\", \"Montr\\u00e9al, QC\", \"Toronto, ON\", \"Toronto, ON\", \"Montr\\u00e9al, QC\", \"Calgary, AB\", \"Toronto, ON\", \"Mississauga, ON\", \"Toronto, ON\", \"Toronto, ON\", \"Toronto, ON\", \"Montr\\u00e9al, QC\", \"Toronto, ON\", \"Toronto, ON\", \"Toronto, ON\", \"Montr\\u00e9al, QC\", \"Toronto, ON\", \"Toronto, ON\", \"Calgary, AB\", \"Montr\\u00e9al, QC\", \"Toronto, ON\", \"Mississauga, ON\", \"Toronto, ON\", \"Windsor, ON\", \"Langley, BC\", \"Burnaby, BC\", \"Calgary, AB\", \"Pickering, ON\", \"Montr\\u00e9al, QC\", \"Vancouver, BC\", \"Mississauga, ON\", \"Montr\\u00e9al, QC\", \"Scarborough, ON\", \"Toronto, ON\", \"Toronto, ON\", \"Calgary, AB\", \"Toronto, ON\", \"Toronto, ON\", \"Toronto, ON\", \"Toronto, ON\", \"Montr\\u00e9al, QC\", \"Mississauga, ON\", \"Winnipeg, MB\", \"Toronto, ON\", \"Victoria, BC\", \"Toronto, ON\", \"Toronto, ON\", \"Toronto, ON\", \"Montr\\u00e9al, QC\", \"Toronto, ON\", \"Toronto, ON\", \"Toronto, ON\", \"Montr\\u00e9al, QC\", \"Toronto, ON\", \"Toronto, ON\", \"Montr\\u00e9al, QC\", \"Calgary, AB\", \"Toronto, ON\", \"Mississauga, ON\", \"Toronto, ON\", \"Toronto, ON\", \"Toronto, ON\", \"Montr\\u00e9al, QC\", \"Toronto, ON\", \"Toronto, ON\", \"Toronto, ON\", \"Montr\\u00e9al, QC\", \"Toronto, ON\", \"Toronto, ON\", \"Montr\\u00e9al, QC\", \"Calgary, AB\", \"Toronto, ON\", \"Mississauga, ON\", \"Montr\\u00e9al, QC\", \"Scarborough, ON\", \"Toronto, ON\", \"Toronto, ON\", \"Calgary, AB\", \"Toronto, ON\", \"Toronto, ON\", \"Toronto, ON\", \"Toronto, ON\", \"Montr\\u00e9al, QC\", \"Mississauga, ON\", \"Winnipeg, MB\", \"Toronto, ON\", \"Victoria, BC\", \"Toronto, ON\", \"Toronto, ON\", \"Toronto, ON\", \"Montr\\u00e9al, QC\", \"Toronto, ON\", \"Toronto, ON\", \"Toronto, ON\", \"Montr\\u00e9al, QC\", \"Toronto, ON\", \"Toronto, ON\", \"Calgary, AB\", \"Montr\\u00e9al, QC\", \"Toronto, ON\", \"Mississauga, ON\", \"Toronto, ON\", \"Toronto, ON\", \"Toronto, ON\", \"Montr\\u00e9al, QC\", \"Toronto, ON\", \"Toronto, ON\", \"Toronto, ON\", \"Montr\\u00e9al, QC\", \"Toronto, ON\", \"Toronto, ON\", \"Montr\\u00e9al, QC\", \"Calgary, AB\", \"Toronto, ON\", \"Mississauga, ON\", \"Montr\\u00e9al, QC\", \"Scarborough, ON\", \"Toronto, ON\", \"Toronto, ON\", \"Calgary, AB\", \"Toronto, ON\", \"Toronto, ON\", \"Toronto, ON\", \"Toronto, ON\", \"Montr\\u00e9al, QC\", \"Mississauga, ON\", \"Winnipeg, MB\", \"Toronto, ON\", \"Victoria, BC\", \"Montr\\u00e9al, QC\", \"Scarborough, ON\", \"Toronto, ON\", \"Toronto, ON\", \"Calgary, AB\", \"Toronto, ON\", \"Toronto, ON\", \"Toronto, ON\", \"Toronto, ON\", \"Montr\\u00e9al, QC\", \"Mississauga, ON\", \"Winnipeg, MB\", \"Toronto, ON\", \"Victoria, BC\", \"Calgary, AB\", \"Windsor, ON\", \"Toronto, ON\", \"Burnaby, BC\", \"Pickering, ON\", \"Montr\\u00e9al, QC\", \"Calgary, AB\", \"Toronto, ON\", \"Toronto, ON\", \"Toronto, ON\", \"Montr\\u00e9al, QC\", \"Toronto, ON\", \"Toronto, ON\", \"Toronto, ON\", \"Montr\\u00e9al, QC\", \"Toronto, ON\", \"Toronto, ON\", \"Montr\\u00e9al, QC\", \"Calgary, AB\", \"Toronto, ON\", \"Mississauga, ON\", \"Burnaby, BC\", \"Langley, BC\", \"Calgary, AB\", \"Windsor, ON\", \"Surrey, BC\", \"Burnaby, BC\", \"Calgary, AB\", \"Windsor, ON\", \"Calgary, AB\", \"Surrey, BC\", \"Toronto, ON\", \"Toronto, ON\", \"Toronto, ON\", \"Montr\\u00e9al, QC\", \"Toronto, ON\", \"Toronto, ON\", \"Toronto, ON\", \"Montr\\u00e9al, QC\", \"Toronto, ON\", \"Toronto, ON\", \"Calgary, AB\", \"Montr\\u00e9al, QC\", \"Toronto, ON\", \"Mississauga, ON\", \"Montr\\u00e9al, QC\", \"Scarborough, ON\", \"Toronto, ON\", \"Toronto, ON\", \"Calgary, AB\", \"Toronto, ON\", \"Toronto, ON\", \"Toronto, ON\", \"Toronto, ON\", \"Montr\\u00e9al, QC\", \"Mississauga, ON\", \"Winnipeg, MB\", \"Toronto, ON\", \"Victoria, BC\", \"Toronto, ON\", \"Toronto, ON\", \"Toronto, ON\", \"Montr\\u00e9al, QC\", \"Toronto, ON\", \"Toronto, ON\", \"Toronto, ON\", \"Montr\\u00e9al, QC\", \"Toronto, ON\", \"Toronto, ON\", \"Calgary, AB\", \"Montr\\u00e9al, QC\", \"Toronto, ON\", \"Mississauga, ON\", \"Montr\\u00e9al, QC\", \"Scarborough, ON\", \"Toronto, ON\", \"Toronto, ON\", \"Calgary, AB\", \"Toronto, ON\", \"Toronto, ON\", \"Toronto, ON\", \"Toronto, ON\", \"Montr\\u00e9al, QC\", \"Mississauga, ON\", \"Winnipeg, MB\", \"Toronto, ON\", \"Victoria, BC\", \"Vancouver, BC\", \"Edmonton, AB\", \"Toronto, ON\", \"Mississauga, ON\", \"Toronto, ON\", \"Burnaby, BC\", \"Toronto, ON\", \"Toronto, ON\", \"Victoria, BC\", \"Winnipeg, MB\", \"Toronto, ON\", \"Vancouver, BC\", \"Toronto, ON\", \"Toronto, ON\", \"Vancouver, BC\", \"Edmonton, AB\", \"Toronto, ON\", \"Mississauga, ON\", \"Toronto, ON\", \"Burnaby, BC\", \"Toronto, ON\", \"Toronto, ON\", \"Victoria, BC\", \"Winnipeg, MB\", \"Toronto, ON\", \"Vancouver, BC\", \"Toronto, ON\", \"Toronto, ON\", \"Vancouver, BC\", \"Edmonton, AB\", \"Toronto, ON\", \"Mississauga, ON\", \"Toronto, ON\", \"Burnaby, BC\", \"Toronto, ON\", \"Toronto, ON\", \"Victoria, BC\", \"Winnipeg, MB\", \"Toronto, ON\", \"Vancouver, BC\", \"Toronto, ON\", \"Toronto, ON\", \"Vancouver, BC\", \"Edmonton, AB\", \"Toronto, ON\", \"Mississauga, ON\", \"Toronto, ON\", \"Burnaby, BC\", \"Toronto, ON\", \"Toronto, ON\", \"Victoria, BC\", \"Winnipeg, MB\", \"Toronto, ON\", \"Vancouver, BC\", \"Toronto, ON\", \"Toronto, ON\", \"Calgary, AB\", \"Toronto, ON\", \"Vancouver, BC\", \"Burnaby, BC\", \"Toronto, ON\", \"Toronto, ON\", \"Toronto, ON\", \"Toronto, ON\", \"Toronto, ON\", \"Toronto, ON\", \"Toronto, ON\", \"Toronto, ON\", \"Mississauga, ON\", \"Toronto, ON\", \"Toronto, ON\", \"Vancouver, BC\", \"Toronto, ON\", \"Burnaby, BC\", \"Toronto, ON\", \"Toronto, ON\", \"Toronto, ON\", \"Toronto, ON\", \"Toronto, ON\", \"Toronto, ON\", \"Toronto, ON\", \"Toronto, ON\", \"Toronto, ON\", \"Mississauga, ON\", \"Toronto, ON\", \"Toronto, ON\", \"Vancouver, BC\", \"Burnaby, BC\", \"Toronto, ON\", \"Toronto, ON\", \"Toronto, ON\", \"Toronto, ON\", \"Toronto, ON\", \"Toronto, ON\", \"Toronto, ON\", \"Toronto, ON\", \"Mississauga, ON\", \"Toronto, ON\", \"Toronto, ON\", \"Vancouver, BC\", \"Edmonton, AB\", \"Toronto, ON\", \"Mississauga, ON\", \"Toronto, ON\", \"Burnaby, BC\", \"Toronto, ON\", \"Toronto, ON\", \"Victoria, BC\", \"Winnipeg, MB\", \"Toronto, ON\", \"Vancouver, BC\", \"Toronto, ON\", \"Toronto, ON\", \"Vancouver, BC\", \"Toronto, ON\", \"Burnaby, BC\", \"Toronto, ON\", \"Toronto, ON\", \"Toronto, ON\", \"Toronto, ON\", \"Toronto, ON\", \"Toronto, ON\", \"Toronto, ON\", \"Toronto, ON\", \"Toronto, ON\", \"Mississauga, ON\", \"Toronto, ON\", \"Vancouver, BC\", \"Edmonton, AB\", \"Toronto, ON\", \"Mississauga, ON\", \"Toronto, ON\", \"Burnaby, BC\", \"Toronto, ON\", \"Toronto, ON\", \"Victoria, BC\", \"Winnipeg, MB\", \"Toronto, ON\", \"Vancouver, BC\", \"Toronto, ON\", \"Toronto, ON\", \"Vancouver, BC\", \"Toronto, ON\", \"Burnaby, BC\", \"Toronto, ON\", \"Toronto, ON\", \"Toronto, ON\", \"Toronto, ON\", \"Toronto, ON\", \"Toronto, ON\", \"Toronto, ON\", \"Toronto, ON\", \"Toronto, ON\", \"Mississauga, ON\", \"Toronto, ON\", \"Vancouver, BC\", \"Toronto, ON\", \"Burnaby, BC\", \"Toronto, ON\", \"Toronto, ON\", \"Toronto, ON\", \"Toronto, ON\", \"Toronto, ON\", \"Toronto, ON\", \"Toronto, ON\", \"Toronto, ON\", \"Toronto, ON\", \"Mississauga, ON\", \"Toronto, ON\", \"Vancouver, BC\", \"Toronto, ON\", \"Burnaby, BC\", \"Toronto, ON\", \"Toronto, ON\", \"Toronto, ON\", \"Toronto, ON\", \"Toronto, ON\", \"Toronto, ON\", \"Toronto, ON\", \"Toronto, ON\", \"Toronto, ON\", \"Mississauga, ON\", \"Toronto, ON\", \"Vancouver, BC\", \"Toronto, ON\", \"Burnaby, BC\", \"Toronto, ON\", \"Toronto, ON\", \"Toronto, ON\", \"Toronto, ON\", \"Toronto, ON\", \"Toronto, ON\", \"Toronto, ON\", \"Toronto, ON\", \"Toronto, ON\", \"Mississauga, ON\", \"Toronto, ON\", \"Vaudreuil-Dorion, QC\", \"Toronto, ON\", \"Surrey, BC\", \"Calgary, AB\", \"Ottawa, ON\", \"Yellowknife, NT\", \"Ottawa, ON\", \"Vancouver, BC\", \"Toronto, ON\", \"Burnaby, BC\", \"Toronto, ON\", \"Toronto, ON\", \"Toronto, ON\", \"Toronto, ON\", \"Toronto, ON\", \"Toronto, ON\", \"Toronto, ON\", \"Toronto, ON\", \"Toronto, ON\", \"Mississauga, ON\", \"Toronto, ON\", \"Toronto, ON\", \"Surrey, BC\", \"Calgary, AB\", \"Ottawa, ON\", \"Yellowknife, NT\", \"Toronto, ON\", \"Vancouver, BC\", \"Toronto, ON\", \"Burnaby, BC\", \"Toronto, ON\", \"Toronto, ON\", \"Toronto, ON\", \"Toronto, ON\", \"Toronto, ON\", \"Toronto, ON\", \"Toronto, ON\", \"Toronto, ON\", \"Toronto, ON\", \"Mississauga, ON\", \"Toronto, ON\", \"Vancouver, BC\", \"Edmonton, AB\", \"Toronto, ON\", \"Mississauga, ON\", \"Toronto, ON\", \"Burnaby, BC\", \"Toronto, ON\", \"Toronto, ON\", \"Victoria, BC\", \"Winnipeg, MB\", \"Toronto, ON\", \"Vancouver, BC\", \"Toronto, ON\", \"Toronto, ON\", \"Surrey, BC\", \"Calgary, AB\", \"Calgary, AB\", \"Montr\\u00e9al, QC\", \"Toronto, ON\", \"Ottawa, ON\", \"Cambridge, ON\", \"Toronto, ON\", \"Montr\\u00e9al, QC\", \"Vancouver, BC\", \"Toronto, ON\", \"Toronto, ON\", \"Kitchener, ON\", \"Burlington, ON\", \"Toronto, ON\", \"Toronto, ON\", \"Victoria, BC\", \"Toronto, ON\", \"Toronto, ON\", \"Burnaby, BC\", \"Toronto, ON\", \"Calgary, AB\", \"Calgary, AB\", \"Toronto, ON\", \"Toronto, ON\", \"Toronto, ON\", \"Vancouver, BC\", \"Mississauga, ON\", \"Toronto, ON\", \"Toronto, ON\", \"Victoria, BC\", \"Toronto, ON\", \"Toronto, ON\", \"Burnaby, BC\", \"Toronto, ON\", \"Calgary, AB\", \"Calgary, AB\", \"Toronto, ON\", \"Toronto, ON\", \"Toronto, ON\", \"Vancouver, BC\", \"Mississauga, ON\", \"Toronto, ON\", \"Toronto, ON\", \"Victoria, BC\", \"Toronto, ON\", \"Toronto, ON\", \"Burnaby, BC\", \"Toronto, ON\", \"Calgary, AB\", \"Calgary, AB\", \"Toronto, ON\", \"Toronto, ON\", \"Toronto, ON\", \"Vancouver, BC\", \"Mississauga, ON\", \"Toronto, ON\", \"Toronto, ON\", \"Surrey, BC\", \"Calgary, AB\", \"Vaudreuil-Dorion, QC\", \"Montr\\u00e9al, QC\", \"Toronto, ON\", \"Ottawa, ON\", \"Toronto, ON\", \"Mississauga, ON\", \"Toronto, ON\", \"Toronto, ON\", \"Vancouver, BC\", \"Mississauga, ON\", \"Toronto, ON\", \"Toronto, ON\", \"Toronto, ON\", \"Toronto, ON\", \"Burnaby, BC\", \"Winnipeg, MB\", \"Toronto, ON\", \"Victoria, BC\", \"Toronto, ON\", \"Toronto, ON\", \"Vancouver, BC\", \"Toronto, ON\", \"Toronto, ON\", \"Toronto, ON\", \"Calgary, AB\", \"Burnaby, BC\", \"Calgary, AB\", \"Toronto, ON\", \"Toronto, ON\", \"Toronto, ON\", \"Toronto, ON\", \"Vancouver, BC\", \"Mississauga, ON\", \"Toronto, ON\", \"Toronto, ON\", \"Toronto, ON\", \"Toronto, ON\", \"Toronto, ON\", \"Toronto, ON\", \"Calgary, AB\", \"Burnaby, BC\", \"Calgary, AB\", \"Toronto, ON\", \"Toronto, ON\", \"Toronto, ON\", \"Toronto, ON\", \"Vancouver, BC\", \"Mississauga, ON\", \"Toronto, ON\", \"Toronto, ON\", \"Toronto, ON\", \"Toronto, ON\", \"Toronto, ON\", \"Toronto, ON\", \"Calgary, AB\", \"Burnaby, BC\", \"Calgary, AB\", \"Toronto, ON\", \"Toronto, ON\", \"Toronto, ON\", \"Toronto, ON\", \"Vancouver, BC\", \"Mississauga, ON\", \"Toronto, ON\", \"Toronto, ON\", \"Toronto, ON\", \"Toronto, ON\", \"Toronto, ON\", \"Calgary, AB\", \"Burnaby, BC\", \"Calgary, AB\", \"Toronto, ON\", \"Toronto, ON\", \"Toronto, ON\", \"Toronto, ON\", \"Vancouver, BC\", \"Mississauga, ON\", \"Toronto, ON\", \"Toronto, ON\", \"Vaudreuil-Dorion, QC\", \"Montr\\u00e9al, QC\", \"Calgary, AB\", \"Ottawa, ON\", \"Toronto, ON\", \"Surrey, BC\", \"Vancouver, BC\", \"Toronto, ON\", \"Vancouver, BC\", \"Mississauga, ON\", \"Toronto, ON\", \"Toronto, ON\", \"Toronto, ON\", \"Toronto, ON\", \"Burnaby, BC\", \"Winnipeg, MB\", \"Toronto, ON\", \"Victoria, BC\", \"Toronto, ON\", \"Toronto, ON\", \"Vancouver, BC\", \"Toronto, ON\", \"Vancouver, BC\", \"Mississauga, ON\", \"Toronto, ON\", \"Toronto, ON\", \"Toronto, ON\", \"Toronto, ON\", \"Burnaby, BC\", \"Winnipeg, MB\", \"Toronto, ON\", \"Victoria, BC\", \"Toronto, ON\", \"Toronto, ON\", \"Vancouver, BC\", \"Toronto, ON\", \"Toronto, ON\", \"Toronto, ON\", \"Calgary, AB\", \"Burnaby, BC\", \"Calgary, AB\", \"Toronto, ON\", \"Toronto, ON\", \"Toronto, ON\", \"Toronto, ON\", \"Vancouver, BC\", \"Mississauga, ON\", \"Toronto, ON\", \"Toronto, ON\", \"Toronto, ON\", \"Toronto, ON\", \"Toronto, ON\", \"Calgary, AB\", \"Burnaby, BC\", \"Calgary, AB\", \"Toronto, ON\", \"Toronto, ON\", \"Toronto, ON\", \"Toronto, ON\", \"Vancouver, BC\", \"Mississauga, ON\", \"Toronto, ON\", \"Toronto, ON\", \"Toronto, ON\", \"Toronto, ON\", \"Toronto, ON\", \"Calgary, AB\", \"Burnaby, BC\", \"Calgary, AB\", \"Toronto, ON\", \"Toronto, ON\", \"Toronto, ON\", \"Toronto, ON\", \"Vancouver, BC\", \"Mississauga, ON\", \"Toronto, ON\", \"Toronto, ON\", \"Toronto, ON\", \"Vancouver, BC\", \"Mississauga, ON\", \"Toronto, ON\", \"Toronto, ON\", \"Toronto, ON\", \"Toronto, ON\", \"Burnaby, BC\", \"Winnipeg, MB\", \"Toronto, ON\", \"Victoria, BC\", \"Toronto, ON\", \"Toronto, ON\", \"Vancouver, BC\", \"Victoria, BC\", \"Toronto, ON\", \"Toronto, ON\", \"Burnaby, BC\", \"Toronto, ON\", \"Calgary, AB\", \"Calgary, AB\", \"Toronto, ON\", \"Toronto, ON\", \"Toronto, ON\", \"Vancouver, BC\", \"Mississauga, ON\", \"Toronto, ON\", \"Toronto, ON\", \"Montr\\u00e9al, QC\", \"Calgary, AB\", \"Ottawa, ON\", \"Toronto, ON\", \"Surrey, BC\", \"Toronto, ON\", \"Vancouver, BC\", \"Mississauga, ON\", \"Toronto, ON\", \"Toronto, ON\", \"Toronto, ON\", \"Toronto, ON\", \"Burnaby, BC\", \"Winnipeg, MB\", \"Toronto, ON\", \"Victoria, BC\", \"Toronto, ON\", \"Toronto, ON\", \"Vancouver, BC\", \"Surrey, BC\", \"Calgary, AB\", \"Vaudreuil-Dorion, QC\", \"Montr\\u00e9al, QC\", \"Ottawa, ON\", \"Calgary, AB\", \"Toronto, ON\", \"Vancouver, BC\", \"Toronto, ON\", \"Mississauga, ON\", \"Toronto, ON\", \"Burnaby, BC\", \"Toronto, ON\", \"Toronto, ON\", \"Victoria, BC\", \"Winnipeg, MB\", \"Toronto, ON\", \"Vancouver, BC\", \"Toronto, ON\", \"Toronto, ON\", \"Toronto, ON\", \"Vancouver, BC\", \"Toronto, ON\", \"Mississauga, ON\", \"Toronto, ON\", \"Burnaby, BC\", \"Toronto, ON\", \"Toronto, ON\", \"Victoria, BC\", \"Winnipeg, MB\", \"Toronto, ON\", \"Vancouver, BC\", \"Toronto, ON\", \"Toronto, ON\", \"Langley, BC\", \"Toronto, ON\", \"Surrey, BC\", \"Calgary, AB\", \"Yellowknife, NT\", \"Vancouver, BC\", \"Toronto, ON\", \"Burnaby, BC\", \"Toronto, ON\", \"Toronto, ON\", \"Toronto, ON\", \"Toronto, ON\", \"Toronto, ON\", \"Toronto, ON\", \"Toronto, ON\", \"Toronto, ON\", \"Toronto, ON\", \"Mississauga, ON\", \"Toronto, ON\", \"Toronto, ON\", \"Vancouver, BC\", \"Toronto, ON\", \"Mississauga, ON\", \"Toronto, ON\", \"Burnaby, BC\", \"Toronto, ON\", \"Toronto, ON\", \"Victoria, BC\", \"Winnipeg, MB\", \"Toronto, ON\", \"Vancouver, BC\", \"Toronto, ON\", \"Toronto, ON\", \"Vancouver, BC\", \"Toronto, ON\", \"Burnaby, BC\", \"Toronto, ON\", \"Toronto, ON\", \"Toronto, ON\", \"Toronto, ON\", \"Toronto, ON\", \"Toronto, ON\", \"Toronto, ON\", \"Toronto, ON\", \"Toronto, ON\", \"Mississauga, ON\", \"Toronto, ON\", \"Toronto, ON\", \"Vancouver, BC\", \"Toronto, ON\", \"Mississauga, ON\", \"Toronto, ON\", \"Burnaby, BC\", \"Toronto, ON\", \"Toronto, ON\", \"Victoria, BC\", \"Winnipeg, MB\", \"Toronto, ON\", \"Vancouver, BC\", \"Toronto, ON\", \"Toronto, ON\", \"Toronto, ON\", \"Vancouver, BC\", \"Toronto, ON\", \"Mississauga, ON\", \"Toronto, ON\", \"Burnaby, BC\", \"Toronto, ON\", \"Toronto, ON\", \"Victoria, BC\", \"Winnipeg, MB\", \"Toronto, ON\", \"Vancouver, BC\", \"Toronto, ON\", \"Toronto, ON\", \"Toronto, ON\", \"Vancouver, BC\", \"Burnaby, BC\", \"Toronto, ON\", \"Toronto, ON\", \"Toronto, ON\", \"Toronto, ON\", \"Toronto, ON\", \"Toronto, ON\", \"Toronto, ON\", \"Toronto, ON\", \"Mississauga, ON\", \"Toronto, ON\", \"Toronto, ON\", \"Montr\\u00e9al, QC\", \"Calgary, AB\", \"Surrey, BC\", \"Toronto, ON\", \"Ottawa, ON\", \"Calgary, AB\", \"Vancouver, BC\", \"Toronto, ON\", \"Burnaby, BC\", \"Toronto, ON\", \"Toronto, ON\", \"Toronto, ON\", \"Toronto, ON\", \"Toronto, ON\", \"Toronto, ON\", \"Toronto, ON\", \"Toronto, ON\", \"Toronto, ON\", \"Mississauga, ON\", \"Toronto, ON\", \"Vancouver, BC\", \"Toronto, ON\", \"Burnaby, BC\", \"Toronto, ON\", \"Toronto, ON\", \"Toronto, ON\", \"Toronto, ON\", \"Toronto, ON\", \"Toronto, ON\", \"Toronto, ON\", \"Toronto, ON\", \"Toronto, ON\", \"Mississauga, ON\", \"Toronto, ON\", \"Vancouver, BC\", \"Toronto, ON\", \"Burnaby, BC\", \"Toronto, ON\", \"Toronto, ON\", \"Toronto, ON\", \"Toronto, ON\", \"Toronto, ON\", \"Toronto, ON\", \"Toronto, ON\", \"Toronto, ON\", \"Toronto, ON\", \"Mississauga, ON\", \"Toronto, ON\", \"Toronto, ON\", \"Vancouver, BC\", \"Toronto, ON\", \"Mississauga, ON\", \"Toronto, ON\", \"Burnaby, BC\", \"Toronto, ON\", \"Toronto, ON\", \"Victoria, BC\", \"Winnipeg, MB\", \"Toronto, ON\", \"Vancouver, BC\", \"Toronto, ON\", \"Toronto, ON\", \"Toronto, ON\", \"Vancouver, BC\", \"Toronto, ON\", \"Mississauga, ON\", \"Toronto, ON\", \"Burnaby, BC\", \"Toronto, ON\", \"Toronto, ON\", \"Victoria, BC\", \"Winnipeg, MB\", \"Toronto, ON\", \"Vancouver, BC\", \"Toronto, ON\", \"Toronto, ON\", \"Toronto, ON\", \"Vancouver, BC\", \"Burnaby, BC\", \"Toronto, ON\", \"Toronto, ON\", \"Toronto, ON\", \"Toronto, ON\", \"Toronto, ON\", \"Toronto, ON\", \"Toronto, ON\", \"Toronto, ON\", \"Mississauga, ON\", \"Toronto, ON\", \"Toronto, ON\", \"Toronto, ON\", \"Vancouver, BC\", \"Toronto, ON\", \"Mississauga, ON\", \"Toronto, ON\", \"Burnaby, BC\", \"Toronto, ON\", \"Toronto, ON\", \"Victoria, BC\", \"Winnipeg, MB\", \"Toronto, ON\", \"Vancouver, BC\", \"Toronto, ON\", \"Toronto, ON\", \"Toronto, ON\", \"Vancouver, BC\", \"Burnaby, BC\", \"Toronto, ON\", \"Toronto, ON\", \"Toronto, ON\", \"Toronto, ON\", \"Toronto, ON\", \"Toronto, ON\", \"Toronto, ON\", \"Toronto, ON\", \"Mississauga, ON\", \"Toronto, ON\", \"Toronto, ON\", \"Toronto, ON\", \"Vancouver, BC\", \"Burnaby, BC\", \"Toronto, ON\", \"Toronto, ON\", \"Toronto, ON\", \"Toronto, ON\", \"Toronto, ON\", \"Toronto, ON\", \"Toronto, ON\", \"Toronto, ON\", \"Mississauga, ON\", \"Toronto, ON\", \"Toronto, ON\", \"Vancouver, BC\", \"Toronto, ON\", \"Burnaby, BC\", \"Toronto, ON\", \"Toronto, ON\", \"Toronto, ON\", \"Toronto, ON\", \"Toronto, ON\", \"Toronto, ON\", \"Toronto, ON\", \"Toronto, ON\", \"Toronto, ON\", \"Mississauga, ON\", \"Toronto, ON\", \"Toronto, ON\", \"Toronto, ON\", \"Toronto, ON\", \"Calgary, AB\", \"Burnaby, BC\", \"Calgary, AB\", \"Toronto, ON\", \"Toronto, ON\", \"Toronto, ON\", \"Toronto, ON\", \"Vancouver, BC\", \"Mississauga, ON\", \"Toronto, ON\", \"Toronto, ON\", \"Toronto, ON\", \"Toronto, ON\", \"Toronto, ON\", \"Calgary, AB\", \"Burnaby, BC\", \"Calgary, AB\", \"Toronto, ON\", \"Toronto, ON\", \"Toronto, ON\", \"Toronto, ON\", \"Vancouver, BC\", \"Mississauga, ON\", \"Toronto, ON\", \"Toronto, ON\", \"Toronto, ON\", \"Toronto, ON\", \"Toronto, ON\", \"Calgary, AB\", \"Burnaby, BC\", \"Calgary, AB\", \"Toronto, ON\", \"Toronto, ON\", \"Toronto, ON\", \"Toronto, ON\", \"Vancouver, BC\", \"Mississauga, ON\", \"Toronto, ON\", \"Toronto, ON\", \"Toronto, ON\", \"Vancouver, BC\", \"Mississauga, ON\", \"Toronto, ON\", \"Toronto, ON\", \"Toronto, ON\", \"Toronto, ON\", \"Burnaby, BC\", \"Winnipeg, MB\", \"Toronto, ON\", \"Victoria, BC\", \"Toronto, ON\", \"Toronto, ON\", \"Vancouver, BC\", \"Toronto, ON\", \"Vancouver, BC\", \"Mississauga, ON\", \"Toronto, ON\", \"Toronto, ON\", \"Toronto, ON\", \"Toronto, ON\", \"Burnaby, BC\", \"Winnipeg, MB\", \"Toronto, ON\", \"Victoria, BC\", \"Toronto, ON\", \"Toronto, ON\", \"Vancouver, BC\", \"Toronto, ON\", \"Vancouver, BC\", \"Mississauga, ON\", \"Toronto, ON\", \"Toronto, ON\", \"Toronto, ON\", \"Toronto, ON\", \"Burnaby, BC\", \"Winnipeg, MB\", \"Toronto, ON\", \"Victoria, BC\", \"Toronto, ON\", \"Toronto, ON\", \"Vancouver, BC\", \"Toronto, ON\", \"Toronto, ON\", \"Winnipeg, MB\", \"Toronto, ON\", \"Toronto, ON\", \"Toronto, ON\", \"Vancouver, BC\", \"Toronto, ON\", \"Vancouver, BC\", \"Toronto, ON\", \"Vancouver, BC\", \"Calgary, AB\", \"Toronto, ON\", \"Edmonton, AB\", \"Toronto, ON\", \"Vancouver, BC\", \"Mississauga, ON\", \"Toronto, ON\", \"Toronto, ON\", \"Toronto, ON\", \"Toronto, ON\", \"Burnaby, BC\", \"Winnipeg, MB\", \"Toronto, ON\", \"Victoria, BC\", \"Toronto, ON\", \"Toronto, ON\", \"Vancouver, BC\", \"Victoria, BC\", \"Toronto, ON\", \"Toronto, ON\", \"Burnaby, BC\", \"Toronto, ON\", \"Calgary, AB\", \"Calgary, AB\", \"Toronto, ON\", \"Toronto, ON\", \"Toronto, ON\", \"Vancouver, BC\", \"Mississauga, ON\", \"Toronto, ON\", \"Toronto, ON\", \"Toronto, ON\", \"Toronto, ON\", \"Toronto, ON\", \"Calgary, AB\", \"Burnaby, BC\", \"Calgary, AB\", \"Toronto, ON\", \"Toronto, ON\", \"Toronto, ON\", \"Toronto, ON\", \"Vancouver, BC\", \"Mississauga, ON\", \"Toronto, ON\", \"Toronto, ON\", \"Toronto, ON\", \"Toronto, ON\", \"Toronto, ON\", \"Calgary, AB\", \"Burnaby, BC\", \"Calgary, AB\", \"Toronto, ON\", \"Toronto, ON\", \"Toronto, ON\", \"Toronto, ON\", \"Vancouver, BC\", \"Mississauga, ON\", \"Toronto, ON\", \"Toronto, ON\", \"Toronto, ON\", \"Toronto, ON\", \"Toronto, ON\", \"Calgary, AB\", \"Burnaby, BC\", \"Calgary, AB\", \"Toronto, ON\", \"Toronto, ON\", \"Toronto, ON\", \"Toronto, ON\", \"Vancouver, BC\", \"Mississauga, ON\", \"Toronto, ON\", \"Toronto, ON\", \"Toronto, ON\", \"Vancouver, BC\", \"Mississauga, ON\", \"Toronto, ON\", \"Toronto, ON\", \"Toronto, ON\", \"Toronto, ON\", \"Burnaby, BC\", \"Winnipeg, MB\", \"Toronto, ON\", \"Victoria, BC\", \"Toronto, ON\", \"Toronto, ON\", \"Vancouver, BC\", \"Toronto, ON\", \"Vancouver, BC\", \"Toronto, ON\", \"Mississauga, ON\", \"Toronto, ON\", \"Toronto, ON\", \"Toronto, ON\", \"Toronto, ON\", \"Burnaby, BC\", \"Winnipeg, MB\", \"Toronto, ON\", \"Victoria, BC\", \"Toronto, ON\", \"Toronto, ON\", \"Vancouver, BC\", \"Toronto, ON\", \"Toronto, ON\", \"Toronto, ON\", \"Calgary, AB\", \"Burnaby, BC\", \"Calgary, AB\", \"Toronto, ON\", \"Toronto, ON\", \"Toronto, ON\", \"Toronto, ON\", \"Vancouver, BC\", \"Mississauga, ON\", \"Toronto, ON\", \"Toronto, ON\", \"Toronto, ON\", \"Vancouver, BC\", \"Mississauga, ON\", \"Toronto, ON\", \"Toronto, ON\", \"Toronto, ON\", \"Toronto, ON\", \"Burnaby, BC\", \"Winnipeg, MB\", \"Toronto, ON\", \"Victoria, BC\", \"Toronto, ON\", \"Toronto, ON\", \"Vancouver, BC\", \"Toronto, ON\", \"Vancouver, BC\", \"Mississauga, ON\", \"Toronto, ON\", \"Toronto, ON\", \"Toronto, ON\", \"Toronto, ON\", \"Burnaby, BC\", \"Winnipeg, MB\", \"Toronto, ON\", \"Victoria, BC\", \"Toronto, ON\", \"Toronto, ON\", \"Vancouver, BC\", \"Toronto, ON\", \"Vancouver, BC\", \"Mississauga, ON\", \"Toronto, ON\", \"Toronto, ON\", \"Toronto, ON\", \"Toronto, ON\", \"Burnaby, BC\", \"Winnipeg, MB\", \"Toronto, ON\", \"Victoria, BC\", \"Toronto, ON\", \"Toronto, ON\", \"Vancouver, BC\", \"Toronto, ON\", \"Toronto, ON\", \"Toronto, ON\", \"Calgary, AB\", \"Burnaby, BC\", \"Calgary, AB\", \"Toronto, ON\", \"Toronto, ON\", \"Toronto, ON\", \"Toronto, ON\", \"Vancouver, BC\", \"Mississauga, ON\", \"Toronto, ON\", \"Toronto, ON\", \"Victoria, BC\", \"Toronto, ON\", \"Toronto, ON\", \"Burnaby, BC\", \"Toronto, ON\", \"Calgary, AB\", \"Calgary, AB\", \"Toronto, ON\", \"Toronto, ON\", \"Toronto, ON\", \"Vancouver, BC\", \"Mississauga, ON\", \"Toronto, ON\", \"Toronto, ON\", \"Vancouver, BC\", \"Toronto, ON\", \"Burnaby, BC\", \"Toronto, ON\", \"Toronto, ON\", \"Toronto, ON\", \"Toronto, ON\", \"Toronto, ON\", \"Toronto, ON\", \"Toronto, ON\", \"Toronto, ON\", \"Toronto, ON\", \"Mississauga, ON\", \"Toronto, ON\", \"Toronto, ON\", \"Vancouver, BC\", \"Toronto, ON\", \"Mississauga, ON\", \"Toronto, ON\", \"Burnaby, BC\", \"Toronto, ON\", \"Toronto, ON\", \"Victoria, BC\", \"Winnipeg, MB\", \"Toronto, ON\", \"Vancouver, BC\", \"Toronto, ON\", \"Toronto, ON\", \"Toronto, ON\", \"Vancouver, BC\", \"Burnaby, BC\", \"Toronto, ON\", \"Toronto, ON\", \"Toronto, ON\", \"Toronto, ON\", \"Toronto, ON\", \"Toronto, ON\", \"Toronto, ON\", \"Toronto, ON\", \"Mississauga, ON\", \"Toronto, ON\", \"Toronto, ON\", \"Surrey, BC\", \"Calgary, AB\", \"Calgary, AB\", \"Montr\\u00e9al, QC\", \"Toronto, ON\", \"Ottawa, ON\", \"Toronto, ON\", \"Vancouver, BC\", \"Toronto, ON\", \"Mississauga, ON\", \"Toronto, ON\", \"Burnaby, BC\", \"Toronto, ON\", \"Toronto, ON\", \"Victoria, BC\", \"Winnipeg, MB\", \"Toronto, ON\", \"Vancouver, BC\", \"Toronto, ON\", \"Toronto, ON\", \"Vancouver, BC\", \"Toronto, ON\", \"Burnaby, BC\", \"Toronto, ON\", \"Toronto, ON\", \"Toronto, ON\", \"Toronto, ON\", \"Toronto, ON\", \"Toronto, ON\", \"Toronto, ON\", \"Toronto, ON\", \"Toronto, ON\", \"Mississauga, ON\", \"Toronto, ON\", \"Toronto, ON\", \"Vancouver, BC\", \"Toronto, ON\", \"Mississauga, ON\", \"Toronto, ON\", \"Burnaby, BC\", \"Toronto, ON\", \"Toronto, ON\", \"Victoria, BC\", \"Winnipeg, MB\", \"Toronto, ON\", \"Vancouver, BC\", \"Toronto, ON\", \"Toronto, ON\", \"Toronto, ON\", \"Vancouver, BC\", \"Toronto, ON\", \"Mississauga, ON\", \"Toronto, ON\", \"Burnaby, BC\", \"Toronto, ON\", \"Toronto, ON\", \"Victoria, BC\", \"Winnipeg, MB\", \"Toronto, ON\", \"Vancouver, BC\", \"Toronto, ON\", \"Toronto, ON\", \"Toronto, ON\", \"Vancouver, BC\", \"Toronto, ON\", \"Mississauga, ON\", \"Toronto, ON\", \"Burnaby, BC\", \"Toronto, ON\", \"Toronto, ON\", \"Victoria, BC\", \"Winnipeg, MB\", \"Toronto, ON\", \"Vancouver, BC\", \"Toronto, ON\", \"Toronto, ON\", \"Vancouver, BC\", \"Toronto, ON\", \"Burnaby, BC\", \"Toronto, ON\", \"Toronto, ON\", \"Toronto, ON\", \"Toronto, ON\", \"Toronto, ON\", \"Toronto, ON\", \"Toronto, ON\", \"Toronto, ON\", \"Toronto, ON\", \"Mississauga, ON\", \"Toronto, ON\", \"Vancouver, BC\", \"Toronto, ON\", \"Burnaby, BC\", \"Toronto, ON\", \"Toronto, ON\", \"Toronto, ON\", \"Toronto, ON\", \"Toronto, ON\", \"Toronto, ON\", \"Toronto, ON\", \"Toronto, ON\", \"Toronto, ON\", \"Mississauga, ON\", \"Toronto, ON\", \"Surrey, BC\", \"Calgary, AB\", \"Calgary, AB\", \"Montr\\u00e9al, QC\", \"Toronto, ON\", \"Ottawa, ON\", \"Toronto, ON\", \"Vancouver, BC\", \"Toronto, ON\", \"Mississauga, ON\", \"Toronto, ON\", \"Burnaby, BC\", \"Toronto, ON\", \"Toronto, ON\", \"Victoria, BC\", \"Winnipeg, MB\", \"Toronto, ON\", \"Vancouver, BC\", \"Toronto, ON\", \"Toronto, ON\", \"Toronto, ON\", \"Vancouver, BC\", \"Toronto, ON\", \"Mississauga, ON\", \"Toronto, ON\", \"Burnaby, BC\", \"Toronto, ON\", \"Toronto, ON\", \"Victoria, BC\", \"Winnipeg, MB\", \"Toronto, ON\", \"Vancouver, BC\", \"Toronto, ON\", \"Toronto, ON\", \"Toronto, ON\", \"Vancouver, BC\", \"Burnaby, BC\", \"Toronto, ON\", \"Toronto, ON\", \"Toronto, ON\", \"Toronto, ON\", \"Toronto, ON\", \"Toronto, ON\", \"Toronto, ON\", \"Toronto, ON\", \"Mississauga, ON\", \"Toronto, ON\", \"Toronto, ON\", \"Vancouver, BC\", \"Toronto, ON\", \"Burnaby, BC\", \"Toronto, ON\", \"Toronto, ON\", \"Toronto, ON\", \"Toronto, ON\", \"Toronto, ON\", \"Toronto, ON\", \"Toronto, ON\", \"Toronto, ON\", \"Toronto, ON\", \"Mississauga, ON\", \"Toronto, ON\", \"Vancouver, BC\", \"Toronto, ON\", \"Toronto, ON\", \"Mississauga, ON\", \"Toronto, ON\", \"Toronto, ON\", \"Winnipeg, MB\", \"Toronto, ON\", \"Richmond Hill, ON\", \"Toronto, ON\", \"Toronto, ON\", \"Toronto, ON\", \"Scarborough, ON\", \"Toronto, ON\", \"Toronto, ON\", \"Vancouver, BC\", \"Toronto, ON\", \"Mississauga, ON\", \"Toronto, ON\", \"Burnaby, BC\", \"Toronto, ON\", \"Toronto, ON\", \"Victoria, BC\", \"Winnipeg, MB\", \"Toronto, ON\", \"Vancouver, BC\", \"Toronto, ON\", \"Toronto, ON\", \"Vancouver, BC\", \"Toronto, ON\", \"Burnaby, BC\", \"Toronto, ON\", \"Toronto, ON\", \"Toronto, ON\", \"Toronto, ON\", \"Toronto, ON\", \"Toronto, ON\", \"Toronto, ON\", \"Toronto, ON\", \"Toronto, ON\", \"Mississauga, ON\", \"Toronto, ON\", \"Surrey, BC\", \"Calgary, AB\", \"Calgary, AB\", \"Montr\\u00e9al, QC\", \"Toronto, ON\", \"Ottawa, ON\", \"Toronto, ON\", \"Winnipeg, MB\", \"Toronto, ON\", \"Victoria, BC\", \"Toronto, ON\", \"Toronto, ON\", \"Burnaby, BC\", \"Calgary, AB\", \"Toronto, ON\", \"Vancouver, BC\", \"Toronto, ON\", \"Mississauga, ON\", \"Toronto, ON\", \"Toronto, ON\", \"Vancouver, BC\", \"Toronto, ON\", \"Toronto, ON\", \"Toronto, ON\", \"Mississauga, ON\", \"Toronto, ON\", \"Toronto, ON\", \"Burnaby, BC\", \"Toronto, ON\", \"Winnipeg, MB\", \"Victoria, BC\", \"Toronto, ON\", \"Vancouver, BC\", \"Toronto, ON\", \"Toronto, ON\", \"Victoria, BC\", \"Toronto, ON\", \"Calgary, AB\", \"Toronto, ON\", \"Burnaby, BC\", \"Toronto, ON\", \"Calgary, AB\", \"Vancouver, BC\", \"Toronto, ON\", \"Toronto, ON\", \"Mississauga, ON\", \"Toronto, ON\", \"Toronto, ON\", \"Toronto, ON\", \"Winnipeg, MB\", \"Toronto, ON\", \"Victoria, BC\", \"Toronto, ON\", \"Toronto, ON\", \"Burnaby, BC\", \"Calgary, AB\", \"Toronto, ON\", \"Vancouver, BC\", \"Toronto, ON\", \"Mississauga, ON\", \"Toronto, ON\", \"Toronto, ON\", \"Vancouver, BC\", \"Toronto, ON\", \"Toronto, ON\", \"Toronto, ON\", \"Mississauga, ON\", \"Toronto, ON\", \"Toronto, ON\", \"Burnaby, BC\", \"Toronto, ON\", \"Winnipeg, MB\", \"Victoria, BC\", \"Toronto, ON\", \"Vancouver, BC\", \"Toronto, ON\", \"Toronto, ON\", \"Winnipeg, MB\", \"Toronto, ON\", \"Victoria, BC\", \"Toronto, ON\", \"Toronto, ON\", \"Burnaby, BC\", \"Calgary, AB\", \"Toronto, ON\", \"Vancouver, BC\", \"Toronto, ON\", \"Mississauga, ON\", \"Toronto, ON\", \"Toronto, ON\", \"Toronto, ON\", \"Surrey, BC\", \"Calgary, AB\", \"Calgary, AB\", \"Montr\\u00e9al, QC\", \"Toronto, ON\", \"Toronto, ON\", \"Victoria, BC\", \"Toronto, ON\", \"Calgary, AB\", \"Toronto, ON\", \"Burnaby, BC\", \"Toronto, ON\", \"Calgary, AB\", \"Vancouver, BC\", \"Toronto, ON\", \"Toronto, ON\", \"Mississauga, ON\", \"Toronto, ON\", \"Toronto, ON\", \"Toronto, ON\", \"Surrey, BC\", \"Calgary, AB\", \"Calgary, AB\", \"Montr\\u00e9al, QC\", \"Toronto, ON\", \"Toronto, ON\", \"Victoria, BC\", \"Toronto, ON\", \"Calgary, AB\", \"Toronto, ON\", \"Burnaby, BC\", \"Toronto, ON\", \"Calgary, AB\", \"Vancouver, BC\", \"Toronto, ON\", \"Toronto, ON\", \"Mississauga, ON\", \"Toronto, ON\", \"Toronto, ON\", \"Toronto, ON\", \"Victoria, BC\", \"Toronto, ON\", \"Calgary, AB\", \"Toronto, ON\", \"Toronto, ON\", \"Burnaby, BC\", \"Calgary, AB\", \"Vancouver, BC\", \"Toronto, ON\", \"Toronto, ON\", \"Mississauga, ON\", \"Toronto, ON\", \"Toronto, ON\", \"Toronto, ON\", \"Victoria, BC\", \"Toronto, ON\", \"Calgary, AB\", \"Toronto, ON\", \"Toronto, ON\", \"Burnaby, BC\", \"Calgary, AB\", \"Vancouver, BC\", \"Toronto, ON\", \"Toronto, ON\", \"Mississauga, ON\", \"Toronto, ON\", \"Toronto, ON\", \"Toronto, ON\", \"Surrey, BC\", \"Calgary, AB\", \"Montr\\u00e9al, QC\", \"Calgary, AB\", \"Vancouver, BC\", \"Toronto, ON\", \"Toronto, ON\", \"Toronto, ON\", \"Mississauga, ON\", \"Toronto, ON\", \"Toronto, ON\", \"Burnaby, BC\", \"Toronto, ON\", \"Winnipeg, MB\", \"Victoria, BC\", \"Toronto, ON\", \"Vancouver, BC\", \"Toronto, ON\", \"Vancouver, BC\", \"Toronto, ON\", \"Toronto, ON\", \"Toronto, ON\", \"Mississauga, ON\", \"Toronto, ON\", \"Toronto, ON\", \"Burnaby, BC\", \"Toronto, ON\", \"Winnipeg, MB\", \"Victoria, BC\", \"Toronto, ON\", \"Vancouver, BC\", \"Toronto, ON\", \"Toronto, ON\", \"Winnipeg, MB\", \"Toronto, ON\", \"Toronto, ON\", \"Burnaby, BC\", \"Victoria, BC\", \"Toronto, ON\", \"Calgary, AB\", \"Toronto, ON\", \"Vancouver, BC\", \"Toronto, ON\", \"Mississauga, ON\", \"Toronto, ON\", \"Toronto, ON\", \"Vancouver, BC\", \"Toronto, ON\", \"Toronto, ON\", \"Mississauga, ON\", \"Toronto, ON\", \"Toronto, ON\", \"Toronto, ON\", \"Burnaby, BC\", \"Toronto, ON\", \"Winnipeg, MB\", \"Victoria, BC\", \"Toronto, ON\", \"Toronto, ON\", \"Vancouver, BC\", \"Toronto, ON\", \"Edmonton, AB\", \"Winnipeg, MB\", \"Burnaby, BC\", \"Toronto, ON\", \"Toronto, ON\", \"Victoria, BC\", \"Calgary, AB\", \"Toronto, ON\", \"Vancouver, BC\", \"Toronto, ON\", \"Mississauga, ON\", \"Toronto, ON\", \"Toronto, ON\", \"Vancouver, BC\", \"Toronto, ON\", \"Toronto, ON\", \"Mississauga, ON\", \"Toronto, ON\", \"Toronto, ON\", \"Toronto, ON\", \"Burnaby, BC\", \"Toronto, ON\", \"Winnipeg, MB\", \"Victoria, BC\", \"Toronto, ON\", \"Toronto, ON\", \"Vancouver, BC\", \"Vancouver, BC\", \"Toronto, ON\", \"Toronto, ON\", \"Mississauga, ON\", \"Toronto, ON\", \"Toronto, ON\", \"Toronto, ON\", \"Burnaby, BC\", \"Toronto, ON\", \"Winnipeg, MB\", \"Victoria, BC\", \"Toronto, ON\", \"Toronto, ON\", \"Vancouver, BC\", \"Boucherville, QC\", \"Calgary, AB\", \"Montr\\u00e9al, QC\", \"Montr\\u00e9al, QC\", \"Cambridge, ON\", \"Toronto, ON\", \"Stoney Creek, ON\", \"Stoney Creek, ON\", \"Toronto, ON\", \"Toronto, ON\", \"Burnaby, BC\", \"Vancouver, BC\", \"Toronto, ON\", \"Toronto, ON\", \"Toronto, ON\", \"Toronto, ON\", \"Toronto, ON\", \"Toronto, ON\", \"Toronto, ON\", \"Toronto, ON\", \"Toronto, ON\", \"Toronto, ON\", \"Mississauga, ON\", \"Toronto, ON\", \"Toronto, ON\", \"Scarborough, ON\", \"Mississauga, ON\", \"Toronto, ON\", \"Burnaby, BC\", \"Toronto, ON\", \"Toronto, ON\", \"Victoria, BC\", \"Winnipeg, MB\", \"Toronto, ON\", \"Vancouver, BC\", \"Toronto, ON\", \"Toronto, ON\", \"Toronto, ON\", \"Toronto, ON\", \"Scarborough, ON\", \"Mississauga, ON\", \"Toronto, ON\", \"Burnaby, BC\", \"Toronto, ON\", \"Toronto, ON\", \"Victoria, BC\", \"Winnipeg, MB\", \"Toronto, ON\", \"Vancouver, BC\", \"Toronto, ON\", \"Toronto, ON\", \"Langley, BC\", \"Calgary, AB\", \"Calgary, AB\", \"Montr\\u00e9al, QC\", \"Surrey, BC\", \"Sherbrooke, QC\", \"Canada\", \"Toronto, ON\", \"Burnaby, BC\", \"Vancouver, BC\", \"Toronto, ON\", \"Toronto, ON\", \"Toronto, ON\", \"Toronto, ON\", \"Toronto, ON\", \"Toronto, ON\", \"Toronto, ON\", \"Toronto, ON\", \"Mississauga, ON\", \"Toronto, ON\", \"Toronto, ON\", \"Toronto, ON\", \"Toronto, ON\", \"Vancouver, BC\", \"Toronto, ON\", \"Toronto, ON\", \"Scarborough, ON\", \"Toronto, ON\", \"Toronto, ON\", \"Winnipeg, MB\", \"Calgary, AB\", \"Edmonton, AB\", \"Toronto, ON\", \"Toronto, ON\", \"Toronto, ON\", \"Toronto, ON\", \"Toronto, ON\", \"Scarborough, ON\", \"Mississauga, ON\", \"Toronto, ON\", \"Burnaby, BC\", \"Toronto, ON\", \"Toronto, ON\", \"Victoria, BC\", \"Winnipeg, MB\", \"Toronto, ON\", \"Vancouver, BC\", \"Toronto, ON\", \"Toronto, ON\", \"Toronto, ON\", \"Toronto, ON\", \"Scarborough, ON\", \"Mississauga, ON\", \"Toronto, ON\", \"Burnaby, BC\", \"Toronto, ON\", \"Toronto, ON\", \"Victoria, BC\", \"Winnipeg, MB\", \"Toronto, ON\", \"Vancouver, BC\", \"Toronto, ON\", \"Toronto, ON\", \"Toronto, ON\", \"Burnaby, BC\", \"Vancouver, BC\", \"Toronto, ON\", \"Toronto, ON\", \"Toronto, ON\", \"Toronto, ON\", \"Toronto, ON\", \"Toronto, ON\", \"Toronto, ON\", \"Toronto, ON\", \"Toronto, ON\", \"Toronto, ON\", \"Mississauga, ON\", \"Calgary, AB\", \"Toronto, ON\", \"Burnaby, BC\", \"Vancouver, BC\", \"Toronto, ON\", \"Toronto, ON\", \"Toronto, ON\", \"Toronto, ON\", \"Toronto, ON\", \"Toronto, ON\", \"Toronto, ON\", \"Toronto, ON\", \"Toronto, ON\", \"Toronto, ON\", \"Mississauga, ON\", \"Toronto, ON\", \"Toronto, ON\", \"Scarborough, ON\", \"Mississauga, ON\", \"Toronto, ON\", \"Burnaby, BC\", \"Toronto, ON\", \"Toronto, ON\", \"Victoria, BC\", \"Winnipeg, MB\", \"Toronto, ON\", \"Vancouver, BC\", \"Toronto, ON\", \"Toronto, ON\", \"Toronto, ON\", \"Burnaby, BC\", \"Vancouver, BC\", \"Toronto, ON\", \"Toronto, ON\", \"Toronto, ON\", \"Toronto, ON\", \"Toronto, ON\", \"Toronto, ON\", \"Toronto, ON\", \"Toronto, ON\", \"Mississauga, ON\", \"Toronto, ON\", \"Toronto, ON\", \"Toronto, ON\", \"Burnaby, BC\", \"Vancouver, BC\", \"Toronto, ON\", \"Toronto, ON\", \"Toronto, ON\", \"Toronto, ON\", \"Toronto, ON\", \"Toronto, ON\", \"Toronto, ON\", \"Toronto, ON\", \"Toronto, ON\", \"Toronto, ON\", \"Mississauga, ON\", \"Toronto, ON\", \"Burnaby, BC\", \"Vancouver, BC\", \"Toronto, ON\", \"Toronto, ON\", \"Toronto, ON\", \"Toronto, ON\", \"Toronto, ON\", \"Toronto, ON\", \"Toronto, ON\", \"Toronto, ON\", \"Toronto, ON\", \"Toronto, ON\", \"Mississauga, ON\", \"Toronto, ON\", \"Burnaby, BC\", \"Vancouver, BC\", \"Toronto, ON\", \"Toronto, ON\", \"Toronto, ON\", \"Toronto, ON\", \"Toronto, ON\", \"Toronto, ON\", \"Toronto, ON\", \"Toronto, ON\", \"Toronto, ON\", \"Toronto, ON\", \"Mississauga, ON\", \"Toronto, ON\", \"Burnaby, BC\", \"Vancouver, BC\", \"Toronto, ON\", \"Toronto, ON\", \"Toronto, ON\", \"Toronto, ON\", \"Toronto, ON\", \"Toronto, ON\", \"Toronto, ON\", \"Toronto, ON\", \"Toronto, ON\", \"Toronto, ON\", \"Mississauga, ON\", \"Toronto, ON\", \"Toronto, ON\", \"Scarborough, ON\", \"Mississauga, ON\", \"Toronto, ON\", \"Burnaby, BC\", \"Toronto, ON\", \"Toronto, ON\", \"Victoria, BC\", \"Winnipeg, MB\", \"Toronto, ON\", \"Vancouver, BC\", \"Toronto, ON\", \"Toronto, ON\", \"Toronto, ON\", \"Burnaby, BC\", \"Vancouver, BC\", \"Toronto, ON\", \"Toronto, ON\", \"Toronto, ON\", \"Toronto, ON\", \"Toronto, ON\", \"Toronto, ON\", \"Toronto, ON\", \"Toronto, ON\", \"Mississauga, ON\", \"Toronto, ON\", \"Toronto, ON\", \"Toronto, ON\", \"Burnaby, BC\", \"Vancouver, BC\", \"Toronto, ON\", \"Toronto, ON\", \"Toronto, ON\", \"Toronto, ON\", \"Toronto, ON\", \"Toronto, ON\", \"Toronto, ON\", \"Toronto, ON\", \"Toronto, ON\", \"Toronto, ON\", \"Mississauga, ON\", \"Toronto, ON\", \"Toronto, ON\", \"Scarborough, ON\", \"Mississauga, ON\", \"Toronto, ON\", \"Burnaby, BC\", \"Toronto, ON\", \"Toronto, ON\", \"Victoria, BC\", \"Winnipeg, MB\", \"Toronto, ON\", \"Vancouver, BC\", \"Toronto, ON\", \"Toronto, ON\", \"Calgary, AB\", \"Ottawa, ON\", \"Toronto, ON\", \"Vaudreuil-Dorion, QC\", \"Burnaby, BC\", \"Langley, BC\", \"Calgary, AB\", \"Toronto, ON\", \"Mississauga, ON\", \"Toronto, ON\", \"Mississauga, ON\", \"Toronto, ON\", \"Vancouver, BC\", \"Toronto, ON\", \"Calgary, AB\", \"Toronto, ON\", \"Toronto, ON\", \"Edmonton, AB\", \"Victoria, BC\", \"Toronto, ON\", \"Calgary, AB\", \"Burnaby, BC\", \"Mississauga, ON\", \"Toronto, ON\", \"Toronto, ON\", \"Toronto, ON\", \"Vancouver, BC\", \"Toronto, ON\", \"Calgary, AB\", \"Toronto, ON\", \"Toronto, ON\", \"Toronto, ON\", \"Edmonton, AB\", \"Victoria, BC\", \"Mississauga, ON\", \"Burnaby, BC\", \"Calgary, AB\", \"Toronto, ON\", \"Toronto, ON\", \"Toronto, ON\", \"Mississauga, ON\", \"Edmonton, AB\", \"Calgary, AB\", \"Toronto, ON\", \"Toronto, ON\", \"Toronto, ON\", \"Scarborough, ON\", \"Toronto, ON\", \"Winnipeg, MB\", \"Burnaby, BC\", \"Toronto, ON\", \"Toronto, ON\", \"Victoria, BC\", \"Toronto, ON\", \"Vancouver, BC\", \"Toronto, ON\", \"Calgary, AB\", \"Toronto, ON\", \"Toronto, ON\", \"Toronto, ON\", \"Edmonton, AB\", \"Victoria, BC\", \"Mississauga, ON\", \"Burnaby, BC\", \"Calgary, AB\", \"Toronto, ON\", \"Toronto, ON\", \"Vancouver, BC\", \"Toronto, ON\", \"Mississauga, ON\", \"Edmonton, AB\", \"Calgary, AB\", \"Toronto, ON\", \"Toronto, ON\", \"Toronto, ON\", \"Scarborough, ON\", \"Toronto, ON\", \"Winnipeg, MB\", \"Burnaby, BC\", \"Toronto, ON\", \"Toronto, ON\", \"Victoria, BC\", \"Toronto, ON\", \"Mississauga, ON\", \"Edmonton, AB\", \"Calgary, AB\", \"Toronto, ON\", \"Toronto, ON\", \"Toronto, ON\", \"Scarborough, ON\", \"Toronto, ON\", \"Winnipeg, MB\", \"Burnaby, BC\", \"Toronto, ON\", \"Toronto, ON\", \"Victoria, BC\", \"Toronto, ON\", \"Vancouver, BC\", \"Toronto, ON\", \"Calgary, AB\", \"Toronto, ON\", \"Toronto, ON\", \"Edmonton, AB\", \"Victoria, BC\", \"Toronto, ON\", \"Calgary, AB\", \"Burnaby, BC\", \"Mississauga, ON\", \"Toronto, ON\", \"Toronto, ON\", \"Toronto, ON\", \"Toronto, ON\", \"Vancouver, BC\", \"Toronto, ON\", \"Calgary, AB\", \"Toronto, ON\", \"Toronto, ON\", \"Toronto, ON\", \"Edmonton, AB\", \"Victoria, BC\", \"Mississauga, ON\", \"Burnaby, BC\", \"Calgary, AB\", \"Toronto, ON\", \"Toronto, ON\", \"Langley, BC\", \"Montr\\u00e9al, QC\", \"Vaudreuil-Dorion, QC\", \"Toronto, ON\", \"Calgary, AB\", \"Ottawa, ON\", \"Halifax, NS\", \"Vancouver, BC\", \"Toronto, ON\", \"Toronto, ON\", \"Ottawa, ON\", \"Toronto, ON\", \"Mississauga, ON\", \"Edmonton, AB\", \"Calgary, AB\", \"Toronto, ON\", \"Toronto, ON\", \"Toronto, ON\", \"Scarborough, ON\", \"Toronto, ON\", \"Winnipeg, MB\", \"Burnaby, BC\", \"Toronto, ON\", \"Toronto, ON\", \"Victoria, BC\", \"Toronto, ON\", \"Toronto, ON\", \"Vancouver, BC\", \"Toronto, ON\", \"Calgary, AB\", \"Toronto, ON\", \"Toronto, ON\", \"Edmonton, AB\", \"Victoria, BC\", \"Toronto, ON\", \"Calgary, AB\", \"Burnaby, BC\", \"Mississauga, ON\", \"Toronto, ON\", \"Toronto, ON\", \"Burnaby, BC\", \"Toronto, ON\", \"Toronto, ON\", \"Victoria, BC\", \"Toronto, ON\", \"Toronto, ON\", \"Toronto, ON\", \"Scarborough, ON\", \"Prince George, BC\", \"Toronto, ON\", \"Toronto, ON\", \"Toronto, ON\", \"Calgary, AB\", \"Winnipeg, MB\", \"Victoria, BC\", \"Toronto, ON\", \"Mississauga, ON\", \"Edmonton, AB\", \"Calgary, AB\", \"Toronto, ON\", \"Toronto, ON\", \"Toronto, ON\", \"Scarborough, ON\", \"Toronto, ON\", \"Winnipeg, MB\", \"Burnaby, BC\", \"Toronto, ON\", \"Toronto, ON\", \"Victoria, BC\", \"Toronto, ON\", \"Vancouver, BC\", \"Toronto, ON\", \"Calgary, AB\", \"Toronto, ON\", \"Toronto, ON\", \"Edmonton, AB\", \"Victoria, BC\", \"Toronto, ON\", \"Calgary, AB\", \"Burnaby, BC\", \"Mississauga, ON\", \"Toronto, ON\", \"Toronto, ON\", \"Toronto, ON\", \"Vancouver, BC\", \"Toronto, ON\", \"Calgary, AB\", \"Toronto, ON\", \"Toronto, ON\", \"Edmonton, AB\", \"Victoria, BC\", \"Toronto, ON\", \"Calgary, AB\", \"Burnaby, BC\", \"Mississauga, ON\", \"Toronto, ON\", \"Toronto, ON\", \"Toronto, ON\", \"Mississauga, ON\", \"Edmonton, AB\", \"Calgary, AB\", \"Toronto, ON\", \"Toronto, ON\", \"Toronto, ON\", \"Scarborough, ON\", \"Toronto, ON\", \"Winnipeg, MB\", \"Burnaby, BC\", \"Toronto, ON\", \"Toronto, ON\", \"Victoria, BC\", \"Toronto, ON\", \"Toronto, ON\", \"Mississauga, ON\", \"Edmonton, AB\", \"Calgary, AB\", \"Toronto, ON\", \"Toronto, ON\", \"Toronto, ON\", \"Scarborough, ON\", \"Toronto, ON\", \"Winnipeg, MB\", \"Burnaby, BC\", \"Toronto, ON\", \"Toronto, ON\", \"Victoria, BC\", \"Toronto, ON\", \"Mississauga, ON\", \"Edmonton, AB\", \"Calgary, AB\", \"Toronto, ON\", \"Toronto, ON\", \"Toronto, ON\", \"Scarborough, ON\", \"Toronto, ON\", \"Winnipeg, MB\", \"Burnaby, BC\", \"Toronto, ON\", \"Toronto, ON\", \"Victoria, BC\", \"Toronto, ON\", \"Vancouver, BC\", \"Toronto, ON\", \"Calgary, AB\", \"Toronto, ON\", \"Toronto, ON\", \"Edmonton, AB\", \"Victoria, BC\", \"Toronto, ON\", \"Calgary, AB\", \"Burnaby, BC\", \"Mississauga, ON\", \"Toronto, ON\", \"Toronto, ON\", \"Toronto, ON\", \"Vancouver, BC\", \"Toronto, ON\", \"Calgary, AB\", \"Toronto, ON\", \"Toronto, ON\", \"Toronto, ON\", \"Edmonton, AB\", \"Victoria, BC\", \"Mississauga, ON\", \"Burnaby, BC\", \"Calgary, AB\", \"Toronto, ON\", \"Toronto, ON\", \"Mississauga, ON\", \"Edmonton, AB\", \"Calgary, AB\", \"Toronto, ON\", \"Toronto, ON\", \"Toronto, ON\", \"Scarborough, ON\", \"Toronto, ON\", \"Winnipeg, MB\", \"Burnaby, BC\", \"Toronto, ON\", \"Toronto, ON\", \"Victoria, BC\", \"Vancouver, BC\", \"Toronto, ON\", \"Mississauga, ON\", \"Edmonton, AB\", \"Calgary, AB\", \"Toronto, ON\", \"Toronto, ON\", \"Toronto, ON\", \"Scarborough, ON\", \"Toronto, ON\", \"Winnipeg, MB\", \"Burnaby, BC\", \"Toronto, ON\", \"Toronto, ON\", \"Victoria, BC\", \"Vancouver, BC\", \"Toronto, ON\", \"Calgary, AB\", \"Toronto, ON\", \"Toronto, ON\", \"Edmonton, AB\", \"Victoria, BC\", \"Toronto, ON\", \"Calgary, AB\", \"Burnaby, BC\", \"Mississauga, ON\", \"Toronto, ON\", \"Toronto, ON\", \"Vancouver, BC\", \"Toronto, ON\", \"Vancouver, BC\", \"Toronto, ON\", \"Calgary, AB\", \"Toronto, ON\", \"Toronto, ON\", \"Toronto, ON\", \"Edmonton, AB\", \"Victoria, BC\", \"Mississauga, ON\", \"Burnaby, BC\", \"Calgary, AB\", \"Toronto, ON\", \"Toronto, ON\", \"Toronto, ON\", \"Toronto, ON\", \"Prince George, BC\", \"Richmond Hill, ON\", \"Victoria, BC\", \"Winnipeg, MB\", \"Toronto, ON\", \"Toronto, ON\", \"Burnaby, BC\", \"Scarborough, ON\", \"Toronto, ON\", \"Victoria, BC\", \"Toronto, ON\", \"Vancouver, BC\", \"Toronto, ON\", \"Mississauga, ON\", \"Edmonton, AB\", \"Calgary, AB\", \"Toronto, ON\", \"Toronto, ON\", \"Toronto, ON\", \"Scarborough, ON\", \"Toronto, ON\", \"Winnipeg, MB\", \"Burnaby, BC\", \"Toronto, ON\", \"Toronto, ON\", \"Victoria, BC\", \"Toronto, ON\", \"Vancouver, BC\", \"Toronto, ON\", \"Calgary, AB\", \"Toronto, ON\", \"Toronto, ON\", \"Toronto, ON\", \"Edmonton, AB\", \"Victoria, BC\", \"Mississauga, ON\", \"Burnaby, BC\", \"Calgary, AB\", \"Toronto, ON\", \"Toronto, ON\", \"Vancouver, BC\", \"Toronto, ON\", \"Calgary, AB\", \"Toronto, ON\", \"Toronto, ON\", \"Edmonton, AB\", \"Victoria, BC\", \"Toronto, ON\", \"Calgary, AB\", \"Burnaby, BC\", \"Mississauga, ON\", \"Toronto, ON\", \"Toronto, ON\", \"Vancouver, BC\", \"Toronto, ON\", \"Vancouver, BC\", \"Toronto, ON\", \"Calgary, AB\", \"Toronto, ON\", \"Toronto, ON\", \"Toronto, ON\", \"Edmonton, AB\", \"Victoria, BC\", \"Mississauga, ON\", \"Burnaby, BC\", \"Calgary, AB\", \"Toronto, ON\", \"Toronto, ON\", \"Toronto, ON\", \"Mississauga, ON\", \"Edmonton, AB\", \"Calgary, AB\", \"Toronto, ON\", \"Toronto, ON\", \"Toronto, ON\", \"Scarborough, ON\", \"Toronto, ON\", \"Winnipeg, MB\", \"Burnaby, BC\", \"Toronto, ON\", \"Toronto, ON\", \"Victoria, BC\", \"Toronto, ON\", \"Vancouver, BC\", \"Toronto, ON\", \"Calgary, AB\", \"Toronto, ON\", \"Toronto, ON\", \"Edmonton, AB\", \"Victoria, BC\", \"Toronto, ON\", \"Calgary, AB\", \"Burnaby, BC\", \"Mississauga, ON\", \"Toronto, ON\", \"Toronto, ON\", \"Toronto, ON\", \"Vancouver, BC\", \"Toronto, ON\", \"Calgary, AB\", \"Toronto, ON\", \"Toronto, ON\", \"Toronto, ON\", \"Edmonton, AB\", \"Victoria, BC\", \"Mississauga, ON\", \"Burnaby, BC\", \"Calgary, AB\", \"Toronto, ON\", \"Toronto, ON\", \"Toronto, ON\", \"Vancouver, BC\", \"Toronto, ON\", \"Calgary, AB\", \"Toronto, ON\", \"Toronto, ON\", \"Edmonton, AB\", \"Victoria, BC\", \"Toronto, ON\", \"Calgary, AB\", \"Burnaby, BC\", \"Mississauga, ON\", \"Toronto, ON\", \"Toronto, ON\", \"Toronto, ON\", \"Vancouver, BC\", \"Toronto, ON\", \"Calgary, AB\", \"Toronto, ON\", \"Toronto, ON\", \"Edmonton, AB\", \"Victoria, BC\", \"Toronto, ON\", \"Calgary, AB\", \"Burnaby, BC\", \"Mississauga, ON\", \"Toronto, ON\", \"Toronto, ON\", \"Montr\\u00e9al, QC\", \"Ottawa, ON\", \"Langley, BC\", \"Toronto, ON\", \"Calgary, AB\", \"Toronto, ON\", \"Montr\\u00e9al, QC\", \"Ottawa, ON\", \"Langley, BC\", \"Toronto, ON\", \"Calgary, AB\", \"Toronto, ON\", \"Vancouver, BC\", \"Toronto, ON\", \"Calgary, AB\", \"Toronto, ON\", \"Toronto, ON\", \"Toronto, ON\", \"Edmonton, AB\", \"Victoria, BC\", \"Mississauga, ON\", \"Burnaby, BC\", \"Calgary, AB\", \"Toronto, ON\", \"Toronto, ON\", \"Toronto, ON\", \"Mississauga, ON\", \"Edmonton, AB\", \"Calgary, AB\", \"Toronto, ON\", \"Toronto, ON\", \"Toronto, ON\", \"Scarborough, ON\", \"Toronto, ON\", \"Winnipeg, MB\", \"Burnaby, BC\", \"Toronto, ON\", \"Toronto, ON\", \"Victoria, BC\", \"Toronto, ON\", \"Mississauga, ON\", \"Edmonton, AB\", \"Calgary, AB\", \"Toronto, ON\", \"Toronto, ON\", \"Toronto, ON\", \"Scarborough, ON\", \"Toronto, ON\", \"Winnipeg, MB\", \"Burnaby, BC\", \"Toronto, ON\", \"Toronto, ON\", \"Victoria, BC\"]}, {\"name\": \"secondary\", \"opacity\": 0.5, \"type\": \"histogram\", \"x\": [\"Oakville, ON\", \"Calgary, AB\", \"Calgary, AB\", \"Saint-Laurent, QC\", \"Victoria, BC\", \"Oakville, ON\", \"Toronto, ON\", \"Montr\\u00e9al, QC\", \"Ontario\", \"Toronto, ON\", \"Ottawa, ON\", \"Toronto, ON\", \"Kelowna, BC\", \"Toronto, ON\", \"Toronto, ON\", \"Halifax, NS\", \"Toronto, ON\", \"Richmond Hill, ON\", \"Mississauga, ON\", \"Winnipeg, MB\", \"Vancouver, BC\", \"Sioux Lookout, ON\", \"Toronto, ON\", \"Kitchener, ON\", \"Toronto, ON\", \"Winnipeg, MB\", \"Montr\\u00e9al, QC\", \"Brampton, ON\", \"Winnipeg, MB\"]}, {\"name\": \"graduate\", \"opacity\": 0.5, \"type\": \"histogram\", \"x\": [\"Longueuil, QC\", \"Vancouver, BC\", \"Montr\\u00e9al, QC\", \"Ottawa, ON\", \"Halifax, NS\", \"Toronto, ON\", \"Toronto, ON\", \"Montr\\u00e9al, QC\", \"Toronto, ON\", \"Toronto, ON\", \"Montr\\u00e9al, QC\", \"Mississauga, ON\", \"Montr\\u00e9al, QC\", \"Toronto, ON\", \"Montr\\u00e9al, QC\", \"Stellarton, NS\", \"Calgary, AB\", \"Calgary, AB\", \"Mississauga, ON\", \"Ottawa, ON\", \"Ottawa, ON\", \"Centretown, ON\", \"Montr\\u00e9al, QC\", \"Sherbrooke, QC\", \"Toronto, ON\", \"Toronto, ON\", \"Montr\\u00e9al, QC\", \"Richmond, BC\", \"Toronto, ON\", \"Toronto, ON\", \"Mississauga, ON\", \"Winnipeg, MB\", \"Toronto, ON\", \"Dartmouth, NS\", \"Ottawa, ON\", \"Surrey, BC\", \"Montr\\u00e9al, QC\", \"Toronto, ON\", \"Vancouver, BC\", \"Vancouver, BC\", \"Kelowna, BC\", \"Toronto, ON\", \"Toronto, ON\", \"Vancouver, BC\", \"Montr\\u00e9al, QC\", \"Waterloo, ON\", \"Vancouver, BC\", \"Toronto, ON\", \"Montr\\u00e9al, QC\", \"Saint-Hubert, QC\", \"Brantford, ON\", \"Toronto, ON\", \"Montr\\u00e9al, QC\", \"Markham, ON\", \"Vancouver, BC\", \"Calgary, AB\", \"Vancouver, BC\", \"Iqaluit, NU\", \"Calgary, AB\", \"Calgary, AB\", \"Regina, SK\", \"Toronto, ON\", \"Vancouver, BC\", \"Calgary, AB\", \"Calgary, AB\", \"Brampton, ON\", \"Sydney, NS\", \"Burnaby, BC\", \"Montr\\u00e9al, QC\", \"Remote\", \"Montr\\u00e9al, QC\", \"Saskatoon, SK\", \"Lakeshore, ON\", \"Canada\", \"Halifax, NS\", \"Halifax, NS\", \"Toronto, ON\", \"Vancouver, BC\", \"Toronto, ON\", \"Toronto, ON\", \"Toronto, ON\", \"Montr\\u00e9al, QC\", \"Calgary, AB\", \"Vancouver, BC\", \"Montr\\u00e9al, QC\", \"Toronto, ON\", \"Toronto, ON\", \"Toronto, ON\", \"Vancouver, BC\", \"Toronto, ON\"]}],\n",
              "                        {\"barmode\": \"overlay\", \"height\": 400, \"template\": {\"data\": {\"bar\": [{\"error_x\": {\"color\": \"#2a3f5f\"}, \"error_y\": {\"color\": \"#2a3f5f\"}, \"marker\": {\"line\": {\"color\": \"#E5ECF6\", \"width\": 0.5}}, \"type\": \"bar\"}], \"barpolar\": [{\"marker\": {\"line\": {\"color\": \"#E5ECF6\", \"width\": 0.5}}, \"type\": \"barpolar\"}], \"carpet\": [{\"aaxis\": {\"endlinecolor\": \"#2a3f5f\", \"gridcolor\": \"white\", \"linecolor\": \"white\", \"minorgridcolor\": \"white\", \"startlinecolor\": \"#2a3f5f\"}, \"baxis\": {\"endlinecolor\": \"#2a3f5f\", \"gridcolor\": \"white\", \"linecolor\": \"white\", \"minorgridcolor\": \"white\", \"startlinecolor\": \"#2a3f5f\"}, \"type\": \"carpet\"}], \"choropleth\": [{\"colorbar\": {\"outlinewidth\": 0, \"ticks\": \"\"}, \"type\": \"choropleth\"}], \"contour\": [{\"colorbar\": {\"outlinewidth\": 0, \"ticks\": \"\"}, \"colorscale\": [[0.0, \"#0d0887\"], [0.1111111111111111, \"#46039f\"], [0.2222222222222222, \"#7201a8\"], [0.3333333333333333, \"#9c179e\"], [0.4444444444444444, \"#bd3786\"], [0.5555555555555556, \"#d8576b\"], [0.6666666666666666, \"#ed7953\"], [0.7777777777777778, \"#fb9f3a\"], [0.8888888888888888, \"#fdca26\"], [1.0, \"#f0f921\"]], \"type\": \"contour\"}], \"contourcarpet\": [{\"colorbar\": {\"outlinewidth\": 0, \"ticks\": \"\"}, \"type\": \"contourcarpet\"}], \"heatmap\": [{\"colorbar\": {\"outlinewidth\": 0, \"ticks\": \"\"}, \"colorscale\": [[0.0, \"#0d0887\"], [0.1111111111111111, \"#46039f\"], [0.2222222222222222, \"#7201a8\"], [0.3333333333333333, \"#9c179e\"], [0.4444444444444444, \"#bd3786\"], [0.5555555555555556, \"#d8576b\"], [0.6666666666666666, \"#ed7953\"], [0.7777777777777778, \"#fb9f3a\"], [0.8888888888888888, \"#fdca26\"], [1.0, \"#f0f921\"]], \"type\": \"heatmap\"}], \"heatmapgl\": [{\"colorbar\": {\"outlinewidth\": 0, \"ticks\": \"\"}, \"colorscale\": [[0.0, \"#0d0887\"], [0.1111111111111111, \"#46039f\"], [0.2222222222222222, \"#7201a8\"], [0.3333333333333333, \"#9c179e\"], [0.4444444444444444, \"#bd3786\"], [0.5555555555555556, \"#d8576b\"], [0.6666666666666666, \"#ed7953\"], [0.7777777777777778, \"#fb9f3a\"], [0.8888888888888888, \"#fdca26\"], [1.0, \"#f0f921\"]], \"type\": \"heatmapgl\"}], \"histogram\": [{\"marker\": {\"colorbar\": {\"outlinewidth\": 0, \"ticks\": \"\"}}, \"type\": \"histogram\"}], \"histogram2d\": [{\"colorbar\": {\"outlinewidth\": 0, \"ticks\": \"\"}, \"colorscale\": [[0.0, \"#0d0887\"], [0.1111111111111111, \"#46039f\"], [0.2222222222222222, \"#7201a8\"], [0.3333333333333333, \"#9c179e\"], [0.4444444444444444, \"#bd3786\"], [0.5555555555555556, \"#d8576b\"], [0.6666666666666666, \"#ed7953\"], [0.7777777777777778, \"#fb9f3a\"], [0.8888888888888888, \"#fdca26\"], [1.0, \"#f0f921\"]], \"type\": \"histogram2d\"}], \"histogram2dcontour\": [{\"colorbar\": {\"outlinewidth\": 0, \"ticks\": \"\"}, \"colorscale\": [[0.0, \"#0d0887\"], [0.1111111111111111, \"#46039f\"], [0.2222222222222222, \"#7201a8\"], [0.3333333333333333, \"#9c179e\"], [0.4444444444444444, \"#bd3786\"], [0.5555555555555556, \"#d8576b\"], [0.6666666666666666, \"#ed7953\"], [0.7777777777777778, \"#fb9f3a\"], [0.8888888888888888, \"#fdca26\"], [1.0, \"#f0f921\"]], \"type\": \"histogram2dcontour\"}], \"mesh3d\": [{\"colorbar\": {\"outlinewidth\": 0, \"ticks\": \"\"}, \"type\": \"mesh3d\"}], \"parcoords\": [{\"line\": {\"colorbar\": {\"outlinewidth\": 0, \"ticks\": \"\"}}, \"type\": \"parcoords\"}], \"pie\": [{\"automargin\": true, \"type\": \"pie\"}], \"scatter\": [{\"marker\": {\"colorbar\": {\"outlinewidth\": 0, \"ticks\": \"\"}}, \"type\": \"scatter\"}], \"scatter3d\": [{\"line\": {\"colorbar\": {\"outlinewidth\": 0, \"ticks\": \"\"}}, \"marker\": {\"colorbar\": {\"outlinewidth\": 0, \"ticks\": \"\"}}, \"type\": \"scatter3d\"}], \"scattercarpet\": [{\"marker\": {\"colorbar\": {\"outlinewidth\": 0, \"ticks\": \"\"}}, \"type\": \"scattercarpet\"}], \"scattergeo\": [{\"marker\": {\"colorbar\": {\"outlinewidth\": 0, \"ticks\": \"\"}}, \"type\": \"scattergeo\"}], \"scattergl\": [{\"marker\": {\"colorbar\": {\"outlinewidth\": 0, \"ticks\": \"\"}}, \"type\": \"scattergl\"}], \"scattermapbox\": [{\"marker\": {\"colorbar\": {\"outlinewidth\": 0, \"ticks\": \"\"}}, \"type\": \"scattermapbox\"}], \"scatterpolar\": [{\"marker\": {\"colorbar\": {\"outlinewidth\": 0, \"ticks\": \"\"}}, \"type\": \"scatterpolar\"}], \"scatterpolargl\": [{\"marker\": {\"colorbar\": {\"outlinewidth\": 0, \"ticks\": \"\"}}, \"type\": \"scatterpolargl\"}], \"scatterternary\": [{\"marker\": {\"colorbar\": {\"outlinewidth\": 0, \"ticks\": \"\"}}, \"type\": \"scatterternary\"}], \"surface\": [{\"colorbar\": {\"outlinewidth\": 0, \"ticks\": \"\"}, \"colorscale\": [[0.0, \"#0d0887\"], [0.1111111111111111, \"#46039f\"], [0.2222222222222222, \"#7201a8\"], [0.3333333333333333, \"#9c179e\"], [0.4444444444444444, \"#bd3786\"], [0.5555555555555556, \"#d8576b\"], [0.6666666666666666, \"#ed7953\"], [0.7777777777777778, \"#fb9f3a\"], [0.8888888888888888, \"#fdca26\"], [1.0, \"#f0f921\"]], \"type\": \"surface\"}], \"table\": [{\"cells\": {\"fill\": {\"color\": \"#EBF0F8\"}, \"line\": {\"color\": \"white\"}}, \"header\": {\"fill\": {\"color\": \"#C8D4E3\"}, \"line\": {\"color\": \"white\"}}, \"type\": \"table\"}]}, \"layout\": {\"annotationdefaults\": {\"arrowcolor\": \"#2a3f5f\", \"arrowhead\": 0, \"arrowwidth\": 1}, \"coloraxis\": {\"colorbar\": {\"outlinewidth\": 0, \"ticks\": \"\"}}, \"colorscale\": {\"diverging\": [[0, \"#8e0152\"], [0.1, \"#c51b7d\"], [0.2, \"#de77ae\"], [0.3, \"#f1b6da\"], [0.4, \"#fde0ef\"], [0.5, \"#f7f7f7\"], [0.6, \"#e6f5d0\"], [0.7, \"#b8e186\"], [0.8, \"#7fbc41\"], [0.9, \"#4d9221\"], [1, \"#276419\"]], \"sequential\": [[0.0, \"#0d0887\"], [0.1111111111111111, \"#46039f\"], [0.2222222222222222, \"#7201a8\"], [0.3333333333333333, \"#9c179e\"], [0.4444444444444444, \"#bd3786\"], [0.5555555555555556, \"#d8576b\"], [0.6666666666666666, \"#ed7953\"], [0.7777777777777778, \"#fb9f3a\"], [0.8888888888888888, \"#fdca26\"], [1.0, \"#f0f921\"]], \"sequentialminus\": [[0.0, \"#0d0887\"], [0.1111111111111111, \"#46039f\"], [0.2222222222222222, \"#7201a8\"], [0.3333333333333333, \"#9c179e\"], [0.4444444444444444, \"#bd3786\"], [0.5555555555555556, \"#d8576b\"], [0.6666666666666666, \"#ed7953\"], [0.7777777777777778, \"#fb9f3a\"], [0.8888888888888888, \"#fdca26\"], [1.0, \"#f0f921\"]]}, \"colorway\": [\"#636efa\", \"#EF553B\", \"#00cc96\", \"#ab63fa\", \"#FFA15A\", \"#19d3f3\", \"#FF6692\", \"#B6E880\", \"#FF97FF\", \"#FECB52\"], \"font\": {\"color\": \"#2a3f5f\"}, \"geo\": {\"bgcolor\": \"white\", \"lakecolor\": \"white\", \"landcolor\": \"#E5ECF6\", \"showlakes\": true, \"showland\": true, \"subunitcolor\": \"white\"}, \"hoverlabel\": {\"align\": \"left\"}, \"hovermode\": \"closest\", \"mapbox\": {\"style\": \"light\"}, \"paper_bgcolor\": \"white\", \"plot_bgcolor\": \"#E5ECF6\", \"polar\": {\"angularaxis\": {\"gridcolor\": \"white\", \"linecolor\": \"white\", \"ticks\": \"\"}, \"bgcolor\": \"#E5ECF6\", \"radialaxis\": {\"gridcolor\": \"white\", \"linecolor\": \"white\", \"ticks\": \"\"}}, \"scene\": {\"xaxis\": {\"backgroundcolor\": \"#E5ECF6\", \"gridcolor\": \"white\", \"gridwidth\": 2, \"linecolor\": \"white\", \"showbackground\": true, \"ticks\": \"\", \"zerolinecolor\": \"white\"}, \"yaxis\": {\"backgroundcolor\": \"#E5ECF6\", \"gridcolor\": \"white\", \"gridwidth\": 2, \"linecolor\": \"white\", \"showbackground\": true, \"ticks\": \"\", \"zerolinecolor\": \"white\"}, \"zaxis\": {\"backgroundcolor\": \"#E5ECF6\", \"gridcolor\": \"white\", \"gridwidth\": 2, \"linecolor\": \"white\", \"showbackground\": true, \"ticks\": \"\", \"zerolinecolor\": \"white\"}}, \"shapedefaults\": {\"line\": {\"color\": \"#2a3f5f\"}}, \"ternary\": {\"aaxis\": {\"gridcolor\": \"white\", \"linecolor\": \"white\", \"ticks\": \"\"}, \"baxis\": {\"gridcolor\": \"white\", \"linecolor\": \"white\", \"ticks\": \"\"}, \"bgcolor\": \"#E5ECF6\", \"caxis\": {\"gridcolor\": \"white\", \"linecolor\": \"white\", \"ticks\": \"\"}}, \"title\": {\"x\": 0.05}, \"xaxis\": {\"automargin\": true, \"gridcolor\": \"white\", \"linecolor\": \"white\", \"ticks\": \"\", \"title\": {\"standoff\": 15}, \"zerolinecolor\": \"white\", \"zerolinewidth\": 2}, \"yaxis\": {\"automargin\": true, \"gridcolor\": \"white\", \"linecolor\": \"white\", \"ticks\": \"\", \"title\": {\"standoff\": 15}, \"zerolinecolor\": \"white\", \"zerolinewidth\": 2}}}, \"title\": {\"text\": \"location\"}, \"width\": 800},\n",
              "                        {\"responsive\": true}\n",
              "                    ).then(function(){\n",
              "                            \n",
              "var gd = document.getElementById('a8c0ab2d-c81a-4acb-8cbd-73fe3823788d');\n",
              "var x = new MutationObserver(function (mutations, observer) {{\n",
              "        var display = window.getComputedStyle(gd).display;\n",
              "        if (!display || display === 'none') {{\n",
              "            console.log([gd, 'removed!']);\n",
              "            Plotly.purge(gd);\n",
              "            observer.disconnect();\n",
              "        }}\n",
              "}});\n",
              "\n",
              "// Listen for the removal of the full notebook cells\n",
              "var notebookContainer = gd.closest('#notebook-container');\n",
              "if (notebookContainer) {{\n",
              "    x.observe(notebookContainer, {childList: true});\n",
              "}}\n",
              "\n",
              "// Listen for the clearing of the current output cell\n",
              "var outputEl = gd.closest('.output');\n",
              "if (outputEl) {{\n",
              "    x.observe(outputEl, {childList: true});\n",
              "}}\n",
              "\n",
              "                        })\n",
              "                };\n",
              "                \n",
              "            </script>\n",
              "        </div>\n",
              "</body>\n",
              "</html>"
            ]
          },
          "metadata": {
            "tags": []
          }
        },
        {
          "output_type": "display_data",
          "data": {
            "text/html": [
              "<html>\n",
              "<head><meta charset=\"utf-8\" /></head>\n",
              "<body>\n",
              "    <div>\n",
              "            <script src=\"https://cdnjs.cloudflare.com/ajax/libs/mathjax/2.7.5/MathJax.js?config=TeX-AMS-MML_SVG\"></script><script type=\"text/javascript\">if (window.MathJax) {MathJax.Hub.Config({SVG: {font: \"STIX-Web\"}});}</script>\n",
              "                <script type=\"text/javascript\">window.PlotlyConfig = {MathJaxConfig: 'local'};</script>\n",
              "        <script src=\"https://cdn.plot.ly/plotly-latest.min.js\"></script>    \n",
              "            <div id=\"4d8b24b6-0fa4-4a92-8d6d-a19640872ec9\" class=\"plotly-graph-div\" style=\"height:400px; width:800px;\"></div>\n",
              "            <script type=\"text/javascript\">\n",
              "                \n",
              "                    window.PLOTLYENV=window.PLOTLYENV || {};\n",
              "                    \n",
              "                if (document.getElementById(\"4d8b24b6-0fa4-4a92-8d6d-a19640872ec9\")) {\n",
              "                    Plotly.newPlot(\n",
              "                        '4d8b24b6-0fa4-4a92-8d6d-a19640872ec9',\n",
              "                        [{\"name\": \"university\", \"opacity\": 0.5, \"type\": \"histogram\", \"x\": [3.0, null, 3.0, null, 3.0, null, 5.0, 1.0, 4.0, 1.0, null, 8.0, null, 4.0, 3.0, 3.0, null, 2.0, 0.0, 2.0, 2.0, null, 1.0, 5.0, null, 5.0, 2.0, 4.0, 3.0, null, 1.0, 2.0, null, null, 3.0, 2.0, 1.0, null, 3.0, 1.0, 2.0, 1.0, 5.0, null, 5.0, 3.0, 3.0, null, 1.0, null, 2.0, null, null, null, 3.0, null, 4.0, 3.0, null, 3.0, 3.0, 3.0, 2.0, 3.0, 3.0, null, 1.0, 5.0, null, 4.0, null, null, null, null, 2.0, 2.0, 5.0, 3.0, null, 2.0, null, 5.0, 4.0, 1.0, null, 3.0, null, 2.0, 3.0, 4.0, 10.0, null, 3.0, 2.0, 2.0, 2.0, 3.0, 0.0, 3.0, null, 3.0, 7.0, null, 2.0, 5.0, 3.0, null, 2.0, 8.0, null, 2.0, 2.0, 0.0, 4.0, 2.0, 3.0, 2.0, null, null, 5.0, 3.0, 2.0, 7.0, 4.0, 1.0, 2.0, 10.0, 5.0, null, 3.0, null, 5.0, null, 2.0, 2.0, 5.0, null, 2.0, null, null, null, 3.0, 3.0, 5.0, 0.0, 2.0, 3.0, 10.0, 2.0, 3.0, 4.0, 5.0, 3.0, 1.0, 3.0, null, null, 5.0, 1.0, 8.0, 3.0, 2.0, 7.0, 2.0, 5.0, null, 1.0, 2.0, 4.0, 10.0, null, null, null, 2.0, 5.0, 4.0, 3.0, 3.0, null, 1.0, 3.0, 2.0, 2.0, 1.0, 1.0, 2.0, 4.0, null, 4.0, 4.0, null, 3.0, 2.0, 2.0, 3.0, 1.0, 3.0, 3.0, null, null, 3.0, 2.0, 1.0, 1.0, 1.0, null, 2.0, 3.0, 1.0, 3.0, 3.0, 3.0, 3.0, 3.0, null, null, null, null, 1.0, 4.0, null, 1.0, 5.0, null, 5.0, 5.0, null, 1.0, null, null, 3.0, 2.0, null, null, null, 3.0, 1.0, 1.0, 0.0, 5.0, null, 8.0, 2.0, 2.0, 5.0, 3.0, null, 5.0, 5.0, 5.0, 3.0, 2.0, 2.0, null, 3.0, 3.0, 3.0, 1.0, null, null, 1.0, 1.0, 2.0, 5.0, 3.0, 3.0, 3.0, 1.0]}, {\"name\": \"undefine\", \"opacity\": 0.5, \"type\": \"histogram\", \"x\": [null, 2.0, null, null, null, null, 5.0, 3.0, 1.0, null, null, null, 3.0, 2.0, 5.0, 5.0, 3.0, 1.0, null, 3.0, null, null, null, 1.0, null, 3.0, 2.0, 5.0, null, 3.0, null, null, 12.0, 4.0, null, 3.0, 2.0, null, null, 1.0, null, 1.0, null, 4.0, null, 2.0, 2.0, 2.0, null, null, null, null, null, null, null, null, null, null, 3.0, null, null, null, null, 1.0, null, null, null, null, null, null, null, null, null, 2.0, null, 3.0, null, null, null, null, null, null, 3.0, null, null, null, null, null, 3.0, 3.0, 1.0, null, null, null, null, null, null, null, null, 5.0, null, 5.0, 1.0, null, null, 2.0, 3.0, null, 1.0, null, 1.0, null, null, 10.0, null, null, null, null, 7.0, null, null, 10.0, 5.0, null, null, 4.0, null, null, 1.0, 1.0, null, null, 2.0, 3.0, 1.0, null, 5.0, null, null, null, null, null, null, 1.0, null, 2.0, null, 2.0, 3.0, 5.0, null, null, 8.0, null, null, null, null, null, 3.0, null, null, null, null, 10.0, 2.0, null, 4.0, null, null, null, 1.0, null, null, null, 5.0, 3.0, 3.0, null, 5.0, 3.0, null, 2.0, 2.0, null, 5.0, 3.0, null, null, null, null, 1.0, null, 2.0, 3.0, 2.0, 3.0, null, null, 2.0, null, null, null, 4.0, 2.0, 4.0, null, null, null, null, null, null, null, null, null, null, null, 2.0, null, null, null, null, null, null, null, null, null, null, null, null, null, null, null, null, null, 3.0, null, 5.0, null, null, null, 5.0, null, null, null, null, null, null, null, null, null, null, null, null, null, null, null, null, null, null, null, null, null, null, null, null, null, null, null, null, null, null, null, null, null, null, null, null, null, null, null, null, null, null, null, null, null, null, null, null, null, null, null, null, null, null, null, null, null, null, null, null, null, null, null, null, null, null, null, null, null, null, null, null, null, null, null, null, null, null, null, null, null, null, null, null, null, null, null, null, null, null, null, null, null, null, null, null, null, null, null, null, null, null, null, null, null, null, null, null, null, null, null, null, null, null, null, null, null, null, null, null, null, null, null, null, null, null, null, null, null, null, null, null, null, null, null, null, null, null, null, null, null, null, null, null, null, null, null, null, null, null, null, null, null, null, null, null, null, null, null, null, null, null, null, null, null, null, null, null, null, null, null, null, 2.0, 3.0, null, null, null, null, null, null, null, null, null, null, null, null, null, null, null, null, null, 2.0, null, null, null, null, null, null, null, null, null, 4.0, 6.0, null, null, null, null, null, null, null, null, null, null, null, null, null, null, null, null, null, null, null, null, null, null, null, null, null, null, null, null, 5.0, null, null, 2.0, null, null, null, null, null, null, null, null, null, null, null, null, null, null, null, null, null, null, null, null, null, null, null, null, null, null, null, null, null, null, null, null, null, null, null, null, null, null, null, null, null, null, null, null, null, null, null, null, null, null, null, null, null, null, null, null, null, null, null, null, null, null, null, null, null, null, null, null, null, null, null, null, null, null, null, null, null, null, null, null, null, null, null, null, null, null, null, null, null, null, null, null, null, null, null, null, null, null, null, null, null, null, null, null, null, null, null, null, null, null, null, null, null, null, null, null, null, null, null, null, null, null, null, null, null, null, null, null, null, null, null, null, null, null, null, null, null, null, null, null, null, null, null, null, null, null, null, null, null, null, null, null, null, null, null, null, 1.0, null, null, null, null, null, null, null, null, null, null, null, null, null, null, null, null, null, null, null, null, null, null, null, null, null, null, null, null, null, null, null, null, null, null, null, null, null, null, null, null, null, null, null, null, null, null, null, null, null, null, null, null, null, null, null, null, null, null, null, null, null, null, null, null, null, null, null, null, null, null, null, null, null, null, null, null, null, null, null, null, null, null, null, null, null, null, null, null, null, null, null, null, null, null, null, null, null, null, null, null, null, null, null, null, null, null, null, null, null, null, null, null, null, null, null, null, null, null, null, null, null, null, null, null, null, null, null, null, null, null, null, null, null, null, null, null, null, null, null, null, null, null, null, null, null, null, null, null, 2.0, null, null, null, null, null, null, null, null, null, null, null, null, null, null, null, null, null, null, null, null, null, null, null, null, null, null, null, null, null, null, null, null, null, null, null, null, null, null, null, null, null, null, null, null, null, null, null, null, null, null, null, null, null, null, null, null, null, null, null, null, null, null, null, null, null, null, null, null, null, null, null, null, null, null, null, null, null, null, null, null, null, null, null, null, null, null, null, null, null, null, null, null, null, null, null, null, null, null, null, null, null, null, null, null, null, null, null, null, null, null, null, null, null, null, null, null, null, null, null, null, null, null, null, null, null, null, null, null, null, null, null, null, null, null, null, null, null, null, null, null, null, null, null, null, null, null, null, null, null, null, null, null, null, null, null, null, null, null, null, null, null, null, null, null, null, null, null, null, null, null, null, null, null, null, null, null, null, null, null, null, null, null, null, null, null, null, null, null, null, null, null, null, null, null, null, null, null, null, null, null, null, null, null, null, null, null, null, null, null, null, null, null, null, null, null, null, null, null, null, null, null, null, null, null, null, null, null, null, null, null, null, null, null, null, null, null, null, null, null, null, null, null, null, null, null, null, null, null, null, null, null, null, null, null, null, null, null, null, null, null, null, null, null, null, null, null, null, null, null, null, null, null, null, null, null, null, null, null, null, null, null, null, null, null, null, null, null, null, null, null, null, null, null, null, null, null, null, null, null, null, null, null, null, null, null, null, null, null, null, null, null, null, null, null, null, null, null, null, null, null, null, null, null, null, null, null, null, null, null, null, null, null, null, null, null, null, null, null, null, null, null, null, null, null, null, null, null, null, null, null, null, null, null, null, null, null, null, null, null, null, null, null, null, null, null, null, null, null, null, null, null, null, null, null, null, null, null, null, null, null, null, null, null, null, null, null, null, null, null, null, null, null, null, null, null, null, null, null, null, null, null, null, null, null, null, null, null, null, null, null, null, null, null, null, null, null, null, null, null, null, null, null, null, null, null, null, null, null, null, null, null, null, null, null, null, null, null, null, null, null, null, null, null, null, null, null, null, null, null, null, null, null, null, null, null, null, null, null, null, null, null, null, null, null, null, null, null, null, null, null, null, null, null, null, null, null, null, null, null, null, null, null, null, null, null, null, null, null, null, null, null, null, null, null, null, null, null, null, 1.0, 3.0, null, null, 3.0, null, null, null, null, 1.0, null, 2.0, null, null, 1.0, null, null, null, null, null, null, null, null, null, null, null, null, null, null, null, null, 2.0, 5.0, null, null, null, null, null, null, null, null, null, null, null, null, null, null, null, 2.0, null, null, null, null, null, null, 5.0, 2.0, null, null, 5.0, null, 1.0, null, null, null, null, 10.0, null, null, 3.0, null, null, null, null, null, null, null, null, null, 5.0, 5.0, null, 3.0, null, null, 3.0, 3.0, null, 5.0, null, 1.0, null, null, null, null, null, 1.0, null, 4.0, null, null, 5.0, 5.0, null, null, null, null, 2.0, 2.0, null, 2.0, null, 3.0, null, null, 1.0, null, 3.0, null, 1.0, null, 3.0, null, 3.0, null, null, null, 2.0, 3.0, null, null, null, null, null, null, null, null, 3.0, null, 1.0, null, null, null, 3.0, null, null, null, 5.0, null, 3.0, null, null, null, null, null, null, null, null, null, null, null, null, null, null, null, null, null, null, null, null, null, null, null, null, null, null, null, null, null, null, null, null, null, null, null, null, null, null, null, null, null, null, null, null, null, null, null, null, null, null, null, null, null, null, null, null, null, null, null, null, null, null, null, null, null, null, null, null, null, null, null, null, null, null, null, null, null, null, null, null, null, null, null, null, null, null, null, null, null, null, null, null, null, null, null, null, null, null, null, null, null, null, null, null, null, null, null, null, null, null, null, null, null, null, null, null, null, null, null, null, null, null, null, null, null, null, null, null, null, null, null, null, null, null, null, null, null, null, null, null, null, null, null, null, null, null, null, null, null, null, null, null, null, null, null, null, null, null, null, null, null, null, null, null, null, null, null, null, null, null, null, null, null, null, null, null, null, null, null, null, null, null, null, null, null, null, null, null, null, null, null, null, null, null, null, null, null, null, null, null, null, null, null, null, null, null, null, null, null, null, null, null, null, null, null, null, null, null, null, null, null, null, null, null, null, null, null, null, null, null, null, null, null, null, null, null, null, null, null, null, null, null, null, null, null, null, null, null, null, null, null, null, null, null, null, null, null, null, null, null, null, null, null, null, null, null, null, null, null, null, null, null, null, null, null, null, null, null, null, null, null, null, null, null, null, null, null, null, null, null, null, null, null, null, null, null, null, null, null, null, null, null, null, null, null, null, null, null, null, null, null, null, null, null, null, null, null, null, null, null, null, null, null, null, null, null, null, null, null, null, null, null, null, null, null, null, null, 5.0, null, null, null, null, null, null, null, null, null, null, null, null, null, null, null, null, null, null, null, null, null, null, null, null, null, null, null, null, null, null, null, null, null, null, null, null, null, null, null, null, null, null, null, null, null, null, null, null, null, null, null, null, null, null, null, null, null, null, null, null, null, null, null, null, null, null, null, null, null, null, null, null, null, null, null, null, null, null, null, null, null, null, null, null, null, null, null, null, null, null, null, null, null, null, null, null, null, null, null, null, null, null, null, null, null, null, null, null, null, null, null, null, null, null, null, null, null, null, null, null, null, null, null, null, null, null, null, null, null, null, null, null, null, null, null, null, null, null, null, null, null, null, null, null, null, null, null, null, null, null, null, null, null, null, null, null, null, null, null, null, null, null, null, null, null, null, null, null, null, null, null, null, null, null, null, null, null, null, null, null, null, null, null, null, null, null, null, null, null, null, null, null, null, null, null, null, null, null, null, null, null, null, null, null, null, null, null, null, null, null, null, null, null, null, null, null, null, null, null, null, null, null, null, null, null, null, null, null, null, null, null, null, null, null, null, null, null, null, null, null, null, null, null, null, null, null, null, null, null, null, null, null, null, null, null, null, null, null, null, null, null, null, null, null, null, null, null, null, null, null, null, null, null, null, null, null, null, null, null, null, null, null, null, null, null, null, null, null, null, null, null, null, null, null, null, null, null, null, null, null, null, null, null, null, null, null, null, null, null, null, null, null, null, null, null, null, null, null, null, null, null, null, null, null, null, null, null, null, null, null, null, null, null, null, null, null, null, null, null, null, null, null, null, null, null, null, null, null, null, null, null, null, null, null, null, null, null, null, null, null, null, null, null, null, null, null, null, null, null, null, null, null, null, null, null, null, null, null, null, null, null, null, null, null, null, null, null, null, null, null, null, null, null, null, null, null, null, null, null, null, null, null, null, null, null, null, null, null, null, null, null, null, null, null, null, null, null, null, null, null, null, null, null, 3.0, null, null, null, null, null, null, null, null, null, null, null, null, null, null, null, null, null, null, null, null, null, null, null, null, null, null, null, null, null, null, null, null, null, null, 10.0, null, null, null, 3.0, 3.0, 3.0, null, null, null, null, null, null, null, null, null, null, null, null, null, null, null, null, null, null, null, null, null, null, null, null, null, null, null, null, null, null, null, null, null, null, null, null, null, null, null, null, null, null, null, null, null, null, null, null, null, null, null, null, null, null, null, null, null, null, null, null, null, null, null, null, null, null, null, null, null, null, null, null, null, null, null, null, null, null, null, null, null, null, null, null, null, null, null, null, null, null, null, null, null, null, null, null, null, null, null, null, null, null, null, null, null, null, null, null, null, null, null, null, null, null, null, null, null, null, null, null, null, null, null, null, null, null, null, null, null, null, null, null, null, null, null, null, null, null, null, null, null, null, null, null, null, null, null, null, null, null, null, null, null, null, null, null, null, null, null, null, null, null, null, null, null, null, null, null, null, null, null, null, null, null, null, null, null, null, null, null, null, null, null, null, null, null, null, null, null, null, null, null, null, null, null, null, null, null, null, null, null, null, null, null, null, null, null, null, null, null, null, null, null, null, null, null, null, null, null, null, null, null, null, null, null, null, null, null, null, null, null, null, null, null, null, null, null, null, null, null, null, null, null, null, null, null, null, null, null, null, null, null, null, null, null, null, null, null, null, null, null, null, null, null, null, null, null, null, null, null, null, null, null, null, null, null, null, null, null, null, null, null, null, null, null, null, null, null, null, null, null, null, null, null, null, null, null, null, null, null, null, null, null, null, null, null, null, null, null, null, null, null, null, null, null, null, null, null, null, null, null, null, null, null, null, null, null, null, null, null, null, null, null, null, null, null, null, null, null, null, null, null, null, null, null, null, null, null, null, null, null, null, null, null, null, null, null, null, null, null, null, null, null, null, null, null, null, null, null, null, null, null, null, null, null, null, null, null, null, null, null, null, null, null, null, null, null, null, null, null, null, null, null, null, null, null, null, null, null, null, null, null, null, null, null, null, null, null, null, null, null, null, null, null, null, null, null, null, null, null, null, null, null, null, null, null, null, null, null, null, null, null, null, null, null, null, null, null, null, null, null, null, null, null, null, null, null, null, null, null, null, null, null, null, null, null, null, null, null, null, null, null, null, null, null, null, null, null, null, null, null, null, null, null, null, null, null, null, null, null, null, null, null, null, null, null, null, null, null, null, null, null, null, null, null, null, null, null, null, null, null, null, null, null, null, null, null, null, null, null, null, null, null, null, null, null, null, null, null, null, null, null, null, null, null, null, null, null, null, null, null, null, null, null, null, null, null, null, null, null, null, null, null, null, null, null, null, null, null, null, null, null, null, null, null, null, null, null, null, null, null, null, null, null, null, null, null, null, null, null, null, null, null, null, null, null, null, null, null, null, null, null, null, null, null, null, null, null, null, null, null, null, null, null, null, null, null, null, null, null, null, null, null, null, null, null, null, null, null, null, null, null, null, null, null, null, null, null, null, null, null, null, null, null, null, null, null, null, null, null, null, null, null, null, null, null, null, null, null, null, null, null, null, null, null, null, null, null, null, null, null, null, null, null, null, null, null, null, null, null, null, null, null, null, null, null, null, null, null, null, null, null, null, null, null, null, null, null, null, null, null, null, null, null, null, null, null, null, null, null, null, null, null, null, null, null, null, null, null, null, null, null, null, null, null, null, null, null, null, null, null, null, null, null, null, null, null, null, null, null, null, null, null, null, null, null, null, null, null, null, null, null, null, null, null, null, null, null, null, null, null, null, null, null, null, null, null, null, null, null, null, null, null, null, null, null, null, null, null, null, null, null, null, null, null, null, null, null, null, null, null, null, null, null, null, null, null, null, null, null, null, null, null, null, null, null, null, null, null, null, null, null, null, null, null, null, null, null, null, null, null, null, null, null, null, null, null, null, null, null, null, null, null, null, null, null, null, null, null, null, null, null, null, null, null, null, null, null, null, null, null, null, null, null, null, null, null, null, null, null, null, null, null, null, null, null, null, null, null, null, null, null, null, null, null, null, null, null, null, null, null, null, null, null, null, null, null, null, null, null, null, null, null, null, null, null, null, null, null, null, null, null, null, null, null, null, null, null, null, null, null, null, null, null, null, null, null, null, null, null, null, null, null, null, null, null, null, null, null, null, null, null, null, null, null, null, null, null, null, null, null, null, null, null, null, null, null, null, null, null, null, null, null, null, null, null, null, null, null, null, null, null, null, null, null, null, null, null, null, null, null, null, null, null, null, null, null, null, null, null, null, null, null, null, null, null, null, null, null, null, null, null, null, null, null, null, null, null, null, null, null, null, null, null, null, null, null, null, null, null, null, null, null, null, null, null, null, null, null, null, null, null, null, null, null, null, null, null, null, null, null, null, null, null, null, null, null, null, null, null, null, null, null, null, null, null, null, null, null, null, null, null, null, null, null, null, null, null, null, null, null, null, null, null, null, null, null, null, null, null, null, null, null, null, null, null, null, null, null, null, null, null, null, null, null, null, null, null, null, null, null, null, null, null, null, null, null, null, null, null, null, null, null, null, null, null, null, null, null, null, null, null, null, null, null, null, null, null, null, null, null, null, null, null, null, null, null, null, null, null, null, null, null, null, null, null, null, null, null, null, null, null, null, null, null, null, null, null, null, null, null, null, null, null, null, null, null, null, null, null, null, null, null, null, null, null, null, null, null, null, null, null, null, null, null, null, null, null, null, null, null, null, null, null, null, null, null, null, null, null, null, null, null, null, null, null, null, null, null, null, null, null, null, null, null, null, null, null, null, null, null, null, null, null, null, null, null, null, null, null, null, null, null, null, null, null, null, null, null, null, null, null, null, null, null, null, null, null, null, null, null, null, null, null, null, null, null, null, null, null, null, null, null, null, null, null, null, null, null, null, null, null, null, null, null, null, null, null, null, null, null, null, null, null, null, null, null, null, null, null, null, null, null, null, null, null, null, null, null, null, null, null, null, null, null, null, null, null, null, null, null, null, null, null, null, null, null, null, null, null, null, null, null, null, null, null, null, null, null, null, null, null, null, null, null, null, null, null, null, null, null, null, null, null, null, null, null, null, null, null, null, null, null, null, null, null, null, null, null, null, null, null, null, null, null, null, null, null, null, null, null, null, null, null, null, null, null, null, null, null, null, null, null, null, null, null, null, null, null, null, null, null, null, null, null, null, null, null, null, null, null, null, null, null, null, null, null, null, null, null, null, null, null, null, null, null, null, null, null, null, null, null, null, null, null, null, null, null, null, null, null, null, null, null, null, null, null, null, null, null, null, null, null, null, null, null, null, null, null, null, null, null, null, null, null, null, null, null, null, null, null, null, null, null, null, null, null, null, null, null, null, null, null, null, null, null, null, null, null, null, null, null, null, null, null, null, null, null, null, null, null, null, null, null, null, null, null, null, null, null, null, null, null, null, null, null, null, null, null, null, null, null, null, null, null, null, null, null, null, null, null, null, null, null, null, null, null, null, null, null, null, null, null, null, null, null, null, null, null, null, null, null, null, null, null, null, null, null, null, null, null, null, null, null, null, null, null, null, null, null, null, null, null, null, null, null, null, null, null, null, null, null, null, null, null, null, null, null, null, null, null, null, null, null, null, null, null, null, null, null, null, null, null, null, null, null, null, null, null, null, null, null, null, null, null, null, null, null, null, null, null, null, null, null, null, null, null, null, null, null, null, null, null, null, null, null, null, null, null, null, null, null, 5.0, null, null, null, null, null, null, null, null, null, null, null, null, null, null, null, null, null, null, null, null, null, null, null, null, null, null, null, null, null, null, null, null, null, null, null, null, null, null, null, null, null, null, null, null, null, null, null, null, null, null, null, null, null, null, null, null, null, null, null, null, null, null, null, null, null, null, null, null, null, null, null, null, null, null, null, null, null, null, null, null, null, null, null, null, null, null, null, null, null, null, null, null, null, null, null, null, null, null, null, null, null, null, null, null, null, null, null, null, null, null, null, null, null, null, null, null, null, null, null, null, null, null, null, null, 3.0, null, 5.0, null, null, null, null, null, null, null, null, null, null, null, null, null, null, null, null, null, null, null, null, null, null, null, null, null, null, null, null, null, null, null, null, null, null, null, null, null, null, null, null, null, null, null, null, null, null, null, null, null, null, null, null, null, null, null, null, null, null, null, null, null, null, null, null, null, null, null, null, null, null, null, null, null, null, null, null, null, null, null, null, null, null, null, null, null, null, null, null, null, null, null, null, null, null, null, null, null, null, null, null, null, null, null, null, null, null, null, null, null, null, null, null, null, null, null, null, null, null, null, null, null, null, null, null, null, null, null, null, null, null, null, null, null, null, null, null, null, null, null, null, null, null, null, null, null, null, null, null, null, null, null, null, null, null, null, null, null, null, null, null, null, null, null, null, null, null, null, null, null, null, null, null, null, null, null, null, null, null, null, null, null, null, null, null, null, null, null, null, null, null, null, null, null, null, null, null, null, null, null, null, null, null, null, null, null, null, null, null, null, null, null, null, null, null, null, null, null, null, null, null, null, null, null, null, null, null, null, null, null, null, null, null, null, null, null, null, null, null, null, null, null, null, null, null, null, null, null, null, null, null, null, null, null, null, null, null, null, null, null, null, null, null, null, null, null, null, null, null, null, null, null, null, null, null, null, null, null, null, null, null, null, null, null, null, null, null, null, null, null, null, null, null, null, null, null, null, null, null, null, null, null, null, null, null, null, null, null, null, null, null, null, null, null, null, null, null, null, null, null, null, null, null, null, null, null, null, null, null, null, null, null, null, null, null, null, null, null, null, null, null, null, null, null, null, null, null, null, null, null, null, null, null, null, null, null, null, null, null, null, null, null, null, null, null, null, null, null, null, null, null, null, null, null, null, null, null, null, null, null, null, null, null, null, null, null, null, null, null, null, null, null, null, null, null, null, null, null, null, null, null, null, null, null, null, null, null]}, {\"name\": \"secondary\", \"opacity\": 0.5, \"type\": \"histogram\", \"x\": [3.0, 5.0, 5.0, 2.0, 2.0, 5.0, null, 0.0, 3.0, 2.0, 2.0, 1.0, 2.0, 1.0, 2.0, 5.0, 3.0, 6.0, 5.0, 3.0, 1.0, null, 2.0, 1.0, 3.0, 3.0, 2.0, 1.0, 5.0]}, {\"name\": \"graduate\", \"opacity\": 0.5, \"type\": \"histogram\", \"x\": [null, 5.0, 3.0, null, null, null, null, 2.0, 2.0, 5.0, null, 1.0, null, 1.0, null, 2.0, null, 1.0, null, 2.0, 3.0, 2.0, null, null, null, 5.0, 3.0, null, 2.0, 3.0, null, 2.0, 5.0, null, 3.0, 5.0, 2.0, 5.0, 5.0, 5.0, 2.0, 5.0, 5.0, 5.0, 5.0, 5.0, 8.0, 1.0, 1.0, 3.0, 3.0, 2.0, 2.0, 3.0, 3.0, 5.0, 1.0, 1.0, 2.0, 0.0, null, null, 6.0, 3.0, 0.0, null, 5.0, null, 3.0, 3.0, 0.0, 2.0, 3.0, 2.0, null, null, null, 3.0, 2.0, null, 4.0, null, 5.0, 10.0, null, 1.0, null, 12.0, 1.0, 2.0]}],\n",
              "                        {\"barmode\": \"overlay\", \"height\": 400, \"template\": {\"data\": {\"bar\": [{\"error_x\": {\"color\": \"#2a3f5f\"}, \"error_y\": {\"color\": \"#2a3f5f\"}, \"marker\": {\"line\": {\"color\": \"#E5ECF6\", \"width\": 0.5}}, \"type\": \"bar\"}], \"barpolar\": [{\"marker\": {\"line\": {\"color\": \"#E5ECF6\", \"width\": 0.5}}, \"type\": \"barpolar\"}], \"carpet\": [{\"aaxis\": {\"endlinecolor\": \"#2a3f5f\", \"gridcolor\": \"white\", \"linecolor\": \"white\", \"minorgridcolor\": \"white\", \"startlinecolor\": \"#2a3f5f\"}, \"baxis\": {\"endlinecolor\": \"#2a3f5f\", \"gridcolor\": \"white\", \"linecolor\": \"white\", \"minorgridcolor\": \"white\", \"startlinecolor\": \"#2a3f5f\"}, \"type\": \"carpet\"}], \"choropleth\": [{\"colorbar\": {\"outlinewidth\": 0, \"ticks\": \"\"}, \"type\": \"choropleth\"}], \"contour\": [{\"colorbar\": {\"outlinewidth\": 0, \"ticks\": \"\"}, \"colorscale\": [[0.0, \"#0d0887\"], [0.1111111111111111, \"#46039f\"], [0.2222222222222222, \"#7201a8\"], [0.3333333333333333, \"#9c179e\"], [0.4444444444444444, \"#bd3786\"], [0.5555555555555556, \"#d8576b\"], [0.6666666666666666, \"#ed7953\"], [0.7777777777777778, \"#fb9f3a\"], [0.8888888888888888, \"#fdca26\"], [1.0, \"#f0f921\"]], \"type\": \"contour\"}], \"contourcarpet\": [{\"colorbar\": {\"outlinewidth\": 0, \"ticks\": \"\"}, \"type\": \"contourcarpet\"}], \"heatmap\": [{\"colorbar\": {\"outlinewidth\": 0, \"ticks\": \"\"}, \"colorscale\": [[0.0, \"#0d0887\"], [0.1111111111111111, \"#46039f\"], [0.2222222222222222, \"#7201a8\"], [0.3333333333333333, \"#9c179e\"], [0.4444444444444444, \"#bd3786\"], [0.5555555555555556, \"#d8576b\"], [0.6666666666666666, \"#ed7953\"], [0.7777777777777778, \"#fb9f3a\"], [0.8888888888888888, \"#fdca26\"], [1.0, \"#f0f921\"]], \"type\": \"heatmap\"}], \"heatmapgl\": [{\"colorbar\": {\"outlinewidth\": 0, \"ticks\": \"\"}, \"colorscale\": [[0.0, \"#0d0887\"], [0.1111111111111111, \"#46039f\"], [0.2222222222222222, \"#7201a8\"], [0.3333333333333333, \"#9c179e\"], [0.4444444444444444, \"#bd3786\"], [0.5555555555555556, \"#d8576b\"], [0.6666666666666666, \"#ed7953\"], [0.7777777777777778, \"#fb9f3a\"], [0.8888888888888888, \"#fdca26\"], [1.0, \"#f0f921\"]], \"type\": \"heatmapgl\"}], \"histogram\": [{\"marker\": {\"colorbar\": {\"outlinewidth\": 0, \"ticks\": \"\"}}, \"type\": \"histogram\"}], \"histogram2d\": [{\"colorbar\": {\"outlinewidth\": 0, \"ticks\": \"\"}, \"colorscale\": [[0.0, \"#0d0887\"], [0.1111111111111111, \"#46039f\"], [0.2222222222222222, \"#7201a8\"], [0.3333333333333333, \"#9c179e\"], [0.4444444444444444, \"#bd3786\"], [0.5555555555555556, \"#d8576b\"], [0.6666666666666666, \"#ed7953\"], [0.7777777777777778, \"#fb9f3a\"], [0.8888888888888888, \"#fdca26\"], [1.0, \"#f0f921\"]], \"type\": \"histogram2d\"}], \"histogram2dcontour\": [{\"colorbar\": {\"outlinewidth\": 0, \"ticks\": \"\"}, \"colorscale\": [[0.0, \"#0d0887\"], [0.1111111111111111, \"#46039f\"], [0.2222222222222222, \"#7201a8\"], [0.3333333333333333, \"#9c179e\"], [0.4444444444444444, \"#bd3786\"], [0.5555555555555556, \"#d8576b\"], [0.6666666666666666, \"#ed7953\"], [0.7777777777777778, \"#fb9f3a\"], [0.8888888888888888, \"#fdca26\"], [1.0, \"#f0f921\"]], \"type\": \"histogram2dcontour\"}], \"mesh3d\": [{\"colorbar\": {\"outlinewidth\": 0, \"ticks\": \"\"}, \"type\": \"mesh3d\"}], \"parcoords\": [{\"line\": {\"colorbar\": {\"outlinewidth\": 0, \"ticks\": \"\"}}, \"type\": \"parcoords\"}], \"pie\": [{\"automargin\": true, \"type\": \"pie\"}], \"scatter\": [{\"marker\": {\"colorbar\": {\"outlinewidth\": 0, \"ticks\": \"\"}}, \"type\": \"scatter\"}], \"scatter3d\": [{\"line\": {\"colorbar\": {\"outlinewidth\": 0, \"ticks\": \"\"}}, \"marker\": {\"colorbar\": {\"outlinewidth\": 0, \"ticks\": \"\"}}, \"type\": \"scatter3d\"}], \"scattercarpet\": [{\"marker\": {\"colorbar\": {\"outlinewidth\": 0, \"ticks\": \"\"}}, \"type\": \"scattercarpet\"}], \"scattergeo\": [{\"marker\": {\"colorbar\": {\"outlinewidth\": 0, \"ticks\": \"\"}}, \"type\": \"scattergeo\"}], \"scattergl\": [{\"marker\": {\"colorbar\": {\"outlinewidth\": 0, \"ticks\": \"\"}}, \"type\": \"scattergl\"}], \"scattermapbox\": [{\"marker\": {\"colorbar\": {\"outlinewidth\": 0, \"ticks\": \"\"}}, \"type\": \"scattermapbox\"}], \"scatterpolar\": [{\"marker\": {\"colorbar\": {\"outlinewidth\": 0, \"ticks\": \"\"}}, \"type\": \"scatterpolar\"}], \"scatterpolargl\": [{\"marker\": {\"colorbar\": {\"outlinewidth\": 0, \"ticks\": \"\"}}, \"type\": \"scatterpolargl\"}], \"scatterternary\": [{\"marker\": {\"colorbar\": {\"outlinewidth\": 0, \"ticks\": \"\"}}, \"type\": \"scatterternary\"}], \"surface\": [{\"colorbar\": {\"outlinewidth\": 0, \"ticks\": \"\"}, \"colorscale\": [[0.0, \"#0d0887\"], [0.1111111111111111, \"#46039f\"], [0.2222222222222222, \"#7201a8\"], [0.3333333333333333, \"#9c179e\"], [0.4444444444444444, \"#bd3786\"], [0.5555555555555556, \"#d8576b\"], [0.6666666666666666, \"#ed7953\"], [0.7777777777777778, \"#fb9f3a\"], [0.8888888888888888, \"#fdca26\"], [1.0, \"#f0f921\"]], \"type\": \"surface\"}], \"table\": [{\"cells\": {\"fill\": {\"color\": \"#EBF0F8\"}, \"line\": {\"color\": \"white\"}}, \"header\": {\"fill\": {\"color\": \"#C8D4E3\"}, \"line\": {\"color\": \"white\"}}, \"type\": \"table\"}]}, \"layout\": {\"annotationdefaults\": {\"arrowcolor\": \"#2a3f5f\", \"arrowhead\": 0, \"arrowwidth\": 1}, \"coloraxis\": {\"colorbar\": {\"outlinewidth\": 0, \"ticks\": \"\"}}, \"colorscale\": {\"diverging\": [[0, \"#8e0152\"], [0.1, \"#c51b7d\"], [0.2, \"#de77ae\"], [0.3, \"#f1b6da\"], [0.4, \"#fde0ef\"], [0.5, \"#f7f7f7\"], [0.6, \"#e6f5d0\"], [0.7, \"#b8e186\"], [0.8, \"#7fbc41\"], [0.9, \"#4d9221\"], [1, \"#276419\"]], \"sequential\": [[0.0, \"#0d0887\"], [0.1111111111111111, \"#46039f\"], [0.2222222222222222, \"#7201a8\"], [0.3333333333333333, \"#9c179e\"], [0.4444444444444444, \"#bd3786\"], [0.5555555555555556, \"#d8576b\"], [0.6666666666666666, \"#ed7953\"], [0.7777777777777778, \"#fb9f3a\"], [0.8888888888888888, \"#fdca26\"], [1.0, \"#f0f921\"]], \"sequentialminus\": [[0.0, \"#0d0887\"], [0.1111111111111111, \"#46039f\"], [0.2222222222222222, \"#7201a8\"], [0.3333333333333333, \"#9c179e\"], [0.4444444444444444, \"#bd3786\"], [0.5555555555555556, \"#d8576b\"], [0.6666666666666666, \"#ed7953\"], [0.7777777777777778, \"#fb9f3a\"], [0.8888888888888888, \"#fdca26\"], [1.0, \"#f0f921\"]]}, \"colorway\": [\"#636efa\", \"#EF553B\", \"#00cc96\", \"#ab63fa\", \"#FFA15A\", \"#19d3f3\", \"#FF6692\", \"#B6E880\", \"#FF97FF\", \"#FECB52\"], \"font\": {\"color\": \"#2a3f5f\"}, \"geo\": {\"bgcolor\": \"white\", \"lakecolor\": \"white\", \"landcolor\": \"#E5ECF6\", \"showlakes\": true, \"showland\": true, \"subunitcolor\": \"white\"}, \"hoverlabel\": {\"align\": \"left\"}, \"hovermode\": \"closest\", \"mapbox\": {\"style\": \"light\"}, \"paper_bgcolor\": \"white\", \"plot_bgcolor\": \"#E5ECF6\", \"polar\": {\"angularaxis\": {\"gridcolor\": \"white\", \"linecolor\": \"white\", \"ticks\": \"\"}, \"bgcolor\": \"#E5ECF6\", \"radialaxis\": {\"gridcolor\": \"white\", \"linecolor\": \"white\", \"ticks\": \"\"}}, \"scene\": {\"xaxis\": {\"backgroundcolor\": \"#E5ECF6\", \"gridcolor\": \"white\", \"gridwidth\": 2, \"linecolor\": \"white\", \"showbackground\": true, \"ticks\": \"\", \"zerolinecolor\": \"white\"}, \"yaxis\": {\"backgroundcolor\": \"#E5ECF6\", \"gridcolor\": \"white\", \"gridwidth\": 2, \"linecolor\": \"white\", \"showbackground\": true, \"ticks\": \"\", \"zerolinecolor\": \"white\"}, \"zaxis\": {\"backgroundcolor\": \"#E5ECF6\", \"gridcolor\": \"white\", \"gridwidth\": 2, \"linecolor\": \"white\", \"showbackground\": true, \"ticks\": \"\", \"zerolinecolor\": \"white\"}}, \"shapedefaults\": {\"line\": {\"color\": \"#2a3f5f\"}}, \"ternary\": {\"aaxis\": {\"gridcolor\": \"white\", \"linecolor\": \"white\", \"ticks\": \"\"}, \"baxis\": {\"gridcolor\": \"white\", \"linecolor\": \"white\", \"ticks\": \"\"}, \"bgcolor\": \"#E5ECF6\", \"caxis\": {\"gridcolor\": \"white\", \"linecolor\": \"white\", \"ticks\": \"\"}}, \"title\": {\"x\": 0.05}, \"xaxis\": {\"automargin\": true, \"gridcolor\": \"white\", \"linecolor\": \"white\", \"ticks\": \"\", \"title\": {\"standoff\": 15}, \"zerolinecolor\": \"white\", \"zerolinewidth\": 2}, \"yaxis\": {\"automargin\": true, \"gridcolor\": \"white\", \"linecolor\": \"white\", \"ticks\": \"\", \"title\": {\"standoff\": 15}, \"zerolinecolor\": \"white\", \"zerolinewidth\": 2}}}, \"title\": {\"text\": \"Minimum Experience Required\"}, \"width\": 800},\n",
              "                        {\"responsive\": true}\n",
              "                    ).then(function(){\n",
              "                            \n",
              "var gd = document.getElementById('4d8b24b6-0fa4-4a92-8d6d-a19640872ec9');\n",
              "var x = new MutationObserver(function (mutations, observer) {{\n",
              "        var display = window.getComputedStyle(gd).display;\n",
              "        if (!display || display === 'none') {{\n",
              "            console.log([gd, 'removed!']);\n",
              "            Plotly.purge(gd);\n",
              "            observer.disconnect();\n",
              "        }}\n",
              "}});\n",
              "\n",
              "// Listen for the removal of the full notebook cells\n",
              "var notebookContainer = gd.closest('#notebook-container');\n",
              "if (notebookContainer) {{\n",
              "    x.observe(notebookContainer, {childList: true});\n",
              "}}\n",
              "\n",
              "// Listen for the clearing of the current output cell\n",
              "var outputEl = gd.closest('.output');\n",
              "if (outputEl) {{\n",
              "    x.observe(outputEl, {childList: true});\n",
              "}}\n",
              "\n",
              "                        })\n",
              "                };\n",
              "                \n",
              "            </script>\n",
              "        </div>\n",
              "</body>\n",
              "</html>"
            ]
          },
          "metadata": {
            "tags": []
          }
        }
      ]
    },
    {
      "cell_type": "code",
      "metadata": {
        "colab": {
          "base_uri": "https://localhost:8080/"
        },
        "id": "2gZmy1yMUBnH",
        "outputId": "cd170b52-afda-4ea0-a6ba-897cd6e1b1dc"
      },
      "source": [
        "final['Education Required'].value_counts()"
      ],
      "execution_count": 287,
      "outputs": [
        {
          "output_type": "execute_result",
          "data": {
            "text/plain": [
              "undefine      4369\n",
              "university     268\n",
              "graduate        90\n",
              "secondary       29\n",
              "Name: Education Required, dtype: int64"
            ]
          },
          "metadata": {
            "tags": []
          },
          "execution_count": 287
        }
      ]
    },
    {
      "cell_type": "code",
      "metadata": {
        "colab": {
          "base_uri": "https://localhost:8080/"
        },
        "id": "kLH9c31iPN7y",
        "outputId": "754e974c-fbe3-447c-9bec-2894a073eb54"
      },
      "source": [
        "final['salary'].isnull().sum()"
      ],
      "execution_count": 288,
      "outputs": [
        {
          "output_type": "execute_result",
          "data": {
            "text/plain": [
              "4438"
            ]
          },
          "metadata": {
            "tags": []
          },
          "execution_count": 288
        }
      ]
    },
    {
      "cell_type": "code",
      "metadata": {
        "id": "9YiDBLJ5Uh83"
      },
      "source": [
        "df = pd.DataFrame({'number': [28,216, 77,1]}, index=['secondary', 'university','graduate','post graduate'])"
      ],
      "execution_count": 289,
      "outputs": []
    },
    {
      "cell_type": "code",
      "metadata": {
        "colab": {
          "base_uri": "https://localhost:8080/",
          "height": 47
        },
        "id": "XYuHuhhCufpz",
        "outputId": "5e78e159-5609-4b2d-d692-363c3a056c41"
      },
      "source": [
        "final.loc[55,'Minimum Experience Required'] = np.nan\r\n",
        "#it counts company history years into mini experience required\r\n",
        "#replace it to NaN\r\n",
        "display(final[final['Minimum Experience Required']>20])"
      ],
      "execution_count": 290,
      "outputs": [
        {
          "output_type": "display_data",
          "data": {
            "text/html": [
              "<div>\n",
              "<style scoped>\n",
              "    .dataframe tbody tr th:only-of-type {\n",
              "        vertical-align: middle;\n",
              "    }\n",
              "\n",
              "    .dataframe tbody tr th {\n",
              "        vertical-align: top;\n",
              "    }\n",
              "\n",
              "    .dataframe thead th {\n",
              "        text-align: right;\n",
              "    }\n",
              "</style>\n",
              "<table border=\"1\" class=\"dataframe\">\n",
              "  <thead>\n",
              "    <tr style=\"text-align: right;\">\n",
              "      <th></th>\n",
              "      <th>title</th>\n",
              "      <th>company</th>\n",
              "      <th>salary</th>\n",
              "      <th>link</th>\n",
              "      <th>description</th>\n",
              "      <th>location</th>\n",
              "      <th>Minimum Experience Required</th>\n",
              "      <th>Education Required</th>\n",
              "    </tr>\n",
              "  </thead>\n",
              "  <tbody>\n",
              "  </tbody>\n",
              "</table>\n",
              "</div>"
            ],
            "text/plain": [
              "Empty DataFrame\n",
              "Columns: [title, company, salary, link, description, location, Minimum Experience Required, Education Required]\n",
              "Index: []"
            ]
          },
          "metadata": {
            "tags": []
          }
        }
      ]
    },
    {
      "cell_type": "code",
      "metadata": {
        "colab": {
          "base_uri": "https://localhost:8080/",
          "height": 466
        },
        "id": "fnBlPvq1UweA",
        "outputId": "00f540eb-b403-48ac-e555-eb04861c4920"
      },
      "source": [
        "plot = df.plot.pie(subplots=True, figsize=(11, 8))"
      ],
      "execution_count": 291,
      "outputs": [
        {
          "output_type": "display_data",
          "data": {
            "image/png": "[encoded data removed]",
            "text/plain": [
              "<Figure size 792x576 with 1 Axes>"
            ]
          },
          "metadata": {
            "tags": []
          }
        }
      ]
    },
    {
      "cell_type": "code",
      "metadata": {
        "colab": {
          "base_uri": "https://localhost:8080/"
        },
        "id": "Qy6XOYZjw3YA",
        "outputId": "a974adcd-a8bb-4edb-f2d3-c34338ffa7b1"
      },
      "source": [
        "def boolean_df(item_lists, unique_items):\n",
        "# Create empty dict\n",
        "    bool_dict = {}\n",
        "    \n",
        "    # Loop through all the tags\n",
        "    for i, item in enumerate(unique_items):\n",
        "        \n",
        "        # Apply boolean mask\n",
        "        bool_dict[item] = item_lists.apply(lambda x: item in x)\n",
        "            \n",
        "    # Return the results as a dataframe\n",
        "    return pd.DataFrame(bool_dict)\n",
        "\n",
        "fi = final\n",
        "fi[\"description\"] = fi[\"description\"].apply(eval)\n",
        "\n",
        "fi_dict = {}\n",
        "for i in fi[\"description\"]:\n",
        "    for j in i:\n",
        "        if j not in fi_dict:\n",
        "            fi_dict[j] = 1\n",
        "        else:\n",
        "            fi_dict[j] += 1\n",
        "\n",
        "def to_1D(series):\n",
        " return pd.Series([x for _list in series for x in _list])\n",
        "\n",
        "to_1D(fi[\"description\"]).value_counts().head(10)\n"
      ],
      "execution_count": 292,
      "outputs": [
        {
          "output_type": "execute_result",
          "data": {
            "text/plain": [
              "business        308\n",
              "data            288\n",
              "experience      187\n",
              "work            177\n",
              "management      161\n",
              "working         136\n",
              "team            131\n",
              "requirements    125\n",
              "development     120\n",
              "develop         113\n",
              "dtype: int64"
            ]
          },
          "metadata": {
            "tags": []
          },
          "execution_count": 292
        }
      ]
    },
    {
      "cell_type": "markdown",
      "metadata": {
        "id": "TvDjU8YQHBww"
      },
      "source": [
        "2- > Intermediate\r\n",
        "\r\n",
        "3 -> Senior/ Lead\r\n",
        "\r\n",
        "1 -> Junior /New \r\n",
        "\r\n",
        "0 -> else"
      ]
    },
    {
      "cell_type": "code",
      "metadata": {
        "id": "5KFy6D2WG5qu"
      },
      "source": [
        "def title_trans(tit):\r\n",
        "  if \"intermediate\" in tit.lower():\r\n",
        "    return 2\r\n",
        "  if (\"senior\" in tit.lower()) | (\"lead\" in tit.lower()):\r\n",
        "    return 3\r\n",
        "  if \"junior\" in tit.lower():\r\n",
        "    return 1\r\n",
        "  else: return 0\r\n",
        "\r\n",
        "final['title'] = final['title'].astype(str).apply(title_trans)"
      ],
      "execution_count": 293,
      "outputs": []
    },
    {
      "cell_type": "code",
      "metadata": {
        "colab": {
          "base_uri": "https://localhost:8080/",
          "height": 401
        },
        "id": "Sd3hRiFwIwRe",
        "outputId": "8faf5421-d598-47f4-8cd6-ffdff75bd171"
      },
      "source": [
        "display(final)"
      ],
      "execution_count": 294,
      "outputs": [
        {
          "output_type": "display_data",
          "data": {
            "text/html": [
              "<div>\n",
              "<style scoped>\n",
              "    .dataframe tbody tr th:only-of-type {\n",
              "        vertical-align: middle;\n",
              "    }\n",
              "\n",
              "    .dataframe tbody tr th {\n",
              "        vertical-align: top;\n",
              "    }\n",
              "\n",
              "    .dataframe thead th {\n",
              "        text-align: right;\n",
              "    }\n",
              "</style>\n",
              "<table border=\"1\" class=\"dataframe\">\n",
              "  <thead>\n",
              "    <tr style=\"text-align: right;\">\n",
              "      <th></th>\n",
              "      <th>title</th>\n",
              "      <th>company</th>\n",
              "      <th>salary</th>\n",
              "      <th>link</th>\n",
              "      <th>description</th>\n",
              "      <th>location</th>\n",
              "      <th>Minimum Experience Required</th>\n",
              "      <th>Education Required</th>\n",
              "    </tr>\n",
              "  </thead>\n",
              "  <tbody>\n",
              "    <tr>\n",
              "      <th>0</th>\n",
              "      <td>0</td>\n",
              "      <td>The Globe and Mail</td>\n",
              "      <td>NaN</td>\n",
              "      <td>https://ca.indeed.com/viewjob?jk=fc1458755f9a5...</td>\n",
              "      <td>[data analysis, workings, work, analytical, an...</td>\n",
              "      <td>Toronto, ON</td>\n",
              "      <td>3.0</td>\n",
              "      <td>university</td>\n",
              "    </tr>\n",
              "    <tr>\n",
              "      <th>1</th>\n",
              "      <td>0</td>\n",
              "      <td>DeepR Analytics, Inc.</td>\n",
              "      <td>40.87</td>\n",
              "      <td>https://ca.indeed.com/viewjob?jk=76f195c0c030f...</td>\n",
              "      <td>[investment, invest, work, inform, information...</td>\n",
              "      <td>Toronto, ON</td>\n",
              "      <td>NaN</td>\n",
              "      <td>undefine</td>\n",
              "    </tr>\n",
              "    <tr>\n",
              "      <th>2</th>\n",
              "      <td>0</td>\n",
              "      <td>Vancouver Island Health Authority</td>\n",
              "      <td>NaN</td>\n",
              "      <td>https://ca.indeed.com/viewjob?jk=d3a1d8b3c545e...</td>\n",
              "      <td>[skills, classification, resources, resource, ...</td>\n",
              "      <td>Victoria, BC</td>\n",
              "      <td>2.0</td>\n",
              "      <td>undefine</td>\n",
              "    </tr>\n",
              "    <tr>\n",
              "      <th>3</th>\n",
              "      <td>0</td>\n",
              "      <td>Desjardins</td>\n",
              "      <td>NaN</td>\n",
              "      <td>https://ca.indeed.com/viewjob?jk=ce7f05f4ae1e9...</td>\n",
              "      <td>[management, data, teams, team, requirements, ...</td>\n",
              "      <td>Montréal, QC</td>\n",
              "      <td>NaN</td>\n",
              "      <td>university</td>\n",
              "    </tr>\n",
              "    <tr>\n",
              "      <th>4</th>\n",
              "      <td>0</td>\n",
              "      <td>Globewin Consulting Incorporation</td>\n",
              "      <td>NaN</td>\n",
              "      <td>https://ca.indeed.com/viewjob?jk=71f97df17cb69...</td>\n",
              "      <td>[data, requirements, required, requir, require...</td>\n",
              "      <td>Oakville, ON</td>\n",
              "      <td>3.0</td>\n",
              "      <td>secondary</td>\n",
              "    </tr>\n",
              "    <tr>\n",
              "      <th>...</th>\n",
              "      <td>...</td>\n",
              "      <td>...</td>\n",
              "      <td>...</td>\n",
              "      <td>...</td>\n",
              "      <td>...</td>\n",
              "      <td>...</td>\n",
              "      <td>...</td>\n",
              "      <td>...</td>\n",
              "    </tr>\n",
              "    <tr>\n",
              "      <th>6664</th>\n",
              "      <td>0</td>\n",
              "      <td>Affinity Staffing</td>\n",
              "      <td>NaN</td>\n",
              "      <td>https://ca.indeed.com/viewjob/pagead/clk?mo=r&amp;...</td>\n",
              "      <td>[]</td>\n",
              "      <td>Winnipeg, MB</td>\n",
              "      <td>NaN</td>\n",
              "      <td>undefine</td>\n",
              "    </tr>\n",
              "    <tr>\n",
              "      <th>6665</th>\n",
              "      <td>3</td>\n",
              "      <td>Procom</td>\n",
              "      <td>NaN</td>\n",
              "      <td>https://ca.indeed.com/viewjob/pagead/clk?mo=r&amp;...</td>\n",
              "      <td>[]</td>\n",
              "      <td>Burnaby, BC</td>\n",
              "      <td>NaN</td>\n",
              "      <td>undefine</td>\n",
              "    </tr>\n",
              "    <tr>\n",
              "      <th>6666</th>\n",
              "      <td>0</td>\n",
              "      <td>Affinity Staffing</td>\n",
              "      <td>NaN</td>\n",
              "      <td>https://ca.indeed.com/viewjob/pagead/clk?mo=r&amp;...</td>\n",
              "      <td>[]</td>\n",
              "      <td>Toronto, ON</td>\n",
              "      <td>NaN</td>\n",
              "      <td>undefine</td>\n",
              "    </tr>\n",
              "    <tr>\n",
              "      <th>6667</th>\n",
              "      <td>0</td>\n",
              "      <td>Affinity Staffing</td>\n",
              "      <td>NaN</td>\n",
              "      <td>https://ca.indeed.com/viewjob/pagead/clk?mo=r&amp;...</td>\n",
              "      <td>[]</td>\n",
              "      <td>Toronto, ON</td>\n",
              "      <td>NaN</td>\n",
              "      <td>undefine</td>\n",
              "    </tr>\n",
              "    <tr>\n",
              "      <th>6668</th>\n",
              "      <td>2</td>\n",
              "      <td>Affinity Staffing</td>\n",
              "      <td>NaN</td>\n",
              "      <td>https://ca.indeed.com/viewjob/pagead/clk?mo=r&amp;...</td>\n",
              "      <td>[]</td>\n",
              "      <td>Victoria, BC</td>\n",
              "      <td>NaN</td>\n",
              "      <td>undefine</td>\n",
              "    </tr>\n",
              "  </tbody>\n",
              "</table>\n",
              "<p>4756 rows × 8 columns</p>\n",
              "</div>"
            ],
            "text/plain": [
              "      title  ... Education Required\n",
              "0         0  ...         university\n",
              "1         0  ...           undefine\n",
              "2         0  ...           undefine\n",
              "3         0  ...         university\n",
              "4         0  ...          secondary\n",
              "...     ...  ...                ...\n",
              "6664      0  ...           undefine\n",
              "6665      3  ...           undefine\n",
              "6666      0  ...           undefine\n",
              "6667      0  ...           undefine\n",
              "6668      2  ...           undefine\n",
              "\n",
              "[4756 rows x 8 columns]"
            ]
          },
          "metadata": {
            "tags": []
          }
        }
      ]
    },
    {
      "cell_type": "markdown",
      "metadata": {
        "id": "slJxkb7oNkmn"
      },
      "source": [
        "#Data Cleaned\n",
        "This time, only consider dataset without salary NaN\n",
        "1.   Encoding all data \n",
        "2.   Remove outliner and feature engineer\n",
        "\n"
      ]
    },
    {
      "cell_type": "code",
      "metadata": {
        "id": "TQfROOs7NuRq",
        "colab": {
          "base_uri": "https://localhost:8080/",
          "height": 401
        },
        "outputId": "305a6363-88cf-4584-9c55-17cfe80f9cb2"
      },
      "source": [
        "cleaned = final.loc[:,['location','Minimum Experience Required','Education Required','company','salary','title']]\r\n",
        "cleaned = cleaned.dropna(subset=['salary'])\r\n",
        "display(cleaned)"
      ],
      "execution_count": 295,
      "outputs": [
        {
          "output_type": "display_data",
          "data": {
            "text/html": [
              "<div>\n",
              "<style scoped>\n",
              "    .dataframe tbody tr th:only-of-type {\n",
              "        vertical-align: middle;\n",
              "    }\n",
              "\n",
              "    .dataframe tbody tr th {\n",
              "        vertical-align: top;\n",
              "    }\n",
              "\n",
              "    .dataframe thead th {\n",
              "        text-align: right;\n",
              "    }\n",
              "</style>\n",
              "<table border=\"1\" class=\"dataframe\">\n",
              "  <thead>\n",
              "    <tr style=\"text-align: right;\">\n",
              "      <th></th>\n",
              "      <th>location</th>\n",
              "      <th>Minimum Experience Required</th>\n",
              "      <th>Education Required</th>\n",
              "      <th>company</th>\n",
              "      <th>salary</th>\n",
              "      <th>title</th>\n",
              "    </tr>\n",
              "  </thead>\n",
              "  <tbody>\n",
              "    <tr>\n",
              "      <th>1</th>\n",
              "      <td>Toronto, ON</td>\n",
              "      <td>NaN</td>\n",
              "      <td>undefine</td>\n",
              "      <td>DeepR Analytics, Inc.</td>\n",
              "      <td>40.87</td>\n",
              "      <td>0</td>\n",
              "    </tr>\n",
              "    <tr>\n",
              "      <th>6</th>\n",
              "      <td>Thornhill, ON</td>\n",
              "      <td>NaN</td>\n",
              "      <td>undefine</td>\n",
              "      <td>EU Health and Innovations Inc.</td>\n",
              "      <td>38.94</td>\n",
              "      <td>0</td>\n",
              "    </tr>\n",
              "    <tr>\n",
              "      <th>8</th>\n",
              "      <td>Richmond, BC</td>\n",
              "      <td>NaN</td>\n",
              "      <td>undefine</td>\n",
              "      <td>CENTURION HARDWOOD FLOORS LTD</td>\n",
              "      <td>31.5</td>\n",
              "      <td>0</td>\n",
              "    </tr>\n",
              "    <tr>\n",
              "      <th>17</th>\n",
              "      <td>Richmond, BC</td>\n",
              "      <td>NaN</td>\n",
              "      <td>undefine</td>\n",
              "      <td>FLASH PAY TECHNOLOGY INC.</td>\n",
              "      <td>32.0</td>\n",
              "      <td>0</td>\n",
              "    </tr>\n",
              "    <tr>\n",
              "      <th>20</th>\n",
              "      <td>Montréal, QC</td>\n",
              "      <td>5.0</td>\n",
              "      <td>university</td>\n",
              "      <td>McGill University</td>\n",
              "      <td>53.31</td>\n",
              "      <td>3</td>\n",
              "    </tr>\n",
              "    <tr>\n",
              "      <th>...</th>\n",
              "      <td>...</td>\n",
              "      <td>...</td>\n",
              "      <td>...</td>\n",
              "      <td>...</td>\n",
              "      <td>...</td>\n",
              "      <td>...</td>\n",
              "    </tr>\n",
              "    <tr>\n",
              "      <th>6566</th>\n",
              "      <td>Calgary, AB</td>\n",
              "      <td>NaN</td>\n",
              "      <td>undefine</td>\n",
              "      <td>Robert Half</td>\n",
              "      <td>43.27</td>\n",
              "      <td>0</td>\n",
              "    </tr>\n",
              "    <tr>\n",
              "      <th>6581</th>\n",
              "      <td>Calgary, AB</td>\n",
              "      <td>NaN</td>\n",
              "      <td>undefine</td>\n",
              "      <td>Robert Half</td>\n",
              "      <td>43.27</td>\n",
              "      <td>0</td>\n",
              "    </tr>\n",
              "    <tr>\n",
              "      <th>6596</th>\n",
              "      <td>Toronto, ON</td>\n",
              "      <td>NaN</td>\n",
              "      <td>undefine</td>\n",
              "      <td>Aerotek</td>\n",
              "      <td>35.0</td>\n",
              "      <td>0</td>\n",
              "    </tr>\n",
              "    <tr>\n",
              "      <th>6612</th>\n",
              "      <td>Toronto, ON</td>\n",
              "      <td>NaN</td>\n",
              "      <td>undefine</td>\n",
              "      <td>Aerotek</td>\n",
              "      <td>35.0</td>\n",
              "      <td>0</td>\n",
              "    </tr>\n",
              "    <tr>\n",
              "      <th>6628</th>\n",
              "      <td>Calgary, AB</td>\n",
              "      <td>NaN</td>\n",
              "      <td>undefine</td>\n",
              "      <td>Robert Half</td>\n",
              "      <td>43.27</td>\n",
              "      <td>0</td>\n",
              "    </tr>\n",
              "  </tbody>\n",
              "</table>\n",
              "<p>318 rows × 6 columns</p>\n",
              "</div>"
            ],
            "text/plain": [
              "           location  Minimum Experience Required  ... salary title\n",
              "1       Toronto, ON                          NaN  ...  40.87     0\n",
              "6     Thornhill, ON                          NaN  ...  38.94     0\n",
              "8      Richmond, BC                          NaN  ...   31.5     0\n",
              "17     Richmond, BC                          NaN  ...   32.0     0\n",
              "20     Montréal, QC                          5.0  ...  53.31     3\n",
              "...             ...                          ...  ...    ...   ...\n",
              "6566    Calgary, AB                          NaN  ...  43.27     0\n",
              "6581    Calgary, AB                          NaN  ...  43.27     0\n",
              "6596    Toronto, ON                          NaN  ...   35.0     0\n",
              "6612    Toronto, ON                          NaN  ...   35.0     0\n",
              "6628    Calgary, AB                          NaN  ...  43.27     0\n",
              "\n",
              "[318 rows x 6 columns]"
            ]
          },
          "metadata": {
            "tags": []
          }
        }
      ]
    },
    {
      "cell_type": "code",
      "metadata": {
        "id": "WSTI68DROZSd"
      },
      "source": [
        "from sklearn import preprocessing\n",
        "le = preprocessing.LabelEncoder()\n",
        "\n",
        "#predictions_test = le.inverse_transform(prediction_test)"
      ],
      "execution_count": 296,
      "outputs": []
    },
    {
      "cell_type": "code",
      "metadata": {
        "colab": {
          "base_uri": "https://localhost:8080/",
          "height": 235
        },
        "id": "4OZeB6XIH-86",
        "outputId": "17c82d15-0bed-47f4-e1bb-638c61c0aca3"
      },
      "source": [
        "display(cleaned['location'].unique())"
      ],
      "execution_count": 297,
      "outputs": [
        {
          "output_type": "display_data",
          "data": {
            "text/plain": [
              "array(['Toronto, ON', 'Thornhill, ON', 'Richmond, BC', 'Montréal, QC',\n",
              "       'St. Anthony, NL', 'Ottawa, ON', 'New Brunswick', 'Kelowna, BC',\n",
              "       'Mississauga, ON', 'Burnaby, BC', 'Calgary, AB', 'Oakville, ON',\n",
              "       'Vancouver, BC', 'York, ON', 'Etobicoke, ON', 'Edmonton, AB',\n",
              "       'Surrey, BC', 'Winnipeg, MB', 'Ajax, ON', 'North York, ON',\n",
              "       'West Vancouver, BC', 'Regina, SK', 'Midland, ON', 'Barrie, ON',\n",
              "       'Markham, ON', 'Strathroy, ON', 'Unionville, ON', 'Iqaluit, NU',\n",
              "       'Lethbridge, AB', 'Canada', 'Aldouane, NB', 'Sioux Lookout, ON',\n",
              "       'Woodbridge, ON', 'Brampton, ON', 'Haines Junction, YT',\n",
              "       'Milton, ON', 'Sydney, NS', 'St. Catharines, ON', 'Concord, ON',\n",
              "       \"St. John's, NL\", 'Coquitlam, BC', 'Saskatoon, SK', 'Saskatchewan',\n",
              "       'Vaughan, ON', 'Hiawatha, ON', 'Vaudreuil-Dorion, QC',\n",
              "       'Burlington, ON'], dtype=object)"
            ]
          },
          "metadata": {
            "tags": []
          }
        }
      ]
    },
    {
      "cell_type": "code",
      "metadata": {
        "id": "4DzGadX0Oaob",
        "colab": {
          "base_uri": "https://localhost:8080/",
          "height": 50
        },
        "outputId": "cac77d47-b55f-43a3-bfe8-83709a768b5b"
      },
      "source": [
        "def loc_ass(loc):\r\n",
        "  if loc == 'Remote':\r\n",
        "    return 'Remote'\r\n",
        "  else:\r\n",
        "    return loc.split(',').pop()\r\n",
        "\r\n",
        "cleaned['location'] = cleaned['location'].apply(loc_ass)\r\n",
        "\r\n",
        "\r\n",
        "display(cleaned['location'].unique())\r\n"
      ],
      "execution_count": 298,
      "outputs": [
        {
          "output_type": "display_data",
          "data": {
            "text/plain": [
              "array([' ON', ' BC', ' QC', ' NL', 'New Brunswick', ' AB', ' MB', ' SK',\n",
              "       ' NU', 'Canada', ' NB', ' YT', ' NS', 'Saskatchewan'], dtype=object)"
            ]
          },
          "metadata": {
            "tags": []
          }
        }
      ]
    },
    {
      "cell_type": "code",
      "metadata": {
        "id": "9H_y98ecVwJo"
      },
      "source": [
        "data = pd.DataFrame()\r\n",
        "data['location'] = le.fit_transform(cleaned['location'])\r\n",
        "data['company'] = le.fit_transform(cleaned['company'])"
      ],
      "execution_count": 299,
      "outputs": []
    },
    {
      "cell_type": "markdown",
      "metadata": {
        "id": "KqDlrh-KVBSV"
      },
      "source": [
        "\n",
        "1.   secondary\n",
        "2.   university\n",
        "3.   graduate\n",
        "4.   postgraduate\n",
        "5.   Undefine"
      ]
    },
    {
      "cell_type": "code",
      "metadata": {
        "id": "Gm0AjkKEXCv9"
      },
      "source": [
        "data['Education Required'] =le.fit_transform(cleaned['Education Required'])"
      ],
      "execution_count": 300,
      "outputs": []
    },
    {
      "cell_type": "code",
      "metadata": {
        "colab": {
          "base_uri": "https://localhost:8080/",
          "height": 401
        },
        "id": "LZDHkrFSYin1",
        "outputId": "35fb9633-4c9e-4c4d-e239-e36acf45eff8"
      },
      "source": [
        "data['Minimum Experience Required'] =le.fit_transform(cleaned['Minimum Experience Required'])\r\n",
        "data['title'] = le.fit_transform(cleaned['title'])\r\n",
        "data['Minimum Experience Required'] = data['Minimum Experience Required'].fillna(0)\r\n",
        "data['salary'] = cleaned['salary'].to_numpy().astype(float)\r\n",
        "data= data[data['salary'] < 99]\r\n",
        "\r\n",
        "display(data)"
      ],
      "execution_count": 301,
      "outputs": [
        {
          "output_type": "display_data",
          "data": {
            "text/html": [
              "<div>\n",
              "<style scoped>\n",
              "    .dataframe tbody tr th:only-of-type {\n",
              "        vertical-align: middle;\n",
              "    }\n",
              "\n",
              "    .dataframe tbody tr th {\n",
              "        vertical-align: top;\n",
              "    }\n",
              "\n",
              "    .dataframe thead th {\n",
              "        text-align: right;\n",
              "    }\n",
              "</style>\n",
              "<table border=\"1\" class=\"dataframe\">\n",
              "  <thead>\n",
              "    <tr style=\"text-align: right;\">\n",
              "      <th></th>\n",
              "      <th>location</th>\n",
              "      <th>company</th>\n",
              "      <th>Education Required</th>\n",
              "      <th>Minimum Experience Required</th>\n",
              "      <th>title</th>\n",
              "      <th>salary</th>\n",
              "    </tr>\n",
              "  </thead>\n",
              "  <tbody>\n",
              "    <tr>\n",
              "      <th>0</th>\n",
              "      <td>7</td>\n",
              "      <td>24</td>\n",
              "      <td>2</td>\n",
              "      <td>37</td>\n",
              "      <td>0</td>\n",
              "      <td>40.87</td>\n",
              "    </tr>\n",
              "    <tr>\n",
              "      <th>1</th>\n",
              "      <td>7</td>\n",
              "      <td>32</td>\n",
              "      <td>2</td>\n",
              "      <td>202</td>\n",
              "      <td>0</td>\n",
              "      <td>38.94</td>\n",
              "    </tr>\n",
              "    <tr>\n",
              "      <th>2</th>\n",
              "      <td>1</td>\n",
              "      <td>10</td>\n",
              "      <td>2</td>\n",
              "      <td>201</td>\n",
              "      <td>0</td>\n",
              "      <td>31.50</td>\n",
              "    </tr>\n",
              "    <tr>\n",
              "      <th>3</th>\n",
              "      <td>1</td>\n",
              "      <td>35</td>\n",
              "      <td>2</td>\n",
              "      <td>200</td>\n",
              "      <td>0</td>\n",
              "      <td>32.00</td>\n",
              "    </tr>\n",
              "    <tr>\n",
              "      <th>4</th>\n",
              "      <td>8</td>\n",
              "      <td>60</td>\n",
              "      <td>3</td>\n",
              "      <td>4</td>\n",
              "      <td>2</td>\n",
              "      <td>53.31</td>\n",
              "    </tr>\n",
              "    <tr>\n",
              "      <th>...</th>\n",
              "      <td>...</td>\n",
              "      <td>...</td>\n",
              "      <td>...</td>\n",
              "      <td>...</td>\n",
              "      <td>...</td>\n",
              "      <td>...</td>\n",
              "    </tr>\n",
              "    <tr>\n",
              "      <th>313</th>\n",
              "      <td>0</td>\n",
              "      <td>87</td>\n",
              "      <td>2</td>\n",
              "      <td>95</td>\n",
              "      <td>0</td>\n",
              "      <td>43.27</td>\n",
              "    </tr>\n",
              "    <tr>\n",
              "      <th>314</th>\n",
              "      <td>0</td>\n",
              "      <td>87</td>\n",
              "      <td>2</td>\n",
              "      <td>94</td>\n",
              "      <td>0</td>\n",
              "      <td>43.27</td>\n",
              "    </tr>\n",
              "    <tr>\n",
              "      <th>315</th>\n",
              "      <td>7</td>\n",
              "      <td>2</td>\n",
              "      <td>2</td>\n",
              "      <td>93</td>\n",
              "      <td>0</td>\n",
              "      <td>35.00</td>\n",
              "    </tr>\n",
              "    <tr>\n",
              "      <th>316</th>\n",
              "      <td>7</td>\n",
              "      <td>2</td>\n",
              "      <td>2</td>\n",
              "      <td>250</td>\n",
              "      <td>0</td>\n",
              "      <td>35.00</td>\n",
              "    </tr>\n",
              "    <tr>\n",
              "      <th>317</th>\n",
              "      <td>0</td>\n",
              "      <td>87</td>\n",
              "      <td>2</td>\n",
              "      <td>298</td>\n",
              "      <td>0</td>\n",
              "      <td>43.27</td>\n",
              "    </tr>\n",
              "  </tbody>\n",
              "</table>\n",
              "<p>295 rows × 6 columns</p>\n",
              "</div>"
            ],
            "text/plain": [
              "     location  company  ...  title  salary\n",
              "0           7       24  ...      0   40.87\n",
              "1           7       32  ...      0   38.94\n",
              "2           1       10  ...      0   31.50\n",
              "3           1       35  ...      0   32.00\n",
              "4           8       60  ...      2   53.31\n",
              "..        ...      ...  ...    ...     ...\n",
              "313         0       87  ...      0   43.27\n",
              "314         0       87  ...      0   43.27\n",
              "315         7        2  ...      0   35.00\n",
              "316         7        2  ...      0   35.00\n",
              "317         0       87  ...      0   43.27\n",
              "\n",
              "[295 rows x 6 columns]"
            ]
          },
          "metadata": {
            "tags": []
          }
        }
      ]
    },
    {
      "cell_type": "code",
      "metadata": {
        "colab": {
          "base_uri": "https://localhost:8080/",
          "height": 711
        },
        "id": "d2K9_cs_RO23",
        "outputId": "9533250c-e257-40e8-bb7c-3bf4812a3dd9"
      },
      "source": [
        "import matplotlib.pyplot as plt\n",
        "\n",
        "fig = plt.figure(figsize=(12,8))\n",
        "corr = data.corr()\n",
        "display(corr)\n",
        "c = plt.pcolor(corr)\n",
        "plt.yticks(np.arange(0.1, len(corr.index), 1), corr.index)\n",
        "plt.xticks(np.arange(0.1, len(corr.columns), 1), corr.columns)\n",
        "fig.colorbar(c)"
      ],
      "execution_count": 302,
      "outputs": [
        {
          "output_type": "display_data",
          "data": {
            "text/html": [
              "<div>\n",
              "<style scoped>\n",
              "    .dataframe tbody tr th:only-of-type {\n",
              "        vertical-align: middle;\n",
              "    }\n",
              "\n",
              "    .dataframe tbody tr th {\n",
              "        vertical-align: top;\n",
              "    }\n",
              "\n",
              "    .dataframe thead th {\n",
              "        text-align: right;\n",
              "    }\n",
              "</style>\n",
              "<table border=\"1\" class=\"dataframe\">\n",
              "  <thead>\n",
              "    <tr style=\"text-align: right;\">\n",
              "      <th></th>\n",
              "      <th>location</th>\n",
              "      <th>company</th>\n",
              "      <th>Education Required</th>\n",
              "      <th>Minimum Experience Required</th>\n",
              "      <th>title</th>\n",
              "      <th>salary</th>\n",
              "    </tr>\n",
              "  </thead>\n",
              "  <tbody>\n",
              "    <tr>\n",
              "      <th>location</th>\n",
              "      <td>1.000000</td>\n",
              "      <td>-0.100939</td>\n",
              "      <td>-0.101871</td>\n",
              "      <td>0.214607</td>\n",
              "      <td>0.250475</td>\n",
              "      <td>-0.246947</td>\n",
              "    </tr>\n",
              "    <tr>\n",
              "      <th>company</th>\n",
              "      <td>-0.100939</td>\n",
              "      <td>1.000000</td>\n",
              "      <td>-0.051628</td>\n",
              "      <td>-0.123691</td>\n",
              "      <td>0.160642</td>\n",
              "      <td>-0.178882</td>\n",
              "    </tr>\n",
              "    <tr>\n",
              "      <th>Education Required</th>\n",
              "      <td>-0.101871</td>\n",
              "      <td>-0.051628</td>\n",
              "      <td>1.000000</td>\n",
              "      <td>-0.042018</td>\n",
              "      <td>0.042912</td>\n",
              "      <td>-0.010282</td>\n",
              "    </tr>\n",
              "    <tr>\n",
              "      <th>Minimum Experience Required</th>\n",
              "      <td>0.214607</td>\n",
              "      <td>-0.123691</td>\n",
              "      <td>-0.042018</td>\n",
              "      <td>1.000000</td>\n",
              "      <td>0.004136</td>\n",
              "      <td>0.037092</td>\n",
              "    </tr>\n",
              "    <tr>\n",
              "      <th>title</th>\n",
              "      <td>0.250475</td>\n",
              "      <td>0.160642</td>\n",
              "      <td>0.042912</td>\n",
              "      <td>0.004136</td>\n",
              "      <td>1.000000</td>\n",
              "      <td>-0.263833</td>\n",
              "    </tr>\n",
              "    <tr>\n",
              "      <th>salary</th>\n",
              "      <td>-0.246947</td>\n",
              "      <td>-0.178882</td>\n",
              "      <td>-0.010282</td>\n",
              "      <td>0.037092</td>\n",
              "      <td>-0.263833</td>\n",
              "      <td>1.000000</td>\n",
              "    </tr>\n",
              "  </tbody>\n",
              "</table>\n",
              "</div>"
            ],
            "text/plain": [
              "                             location   company  ...     title    salary\n",
              "location                     1.000000 -0.100939  ...  0.250475 -0.246947\n",
              "company                     -0.100939  1.000000  ...  0.160642 -0.178882\n",
              "Education Required          -0.101871 -0.051628  ...  0.042912 -0.010282\n",
              "Minimum Experience Required  0.214607 -0.123691  ...  0.004136  0.037092\n",
              "title                        0.250475  0.160642  ...  1.000000 -0.263833\n",
              "salary                      -0.246947 -0.178882  ... -0.263833  1.000000\n",
              "\n",
              "[6 rows x 6 columns]"
            ]
          },
          "metadata": {
            "tags": []
          }
        },
        {
          "output_type": "execute_result",
          "data": {
            "text/plain": [
              "<matplotlib.colorbar.Colorbar at 0x7f06357f2f60>"
            ]
          },
          "metadata": {
            "tags": []
          },
          "execution_count": 302
        },
        {
          "output_type": "display_data",
          "data": {
            "image/png": "[encoded data removed]",
            "text/plain": [
              "<Figure size 864x576 with 2 Axes>"
            ]
          },
          "metadata": {
            "tags": [],
            "needs_background": "light"
          }
        }
      ]
    },
    {
      "cell_type": "markdown",
      "metadata": {
        "id": "cktz7BXWbZ0B"
      },
      "source": [
        "#Data Split and Validation"
      ]
    },
    {
      "cell_type": "code",
      "metadata": {
        "id": "3z5OkayMbh8a"
      },
      "source": [
        "from sklearn.model_selection import train_test_split\r\n",
        "#data = data.dropna(subset=['Minimum Experience Required'])\r\n",
        "data = data.drop(columns=[\"Education Required\"])\r\n",
        "\r\n"
      ],
      "execution_count": 303,
      "outputs": []
    },
    {
      "cell_type": "code",
      "metadata": {
        "colab": {
          "base_uri": "https://localhost:8080/",
          "height": 185
        },
        "id": "pPuRfMIk04-w",
        "outputId": "57aa0c33-e39c-4d8f-89c8-854c4f523b3e"
      },
      "source": [
        "display(data['location'].unique(),data['company'].unique())\r\n",
        "data = data.drop(columns=[\"Minimum Experience Required\"])"
      ],
      "execution_count": 304,
      "outputs": [
        {
          "output_type": "display_data",
          "data": {
            "text/plain": [
              "array([ 7,  1,  8,  4, 12,  0,  2,  9,  6, 11,  3, 10,  5, 13])"
            ]
          },
          "metadata": {
            "tags": []
          }
        },
        {
          "output_type": "display_data",
          "data": {
            "text/plain": [
              "array([ 24,  32,  10,  35,  60,  53,  96,  15, 111,  72,  70,  99,   2,\n",
              "        44,  77,  14, 104,   5,  68,  39,  29, 101,  79,  19,  47,   9,\n",
              "        58,  94,  54,  16,  59,  67,  18,  38,  98,  45, 113, 108,  46,\n",
              "       112,  85,   8,  50,  37, 103,  76,  83,  30,  52,  17,  63,  20,\n",
              "        55,  34, 114,  36,  87,  21,  31,  66,  82,  11,   4,   3,  71,\n",
              "        49,  41,  27,   6,  80, 105,  48,  12,  62, 109,  65,  51,  91,\n",
              "        86,  64,  57,   0, 115,  84,  42,  73,  75,  78,  69,  74,  28,\n",
              "        90,  43,  89, 102,  13, 107,  23,  81,  93,  26,  97,  92,  40,\n",
              "         7,  22, 100,   1,  56,  88,  33,  95, 110])"
            ]
          },
          "metadata": {
            "tags": []
          }
        }
      ]
    },
    {
      "cell_type": "code",
      "metadata": {
        "id": "HhZWlCNEMAnY",
        "colab": {
          "base_uri": "https://localhost:8080/",
          "height": 401
        },
        "outputId": "b083d13c-4422-4831-944a-132feac6a008"
      },
      "source": [
        "display(data)\r\n",
        "\r\n",
        "X = data.iloc[:,0:3].values\r\n",
        "\r\n",
        "y = data['salary'].values\r\n",
        "\r\n"
      ],
      "execution_count": 305,
      "outputs": [
        {
          "output_type": "display_data",
          "data": {
            "text/html": [
              "<div>\n",
              "<style scoped>\n",
              "    .dataframe tbody tr th:only-of-type {\n",
              "        vertical-align: middle;\n",
              "    }\n",
              "\n",
              "    .dataframe tbody tr th {\n",
              "        vertical-align: top;\n",
              "    }\n",
              "\n",
              "    .dataframe thead th {\n",
              "        text-align: right;\n",
              "    }\n",
              "</style>\n",
              "<table border=\"1\" class=\"dataframe\">\n",
              "  <thead>\n",
              "    <tr style=\"text-align: right;\">\n",
              "      <th></th>\n",
              "      <th>location</th>\n",
              "      <th>company</th>\n",
              "      <th>title</th>\n",
              "      <th>salary</th>\n",
              "    </tr>\n",
              "  </thead>\n",
              "  <tbody>\n",
              "    <tr>\n",
              "      <th>0</th>\n",
              "      <td>7</td>\n",
              "      <td>24</td>\n",
              "      <td>0</td>\n",
              "      <td>40.87</td>\n",
              "    </tr>\n",
              "    <tr>\n",
              "      <th>1</th>\n",
              "      <td>7</td>\n",
              "      <td>32</td>\n",
              "      <td>0</td>\n",
              "      <td>38.94</td>\n",
              "    </tr>\n",
              "    <tr>\n",
              "      <th>2</th>\n",
              "      <td>1</td>\n",
              "      <td>10</td>\n",
              "      <td>0</td>\n",
              "      <td>31.50</td>\n",
              "    </tr>\n",
              "    <tr>\n",
              "      <th>3</th>\n",
              "      <td>1</td>\n",
              "      <td>35</td>\n",
              "      <td>0</td>\n",
              "      <td>32.00</td>\n",
              "    </tr>\n",
              "    <tr>\n",
              "      <th>4</th>\n",
              "      <td>8</td>\n",
              "      <td>60</td>\n",
              "      <td>2</td>\n",
              "      <td>53.31</td>\n",
              "    </tr>\n",
              "    <tr>\n",
              "      <th>...</th>\n",
              "      <td>...</td>\n",
              "      <td>...</td>\n",
              "      <td>...</td>\n",
              "      <td>...</td>\n",
              "    </tr>\n",
              "    <tr>\n",
              "      <th>313</th>\n",
              "      <td>0</td>\n",
              "      <td>87</td>\n",
              "      <td>0</td>\n",
              "      <td>43.27</td>\n",
              "    </tr>\n",
              "    <tr>\n",
              "      <th>314</th>\n",
              "      <td>0</td>\n",
              "      <td>87</td>\n",
              "      <td>0</td>\n",
              "      <td>43.27</td>\n",
              "    </tr>\n",
              "    <tr>\n",
              "      <th>315</th>\n",
              "      <td>7</td>\n",
              "      <td>2</td>\n",
              "      <td>0</td>\n",
              "      <td>35.00</td>\n",
              "    </tr>\n",
              "    <tr>\n",
              "      <th>316</th>\n",
              "      <td>7</td>\n",
              "      <td>2</td>\n",
              "      <td>0</td>\n",
              "      <td>35.00</td>\n",
              "    </tr>\n",
              "    <tr>\n",
              "      <th>317</th>\n",
              "      <td>0</td>\n",
              "      <td>87</td>\n",
              "      <td>0</td>\n",
              "      <td>43.27</td>\n",
              "    </tr>\n",
              "  </tbody>\n",
              "</table>\n",
              "<p>295 rows × 4 columns</p>\n",
              "</div>"
            ],
            "text/plain": [
              "     location  company  title  salary\n",
              "0           7       24      0   40.87\n",
              "1           7       32      0   38.94\n",
              "2           1       10      0   31.50\n",
              "3           1       35      0   32.00\n",
              "4           8       60      2   53.31\n",
              "..        ...      ...    ...     ...\n",
              "313         0       87      0   43.27\n",
              "314         0       87      0   43.27\n",
              "315         7        2      0   35.00\n",
              "316         7        2      0   35.00\n",
              "317         0       87      0   43.27\n",
              "\n",
              "[295 rows x 4 columns]"
            ]
          },
          "metadata": {
            "tags": []
          }
        }
      ]
    },
    {
      "cell_type": "code",
      "metadata": {
        "id": "bIe0C2_HO6LM"
      },
      "source": [
        "#feature scaling\n",
        "from sklearn.preprocessing import StandardScaler\n",
        "sc_X = StandardScaler()\n",
        "\n",
        "X_train, X_test, y_train, y_test = train_test_split(X, y, test_size=0.3, random_state=0)\n",
        "X_train = sc_X.fit_transform(X_train)\n",
        "X_test = sc_X.transform(X_test)"
      ],
      "execution_count": 306,
      "outputs": []
    },
    {
      "cell_type": "code",
      "metadata": {
        "colab": {
          "base_uri": "https://localhost:8080/"
        },
        "id": "M61-M_wvMlGF",
        "outputId": "dacd0880-8466-48ba-c2e9-066b55901a8c"
      },
      "source": [
        "from sklearn import linear_model\r\n",
        "from sklearn import svm\r\n",
        "from sklearn.model_selection import cross_val_score\r\n",
        "from sklearn import ensemble\r\n",
        "from sklearn.metrics import mean_absolute_error\r\n",
        "\r\n",
        "classifiers = [\r\n",
        "    svm.SVR(),\r\n",
        "    linear_model.SGDRegressor(),\r\n",
        "    ensemble.RandomForestRegressor(),\r\n",
        "    linear_model.BayesianRidge(),\r\n",
        "    linear_model.LassoLars(),\r\n",
        "    linear_model.ARDRegression(),\r\n",
        "    linear_model.PassiveAggressiveRegressor(),\r\n",
        "    linear_model.TheilSenRegressor(),\r\n",
        "    ensemble.ExtraTreesRegressor(),\r\n",
        "    linear_model.LinearRegression()]\r\n",
        "\r\n",
        "for item in classifiers:\r\n",
        "    print(type(item))\r\n",
        "    clf = item\r\n",
        "    clf.fit(X_train, y_train)\r\n",
        "    print(cross_val_score(clf,X,y,cv=4)) #should be positive\r\n",
        "    print(mean_absolute_error(y_test, clf.predict(X_test)),'\\n')\r\n"
      ],
      "execution_count": 307,
      "outputs": [
        {
          "output_type": "stream",
          "text": [
            "<class 'sklearn.svm._classes.SVR'>\n",
            "[-0.18114801 -0.07108649  0.09068922 -0.78825118]\n",
            "7.260998083933353 \n",
            "\n",
            "<class 'sklearn.linear_model._stochastic_gradient.SGDRegressor'>\n",
            "[-1.96280849e+23 -2.97792631e+22 -1.75107625e+22 -2.13239201e+23]\n",
            "8.277160873668212 \n",
            "\n",
            "<class 'sklearn.ensemble._forest.RandomForestRegressor'>\n",
            "[-0.04064725  0.47141535  0.33094537  0.11059894]\n",
            "3.210642577865813 \n",
            "\n",
            "<class 'sklearn.linear_model._bayes.BayesianRidge'>\n",
            "[-0.02865955 -0.11186273  0.12272582 -0.70807875]\n",
            "8.327275557718446 \n",
            "\n",
            "<class 'sklearn.linear_model._least_angle.LassoLars'>\n",
            "[-0.09632929 -0.189618   -0.00306339 -0.0196754 ]\n",
            "9.665427075379078 \n",
            "\n",
            "<class 'sklearn.linear_model._bayes.ARDRegression'>\n",
            "[-0.08784091 -0.10061049  0.12083162 -0.47251122]\n",
            "8.318135706020861 \n",
            "\n",
            "<class 'sklearn.linear_model._passive_aggressive.PassiveAggressiveRegressor'>\n",
            "[ -41.05221828   -0.619437     -1.05839135 -291.08948124]\n",
            "10.856960105410492 \n",
            "\n",
            "<class 'sklearn.linear_model._theil_sen.TheilSenRegressor'>\n",
            "[-0.48763382 -0.28620176 -0.14309879 -0.72834057]\n",
            "10.194405319142367 \n",
            "\n",
            "<class 'sklearn.ensemble._forest.ExtraTreesRegressor'>\n",
            "[0.09607375 0.50128309 0.28685655 0.24291194]\n",
            "2.511203412898962 \n",
            "\n",
            "<class 'sklearn.linear_model._base.LinearRegression'>\n",
            "[-0.05845797 -0.07819526  0.14252725 -0.396418  ]\n",
            "8.283663699648024 \n",
            "\n"
          ],
          "name": "stdout"
        }
      ]
    },
    {
      "cell_type": "markdown",
      "metadata": {
        "id": "mAu61afWK2Rr"
      },
      "source": [
        "The lower value of mean_absolute_error, meaning less error.\r\n",
        "\r\n",
        "Comparatively, Extra Regressor is the best among them"
      ]
    },
    {
      "cell_type": "markdown",
      "metadata": {
        "id": "1DDeM_CILz5u"
      },
      "source": [
        "#Model Predicted Result"
      ]
    },
    {
      "cell_type": "code",
      "metadata": {
        "colab": {
          "base_uri": "https://localhost:8080/",
          "height": 512
        },
        "id": "nwGN_GaE34P9",
        "outputId": "414fe0b4-8af2-465d-852e-b66fe7ddc266"
      },
      "source": [
        "\r\n",
        "c2 = ensemble.ExtraTreesRegressor()\r\n",
        "c2.fit(X_train, y_train)\r\n",
        "x_ax = range(len(y_test))\r\n",
        "plt.rcParams[\"figure.figsize\"] = (20,8)\r\n",
        "plt.plot(x_ax, y_test, linewidth=3, label=\"tests\")\r\n",
        "\r\n",
        "plt.plot(x_ax, c2.predict(X_test), linewidth=1.5, label=\"ExtraTreesRegressor Predicted\")\r\n",
        "plt.title(\"y-test and y-predicted data\")\r\n",
        "plt.xlabel('# index')\r\n",
        "plt.ylabel('salary')\r\n",
        "plt.legend(loc='best',fancybox=True, shadow=True)\r\n",
        "plt.grid(True)\r\n",
        "plt.show() \r\n",
        "\r\n"
      ],
      "execution_count": 308,
      "outputs": [
        {
          "output_type": "display_data",
          "data": {
            "image/png": "[encoded data removed]",
            "text/plain": [
              "<Figure size 1440x576 with 1 Axes>"
            ]
          },
          "metadata": {
            "tags": [],
            "needs_background": "light"
          }
        }
      ]
    },
    {
      "cell_type": "markdown",
      "metadata": {
        "id": "lzU20joMNtm4"
      },
      "source": [
        "Low Accuracy"
      ]
    }
  ]
}