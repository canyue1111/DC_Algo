{
  "nbformat": 4,
  "nbformat_minor": 0,
  "metadata": {
    "colab": {
      "name": "DataPreprocessing.ipynb",
      "provenance": []
    },
    "kernelspec": {
      "name": "python3",
      "display_name": "Python 3"
    }
  },
  "cells": [
    {
      "cell_type": "code",
      "metadata": {
        "id": "ToI5ko3j2p_y"
      },
      "source": [
        "import requests\n",
        "import numpy as np\n",
        "import pandas as pd"
      ],
      "execution_count": 1,
      "outputs": []
    },
    {
      "cell_type": "code",
      "metadata": {
        "colab": {
          "base_uri": "https://localhost:8080/",
          "height": 443
        },
        "id": "zTg-PDgu2ssY",
        "outputId": "6baada5d-2af4-4de9-d9a9-e9619d71ab5b"
      },
      "source": [
        "final = pd.DataFrame()\n",
        "for i in range(1,9):\n",
        "  string = str(i) + '.csv' \n",
        "  df = pd.read_csv(string)\n",
        "  final = final.append(df, ignore_index = True) \n",
        "#final['Education Required'].loc[(final['Education Required'] == 's degree')|(final['Education Required'] == 'bachelors degree')] = 'bachelor degree'\n",
        "final = final.iloc[:,1:]\n",
        "final = final.replace('None',np.nan)\n",
        "final['Minimum Experience Required'] = final['Minimum Experience Required'] .replace(99,np.nan)\n",
        "final = final.replace('none',np.nan)\n",
        "display(final.head(10))"
      ],
      "execution_count": 2,
      "outputs": [
        {
          "output_type": "display_data",
          "data": {
            "text/html": [
              "<div>\n",
              "<style scoped>\n",
              "    .dataframe tbody tr th:only-of-type {\n",
              "        vertical-align: middle;\n",
              "    }\n",
              "\n",
              "    .dataframe tbody tr th {\n",
              "        vertical-align: top;\n",
              "    }\n",
              "\n",
              "    .dataframe thead th {\n",
              "        text-align: right;\n",
              "    }\n",
              "</style>\n",
              "<table border=\"1\" class=\"dataframe\">\n",
              "  <thead>\n",
              "    <tr style=\"text-align: right;\">\n",
              "      <th></th>\n",
              "      <th>title</th>\n",
              "      <th>company</th>\n",
              "      <th>salary</th>\n",
              "      <th>link</th>\n",
              "      <th>description</th>\n",
              "      <th>location</th>\n",
              "      <th>Minimum Experience Required</th>\n",
              "      <th>Education Required</th>\n",
              "    </tr>\n",
              "  </thead>\n",
              "  <tbody>\n",
              "    <tr>\n",
              "      <th>0</th>\n",
              "      <td>Data Analyst</td>\n",
              "      <td>Garage Living</td>\n",
              "      <td>31.25</td>\n",
              "      <td>https://ca.indeed.com/viewjob/pagead/clk?mo=r&amp;...</td>\n",
              "      <td>[]</td>\n",
              "      <td>Vaughan, ON</td>\n",
              "      <td>NaN</td>\n",
              "      <td>NaN</td>\n",
              "    </tr>\n",
              "    <tr>\n",
              "      <th>1</th>\n",
              "      <td>NaN</td>\n",
              "      <td>eBay Inc.</td>\n",
              "      <td>NaN</td>\n",
              "      <td>https://ca.indeed.com/viewjob/cmp/Ebay-Inc.</td>\n",
              "      <td>[]</td>\n",
              "      <td>Toronto, ON</td>\n",
              "      <td>NaN</td>\n",
              "      <td>NaN</td>\n",
              "    </tr>\n",
              "    <tr>\n",
              "      <th>2</th>\n",
              "      <td>Junior Data Analyst</td>\n",
              "      <td>Q &amp; A BP Consulting</td>\n",
              "      <td>22.92</td>\n",
              "      <td>https://ca.indeed.com/viewjob/company/Q-&amp;-A-BP...</td>\n",
              "      <td>[]</td>\n",
              "      <td>Vaughan, ON</td>\n",
              "      <td>NaN</td>\n",
              "      <td>NaN</td>\n",
              "    </tr>\n",
              "    <tr>\n",
              "      <th>3</th>\n",
              "      <td>Data Engineer/Analyst</td>\n",
              "      <td>RCN Call Center Services</td>\n",
              "      <td>NaN</td>\n",
              "      <td>https://ca.indeed.com/viewjob/pagead/clk?mo=r&amp;...</td>\n",
              "      <td>[]</td>\n",
              "      <td>Montréal, QC</td>\n",
              "      <td>NaN</td>\n",
              "      <td>NaN</td>\n",
              "    </tr>\n",
              "    <tr>\n",
              "      <th>4</th>\n",
              "      <td>Data Analyst/Financial Analyst</td>\n",
              "      <td>Sunnyfuture Group</td>\n",
              "      <td>28.85</td>\n",
              "      <td>https://ca.indeed.com/viewjob/company/SunnyFut...</td>\n",
              "      <td>[]</td>\n",
              "      <td>Toronto, ON</td>\n",
              "      <td>NaN</td>\n",
              "      <td>NaN</td>\n",
              "    </tr>\n",
              "    <tr>\n",
              "      <th>5</th>\n",
              "      <td>Junior Data Science Analyst</td>\n",
              "      <td>Entuitive</td>\n",
              "      <td>NaN</td>\n",
              "      <td>https://ca.indeed.com/viewjob?jk=4b0a0f66424bb...</td>\n",
              "      <td>['building', 'experience', 'data', 'performanc...</td>\n",
              "      <td>Toronto, ON</td>\n",
              "      <td>1.0</td>\n",
              "      <td>NaN</td>\n",
              "    </tr>\n",
              "    <tr>\n",
              "      <th>6</th>\n",
              "      <td>Sr Data Management Analyst</td>\n",
              "      <td>Client Of Emergitel</td>\n",
              "      <td>90.0</td>\n",
              "      <td>https://ca.indeed.com/viewjob/pagead/clk?mo=r&amp;...</td>\n",
              "      <td>[]</td>\n",
              "      <td>Toronto, ON</td>\n",
              "      <td>NaN</td>\n",
              "      <td>NaN</td>\n",
              "    </tr>\n",
              "    <tr>\n",
              "      <th>7</th>\n",
              "      <td>Google Data Engineering Certified - Data Analyst</td>\n",
              "      <td>Client Of Emergitel</td>\n",
              "      <td>90.0</td>\n",
              "      <td>https://ca.indeed.com/viewjob/pagead/clk?mo=r&amp;...</td>\n",
              "      <td>[]</td>\n",
              "      <td>Toronto, ON</td>\n",
              "      <td>NaN</td>\n",
              "      <td>NaN</td>\n",
              "    </tr>\n",
              "    <tr>\n",
              "      <th>8</th>\n",
              "      <td>Data Reporting Analyst</td>\n",
              "      <td>Small Business BC</td>\n",
              "      <td>27.26</td>\n",
              "      <td>https://ca.indeed.com/viewjob/company/Small-Bu...</td>\n",
              "      <td>[]</td>\n",
              "      <td>Vancouver, BC</td>\n",
              "      <td>NaN</td>\n",
              "      <td>NaN</td>\n",
              "    </tr>\n",
              "    <tr>\n",
              "      <th>9</th>\n",
              "      <td>Marketing Data Analyst</td>\n",
              "      <td>Vigorate Digital Solutions</td>\n",
              "      <td>NaN</td>\n",
              "      <td>https://ca.indeed.com/viewjob/pagead/clk?mo=r&amp;...</td>\n",
              "      <td>[]</td>\n",
              "      <td>Toronto, ON</td>\n",
              "      <td>NaN</td>\n",
              "      <td>NaN</td>\n",
              "    </tr>\n",
              "  </tbody>\n",
              "</table>\n",
              "</div>"
            ],
            "text/plain": [
              "                                              title  ... Education Required\n",
              "0                                      Data Analyst  ...                NaN\n",
              "1                                               NaN  ...                NaN\n",
              "2                               Junior Data Analyst  ...                NaN\n",
              "3                             Data Engineer/Analyst  ...                NaN\n",
              "4                    Data Analyst/Financial Analyst  ...                NaN\n",
              "5                       Junior Data Science Analyst  ...                NaN\n",
              "6                        Sr Data Management Analyst  ...                NaN\n",
              "7  Google Data Engineering Certified - Data Analyst  ...                NaN\n",
              "8                            Data Reporting Analyst  ...                NaN\n",
              "9                            Marketing Data Analyst  ...                NaN\n",
              "\n",
              "[10 rows x 8 columns]"
            ]
          },
          "metadata": {
            "tags": []
          }
        }
      ]
    },
    {
      "cell_type": "code",
      "metadata": {
        "colab": {
          "base_uri": "https://localhost:8080/",
          "height": 283
        },
        "id": "pA1wXYrk35pM",
        "outputId": "3309aebb-434e-47f6-842a-38238c3fd406"
      },
      "source": [
        "display(final.describe())"
      ],
      "execution_count": 3,
      "outputs": [
        {
          "output_type": "display_data",
          "data": {
            "text/html": [
              "<div>\n",
              "<style scoped>\n",
              "    .dataframe tbody tr th:only-of-type {\n",
              "        vertical-align: middle;\n",
              "    }\n",
              "\n",
              "    .dataframe tbody tr th {\n",
              "        vertical-align: top;\n",
              "    }\n",
              "\n",
              "    .dataframe thead th {\n",
              "        text-align: right;\n",
              "    }\n",
              "</style>\n",
              "<table border=\"1\" class=\"dataframe\">\n",
              "  <thead>\n",
              "    <tr style=\"text-align: right;\">\n",
              "      <th></th>\n",
              "      <th>Minimum Experience Required</th>\n",
              "    </tr>\n",
              "  </thead>\n",
              "  <tbody>\n",
              "    <tr>\n",
              "      <th>count</th>\n",
              "      <td>526.000000</td>\n",
              "    </tr>\n",
              "    <tr>\n",
              "      <th>mean</th>\n",
              "      <td>3.233840</td>\n",
              "    </tr>\n",
              "    <tr>\n",
              "      <th>std</th>\n",
              "      <td>2.143534</td>\n",
              "    </tr>\n",
              "    <tr>\n",
              "      <th>min</th>\n",
              "      <td>0.000000</td>\n",
              "    </tr>\n",
              "    <tr>\n",
              "      <th>25%</th>\n",
              "      <td>2.000000</td>\n",
              "    </tr>\n",
              "    <tr>\n",
              "      <th>50%</th>\n",
              "      <td>3.000000</td>\n",
              "    </tr>\n",
              "    <tr>\n",
              "      <th>75%</th>\n",
              "      <td>4.000000</td>\n",
              "    </tr>\n",
              "    <tr>\n",
              "      <th>max</th>\n",
              "      <td>25.000000</td>\n",
              "    </tr>\n",
              "  </tbody>\n",
              "</table>\n",
              "</div>"
            ],
            "text/plain": [
              "       Minimum Experience Required\n",
              "count                   526.000000\n",
              "mean                      3.233840\n",
              "std                       2.143534\n",
              "min                       0.000000\n",
              "25%                       2.000000\n",
              "50%                       3.000000\n",
              "75%                       4.000000\n",
              "max                      25.000000"
            ]
          },
          "metadata": {
            "tags": []
          }
        }
      ]
    },
    {
      "cell_type": "code",
      "metadata": {
        "id": "9I7gJn-J1hyn"
      },
      "source": [
        "final = final.drop_duplicates()"
      ],
      "execution_count": 4,
      "outputs": []
    },
    {
      "cell_type": "code",
      "metadata": {
        "colab": {
          "base_uri": "https://localhost:8080/",
          "height": 320
        },
        "id": "KJBpWXBdJRJ0",
        "outputId": "83e9ad6f-e065-4391-c8fb-e6c3b9c5720f"
      },
      "source": [
        "labels = final['Education Required'].unique() \n",
        "\n",
        "#secondary degree\n",
        "#Bachelor degree\n",
        "#graduate degree, #master degree\n",
        "#postgraduate degree\n",
        "display(labels)"
      ],
      "execution_count": 5,
      "outputs": [
        {
          "output_type": "display_data",
          "data": {
            "text/plain": [
              "array([nan, 'bachelors degree', 'university degree', 's degree',\n",
              "       'secondary degree', 'college degree', 'undergraduate degree',\n",
              "       'or degree', 'some degree', 'a degree', 'high degree',\n",
              "       'higher degree', 's degree technical degree', 'year degree',\n",
              "       'bs degree', 'masters degree', 'bachelor degree', 'varying degree',\n",
              "       's degree university degree', 'secondary degree s degree',\n",
              "       'undergraduate degree equivalent degree', 'graduate degree',\n",
              "       'business degree', 'bachelors degree university degree',\n",
              "       'university degree college degree',\n",
              "       'bachelor degree college degree', 'university degree s degree',\n",
              "       'of degree', 's degree s degree',\n",
              "       'bachelors degree masters degree', 'earned degree',\n",
              "       'related degree', 'auniversity degree',\n",
              "       'secondary degree related degree',\n",
              "       'university degree technical degree',\n",
              "       'bachelor degree equivalent degree', 'science degree',\n",
              "       'university degree graduate degree', 'ba degree',\n",
              "       'postgraduate degree'], dtype=object)"
            ]
          },
          "metadata": {
            "tags": []
          }
        }
      ]
    },
    {
      "cell_type": "code",
      "metadata": {
        "id": "1VqsmdytLhSf"
      },
      "source": [
        "def summerize_degree(dgr):\n",
        "  if dgr is np.nan:\n",
        "    return \"undefine\"\n",
        "  if (\"college\" in dgr) | (\"secondary\" in dgr):\n",
        "    return \"secondary\"\n",
        "  if  (\"doctor\" in dgr)| (\"post\" in dgr):\n",
        "    return \"postgraduate\"\n",
        "  if (\"master\" in dgr) | (\"graduate\"  in dgr):\n",
        "    return \"graduate\"\n",
        "  if \"high\" in dgr:\n",
        "    return \"graduate\"\n",
        "\n",
        "  if \"bachelor\" in dgr:\n",
        "    return \"university\"\n",
        "\n",
        "  if (\"college\" in dgr) | (\"secondary\" in dgr):\n",
        "    return \"secondary\"\n",
        "\n",
        "  else: return \"university\"\n",
        "\n",
        "final['Education Required'] = final['Education Required'].apply(summerize_degree)"
      ],
      "execution_count": 6,
      "outputs": []
    },
    {
      "cell_type": "code",
      "metadata": {
        "colab": {
          "base_uri": "https://localhost:8080/",
          "height": 50
        },
        "id": "84v-lJoYPTW3",
        "outputId": "f9a309f4-413f-470d-ab3a-6cdbbea6aae7"
      },
      "source": [
        "labels = final['Education Required'].unique() \n",
        "display(labels)"
      ],
      "execution_count": 7,
      "outputs": [
        {
          "output_type": "display_data",
          "data": {
            "text/plain": [
              "array(['undefine', 'university', 'secondary', 'graduate', 'postgraduate'],\n",
              "      dtype=object)"
            ]
          },
          "metadata": {
            "tags": []
          }
        }
      ]
    },
    {
      "cell_type": "code",
      "metadata": {
        "colab": {
          "base_uri": "https://localhost:8080/",
          "height": 1000
        },
        "id": "D46YKCPQ1y7d",
        "outputId": "7079dddf-16e2-46b8-dcc5-2638f5b82b23"
      },
      "source": [
        "temp = final.loc[:,['salary','location','Minimum Experience Required']]\n",
        "visualizable_feature_names = temp.columns #\n",
        "\n",
        "labels = final['Education Required'].unique() \n",
        "\n",
        "import plotly.graph_objects as go\n",
        "\n",
        "fig_hist = []\n",
        "for i, feature_name in enumerate(visualizable_feature_names):\n",
        "    fig_hist.append(go.Figure())\n",
        "    for label in labels:\n",
        "        fig_hist[i].add_trace(go.Histogram(x= final[final['Education Required']==label][feature_name], name=label))\n",
        "    fig_hist[i].update_layout(height=400, width=800, title_text=feature_name)\n",
        "    fig_hist[i].update_layout(barmode='overlay')\n",
        "    fig_hist[i].update_traces(opacity=0.5)\n",
        "    fig_hist[i].show()"
      ],
      "execution_count": 8,
      "outputs": [
        {
          "output_type": "display_data",
          "data": {
            "text/html": [
              "<html>\n",
              "<head><meta charset=\"utf-8\" /></head>\n",
              "<body>\n",
              "    <div>\n",
              "            <script src=\"https://cdnjs.cloudflare.com/ajax/libs/mathjax/2.7.5/MathJax.js?config=TeX-AMS-MML_SVG\"></script><script type=\"text/javascript\">if (window.MathJax) {MathJax.Hub.Config({SVG: {font: \"STIX-Web\"}});}</script>\n",
              "                <script type=\"text/javascript\">window.PlotlyConfig = {MathJaxConfig: 'local'};</script>\n",
              "        <script src=\"https://cdn.plot.ly/plotly-latest.min.js\"></script>    \n",
              "            <div id=\"e7aa4dc3-4687-4990-8cb7-d5a7908d2848\" class=\"plotly-graph-div\" style=\"height:400px; width:800px;\"></div>\n",
              "            <script type=\"text/javascript\">\n",
              "                \n",
              "                    window.PLOTLYENV=window.PLOTLYENV || {};\n",
              "                    \n",
              "                if (document.getElementById(\"e7aa4dc3-4687-4990-8cb7-d5a7908d2848\")) {\n",
              "                    Plotly.newPlot(\n",
              "                        'e7aa4dc3-4687-4990-8cb7-d5a7908d2848',\n",
              "                        [{\"name\": \"undefine\", \"opacity\": 0.5, \"type\": \"histogram\", \"x\": [\"31.25\", null, \"22.92\", null, \"28.85\", null, \"90.0\", \"90.0\", \"27.26\", null, \"26.78\", \"30.05\", null, null, \"33.65\", \"40.0\", \"37.5\", null, null, \"27.4\", null, null, \"33.65\", null, null, null, null, null, null, \"27.4\", \"23.14\", null, null, null, \"40.0\", null, null, null, null, null, null, \"27.4\", null, \"36.06\", null, null, null, null, \"29.05\", null, null, null, null, null, \"30.11\", null, null, null, null, \"30.5\", null, null, null, \"27.4\", null, null, null, null, null, null, null, \"27.5\", \"26.44\", \"20.17\", null, \"33.65\", null, \"35.16\", null, null, null, null, \"34.5\", \"34.5\", \"57.5\", null, \"24.04\", null, null, \"27.5\", null, null, null, \"90.0\", \"19.95\", \"31.25\", null, null, null, null, null, null, null, null, null, \"62.5\", null, null, null, null, null, null, null, null, null, null, null, \"30.09\", null, null, \"38.5\", null, null, null, \"27.64\", null, null, \"27.5\", null, \"31.25\", null, null, null, \"99\", \"90.0\", \"19.95\", null, null, null, null, \"99\", null, null, null, \"27.64\", null, null, null, null, null, null, null, null, \"39.0\", null, null, null, \"36.06\", null, \"27.4\", null, null, null, null, \"92.55\", \"42.0\", \"57.69\", \"27.5\", \"90.0\", \"19.95\", \"31.25\", null, \"65.0\", null, null, null, null, \"17.31\", \"31.32\", null, \"17.79\", null, null, null, null, \"31.25\", \"19.95\", \"37.43\", null, null, null, null, \"90.0\", null, null, null, null, \"27.4\", null, null, null, null, null, null, null, null, null, \"39.23\", null, null, null, null, null, null, null, null, null, null, null, null, null, null, null, null, null, null, null, null, null, null, null, null, null, null, null, null, null, null, null, null, null, \"31.32\", null, null, null, null, \"31.75\", null, null, null, null, null, null, null, null, null, null, null, null, null, null, null, \"31.25\", null, null, null, null, null, null, \"27.5\", null, null, null, \"70.0\", \"27.5\", null, null, \"37.73\", null, null, \"33.65\", null, null, \"27.4\", null, null, null, null, \"33.65\", null, null, \"25.0\", null, null, \"27.5\", null, null, null, null, \"27.4\", \"27.5\", null, null, \"22.5\", null, \"32.45\", \"30.05\", null, null, \"30.0\", null, null, null, \"32.5\", \"60.0\", null, null, null, null, null, null, null, \"52.5\", \"20.19\", null, \"20.19\", null, null, null, null, null, null, \"75.0\", \"36.06\", null, null, null, null, null, null, \"39.55\", null, null, \"45.0\", null, null, null, null, null, null, null, \"40.0\", null, null, null, null, null, null, null, null, null, null, null, null, null, null, null, null, null, null, null, null, null, null, null, null, null, null, null, null, null, null, null, null, null, null, null, null, null, null, null, null, null, null, null, null, null, null, null, null, null, null, null, null, null, null, null, null, null, null, null, null, null, null, null, null, null, null, null, null, null, null, null, null, null, null, null, null, null, null, null, null, null, null, null, null, null, null, null, null, null, null, null, null, null, null, null, null, null, null, null, null, null, null, null, null, null, null, null, null, null, null, null, null, null, null, null, null, null, null, null, null, null, null, \"28.85\", null, \"32.45\", null, null, null, null, null, null, null, null, null, null, null, \"34.86\", null, \"33.65\", null, null, null, null, null, null, \"21.63\", \"21.63\", null, null, \"21.63\", \"21.63\", null, null, \"21.63\", null, null, null, null, null, null, \"27.64\", null, \"21.63\", \"21.63\", \"21.63\", null, null, \"21.63\", null, null, null, \"21.63\", null, null, null, null, null, null, null, null, null, null, null, null, null, null, null, null, null, null, null, null, null, null, null, null, null, null, null, null, null, null, null, null, null, null, null, null, null, null, null, null, null, null, null, null, null, null, null, null, null, null, null, null, null, null, null, null, \"90.0\", null, \"31.25\", \"90.0\", null, \"19.95\", null, null, null, null, null, null, null, null, null, null, null, null, null, null, null, null, null, null, null, null, null, null, null, null, null, null, null, null, null, null, null, null, null, null, null, null, null, null, null, null, null, null, null, null, null, null, null, null, null, null, null, null, null, null, null, null, null, null, null, null, null, null, null, null, null, null, null, null, null, null, null, null, null, null, null, null, null, null, null, null, null, null, null, null, null, null, null, null, null, null, null, null, null, null, null, null, null, null, null, null, null, null, null, null, null, null, null, null, null, null, null, null, null, null, null, null, null, null, null, null, null, null, null, null, null, null, null, null, null, null, null, null, null, null, null, null, null, null, null, null, null, null, null, null, null, null, null, null, null, null, null, null, null, null, null, null, null, null, null, null, null, null, null, null, null, null, null, null, null, null, null, null, null, null, null, null, null, null, null, null, null, null, null, null, null, null, null, null, null, null, null, null, null, null, null, null, null, null, null, null, null, null, null, null, null, null, null, null, null, null, null, null, null, null, null, null, null, null, null, null, null, null, null, null, null, null, null, null, null, null, null, null, null, null, null, null, null, null, null, null, null, null, null, null, null, null, null, null, null, null, null, null, null, null, null, null, null, null, null, null, null, null, null, null, null, null, null, null, null, null, null, \"19.95\", null, \"90\", \"90\", \"26.44\", null, null, null, \"63.27\", \"19.95\", null, \"90\", \"90\", \"26.44\", null, null, null, null, null, null, null, null, null, null, null, null, null, null, null, null, null, null, null, null, null, null, null, null, null, null, null, null, null, null, null, null, null, null, null, null, null, null, null, null, null, null, null, null, null, null, null, null, null, null, null, null, null, null, null, null, null, null, null, null, null, null, null, null, null, null, null, null, null, null, null, null, null, null, null, null, null, null, null, null, null, null, null, null, null, null, null, null, null, null, null, null, null, null, null, null, null, null, null, null, null, \"19.95\", null, \"90\", \"90\", \"26.44\", null, null, \"21.75\", null, null, \"19.95\", null, \"90\", null, \"90\", \"26.44\", null, null, \"21.75\", null, null, null, null, null, null, null, null, null, null, null, null, null, null, null, null, null, null, null, null, null, null, null, null, null, null, null, null, null, null, null, null, null, null, null, null, null, null, null, null, null, null, null, null, null, null, null, null, null, null, null, null, null, null, null, null, null, null, null, null, null, null, null, null, null, null, null, null, null, null, null, null, \"90.0\", null, \"90.0\", \"90.0\", \"19.95\", \"26.44\", null, null, null, null, null, null, null, null, null, null, null, null, null, null, null, null, null, null, null, null, null, null, null, null, null, null, null, null, null, null, null, null, null, null, null, null, null, null, null, null, null, null, null, null, null, null, null, null, null, null, null, null, null, null, null, null, null, null, null, null, null, null, null, null, null, null, null, null, null, null, null, null, null, null, null, null, null, null, null, null, null, null, null, null, null, null, null, null, null, null, null, null, null, null, null, null, null, null, null, null, null, null, null, null, null, null, null, null, null, null, null, null, null, null, null, null, null, null, null, null, null, null, null, null, null, null, null, null, null, \"90.0\", \"17.79\", \"90.0\", \"90.0\", \"19.95\", \"26.44\", null, null, null, null, null, null, null, null, null, null, null, null, null, null, null, null, null, null, null, null, null, null, null, null, null, null, null, null, null, null, null, null, null, null, null, null, null, null, null, null, null, null, null, null, null, null, null, null, null, null, null, null, null, null, null, null, null, null, null, null, null, null, null, null, null, null, null, null, null, null, null, null, null, null, null, null, null, null, null, null, null, null, null, null, null, null, null, null, null, null, null, null, null, null, null, null, null, null, null, null, null, null, null, null, null, null, null, null, null, null, null, null, null]}, {\"name\": \"university\", \"opacity\": 0.5, \"type\": \"histogram\", \"x\": [null, null, null, null, null, null, null, null, null, null, \"84.13\", null, null, null, null, null, null, null, null, null, null, \"31.6\", null, null, null, null, \"102.16\", null, null, \"35.56\", null, null, null, null, null, null, null, null, null, null, null, null, null, null, null, \"38.1\", null, null, null, null, null, null, null, \"39.37\", null, null, null, null, null, null, null, null, null, \"35.42\", null, null, null, null, null, null, null, null, null, null, null, null, null, null, null, null, \"102.16\", null, null, null, null, null, null, null, null, null, null, null, null, null, null, null, null, null, null, null, null, null, null, null, null, null, null, null, null, null, null, null, null, null, null, null, null, null, null, null, null, null, null, null, null, null, null, null, null, \"36.27\", \"35.64\", null, null, null, null, null, null, null, null, null, \"34.81\", null, null, null, null, null, null, null, null, null, null, null, null, null, null, null, null, null, null, null, null, null, \"48.78\", null, null, null, null, null, null, null, \"48.78\", null, null, null, null, null, null, null, null, null, null, null, null, null, null, null, null, null, null, \"44.09\", null, null, null, null, null, null, null, null, null, null, null, null, null, null, null, null, null, null, null, null, null, null, null, null, null, null, null, null, null, null, null, null, null, null, null, null, null, null, null, null, null, null, null, null, null, null, null, null, null, null, null, null, null, null, null, null, null, null, null, null, null, null, null, null, null, null, null, null, null, null, null, null, null, null, null, null, null, null, null, null, null, null, null, null, null, null, null, null, null, null, null, null]}, {\"name\": \"secondary\", \"opacity\": 0.5, \"type\": \"histogram\", \"x\": [\"21.7\", null, \"31.88\", null, null, null, null, null, null, null, null, null, null, null, null, null, null, \"31.89\", null, null, null, null, null, null, null, null, null, null, null, null, null, null, null, null, null, null, null]}, {\"name\": \"graduate\", \"opacity\": 0.5, \"type\": \"histogram\", \"x\": [null, null, null, null, \"37.33\", null, null, \"99\", null, null, null, \"38.36\", null, null, \"17.0\", null, null, null, null, null, null, null, null, null, null, null, null, null, null, null, null, null, null, null, null, null, null, null, null, null, null, null, null, null, null, null, null, null, null, null, null, null, null, null, null, null, null, null, null, null]}, {\"name\": \"postgraduate\", \"opacity\": 0.5, \"type\": \"histogram\", \"x\": [null]}],\n",
              "                        {\"barmode\": \"overlay\", \"height\": 400, \"template\": {\"data\": {\"bar\": [{\"error_x\": {\"color\": \"#2a3f5f\"}, \"error_y\": {\"color\": \"#2a3f5f\"}, \"marker\": {\"line\": {\"color\": \"#E5ECF6\", \"width\": 0.5}}, \"type\": \"bar\"}], \"barpolar\": [{\"marker\": {\"line\": {\"color\": \"#E5ECF6\", \"width\": 0.5}}, \"type\": \"barpolar\"}], \"carpet\": [{\"aaxis\": {\"endlinecolor\": \"#2a3f5f\", \"gridcolor\": \"white\", \"linecolor\": \"white\", \"minorgridcolor\": \"white\", \"startlinecolor\": \"#2a3f5f\"}, \"baxis\": {\"endlinecolor\": \"#2a3f5f\", \"gridcolor\": \"white\", \"linecolor\": \"white\", \"minorgridcolor\": \"white\", \"startlinecolor\": \"#2a3f5f\"}, \"type\": \"carpet\"}], \"choropleth\": [{\"colorbar\": {\"outlinewidth\": 0, \"ticks\": \"\"}, \"type\": \"choropleth\"}], \"contour\": [{\"colorbar\": {\"outlinewidth\": 0, \"ticks\": \"\"}, \"colorscale\": [[0.0, \"#0d0887\"], [0.1111111111111111, \"#46039f\"], [0.2222222222222222, \"#7201a8\"], [0.3333333333333333, \"#9c179e\"], [0.4444444444444444, \"#bd3786\"], [0.5555555555555556, \"#d8576b\"], [0.6666666666666666, \"#ed7953\"], [0.7777777777777778, \"#fb9f3a\"], [0.8888888888888888, \"#fdca26\"], [1.0, \"#f0f921\"]], \"type\": \"contour\"}], \"contourcarpet\": [{\"colorbar\": {\"outlinewidth\": 0, \"ticks\": \"\"}, \"type\": \"contourcarpet\"}], \"heatmap\": [{\"colorbar\": {\"outlinewidth\": 0, \"ticks\": \"\"}, \"colorscale\": [[0.0, \"#0d0887\"], [0.1111111111111111, \"#46039f\"], [0.2222222222222222, \"#7201a8\"], [0.3333333333333333, \"#9c179e\"], [0.4444444444444444, \"#bd3786\"], [0.5555555555555556, \"#d8576b\"], [0.6666666666666666, \"#ed7953\"], [0.7777777777777778, \"#fb9f3a\"], [0.8888888888888888, \"#fdca26\"], [1.0, \"#f0f921\"]], \"type\": \"heatmap\"}], \"heatmapgl\": [{\"colorbar\": {\"outlinewidth\": 0, \"ticks\": \"\"}, \"colorscale\": [[0.0, \"#0d0887\"], [0.1111111111111111, \"#46039f\"], [0.2222222222222222, \"#7201a8\"], [0.3333333333333333, \"#9c179e\"], [0.4444444444444444, \"#bd3786\"], [0.5555555555555556, \"#d8576b\"], [0.6666666666666666, \"#ed7953\"], [0.7777777777777778, \"#fb9f3a\"], [0.8888888888888888, \"#fdca26\"], [1.0, \"#f0f921\"]], \"type\": \"heatmapgl\"}], \"histogram\": [{\"marker\": {\"colorbar\": {\"outlinewidth\": 0, \"ticks\": \"\"}}, \"type\": \"histogram\"}], \"histogram2d\": [{\"colorbar\": {\"outlinewidth\": 0, \"ticks\": \"\"}, \"colorscale\": [[0.0, \"#0d0887\"], [0.1111111111111111, \"#46039f\"], [0.2222222222222222, \"#7201a8\"], [0.3333333333333333, \"#9c179e\"], [0.4444444444444444, \"#bd3786\"], [0.5555555555555556, \"#d8576b\"], [0.6666666666666666, \"#ed7953\"], [0.7777777777777778, \"#fb9f3a\"], [0.8888888888888888, \"#fdca26\"], [1.0, \"#f0f921\"]], \"type\": \"histogram2d\"}], \"histogram2dcontour\": [{\"colorbar\": {\"outlinewidth\": 0, \"ticks\": \"\"}, \"colorscale\": [[0.0, \"#0d0887\"], [0.1111111111111111, \"#46039f\"], [0.2222222222222222, \"#7201a8\"], [0.3333333333333333, \"#9c179e\"], [0.4444444444444444, \"#bd3786\"], [0.5555555555555556, \"#d8576b\"], [0.6666666666666666, \"#ed7953\"], [0.7777777777777778, \"#fb9f3a\"], [0.8888888888888888, \"#fdca26\"], [1.0, \"#f0f921\"]], \"type\": \"histogram2dcontour\"}], \"mesh3d\": [{\"colorbar\": {\"outlinewidth\": 0, \"ticks\": \"\"}, \"type\": \"mesh3d\"}], \"parcoords\": [{\"line\": {\"colorbar\": {\"outlinewidth\": 0, \"ticks\": \"\"}}, \"type\": \"parcoords\"}], \"pie\": [{\"automargin\": true, \"type\": \"pie\"}], \"scatter\": [{\"marker\": {\"colorbar\": {\"outlinewidth\": 0, \"ticks\": \"\"}}, \"type\": \"scatter\"}], \"scatter3d\": [{\"line\": {\"colorbar\": {\"outlinewidth\": 0, \"ticks\": \"\"}}, \"marker\": {\"colorbar\": {\"outlinewidth\": 0, \"ticks\": \"\"}}, \"type\": \"scatter3d\"}], \"scattercarpet\": [{\"marker\": {\"colorbar\": {\"outlinewidth\": 0, \"ticks\": \"\"}}, \"type\": \"scattercarpet\"}], \"scattergeo\": [{\"marker\": {\"colorbar\": {\"outlinewidth\": 0, \"ticks\": \"\"}}, \"type\": \"scattergeo\"}], \"scattergl\": [{\"marker\": {\"colorbar\": {\"outlinewidth\": 0, \"ticks\": \"\"}}, \"type\": \"scattergl\"}], \"scattermapbox\": [{\"marker\": {\"colorbar\": {\"outlinewidth\": 0, \"ticks\": \"\"}}, \"type\": \"scattermapbox\"}], \"scatterpolar\": [{\"marker\": {\"colorbar\": {\"outlinewidth\": 0, \"ticks\": \"\"}}, \"type\": \"scatterpolar\"}], \"scatterpolargl\": [{\"marker\": {\"colorbar\": {\"outlinewidth\": 0, \"ticks\": \"\"}}, \"type\": \"scatterpolargl\"}], \"scatterternary\": [{\"marker\": {\"colorbar\": {\"outlinewidth\": 0, \"ticks\": \"\"}}, \"type\": \"scatterternary\"}], \"surface\": [{\"colorbar\": {\"outlinewidth\": 0, \"ticks\": \"\"}, \"colorscale\": [[0.0, \"#0d0887\"], [0.1111111111111111, \"#46039f\"], [0.2222222222222222, \"#7201a8\"], [0.3333333333333333, \"#9c179e\"], [0.4444444444444444, \"#bd3786\"], [0.5555555555555556, \"#d8576b\"], [0.6666666666666666, \"#ed7953\"], [0.7777777777777778, \"#fb9f3a\"], [0.8888888888888888, \"#fdca26\"], [1.0, \"#f0f921\"]], \"type\": \"surface\"}], \"table\": [{\"cells\": {\"fill\": {\"color\": \"#EBF0F8\"}, \"line\": {\"color\": \"white\"}}, \"header\": {\"fill\": {\"color\": \"#C8D4E3\"}, \"line\": {\"color\": \"white\"}}, \"type\": \"table\"}]}, \"layout\": {\"annotationdefaults\": {\"arrowcolor\": \"#2a3f5f\", \"arrowhead\": 0, \"arrowwidth\": 1}, \"coloraxis\": {\"colorbar\": {\"outlinewidth\": 0, \"ticks\": \"\"}}, \"colorscale\": {\"diverging\": [[0, \"#8e0152\"], [0.1, \"#c51b7d\"], [0.2, \"#de77ae\"], [0.3, \"#f1b6da\"], [0.4, \"#fde0ef\"], [0.5, \"#f7f7f7\"], [0.6, \"#e6f5d0\"], [0.7, \"#b8e186\"], [0.8, \"#7fbc41\"], [0.9, \"#4d9221\"], [1, \"#276419\"]], \"sequential\": [[0.0, \"#0d0887\"], [0.1111111111111111, \"#46039f\"], [0.2222222222222222, \"#7201a8\"], [0.3333333333333333, \"#9c179e\"], [0.4444444444444444, \"#bd3786\"], [0.5555555555555556, \"#d8576b\"], [0.6666666666666666, \"#ed7953\"], [0.7777777777777778, \"#fb9f3a\"], [0.8888888888888888, \"#fdca26\"], [1.0, \"#f0f921\"]], \"sequentialminus\": [[0.0, \"#0d0887\"], [0.1111111111111111, \"#46039f\"], [0.2222222222222222, \"#7201a8\"], [0.3333333333333333, \"#9c179e\"], [0.4444444444444444, \"#bd3786\"], [0.5555555555555556, \"#d8576b\"], [0.6666666666666666, \"#ed7953\"], [0.7777777777777778, \"#fb9f3a\"], [0.8888888888888888, \"#fdca26\"], [1.0, \"#f0f921\"]]}, \"colorway\": [\"#636efa\", \"#EF553B\", \"#00cc96\", \"#ab63fa\", \"#FFA15A\", \"#19d3f3\", \"#FF6692\", \"#B6E880\", \"#FF97FF\", \"#FECB52\"], \"font\": {\"color\": \"#2a3f5f\"}, \"geo\": {\"bgcolor\": \"white\", \"lakecolor\": \"white\", \"landcolor\": \"#E5ECF6\", \"showlakes\": true, \"showland\": true, \"subunitcolor\": \"white\"}, \"hoverlabel\": {\"align\": \"left\"}, \"hovermode\": \"closest\", \"mapbox\": {\"style\": \"light\"}, \"paper_bgcolor\": \"white\", \"plot_bgcolor\": \"#E5ECF6\", \"polar\": {\"angularaxis\": {\"gridcolor\": \"white\", \"linecolor\": \"white\", \"ticks\": \"\"}, \"bgcolor\": \"#E5ECF6\", \"radialaxis\": {\"gridcolor\": \"white\", \"linecolor\": \"white\", \"ticks\": \"\"}}, \"scene\": {\"xaxis\": {\"backgroundcolor\": \"#E5ECF6\", \"gridcolor\": \"white\", \"gridwidth\": 2, \"linecolor\": \"white\", \"showbackground\": true, \"ticks\": \"\", \"zerolinecolor\": \"white\"}, \"yaxis\": {\"backgroundcolor\": \"#E5ECF6\", \"gridcolor\": \"white\", \"gridwidth\": 2, \"linecolor\": \"white\", \"showbackground\": true, \"ticks\": \"\", \"zerolinecolor\": \"white\"}, \"zaxis\": {\"backgroundcolor\": \"#E5ECF6\", \"gridcolor\": \"white\", \"gridwidth\": 2, \"linecolor\": \"white\", \"showbackground\": true, \"ticks\": \"\", \"zerolinecolor\": \"white\"}}, \"shapedefaults\": {\"line\": {\"color\": \"#2a3f5f\"}}, \"ternary\": {\"aaxis\": {\"gridcolor\": \"white\", \"linecolor\": \"white\", \"ticks\": \"\"}, \"baxis\": {\"gridcolor\": \"white\", \"linecolor\": \"white\", \"ticks\": \"\"}, \"bgcolor\": \"#E5ECF6\", \"caxis\": {\"gridcolor\": \"white\", \"linecolor\": \"white\", \"ticks\": \"\"}}, \"title\": {\"x\": 0.05}, \"xaxis\": {\"automargin\": true, \"gridcolor\": \"white\", \"linecolor\": \"white\", \"ticks\": \"\", \"title\": {\"standoff\": 15}, \"zerolinecolor\": \"white\", \"zerolinewidth\": 2}, \"yaxis\": {\"automargin\": true, \"gridcolor\": \"white\", \"linecolor\": \"white\", \"ticks\": \"\", \"title\": {\"standoff\": 15}, \"zerolinecolor\": \"white\", \"zerolinewidth\": 2}}}, \"title\": {\"text\": \"salary\"}, \"width\": 800},\n",
              "                        {\"responsive\": true}\n",
              "                    ).then(function(){\n",
              "                            \n",
              "var gd = document.getElementById('e7aa4dc3-4687-4990-8cb7-d5a7908d2848');\n",
              "var x = new MutationObserver(function (mutations, observer) {{\n",
              "        var display = window.getComputedStyle(gd).display;\n",
              "        if (!display || display === 'none') {{\n",
              "            console.log([gd, 'removed!']);\n",
              "            Plotly.purge(gd);\n",
              "            observer.disconnect();\n",
              "        }}\n",
              "}});\n",
              "\n",
              "// Listen for the removal of the full notebook cells\n",
              "var notebookContainer = gd.closest('#notebook-container');\n",
              "if (notebookContainer) {{\n",
              "    x.observe(notebookContainer, {childList: true});\n",
              "}}\n",
              "\n",
              "// Listen for the clearing of the current output cell\n",
              "var outputEl = gd.closest('.output');\n",
              "if (outputEl) {{\n",
              "    x.observe(outputEl, {childList: true});\n",
              "}}\n",
              "\n",
              "                        })\n",
              "                };\n",
              "                \n",
              "            </script>\n",
              "        </div>\n",
              "</body>\n",
              "</html>"
            ]
          },
          "metadata": {
            "tags": []
          }
        },
        {
          "output_type": "display_data",
          "data": {
            "text/html": [
              "<html>\n",
              "<head><meta charset=\"utf-8\" /></head>\n",
              "<body>\n",
              "    <div>\n",
              "            <script src=\"https://cdnjs.cloudflare.com/ajax/libs/mathjax/2.7.5/MathJax.js?config=TeX-AMS-MML_SVG\"></script><script type=\"text/javascript\">if (window.MathJax) {MathJax.Hub.Config({SVG: {font: \"STIX-Web\"}});}</script>\n",
              "                <script type=\"text/javascript\">window.PlotlyConfig = {MathJaxConfig: 'local'};</script>\n",
              "        <script src=\"https://cdn.plot.ly/plotly-latest.min.js\"></script>    \n",
              "            <div id=\"bb77bd90-c70d-4298-8ff1-0c1986ccdb07\" class=\"plotly-graph-div\" style=\"height:400px; width:800px;\"></div>\n",
              "            <script type=\"text/javascript\">\n",
              "                \n",
              "                    window.PLOTLYENV=window.PLOTLYENV || {};\n",
              "                    \n",
              "                if (document.getElementById(\"bb77bd90-c70d-4298-8ff1-0c1986ccdb07\")) {\n",
              "                    Plotly.newPlot(\n",
              "                        'bb77bd90-c70d-4298-8ff1-0c1986ccdb07',\n",
              "                        [{\"name\": \"undefine\", \"opacity\": 0.5, \"type\": \"histogram\", \"x\": [\"Vaughan, ON\", \"Toronto, ON\", \"Vaughan, ON\", \"Montr\\u00e9al, QC\", \"Toronto, ON\", \"Toronto, ON\", \"Toronto, ON\", \"Toronto, ON\", \"Vancouver, BC\", \"Toronto, ON\", \"Durham Region, ON\", \"Toronto, ON\", \"Montr\\u00e9al, QC\", \"Remote\", \"Montr\\u00e9al, QC\", \"Red Deer, AB\", \"Hamilton, ON\", \"Revelstoke, BC\", \"Pickering, ON\", \"Montr\\u00e9al, QC\", \"Toronto, ON\", \"Montr\\u00e9al, QC\", \"Montr\\u00e9al, QC\", \"Mississauga, ON\", \"Toronto, ON\", \"Aurora, ON\", \"Pickering, ON\", \"Toronto, ON\", \"Vancouver, BC\", \"Montr\\u00e9al, QC\", \"Greater Sudbury, ON\", \"Montr\\u00e9al, QC\", \"Toronto, ON\", \"Toronto, ON\", \"Toronto, ON\", \"Toronto, ON\", \"Brampton, ON\", \"Kitchener, ON\", \"Toronto, ON\", \"Pickering, ON\", \"Ontario\", \"Montr\\u00e9al, QC\", \"Toronto, ON\", \"Toronto, ON\", \"Montr\\u00e9al, QC\", \"Victoria, BC\", \"Oakville, ON\", \"Montr\\u00e9al, QC\", \"Hamilton, ON\", \"Calgary, AB\", \"Ottawa, ON\", \"Toronto, ON\", \"Montr\\u00e9al, QC\", \"Markham, ON\", \"Burnaby, BC\", \"Burlington, ON\", \"Toronto, ON\", \"Langley, BC\", \"Richmond, BC\", \"Aldouane, NB\", \"Pickering, ON\", \"Halifax, NS\", \"Toronto, ON\", \"Montr\\u00e9al, QC\", \"Greater Sudbury, ON\", \"Canada\", \"Remote\", \"Brampton, ON\", \"Fredericton, NB\", \"Montr\\u00e9al, QC\", \"Halton, ON\", \"Markham, ON\", \"North York, ON\", \"Toronto, ON\", \"Vancouver, BC\", \"York, ON\", \"Waterloo, ON\", \"Ottawa, ON\", \"Richmond Hill, ON\", \"Montr\\u00e9al, QC\", \"Toronto, ON\", \"Toronto, ON\", \"York, ON\", \"Brampton, ON\", \"Vancouver, BC\", \"Montr\\u00e9al, QC\", \"Burlington, ON\", \"Toronto, ON\", \"Montr\\u00e9al, QC\", \"Markham, ON\", \"Mississauga, ON\", \"Montr\\u00e9al, QC\", \"Toronto, ON\", \"Toronto, ON\", \"Barrie, ON\", \"Vaughan, ON\", \"Montr\\u00e9al, QC\", \"Markham, ON\", \"Surrey, BC\", \"Kitchener, ON\", \"Toronto, ON\", \"Toronto, ON\", \"Montr\\u00e9al, QC\", \"Montr\\u00e9al, QC\", \"Calgary, AB\", \"Toronto, ON\", \"Toronto, ON\", \"Richmond Hill, ON\", \"Toronto, ON\", \"Toronto, ON\", \"Toronto, ON\", \"Brampton, ON\", \"Toronto, ON\", \"Guelph, ON\", \"Richmond Hill, ON\", \"Calgary, AB\", \"Oakville, ON\", \"Markham, ON\", \"Toronto, ON\", \"Ottawa, ON\", \"Edmonton, AB\", \"Richmond Hill, ON\", \"Toronto, ON\", \"Montr\\u00e9al, QC\", \"Markham, ON\", \"Markham, ON\", \"Concord, ON\", \"Markham, ON\", \"Montr\\u00e9al, QC\", \"Vaughan, ON\", \"Coquitlam, BC\", \"Toronto, ON\", \"Calgary, AB\", \"Toronto, ON\", \"Toronto, ON\", \"Barrie, ON\", \"Toronto, ON\", \"Montr\\u00e9al, QC\", \"Halifax, NS\", \"Calgary, AB\", \"Toronto, ON\", \"Montr\\u00e9al, QC\", \"Burnaby, BC\", \"Vancouver, BC\", \"Oakville, ON\", \"Richmond Hill, ON\", \"Richmond Hill, ON\", \"Cambridge, ON\", \"Toronto, ON\", \"Toronto, ON\", \"Toronto, ON\", \"Montr\\u00e9al, QC\", \"Montr\\u00e9al, QC\", \"Mississauga, ON\", \"Montr\\u00e9al, QC\", \"Langley, BC\", \"Caledon, ON\", \"Montr\\u00e9al, QC\", \"Pickering, ON\", \"Montr\\u00e9al, QC\", \"Montr\\u00e9al, QC\", \"Toronto, ON\", \"Dieppe, NB\", \"Toronto, ON\", \"Montr\\u00e9al, QC\", \"Toronto, ON\", \"Saskatoon, SK\", \"Markham, ON\", \"Toronto, ON\", \"Barrie, ON\", \"Vaughan, ON\", \"Montr\\u00e9al, QC\", \"Toronto, ON\", \"Vancouver, BC\", \"Toronto, ON\", \"Caledon, ON\", \"Montr\\u00e9al, QC\", \"Toronto, ON\", \"London, ON\", \"Ottawa, ON\", \"Laval, QC\", \"Brampton, ON\", \"Halifax, NS\", \"Toronto, ON\", \"Richmond Hill, ON\", \"Vaughan, ON\", \"Barrie, ON\", \"Vancouver, BC\", \"British Columbia\", \"Canada\", \"Markham, ON\", \"Montr\\u00e9al, QC\", \"Toronto, ON\", \"Toronto, ON\", \"Pickering, ON\", \"Mississauga, ON\", \"Toronto, ON\", \"Montr\\u00e9al, QC\", \"Toronto, ON\", \"Toronto, ON\", \"Toronto, ON\", \"Westmount, QC\", \"Mississauga, ON\", \"Toronto, ON\", \"Toronto, ON\", \"Montr\\u00e9al, QC\", \"Vancouver, BC\", \"Richmond, BC\", \"Toronto, ON\", \"Richmond Hill, ON\", \"Toronto, ON\", \"Mississauga, ON\", \"Toronto, ON\", \"Brampton, ON\", \"Toronto, ON\", \"Scarborough, ON\", \"Calgary, AB\", \"Markham, ON\", \"Burnaby, BC\", \"Ottawa, ON\", \"Montr\\u00e9al, QC\", \"Vancouver, BC\", \"Toronto, ON\", \"Quebec City, QC\", \"Montr\\u00e9al, QC\", \"Toronto, ON\", \"Dorval, QC\", \"Toronto, ON\", \"Winnipeg, MB\", \"Toronto, ON\", \"Vancouver, BC\", \"Edmonton, AB\", \"East Angus, QC\", \"Brampton, ON\", \"Montr\\u00e9al, QC\", \"Toronto, ON\", \"Burnaby, BC\", \"Canada\", \"Toronto, ON\", \"Abbotsford, BC\", \"Sherbrooke, QC\", \"London, ON\", \"Montr\\u00e9al, QC\", \"Montr\\u00e9al, QC\", \"Calgary, AB\", \"Montr\\u00e9al, QC\", \"Toronto, ON\", \"Markham, ON\", \"Vancouver, BC\", \"Montr\\u00e9al, QC\", \"Montr\\u00e9al, QC\", \"Toronto, ON\", \"Montr\\u00e9al, QC\", \"Coquitlam, BC\", \"Saint-Laurent, QC\", \"Mississauga, ON\", \"Montr\\u00e9al, QC\", \"Montr\\u00e9al, QC\", \"Toronto, ON\", \"Toronto, ON\", \"Halifax, NS\", \"Vancouver, BC\", \"Vaughan, ON\", \"Vancouver, BC\", \"Vancouver, BC\", \"Toronto, ON\", \"Greater Toronto Area, ON\", \"Mississauga, ON\", \"Moncton, NB\", \"Markham, ON\", \"Montr\\u00e9al, QC\", \"Montr\\u00e9al, QC\", \"Toronto, ON\", \"Toronto, ON\", \"Markham, ON\", \"Markham, ON\", \"Concord, ON\", \"Acheson, AB\", \"Calgary, AB\", \"Acheson, AB\", \"Vancouver, BC\", \"Surrey, BC\", \"Markham, ON\", \"Montr\\u00e9al, QC\", \"Montr\\u00e9al, QC\", \"Toronto, ON\", \"Toronto, ON\", \"Mississauga, ON\", \"Mississauga, ON\", \"Vaughan, ON\", \"Surrey, BC\", \"Regina, SK\", \"Calgary, AB\", \"Ottawa, ON\", \"Markham, ON\", \"Toronto, ON\", \"Saint-Laurent, QC\", \"Montr\\u00e9al, QC\", \"Toronto, ON\", \"Montr\\u00e9al, QC\", \"Markham, ON\", \"Surrey, BC\", \"Guelph, ON\", \"Ottawa, ON\", \"Burnaby, BC\", \"Calgary, AB\", \"Toronto, ON\", \"Toronto, ON\", \"Ch\\u00e2teauguay, QC\", \"Toronto, ON\", \"Montr\\u00e9al, QC\", \"Ottawa, ON\", \"Montr\\u00e9al, QC\", \"Montr\\u00e9al, QC\", \"Calgary, AB\", \"Quebec City, QC\", \"Fredericton, NB\", \"Edmonton, AB\", \"Brantford, ON\", \"Winnipeg, MB\", \"Waterloo, ON\", \"Toronto, ON\", \"Toronto, ON\", \"Toronto, ON\", \"Toronto, ON\", \"Toronto, ON\", \"Toronto, ON\", \"Victoria, BC\", \"Burnaby, BC\", \"Quebec City, QC\", \"Calgary, AB\", \"Gatineau, QC\", \"Toronto, ON\", \"Barrie, ON\", \"Mississauga, ON\", \"Georgetown, ON\", \"Vancouver, BC\", \"Mississauga, ON\", \"Remote\", \"Regina, SK\", \"Montr\\u00e9al, QC\", \"Vancouver, BC\", \"Toronto, ON\", \"Toronto, ON\", \"Toronto, ON\", \"Mississauga, ON\", \"Coquitlam, BC\", \"Dorval, QC\", \"Scarborough, ON\", \"Winnipeg, MB\", \"Vancouver, BC\", \"Toronto, ON\", \"Toronto, ON\", \"Toronto, ON\", \"Toronto, ON\", \"Calgary, AB\", \"Burnaby, BC\", \"Toronto, ON\", \"Edmonton, AB\", \"Ottawa, ON\", \"Victoria, BC\", \"Toronto, ON\", \"Toronto, ON\", \"Edmonton, AB\", \"Metro Vancouver Regional District, BC\", \"Winnipeg, MB\", \"Winnipeg, MB\", \"Toronto, ON\", \"Winnipeg, MB\", \"Toronto, ON\", \"Montr\\u00e9al, QC\", \"Winnipeg, MB\", \"Toronto, ON\", \"Toronto, ON\", \"Toronto, ON\", \"Calgary, AB\", \"Burnaby, BC\", \"Toronto, ON\", \"Edmonton, AB\", \"Ottawa, ON\", \"Victoria, BC\", \"Toronto, ON\", \"Toronto, ON\", \"Edmonton, AB\", \"Metro Vancouver Regional District, BC\", \"Winnipeg, MB\", \"Winnipeg, MB\", \"Toronto, ON\", \"Edmonton, AB\", \"Ottawa, ON\", \"Montr\\u00e9al, QC\", \"Victoria, BC\", \"Toronto, ON\", \"Toronto, ON\", \"Edmonton, AB\", \"Metro Vancouver Regional District, BC\", \"Winnipeg, MB\", \"Winnipeg, MB\", \"Toronto, ON\", \"Montr\\u00e9al, QC\", \"Winnipeg, MB\", \"Toronto, ON\", \"Edmonton, AB\", \"Ottawa, ON\", \"Montr\\u00e9al, QC\", \"Victoria, BC\", \"Toronto, ON\", \"Toronto, ON\", \"Edmonton, AB\", \"Metro Vancouver Regional District, BC\", \"Winnipeg, MB\", \"Winnipeg, MB\", \"Toronto, ON\", \"Montr\\u00e9al, QC\", \"Winnipeg, MB\", \"Toronto, ON\", \"Toronto, ON\", \"Calgary, AB\", \"Burnaby, BC\", \"Toronto, ON\", \"Edmonton, AB\", \"Ottawa, ON\", \"Victoria, BC\", \"Toronto, ON\", \"Toronto, ON\", \"Edmonton, AB\", \"Metro Vancouver Regional District, BC\", \"Winnipeg, MB\", \"Winnipeg, MB\", \"Toronto, ON\", \"Edmonton, AB\", \"Ottawa, ON\", \"Montr\\u00e9al, QC\", \"Victoria, BC\", \"Toronto, ON\", \"Toronto, ON\", \"Edmonton, AB\", \"Metro Vancouver Regional District, BC\", \"Winnipeg, MB\", \"Winnipeg, MB\", \"Toronto, ON\", \"Montr\\u00e9al, QC\", \"Winnipeg, MB\", \"Toronto, ON\", \"Toronto, ON\", \"Calgary, AB\", \"Burnaby, BC\", \"Toronto, ON\", \"Edmonton, AB\", \"Ottawa, ON\", \"Victoria, BC\", \"Toronto, ON\", \"Toronto, ON\", \"Edmonton, AB\", \"Metro Vancouver Regional District, BC\", \"Winnipeg, MB\", \"Winnipeg, MB\", \"Toronto, ON\", \"Toronto, ON\", \"Calgary, AB\", \"Burnaby, BC\", \"Toronto, ON\", \"Edmonton, AB\", \"Ottawa, ON\", \"Victoria, BC\", \"Toronto, ON\", \"Toronto, ON\", \"Edmonton, AB\", \"Metro Vancouver Regional District, BC\", \"Winnipeg, MB\", \"Winnipeg, MB\", \"Toronto, ON\", \"Toronto, ON\", \"Toronto, ON\", \"Vancouver, BC\", \"Toronto, ON\", \"Vancouver, BC\", \"Burnaby, BC\", \"Toronto, ON\", \"Burnaby, BC\", \"Toronto, ON\", \"Toronto, ON\", \"Burnaby, BC\", \"Toronto, ON\", \"Ottawa, ON\", \"Halifax, NS\", \"Vaughan, ON\", \"Montr\\u00e9al, QC\", \"Vancouver, BC\", \"Toronto, ON\", \"Toronto, ON\", \"Halifax, NS\", \"Halifax, NS\", \"Montr\\u00e9al, QC\", \"Toronto, ON\", \"Mississauga, ON\", \"Montr\\u00e9al, QC\", \"Montr\\u00e9al, QC\", \"Montr\\u00e9al, QC\", \"Toronto, ON\", \"Montr\\u00e9al, QC\", \"Montr\\u00e9al, QC\", \"Montr\\u00e9al, QC\", \"Toronto, ON\", \"Montr\\u00e9al, QC\", \"Montr\\u00e9al, QC\", \"Vancouver, BC\", \"Vancouver, BC\", \"Ottawa, ON\", \"Edmonton, AB\", \"Iroquois, ON\", \"Toronto, ON\", \"Vancouver, BC\", \"Vancouver, BC\", \"Montr\\u00e9al, QC\", \"Montr\\u00e9al, QC\", \"Montr\\u00e9al, QC\", \"Montr\\u00e9al, QC\", \"Vancouver, BC\", \"Mississauga, ON\", \"Halifax, NS\", \"Westmount, QC\", \"Montr\\u00e9al, QC\", \"Montr\\u00e9al, QC\", \"Toronto, ON\", \"Calgary, AB\", \"Burnaby, BC\", \"Toronto, ON\", \"Edmonton, AB\", \"Ottawa, ON\", \"Victoria, BC\", \"Toronto, ON\", \"Toronto, ON\", \"Edmonton, AB\", \"Metro Vancouver Regional District, BC\", \"Winnipeg, MB\", \"Winnipeg, MB\", \"Toronto, ON\", \"Toronto, ON\", \"Calgary, AB\", \"Burnaby, BC\", \"Toronto, ON\", \"Edmonton, AB\", \"Ottawa, ON\", \"Victoria, BC\", \"Toronto, ON\", \"Toronto, ON\", \"Edmonton, AB\", \"Metro Vancouver Regional District, BC\", \"Winnipeg, MB\", \"Winnipeg, MB\", \"Toronto, ON\", \"Toronto, ON\", \"Calgary, AB\", \"Burnaby, BC\", \"Toronto, ON\", \"Edmonton, AB\", \"Ottawa, ON\", \"Victoria, BC\", \"Toronto, ON\", \"Toronto, ON\", \"Edmonton, AB\", \"Metro Vancouver Regional District, BC\", \"Winnipeg, MB\", \"Winnipeg, MB\", \"Toronto, ON\", \"Edmonton, AB\", \"Ottawa, ON\", \"Montr\\u00e9al, QC\", \"Victoria, BC\", \"Toronto, ON\", \"Toronto, ON\", \"Edmonton, AB\", \"Metro Vancouver Regional District, BC\", \"Winnipeg, MB\", \"Winnipeg, MB\", \"Toronto, ON\", \"Montr\\u00e9al, QC\", \"Winnipeg, MB\", \"Toronto, ON\", \"Calgary, AB\", \"Montr\\u00e9al, QC\", \"Vaughan, ON\", \"Vancouver, BC\", \"Toronto, ON\", \"Barrie, ON\", \"Montr\\u00e9al, QC\", \"Toronto, ON\", \"Vancouver, BC\", \"Edmonton, AB\", \"Victoria, BC\", \"Toronto, ON\", \"Edmonton, AB\", \"Vancouver, BC\", \"Mississauga, ON\", \"Metro Vancouver Regional District, BC\", \"Ottawa, ON\", \"Vancouver, BC\", \"Winnipeg, MB\", \"Toronto, ON\", \"Winnipeg, MB\", \"Toronto, ON\", \"Winnipeg, MB\", \"Toronto, ON\", \"Calgary, AB\", \"Burnaby, BC\", \"Toronto, ON\", \"Edmonton, AB\", \"Ottawa, ON\", \"Victoria, BC\", \"Toronto, ON\", \"Toronto, ON\", \"Edmonton, AB\", \"Metro Vancouver Regional District, BC\", \"Winnipeg, MB\", \"Winnipeg, MB\", \"Toronto, ON\", \"Toronto, ON\", \"Calgary, AB\", \"Burnaby, BC\", \"Toronto, ON\", \"Edmonton, AB\", \"Ottawa, ON\", \"Victoria, BC\", \"Toronto, ON\", \"Toronto, ON\", \"Edmonton, AB\", \"Metro Vancouver Regional District, BC\", \"Winnipeg, MB\", \"Winnipeg, MB\", \"Toronto, ON\", \"Edmonton, AB\", \"Ottawa, ON\", \"Montr\\u00e9al, QC\", \"Victoria, BC\", \"Toronto, ON\", \"Toronto, ON\", \"Edmonton, AB\", \"Metro Vancouver Regional District, BC\", \"Winnipeg, MB\", \"Winnipeg, MB\", \"Toronto, ON\", \"Montr\\u00e9al, QC\", \"Winnipeg, MB\", \"Toronto, ON\", \"Edmonton, AB\", \"Ottawa, ON\", \"Montr\\u00e9al, QC\", \"Victoria, BC\", \"Toronto, ON\", \"Toronto, ON\", \"Edmonton, AB\", \"Metro Vancouver Regional District, BC\", \"Winnipeg, MB\", \"Winnipeg, MB\", \"Toronto, ON\", \"Montr\\u00e9al, QC\", \"Winnipeg, MB\", \"Toronto, ON\", \"Edmonton, AB\", \"Ottawa, ON\", \"Montr\\u00e9al, QC\", \"Victoria, BC\", \"Toronto, ON\", \"Toronto, ON\", \"Edmonton, AB\", \"Metro Vancouver Regional District, BC\", \"Winnipeg, MB\", \"Winnipeg, MB\", \"Toronto, ON\", \"Montr\\u00e9al, QC\", \"Winnipeg, MB\", \"Toronto, ON\", \"Toronto, ON\", \"Calgary, AB\", \"Burnaby, BC\", \"Toronto, ON\", \"Edmonton, AB\", \"Ottawa, ON\", \"Victoria, BC\", \"Toronto, ON\", \"Toronto, ON\", \"Edmonton, AB\", \"Metro Vancouver Regional District, BC\", \"Winnipeg, MB\", \"Winnipeg, MB\", \"Toronto, ON\", \"Edmonton, AB\", \"Ottawa, ON\", \"Montr\\u00e9al, QC\", \"Victoria, BC\", \"Toronto, ON\", \"Toronto, ON\", \"Edmonton, AB\", \"Metro Vancouver Regional District, BC\", \"Winnipeg, MB\", \"Winnipeg, MB\", \"Toronto, ON\", \"Montr\\u00e9al, QC\", \"Winnipeg, MB\", \"Toronto, ON\", \"Edmonton, AB\", \"Ottawa, ON\", \"Montr\\u00e9al, QC\", \"Victoria, BC\", \"Toronto, ON\", \"Toronto, ON\", \"Edmonton, AB\", \"Metro Vancouver Regional District, BC\", \"Winnipeg, MB\", \"Winnipeg, MB\", \"Toronto, ON\", \"Montr\\u00e9al, QC\", \"Winnipeg, MB\", \"Toronto, ON\", \"Edmonton, AB\", \"Ottawa, ON\", \"Montr\\u00e9al, QC\", \"Victoria, BC\", \"Toronto, ON\", \"Toronto, ON\", \"Edmonton, AB\", \"Metro Vancouver Regional District, BC\", \"Winnipeg, MB\", \"Winnipeg, MB\", \"Toronto, ON\", \"Montr\\u00e9al, QC\", \"Winnipeg, MB\", \"Toronto, ON\", \"Toronto, ON\", \"Calgary, AB\", \"Burnaby, BC\", \"Toronto, ON\", \"Edmonton, AB\", \"Ottawa, ON\", \"Victoria, BC\", \"Toronto, ON\", \"Toronto, ON\", \"Edmonton, AB\", \"Metro Vancouver Regional District, BC\", \"Winnipeg, MB\", \"Winnipeg, MB\", \"Toronto, ON\", \"Toronto, ON\", \"Calgary, AB\", \"Burnaby, BC\", \"Toronto, ON\", \"Edmonton, AB\", \"Ottawa, ON\", \"Victoria, BC\", \"Toronto, ON\", \"Toronto, ON\", \"Edmonton, AB\", \"Metro Vancouver Regional District, BC\", \"Winnipeg, MB\", \"Winnipeg, MB\", \"Toronto, ON\", \"Edmonton, AB\", \"Ottawa, ON\", \"Montr\\u00e9al, QC\", \"Victoria, BC\", \"Toronto, ON\", \"Toronto, ON\", \"Edmonton, AB\", \"Metro Vancouver Regional District, BC\", \"Winnipeg, MB\", \"Winnipeg, MB\", \"Toronto, ON\", \"Montr\\u00e9al, QC\", \"Winnipeg, MB\", \"Toronto, ON\", \"Edmonton, AB\", \"Ottawa, ON\", \"Montr\\u00e9al, QC\", \"Victoria, BC\", \"Toronto, ON\", \"Toronto, ON\", \"Edmonton, AB\", \"Metro Vancouver Regional District, BC\", \"Winnipeg, MB\", \"Winnipeg, MB\", \"Toronto, ON\", \"Montr\\u00e9al, QC\", \"Winnipeg, MB\", \"Toronto, ON\", \"Ottawa, ON\", \"Toronto, ON\", \"Vancouver, BC\", \"Toronto, ON\", \"Vancouver, BC\", \"Montr\\ufffd\\ufffdal\", \"Calgary, AB\", \"Edmonton, AB\", \"Toronto, ON\", \"Edmonton, AB\", \"Winnipeg, MB\", \"Winnipeg, MB\", \"Victoria, BC\", \"Metro Vancouver Regional District, BC\", \"Burnaby, BC\", \"Mississauga, ON\", \"Vancouver, BC\", \"Ottawa, ON\", \"Calgary, AB\", \"Edmonton, AB\", \"Edmonton, AB\", \"Montr\\ufffd\\ufffdal\", \"Toronto, ON\", \"Winnipeg, MB\", \"Toronto, ON\", \"Vancouver, BC\", \"Victoria, BC\", \"Winnipeg, MB\", \"Winnipeg, MB\", \"Ottawa, ON\", \"Toronto, ON\", \"Vancouver, BC\", \"Toronto, ON\", \"Vancouver, BC\", \"Montr\\ufffd\\ufffdal\", \"Calgary, AB\", \"Edmonton, AB\", \"Toronto, ON\", \"Edmonton, AB\", \"Winnipeg, MB\", \"Winnipeg, MB\", \"Victoria, BC\", \"Metro Vancouver Regional District, BC\", \"Toronto, ON\", \"Toronto, ON\", \"Toronto, ON\", \"Ottawa, ON\", \"Vancouver, BC\", \"Toronto, ON\", \"Burnaby, BC\", \"Montr\\ufffd\\ufffdal\", \"Calgary, AB\", \"Edmonton, AB\", \"Toronto, ON\", \"Edmonton, AB\", \"Winnipeg, MB\", \"Winnipeg, MB\", \"Victoria, BC\", \"Ottawa, ON\", \"Toronto, ON\", \"Vancouver, BC\", \"Toronto, ON\", \"Vancouver, BC\", \"Montr\\ufffd\\ufffdal\", \"Calgary, AB\", \"Edmonton, AB\", \"Toronto, ON\", \"Edmonton, AB\", \"Winnipeg, MB\", \"Winnipeg, MB\", \"Victoria, BC\", \"Metro Vancouver Regional District, BC\", \"Barrie, ON\", \"Montr\\ufffd\\ufffdal\", \"Toronto, ON\", \"Toronto, ON\", \"Montr\\ufffd\\ufffdal\", \"Saint-C\\ufffd\\ufffdsaire\", \"Toronto, ON\", \"Toronto, ON\", \"London, ON\", \"Barrie, ON\", \"Montr\\ufffd\\ufffdal\", \"Toronto, ON\", \"Toronto, ON\", \"Montr\\ufffd\\ufffdal\", \"Saint-C\\ufffd\\ufffdsaire\", \"Toronto, ON\", \"Toronto, ON\", \"Toronto, ON\", \"Ottawa, ON\", \"Vancouver, BC\", \"Toronto, ON\", \"Burnaby, BC\", \"Montr\\ufffd\\ufffdal\", \"Calgary, AB\", \"Edmonton, AB\", \"Toronto, ON\", \"Edmonton, AB\", \"Winnipeg, MB\", \"Winnipeg, MB\", \"Victoria, BC\", \"Toronto, ON\", \"Ottawa, ON\", \"Toronto, ON\", \"Vancouver, BC\", \"Toronto, ON\", \"Vancouver, BC\", \"Montr\\ufffd\\ufffdal\", \"Calgary, AB\", \"Edmonton, AB\", \"Toronto, ON\", \"Edmonton, AB\", \"Winnipeg, MB\", \"Winnipeg, MB\", \"Victoria, BC\", \"Metro Vancouver Regional District, BC\", \"Ottawa, ON\", \"Toronto, ON\", \"Vancouver, BC\", \"Toronto, ON\", \"Vancouver, BC\", \"Montr\\ufffd\\ufffdal\", \"Calgary, AB\", \"Edmonton, AB\", \"Toronto, ON\", \"Edmonton, AB\", \"Winnipeg, MB\", \"Winnipeg, MB\", \"Victoria, BC\", \"Metro Vancouver Regional District, BC\", \"Toronto, ON\", \"Toronto, ON\", \"Ottawa, ON\", \"Vancouver, BC\", \"Toronto, ON\", \"Burnaby, BC\", \"Montr\\ufffd\\ufffdal\", \"Calgary, AB\", \"Edmonton, AB\", \"Toronto, ON\", \"Edmonton, AB\", \"Winnipeg, MB\", \"Winnipeg, MB\", \"Victoria, BC\", \"Ottawa, ON\", \"Toronto, ON\", \"Vancouver, BC\", \"Toronto, ON\", \"Vancouver, BC\", \"Montr\\ufffd\\ufffdal\", \"Calgary, AB\", \"Edmonton, AB\", \"Toronto, ON\", \"Edmonton, AB\", \"Winnipeg, MB\", \"Winnipeg, MB\", \"Victoria, BC\", \"Metro Vancouver Regional District, BC\", \"Ottawa, ON\", \"Toronto, ON\", \"Vancouver, BC\", \"Toronto, ON\", \"Vancouver, BC\", \"Montr\\ufffd\\ufffdal\", \"Calgary, AB\", \"Edmonton, AB\", \"Toronto, ON\", \"Edmonton, AB\", \"Winnipeg, MB\", \"Winnipeg, MB\", \"Victoria, BC\", \"Metro Vancouver Regional District, BC\", \"Ottawa, ON\", \"Toronto, ON\", \"Vancouver, BC\", \"Toronto, ON\", \"Vancouver, BC\", \"Montr\\ufffd\\ufffdal\", \"Calgary, AB\", \"Edmonton, AB\", \"Toronto, ON\", \"Edmonton, AB\", \"Winnipeg, MB\", \"Winnipeg, MB\", \"Victoria, BC\", \"Metro Vancouver Regional District, BC\", \"Barrie, ON\", \"Montr\\ufffd\\ufffdal\", \"Toronto, ON\", \"Toronto, ON\", \"Montr\\ufffd\\ufffdal\", \"Saint-C\\ufffd\\ufffdsaire\", \"Toronto, ON\", \"Toronto, ON\", \"Montr\\ufffd\\ufffdal\", \"Vancouver, BC\", \"Barrie, ON\", \"Montr\\ufffd\\ufffdal\", \"Toronto, ON\", \"Toronto, ON\", \"Toronto, ON\", \"Montr\\ufffd\\ufffdal\", \"Saint-C\\ufffd\\ufffdsaire\", \"Toronto, ON\", \"Toronto, ON\", \"Toronto, ON\", \"Montr\\ufffd\\ufffdal\", \"Ottawa, ON\", \"Toronto, ON\", \"Vancouver, BC\", \"Toronto, ON\", \"Vancouver, BC\", \"Montr\\ufffd\\ufffdal\", \"Calgary, AB\", \"Edmonton, AB\", \"Toronto, ON\", \"Edmonton, AB\", \"Winnipeg, MB\", \"Winnipeg, MB\", \"Victoria, BC\", \"Metro Vancouver Regional District, BC\", \"Toronto, ON\", \"Toronto, ON\", \"Ottawa, ON\", \"Vancouver, BC\", \"Toronto, ON\", \"Burnaby, BC\", \"Montr\\ufffd\\ufffdal\", \"Calgary, AB\", \"Edmonton, AB\", \"Toronto, ON\", \"Edmonton, AB\", \"Winnipeg, MB\", \"Winnipeg, MB\", \"Victoria, BC\", \"Ottawa, ON\", \"Toronto, ON\", \"Vancouver, BC\", \"Toronto, ON\", \"Vancouver, BC\", \"Montr\\ufffd\\ufffdal\", \"Calgary, AB\", \"Edmonton, AB\", \"Toronto, ON\", \"Edmonton, AB\", \"Winnipeg, MB\", \"Winnipeg, MB\", \"Victoria, BC\", \"Metro Vancouver Regional District, BC\", \"Toronto, ON\", \"Toronto, ON\", \"Ottawa, ON\", \"Vancouver, BC\", \"Toronto, ON\", \"Burnaby, BC\", \"Montr\\ufffd\\ufffdal\", \"Calgary, AB\", \"Edmonton, AB\", \"Toronto, ON\", \"Edmonton, AB\", \"Winnipeg, MB\", \"Winnipeg, MB\", \"Victoria, BC\", \"Ottawa, ON\", \"Montr\\u00e9al, QC\", \"Edmonton, AB\", \"Toronto, ON\", \"Edmonton, AB\", \"Toronto, ON\", \"Victoria, BC\", \"Toronto, ON\", \"Toronto, ON\", \"Metro Vancouver Regional District, BC\", \"Montr\\u00e9al, QC\", \"Winnipeg, MB\", \"Toronto, ON\", \"Winnipeg, MB\", \"Vancouver, BC\", \"Montr\\u00e9al, QC\", \"Calgary, AB\", \"Toronto, ON\", \"Barrie, ON\", \"Montr\\u00e9al, QC\", \"Mississauga, ON\", \"Markham, ON\", \"Scarborough, ON\", \"Calgary, AB\", \"Ottawa, ON\", \"Edmonton, AB\", \"Toronto, ON\", \"Edmonton, AB\", \"Toronto, ON\", \"Victoria, BC\", \"Toronto, ON\", \"Toronto, ON\", \"Metro Vancouver Regional District, BC\", \"Winnipeg, MB\", \"Toronto, ON\", \"Winnipeg, MB\", \"Ottawa, ON\", \"Montr\\u00e9al, QC\", \"Edmonton, AB\", \"Toronto, ON\", \"Edmonton, AB\", \"Toronto, ON\", \"Victoria, BC\", \"Toronto, ON\", \"Toronto, ON\", \"Metro Vancouver Regional District, BC\", \"Montr\\u00e9al, QC\", \"Winnipeg, MB\", \"Toronto, ON\", \"Winnipeg, MB\", \"Ottawa, ON\", \"Montr\\u00e9al, QC\", \"Edmonton, AB\", \"Toronto, ON\", \"Edmonton, AB\", \"Toronto, ON\", \"Victoria, BC\", \"Toronto, ON\", \"Toronto, ON\", \"Metro Vancouver Regional District, BC\", \"Montr\\u00e9al, QC\", \"Winnipeg, MB\", \"Toronto, ON\", \"Winnipeg, MB\", \"Ottawa, ON\", \"Montr\\u00e9al, QC\", \"Edmonton, AB\", \"Toronto, ON\", \"Edmonton, AB\", \"Toronto, ON\", \"Victoria, BC\", \"Toronto, ON\", \"Toronto, ON\", \"Metro Vancouver Regional District, BC\", \"Montr\\u00e9al, QC\", \"Winnipeg, MB\", \"Toronto, ON\", \"Winnipeg, MB\", \"Ottawa, ON\", \"Montr\\u00e9al, QC\", \"Edmonton, AB\", \"Toronto, ON\", \"Edmonton, AB\", \"Toronto, ON\", \"Victoria, BC\", \"Toronto, ON\", \"Toronto, ON\", \"Metro Vancouver Regional District, BC\", \"Montr\\u00e9al, QC\", \"Winnipeg, MB\", \"Toronto, ON\", \"Winnipeg, MB\", \"Ottawa, ON\", \"Montr\\u00e9al, QC\", \"Edmonton, AB\", \"Toronto, ON\", \"Edmonton, AB\", \"Toronto, ON\", \"Victoria, BC\", \"Toronto, ON\", \"Toronto, ON\", \"Metro Vancouver Regional District, BC\", \"Montr\\u00e9al, QC\", \"Winnipeg, MB\", \"Toronto, ON\", \"Winnipeg, MB\", \"Ottawa, ON\", \"Montr\\u00e9al, QC\", \"Edmonton, AB\", \"Toronto, ON\", \"Edmonton, AB\", \"Toronto, ON\", \"Victoria, BC\", \"Toronto, ON\", \"Toronto, ON\", \"Metro Vancouver Regional District, BC\", \"Montr\\u00e9al, QC\", \"Winnipeg, MB\", \"Toronto, ON\", \"Winnipeg, MB\", \"Scarborough, ON\", \"Calgary, AB\", \"Ottawa, ON\", \"Edmonton, AB\", \"Toronto, ON\", \"Edmonton, AB\", \"Toronto, ON\", \"Victoria, BC\", \"Toronto, ON\", \"Toronto, ON\", \"Metro Vancouver Regional District, BC\", \"Winnipeg, MB\", \"Toronto, ON\", \"Winnipeg, MB\", \"Ottawa, ON\", \"Montr\\u00e9al, QC\", \"Edmonton, AB\", \"Toronto, ON\", \"Edmonton, AB\", \"Toronto, ON\", \"Victoria, BC\", \"Toronto, ON\", \"Toronto, ON\", \"Metro Vancouver Regional District, BC\", \"Montr\\u00e9al, QC\", \"Winnipeg, MB\", \"Toronto, ON\", \"Winnipeg, MB\", \"Montr\\u00e9al, QC\", \"Calgary, AB\", \"Laval, QC\", \"Vancouver, BC\", \"Toronto, ON\", \"Barrie, ON\", \"Montr\\u00e9al, QC\", \"Markham, ON\", \"Ottawa, ON\", \"Montr\\u00e9al, QC\", \"Edmonton, AB\", \"Toronto, ON\", \"Edmonton, AB\", \"Toronto, ON\", \"Victoria, BC\", \"Toronto, ON\", \"Toronto, ON\", \"Metro Vancouver Regional District, BC\", \"Montr\\u00e9al, QC\", \"Winnipeg, MB\", \"Toronto, ON\", \"Winnipeg, MB\", \"Ottawa, ON\", \"Montr\\u00e9al, QC\", \"Edmonton, AB\", \"Toronto, ON\", \"Edmonton, AB\", \"Toronto, ON\", \"Victoria, BC\", \"Toronto, ON\", \"Toronto, ON\", \"Metro Vancouver Regional District, BC\", \"Montr\\u00e9al, QC\", \"Winnipeg, MB\", \"Toronto, ON\", \"Winnipeg, MB\", \"Ottawa, ON\", \"Montr\\u00e9al, QC\", \"Edmonton, AB\", \"Toronto, ON\", \"Edmonton, AB\", \"Toronto, ON\", \"Victoria, BC\", \"Toronto, ON\", \"Toronto, ON\", \"Metro Vancouver Regional District, BC\", \"Montr\\u00e9al, QC\", \"Winnipeg, MB\", \"Toronto, ON\", \"Winnipeg, MB\", \"Scarborough, ON\", \"Calgary, AB\", \"Ottawa, ON\", \"Edmonton, AB\", \"Toronto, ON\", \"Edmonton, AB\", \"Toronto, ON\", \"Victoria, BC\", \"Toronto, ON\", \"Toronto, ON\", \"Metro Vancouver Regional District, BC\", \"Winnipeg, MB\", \"Toronto, ON\", \"Winnipeg, MB\", \"Scarborough, ON\", \"Calgary, AB\", \"Ottawa, ON\", \"Edmonton, AB\", \"Toronto, ON\", \"Edmonton, AB\", \"Toronto, ON\", \"Victoria, BC\", \"Toronto, ON\", \"Toronto, ON\", \"Metro Vancouver Regional District, BC\", \"Winnipeg, MB\", \"Toronto, ON\", \"Winnipeg, MB\", \"Scarborough, ON\", \"Calgary, AB\", \"Ottawa, ON\", \"Edmonton, AB\", \"Toronto, ON\", \"Edmonton, AB\", \"Toronto, ON\", \"Victoria, BC\", \"Toronto, ON\", \"Toronto, ON\", \"Metro Vancouver Regional District, BC\", \"Winnipeg, MB\", \"Toronto, ON\", \"Winnipeg, MB\", \"Ottawa, ON\", \"Montr\\u00e9al, QC\", \"Edmonton, AB\", \"Toronto, ON\", \"Edmonton, AB\", \"Toronto, ON\", \"Victoria, BC\", \"Toronto, ON\", \"Toronto, ON\", \"Metro Vancouver Regional District, BC\", \"Montr\\u00e9al, QC\", \"Winnipeg, MB\", \"Toronto, ON\", \"Winnipeg, MB\", \"Scarborough, ON\", \"Calgary, AB\", \"Ottawa, ON\", \"Edmonton, AB\", \"Toronto, ON\", \"Edmonton, AB\", \"Toronto, ON\", \"Victoria, BC\", \"Toronto, ON\", \"Toronto, ON\", \"Metro Vancouver Regional District, BC\", \"Winnipeg, MB\", \"Toronto, ON\", \"Winnipeg, MB\"]}, {\"name\": \"university\", \"opacity\": 0.5, \"type\": \"histogram\", \"x\": [\"Toronto, ON\", \"Remote\", \"Montr\\u00e9al, QC\", \"Guelph, ON\", \"Toronto, ON\", \"Mississauga, ON\", \"Mississauga, ON\", \"Toronto, ON\", \"Toronto, ON\", \"Toronto, ON\", \"Toronto, ON\", \"Toronto, ON\", \"Calgary, AB\", \"Laval, QC\", \"Toronto, ON\", \"Waterloo, ON\", \"Montr\\u00e9al, QC\", \"Toronto, ON\", \"L\\u00e9vis, QC\", \"Montr\\u00e9al, QC\", \"Calgary, AB\", \"Ottawa, ON\", \"Toronto, ON\", \"Toronto, ON\", \"Toronto, ON\", \"Winnipeg, MB\", \"Toronto, ON\", \"Kirkland, QC\", \"Concord, ON\", \"Montr\\u00e9al, QC\", \"Montr\\u00e9al, QC\", \"Victoria, BC\", \"LaSalle, ON\", \"Montr\\u00e9al, QC\", \"British Columbia\", \"Toronto, ON\", \"Toronto, ON\", \"Toronto, ON\", \"Moncton, NB\", \"Montr\\u00e9al, QC\", \"Vancouver, BC\", \"Montr\\u00e9al, QC\", \"Markham, ON\", \"Montr\\u00e9al, QC\", \"Vancouver, BC\", \"Kitchener, ON\", \"Etobicoke, ON\", \"Calgary, AB\", \"Kelowna, BC\", \"Toronto, ON\", \"Winnipeg, MB\", \"Montr\\u00e9al, QC\", \"Victoria, BC\", \"Edmonton, AB\", \"Charlottetown, PE\", \"Markham, ON\", \"Markham, ON\", \"Toronto, ON\", \"Richmond, BC\", \"Toronto, ON\", \"Surrey, BC\", \"Toronto, ON\", \"Markham, ON\", \"Winnipeg, MB\", \"Anjou, QC\", \"Vancouver, BC\", \"Mississauga, ON\", \"Burnaby, BC\", \"Ottawa, ON\", \"Markham, ON\", \"Winnipeg, MB\", \"Montr\\u00e9al, QC\", \"London, ON\", \"Montr\\u00e9al, QC\", \"Ontario\", \"Edmonton, AB\", \"Toronto, ON\", \"Gatineau, QC\", \"Edmonton, AB\", \"Pointe-Claire, QC\", \"Toronto, ON\", \"Edmonton, AB\", \"Ottawa, ON\", \"Hamilton, ON\", \"Montr\\u00e9al, QC\", \"Mississauga, ON\", \"Toronto, ON\", \"Moncton, NB\", \"Edmonton, AB\", \"Montr\\u00e9al, QC\", \"Moncton, NB\", \"Montr\\u00e9al, QC\", \"Toronto, ON\", \"Brampton, ON\", \"Toronto, ON\", \"Saint-Laurent, QC\", \"Montr\\u00e9al, QC\", \"Waterloo, ON\", \"Toronto, ON\", \"Ottawa, ON\", \"Langford, BC\", \"Mississauga, ON\", \"Saint-Hubert, QC\", \"Toronto, ON\", \"Mississauga, ON\", \"Montr\\u00e9al, QC\", \"Markham, ON\", \"Canada\", \"Montr\\u00e9al, QC\", \"Quebec City, QC\", \"Toronto, ON\", \"Dorval, QC\", \"Richmond, BC\", \"Victoria, BC\", \"Victoria, BC\", \"Montr\\u00e9al, QC\", \"Toronto, ON\", \"Ottawa, ON\", \"Toronto, ON\", \"Surrey, BC\", \"Mississauga, ON\", \"Toronto, ON\", \"Toronto, ON\", \"Toronto, ON\", \"Montr\\u00e9al, QC\", \"Toronto, ON\", \"Toronto, ON\", \"Toronto, ON\", \"Toronto, ON\", \"Hamilton, ON\", \"Toronto, ON\", \"Toronto, ON\", \"London, ON\", \"Montr\\u00e9al, QC\", \"Toronto, ON\", \"Montr\\u00e9al, QC\", \"Toronto, ON\", \"Edmonton, AB\", \"Vancouver, BC\", \"Halifax, NS\", \"Dartmouth, NS\", \"Moncton, NB\", \"Toronto, ON\", \"Vancouver, BC\", \"Valcourt, QC\", \"Surrey, BC\", \"Dorval, QC\", \"Montr\\u00e9al, QC\", \"Mississauga, ON\", \"Montr\\u00e9al, QC\", \"Toronto, ON\", \"Toronto, ON\", \"Vancouver, BC\", \"Vancouver, BC\", \"Toronto, ON\", \"Burnaby, BC\", \"Vancouver, BC\", \"Edmonton, AB\", \"Vancouver, BC\", \"Victoria, BC\", \"Saint-Laurent, QC\", \"Mississauga, ON\", \"Victoria, BC\", \"Bromont, QC\", \"Surrey, BC\", \"Dorval, QC\", \"Toronto, ON\", \"Toronto, ON\", \"Dorval, QC\", \"Burnaby, BC\", \"Victoria, BC\", \"Winnipeg, MB\", \"Mississauga, ON\", \"Mississauga, ON\", \"Vancouver, BC\", \"Calgary, AB\", \"Montr\\u00e9al, QC\", \"Waterloo, ON\", \"Halifax, NS\", \"Mississauga, ON\", \"Toronto, ON\", \"Surrey, BC\", \"Dorval, QC\", \"Surrey, BC\", \"Bromont, QC\", \"Delta, BC\", \"Montr\\u00e9al, QC\", \"Montr\\u00e9al, QC\", \"Vaughan, ON\", \"Toronto, ON\", \"Barrie, ON\", \"Vancouver, BC\", \"Quebec City, QC\", \"Winnipeg, MB\", \"Toronto, ON\", \"Toronto, ON\", \"Markham, ON\", \"Edmonton, AB\", \"Toronto, ON\", \"Toronto, ON\", \"Surrey, BC\", \"Kingsville, ON\", \"Surrey, BC\", \"Vancouver, BC\", \"Toronto, ON\", \"Calgary, AB\", \"Winnipeg, MB\", \"Remote\", \"Toronto, ON\", \"Saint John, NB\", \"Brampton, ON\", \"Montr\\u00e9al, QC\", \"Montr\\u00e9al, QC\", \"Toronto, ON\", \"Gatineau, QC\", \"Toronto, ON\", \"Winnipeg, MB\", \"Saint John, NB\", \"Ajax, ON\", \"Dartmouth, NS\", \"Montr\\u00e9al, QC\", \"Vancouver, BC\", \"Laval, QC\", \"Toronto, ON\", \"Anjou, QC\", \"Mississauga, ON\", \"Quebec City, QC\", \"Montr\\u00e9al, QC\", \"Quebec City, QC\", \"Toronto, ON\", \"Toronto, ON\", \"Moncton, NB\", \"Montr\\u00e9al, QC\", \"St. Catharines, ON\", \"Dorval, QC\", \"Montr\\u00e9al, QC\", \"Saint-Hubert, QC\", \"Montr\\u00e9al, QC\", \"Brampton, ON\", \"Winnipeg, MB\", \"Winnipeg, MB\", \"Toronto, ON\", \"Toronto, ON\", \"Mississauga, ON\", \"London, ON\", \"Oakville, ON\", \"Mississauga, ON\", \"Etobicoke, ON\", \"Montr\\u00e9al, QC\", \"Montr\\u00e9al, QC\", \"Toronto, ON\", \"Toronto, ON\", \"Toronto, ON\", \"Toronto, ON\", \"Toronto, ON\", \"Toronto, ON\", \"Toronto, ON\", \"Toronto, ON\", \"Toronto, ON\", \"Toronto, ON\", \"Toronto, ON\", \"Toronto, ON\", \"Toronto, ON\", \"Toronto, ON\", \"Mississauga, ON\", \"Saint-Laurent, QC\", \"Dorval, QC\", \"Toronto, ON\", \"Richmond Hill, ON\", \"Toronto, ON\", \"Mississauga, ON\", \"Burnaby, BC\", \"Vancouver, BC\", \"Toronto, ON\", \"Richmond, BC\", \"Toronto, ON\", \"Richmond, BC\", \"Toronto, ON\", \"Toronto, ON\", \"Saint John, NB\", \"Toronto, ON\", \"Toronto, ON\"]}, {\"name\": \"secondary\", \"opacity\": 0.5, \"type\": \"histogram\", \"x\": [\"Hamilton, ON\", \"Toronto, ON\", \"Hamilton, ON\", \"Burnaby, BC\", \"Toronto, ON\", \"North York, ON\", \"Toronto, ON\", \"Calgary, AB\", \"Toronto, ON\", \"Toronto, ON\", \"Richmond Hill, ON\", \"Kelowna, BC\", \"Toronto, ON\", \"Toronto, ON\", \"Montr\\u00e9al, QC\", \"Toronto, ON\", \"Toronto, ON\", \"Victoria, BC\", \"Ottawa, ON\", \"Montr\\u00e9al, QC\", \"Ottawa, ON\", \"Montr\\u00e9al, QC\", \"Halifax, NS\", \"Ontario\", \"Ontario\", \"Mississauga, ON\", \"Toronto, ON\", \"Ontario\", \"Toronto, ON\", \"Toronto, ON\", \"Calgary, AB\", \"Winnipeg, MB\", \"Halifax, NS\", \"Ottawa, ON\", \"Mississauga, ON\", \"Ottawa, ON\", \"Mississauga, ON\"]}, {\"name\": \"graduate\", \"opacity\": 0.5, \"type\": \"histogram\", \"x\": [\"Stellarton, NS\", \"Toronto, ON\", \"Ottawa, ON\", \"Calgary, AB\", \"Toronto, ON\", \"Toronto, ON\", \"Longueuil, QC\", \"Vancouver, BC\", \"Kingston, ON\", \"Montr\\u00e9al, QC\", \"Toronto, ON\", \"Sydney, NS\", \"Montr\\u00e9al, QC\", \"Comox, BC\", \"Vancouver, BC\", \"Brampton, ON\", \"Burnaby, BC\", \"Calgary, AB\", \"Montr\\u00e9al, QC\", \"Brampton, ON\", \"Montr\\u00e9al, QC\", \"Toronto, ON\", \"Edmonton, AB\", \"Toronto, ON\", \"Kelowna, BC\", \"Calgary, AB\", \"Montr\\u00e9al, QC\", \"Mississauga, ON\", \"Surrey, BC\", \"Toronto, ON\", \"Mississauga, ON\", \"Sherbrooke, QC\", \"Montr\\u00e9al, QC\", \"Waterloo, ON\", \"Mississauga, ON\", \"Toronto, ON\", \"Burnaby, BC\", \"Vancouver, BC\", \"Vancouver, BC\", \"Sherbrooke, QC\", \"Vancouver, BC\", \"Toronto, ON\", \"Toronto, ON\", \"Toronto, ON\", \"Toronto, ON\", \"Vancouver, BC\", \"Vancouver, BC\", \"Burnaby, BC\", \"Quebec Province\", \"Mississauga, ON\", \"Montr\\u00e9al, QC\", \"Burnaby, BC\", \"Montr\\u00e9al, QC\", \"Vancouver, BC\", \"Montr\\u00e9al, QC\", \"Montr\\u00e9al, QC\", \"Montr\\u00e9al, QC\", \"Ottawa, ON\", \"Mississauga, ON\", \"Mississauga, ON\"]}, {\"name\": \"postgraduate\", \"opacity\": 0.5, \"type\": \"histogram\", \"x\": [\"Toronto, ON\"]}],\n",
              "                        {\"barmode\": \"overlay\", \"height\": 400, \"template\": {\"data\": {\"bar\": [{\"error_x\": {\"color\": \"#2a3f5f\"}, \"error_y\": {\"color\": \"#2a3f5f\"}, \"marker\": {\"line\": {\"color\": \"#E5ECF6\", \"width\": 0.5}}, \"type\": \"bar\"}], \"barpolar\": [{\"marker\": {\"line\": {\"color\": \"#E5ECF6\", \"width\": 0.5}}, \"type\": \"barpolar\"}], \"carpet\": [{\"aaxis\": {\"endlinecolor\": \"#2a3f5f\", \"gridcolor\": \"white\", \"linecolor\": \"white\", \"minorgridcolor\": \"white\", \"startlinecolor\": \"#2a3f5f\"}, \"baxis\": {\"endlinecolor\": \"#2a3f5f\", \"gridcolor\": \"white\", \"linecolor\": \"white\", \"minorgridcolor\": \"white\", \"startlinecolor\": \"#2a3f5f\"}, \"type\": \"carpet\"}], \"choropleth\": [{\"colorbar\": {\"outlinewidth\": 0, \"ticks\": \"\"}, \"type\": \"choropleth\"}], \"contour\": [{\"colorbar\": {\"outlinewidth\": 0, \"ticks\": \"\"}, \"colorscale\": [[0.0, \"#0d0887\"], [0.1111111111111111, \"#46039f\"], [0.2222222222222222, \"#7201a8\"], [0.3333333333333333, \"#9c179e\"], [0.4444444444444444, \"#bd3786\"], [0.5555555555555556, \"#d8576b\"], [0.6666666666666666, \"#ed7953\"], [0.7777777777777778, \"#fb9f3a\"], [0.8888888888888888, \"#fdca26\"], [1.0, \"#f0f921\"]], \"type\": \"contour\"}], \"contourcarpet\": [{\"colorbar\": {\"outlinewidth\": 0, \"ticks\": \"\"}, \"type\": \"contourcarpet\"}], \"heatmap\": [{\"colorbar\": {\"outlinewidth\": 0, \"ticks\": \"\"}, \"colorscale\": [[0.0, \"#0d0887\"], [0.1111111111111111, \"#46039f\"], [0.2222222222222222, \"#7201a8\"], [0.3333333333333333, \"#9c179e\"], [0.4444444444444444, \"#bd3786\"], [0.5555555555555556, \"#d8576b\"], [0.6666666666666666, \"#ed7953\"], [0.7777777777777778, \"#fb9f3a\"], [0.8888888888888888, \"#fdca26\"], [1.0, \"#f0f921\"]], \"type\": \"heatmap\"}], \"heatmapgl\": [{\"colorbar\": {\"outlinewidth\": 0, \"ticks\": \"\"}, \"colorscale\": [[0.0, \"#0d0887\"], [0.1111111111111111, \"#46039f\"], [0.2222222222222222, \"#7201a8\"], [0.3333333333333333, \"#9c179e\"], [0.4444444444444444, \"#bd3786\"], [0.5555555555555556, \"#d8576b\"], [0.6666666666666666, \"#ed7953\"], [0.7777777777777778, \"#fb9f3a\"], [0.8888888888888888, \"#fdca26\"], [1.0, \"#f0f921\"]], \"type\": \"heatmapgl\"}], \"histogram\": [{\"marker\": {\"colorbar\": {\"outlinewidth\": 0, \"ticks\": \"\"}}, \"type\": \"histogram\"}], \"histogram2d\": [{\"colorbar\": {\"outlinewidth\": 0, \"ticks\": \"\"}, \"colorscale\": [[0.0, \"#0d0887\"], [0.1111111111111111, \"#46039f\"], [0.2222222222222222, \"#7201a8\"], [0.3333333333333333, \"#9c179e\"], [0.4444444444444444, \"#bd3786\"], [0.5555555555555556, \"#d8576b\"], [0.6666666666666666, \"#ed7953\"], [0.7777777777777778, \"#fb9f3a\"], [0.8888888888888888, \"#fdca26\"], [1.0, \"#f0f921\"]], \"type\": \"histogram2d\"}], \"histogram2dcontour\": [{\"colorbar\": {\"outlinewidth\": 0, \"ticks\": \"\"}, \"colorscale\": [[0.0, \"#0d0887\"], [0.1111111111111111, \"#46039f\"], [0.2222222222222222, \"#7201a8\"], [0.3333333333333333, \"#9c179e\"], [0.4444444444444444, \"#bd3786\"], [0.5555555555555556, \"#d8576b\"], [0.6666666666666666, \"#ed7953\"], [0.7777777777777778, \"#fb9f3a\"], [0.8888888888888888, \"#fdca26\"], [1.0, \"#f0f921\"]], \"type\": \"histogram2dcontour\"}], \"mesh3d\": [{\"colorbar\": {\"outlinewidth\": 0, \"ticks\": \"\"}, \"type\": \"mesh3d\"}], \"parcoords\": [{\"line\": {\"colorbar\": {\"outlinewidth\": 0, \"ticks\": \"\"}}, \"type\": \"parcoords\"}], \"pie\": [{\"automargin\": true, \"type\": \"pie\"}], \"scatter\": [{\"marker\": {\"colorbar\": {\"outlinewidth\": 0, \"ticks\": \"\"}}, \"type\": \"scatter\"}], \"scatter3d\": [{\"line\": {\"colorbar\": {\"outlinewidth\": 0, \"ticks\": \"\"}}, \"marker\": {\"colorbar\": {\"outlinewidth\": 0, \"ticks\": \"\"}}, \"type\": \"scatter3d\"}], \"scattercarpet\": [{\"marker\": {\"colorbar\": {\"outlinewidth\": 0, \"ticks\": \"\"}}, \"type\": \"scattercarpet\"}], \"scattergeo\": [{\"marker\": {\"colorbar\": {\"outlinewidth\": 0, \"ticks\": \"\"}}, \"type\": \"scattergeo\"}], \"scattergl\": [{\"marker\": {\"colorbar\": {\"outlinewidth\": 0, \"ticks\": \"\"}}, \"type\": \"scattergl\"}], \"scattermapbox\": [{\"marker\": {\"colorbar\": {\"outlinewidth\": 0, \"ticks\": \"\"}}, \"type\": \"scattermapbox\"}], \"scatterpolar\": [{\"marker\": {\"colorbar\": {\"outlinewidth\": 0, \"ticks\": \"\"}}, \"type\": \"scatterpolar\"}], \"scatterpolargl\": [{\"marker\": {\"colorbar\": {\"outlinewidth\": 0, \"ticks\": \"\"}}, \"type\": \"scatterpolargl\"}], \"scatterternary\": [{\"marker\": {\"colorbar\": {\"outlinewidth\": 0, \"ticks\": \"\"}}, \"type\": \"scatterternary\"}], \"surface\": [{\"colorbar\": {\"outlinewidth\": 0, \"ticks\": \"\"}, \"colorscale\": [[0.0, \"#0d0887\"], [0.1111111111111111, \"#46039f\"], [0.2222222222222222, \"#7201a8\"], [0.3333333333333333, \"#9c179e\"], [0.4444444444444444, \"#bd3786\"], [0.5555555555555556, \"#d8576b\"], [0.6666666666666666, \"#ed7953\"], [0.7777777777777778, \"#fb9f3a\"], [0.8888888888888888, \"#fdca26\"], [1.0, \"#f0f921\"]], \"type\": \"surface\"}], \"table\": [{\"cells\": {\"fill\": {\"color\": \"#EBF0F8\"}, \"line\": {\"color\": \"white\"}}, \"header\": {\"fill\": {\"color\": \"#C8D4E3\"}, \"line\": {\"color\": \"white\"}}, \"type\": \"table\"}]}, \"layout\": {\"annotationdefaults\": {\"arrowcolor\": \"#2a3f5f\", \"arrowhead\": 0, \"arrowwidth\": 1}, \"coloraxis\": {\"colorbar\": {\"outlinewidth\": 0, \"ticks\": \"\"}}, \"colorscale\": {\"diverging\": [[0, \"#8e0152\"], [0.1, \"#c51b7d\"], [0.2, \"#de77ae\"], [0.3, \"#f1b6da\"], [0.4, \"#fde0ef\"], [0.5, \"#f7f7f7\"], [0.6, \"#e6f5d0\"], [0.7, \"#b8e186\"], [0.8, \"#7fbc41\"], [0.9, \"#4d9221\"], [1, \"#276419\"]], \"sequential\": [[0.0, \"#0d0887\"], [0.1111111111111111, \"#46039f\"], [0.2222222222222222, \"#7201a8\"], [0.3333333333333333, \"#9c179e\"], [0.4444444444444444, \"#bd3786\"], [0.5555555555555556, \"#d8576b\"], [0.6666666666666666, \"#ed7953\"], [0.7777777777777778, \"#fb9f3a\"], [0.8888888888888888, \"#fdca26\"], [1.0, \"#f0f921\"]], \"sequentialminus\": [[0.0, \"#0d0887\"], [0.1111111111111111, \"#46039f\"], [0.2222222222222222, \"#7201a8\"], [0.3333333333333333, \"#9c179e\"], [0.4444444444444444, \"#bd3786\"], [0.5555555555555556, \"#d8576b\"], [0.6666666666666666, \"#ed7953\"], [0.7777777777777778, \"#fb9f3a\"], [0.8888888888888888, \"#fdca26\"], [1.0, \"#f0f921\"]]}, \"colorway\": [\"#636efa\", \"#EF553B\", \"#00cc96\", \"#ab63fa\", \"#FFA15A\", \"#19d3f3\", \"#FF6692\", \"#B6E880\", \"#FF97FF\", \"#FECB52\"], \"font\": {\"color\": \"#2a3f5f\"}, \"geo\": {\"bgcolor\": \"white\", \"lakecolor\": \"white\", \"landcolor\": \"#E5ECF6\", \"showlakes\": true, \"showland\": true, \"subunitcolor\": \"white\"}, \"hoverlabel\": {\"align\": \"left\"}, \"hovermode\": \"closest\", \"mapbox\": {\"style\": \"light\"}, \"paper_bgcolor\": \"white\", \"plot_bgcolor\": \"#E5ECF6\", \"polar\": {\"angularaxis\": {\"gridcolor\": \"white\", \"linecolor\": \"white\", \"ticks\": \"\"}, \"bgcolor\": \"#E5ECF6\", \"radialaxis\": {\"gridcolor\": \"white\", \"linecolor\": \"white\", \"ticks\": \"\"}}, \"scene\": {\"xaxis\": {\"backgroundcolor\": \"#E5ECF6\", \"gridcolor\": \"white\", \"gridwidth\": 2, \"linecolor\": \"white\", \"showbackground\": true, \"ticks\": \"\", \"zerolinecolor\": \"white\"}, \"yaxis\": {\"backgroundcolor\": \"#E5ECF6\", \"gridcolor\": \"white\", \"gridwidth\": 2, \"linecolor\": \"white\", \"showbackground\": true, \"ticks\": \"\", \"zerolinecolor\": \"white\"}, \"zaxis\": {\"backgroundcolor\": \"#E5ECF6\", \"gridcolor\": \"white\", \"gridwidth\": 2, \"linecolor\": \"white\", \"showbackground\": true, \"ticks\": \"\", \"zerolinecolor\": \"white\"}}, \"shapedefaults\": {\"line\": {\"color\": \"#2a3f5f\"}}, \"ternary\": {\"aaxis\": {\"gridcolor\": \"white\", \"linecolor\": \"white\", \"ticks\": \"\"}, \"baxis\": {\"gridcolor\": \"white\", \"linecolor\": \"white\", \"ticks\": \"\"}, \"bgcolor\": \"#E5ECF6\", \"caxis\": {\"gridcolor\": \"white\", \"linecolor\": \"white\", \"ticks\": \"\"}}, \"title\": {\"x\": 0.05}, \"xaxis\": {\"automargin\": true, \"gridcolor\": \"white\", \"linecolor\": \"white\", \"ticks\": \"\", \"title\": {\"standoff\": 15}, \"zerolinecolor\": \"white\", \"zerolinewidth\": 2}, \"yaxis\": {\"automargin\": true, \"gridcolor\": \"white\", \"linecolor\": \"white\", \"ticks\": \"\", \"title\": {\"standoff\": 15}, \"zerolinecolor\": \"white\", \"zerolinewidth\": 2}}}, \"title\": {\"text\": \"location\"}, \"width\": 800},\n",
              "                        {\"responsive\": true}\n",
              "                    ).then(function(){\n",
              "                            \n",
              "var gd = document.getElementById('bb77bd90-c70d-4298-8ff1-0c1986ccdb07');\n",
              "var x = new MutationObserver(function (mutations, observer) {{\n",
              "        var display = window.getComputedStyle(gd).display;\n",
              "        if (!display || display === 'none') {{\n",
              "            console.log([gd, 'removed!']);\n",
              "            Plotly.purge(gd);\n",
              "            observer.disconnect();\n",
              "        }}\n",
              "}});\n",
              "\n",
              "// Listen for the removal of the full notebook cells\n",
              "var notebookContainer = gd.closest('#notebook-container');\n",
              "if (notebookContainer) {{\n",
              "    x.observe(notebookContainer, {childList: true});\n",
              "}}\n",
              "\n",
              "// Listen for the clearing of the current output cell\n",
              "var outputEl = gd.closest('.output');\n",
              "if (outputEl) {{\n",
              "    x.observe(outputEl, {childList: true});\n",
              "}}\n",
              "\n",
              "                        })\n",
              "                };\n",
              "                \n",
              "            </script>\n",
              "        </div>\n",
              "</body>\n",
              "</html>"
            ]
          },
          "metadata": {
            "tags": []
          }
        },
        {
          "output_type": "display_data",
          "data": {
            "text/html": [
              "<html>\n",
              "<head><meta charset=\"utf-8\" /></head>\n",
              "<body>\n",
              "    <div>\n",
              "            <script src=\"https://cdnjs.cloudflare.com/ajax/libs/mathjax/2.7.5/MathJax.js?config=TeX-AMS-MML_SVG\"></script><script type=\"text/javascript\">if (window.MathJax) {MathJax.Hub.Config({SVG: {font: \"STIX-Web\"}});}</script>\n",
              "                <script type=\"text/javascript\">window.PlotlyConfig = {MathJaxConfig: 'local'};</script>\n",
              "        <script src=\"https://cdn.plot.ly/plotly-latest.min.js\"></script>    \n",
              "            <div id=\"1f3a4f4a-1ac9-40ff-8819-c6e43b6d605d\" class=\"plotly-graph-div\" style=\"height:400px; width:800px;\"></div>\n",
              "            <script type=\"text/javascript\">\n",
              "                \n",
              "                    window.PLOTLYENV=window.PLOTLYENV || {};\n",
              "                    \n",
              "                if (document.getElementById(\"1f3a4f4a-1ac9-40ff-8819-c6e43b6d605d\")) {\n",
              "                    Plotly.newPlot(\n",
              "                        '1f3a4f4a-1ac9-40ff-8819-c6e43b6d605d',\n",
              "                        [{\"name\": \"undefine\", \"opacity\": 0.5, \"type\": \"histogram\", \"x\": [null, null, null, null, null, 1.0, null, null, null, null, null, null, null, 3.0, null, 2.0, null, null, null, null, 2.0, 3.0, null, null, 3.0, 3.0, null, 3.0, null, null, null, null, null, null, null, null, 1.0, 3.0, null, null, null, null, null, null, null, 2.0, 3.0, null, 2.0, null, null, null, null, 1.0, 2.0, null, null, null, null, null, null, null, 1.0, null, null, null, 5.0, null, null, null, null, null, null, null, null, null, null, null, null, null, 3.0, null, null, null, null, null, null, 2.0, null, null, 1.0, null, null, null, null, null, null, null, null, 3.0, 5.0, 2.0, null, 2.0, null, 7.0, null, null, null, 2.0, null, null, null, null, null, null, 2.0, null, null, null, null, null, 5.0, null, null, 3.0, null, null, 2.0, null, null, 4.0, 4.0, null, null, null, null, null, 3.0, 4.0, null, null, 2.0, null, null, null, null, null, 1.0, null, null, null, 4.0, null, null, null, null, null, null, null, 4.0, 3.0, 2.0, null, null, null, null, null, null, null, null, null, null, null, null, null, null, null, 3.0, 5.0, null, 2.0, null, null, null, null, null, null, 2.0, 2.0, 1.0, null, null, 3.0, null, null, 2.0, null, null, 1.0, 2.0, null, null, null, 3.0, 3.0, 3.0, null, 2.0, null, null, 4.0, 3.0, null, null, 1.0, null, 3.0, 3.0, null, 5.0, null, 2.0, null, 2.0, 5.0, null, null, 5.0, null, 2.0, 1.0, null, null, null, null, 3.0, null, null, 5.0, 10.0, 3.0, 3.0, null, 3.0, 4.0, null, 6.0, 2.0, null, null, 5.0, 5.0, 2.0, 5.0, 3.0, null, null, 5.0, null, null, null, null, null, null, null, null, null, 15.0, null, 4.0, 1.0, null, null, null, null, 3.0, null, null, 8.0, null, null, 3.0, null, null, 1.0, null, 4.0, null, null, null, null, null, 1.0, null, 5.0, 1.0, 5.0, 10.0, null, null, null, null, null, null, null, null, null, null, null, null, null, null, null, null, null, null, null, null, null, null, null, null, null, null, null, null, null, null, null, null, null, null, null, null, null, null, null, null, null, null, null, null, null, null, null, null, null, null, null, null, null, null, null, null, null, null, null, null, null, null, null, null, null, null, null, null, null, null, null, null, null, null, null, null, null, null, null, null, null, null, null, null, null, null, null, null, null, null, null, null, null, null, null, null, null, null, null, null, null, null, null, null, null, null, null, null, null, null, null, null, null, null, null, null, null, null, null, null, null, null, null, null, null, null, null, null, null, null, null, null, null, null, null, null, null, null, null, null, null, null, null, null, null, null, null, null, null, null, null, null, null, null, null, null, null, null, null, null, null, null, null, null, null, null, null, null, null, null, null, null, null, 4.0, null, null, null, null, null, 4.0, null, 4.0, 2.0, null, 4.0, null, null, null, null, null, null, null, null, null, null, 2.0, 3.0, null, null, null, 2.0, null, null, null, 2.0, null, null, null, 3.0, null, null, null, 3.0, null, 3.0, null, null, null, 2.0, 3.0, null, null, 5.0, null, null, null, null, null, null, null, null, null, null, null, null, null, null, null, null, null, null, null, null, null, null, null, null, null, null, null, null, null, null, null, null, null, null, null, null, null, null, null, null, null, null, null, null, null, null, null, null, null, null, null, null, null, null, null, null, null, null, null, null, null, null, null, null, null, null, null, null, null, null, null, null, null, null, null, null, null, null, null, null, null, null, null, null, null, null, null, null, null, null, null, null, null, null, null, null, null, null, null, null, null, null, null, null, null, null, null, null, null, null, null, null, null, null, null, null, null, null, null, null, null, null, null, null, null, null, null, null, null, null, null, null, null, null, null, null, null, null, null, null, null, null, null, null, null, null, null, null, null, null, null, null, null, null, null, null, null, null, null, null, null, null, null, null, null, null, null, null, null, null, null, null, null, null, null, null, null, null, null, null, null, null, null, null, null, null, null, null, null, null, null, null, null, null, null, null, null, null, null, null, null, null, null, null, null, null, null, null, null, null, null, null, null, null, null, null, null, null, null, null, null, null, null, null, null, null, null, null, null, null, null, null, null, null, null, null, null, null, null, null, null, null, null, null, null, null, null, null, null, null, null, null, null, null, null, null, null, null, null, null, null, null, null, null, null, null, null, null, null, null, null, null, null, null, null, null, null, null, null, null, null, null, null, null, null, null, null, null, null, null, null, null, null, null, null, null, null, null, null, null, null, null, null, null, null, null, null, null, null, null, null, null, null, null, null, null, null, null, null, null, null, null, null, null, null, null, null, null, null, null, null, null, null, null, null, null, null, null, null, null, null, null, 2.0, null, null, null, null, null, null, null, null, null, null, null, null, null, null, null, null, null, null, null, null, null, null, null, null, null, null, null, null, null, null, null, null, null, null, null, null, null, null, null, null, null, null, null, null, null, null, null, null, null, null, null, null, null, null, null, null, null, null, null, null, null, null, null, null, null, null, null, null, null, null, null, null, null, null, null, null, null, null, null, null, null, null, null, null, null, null, null, null, null, null, null, null, null, null, null, null, null, null, null, null, null, null, null, null, null, null, null, null, null, null, null, null, null, 5.0, null, null, 4.0, null, null, null, null, null, null, null, 5.0, null, 5.0, null, null, null, null, null, null, null, null, null, null, null, null, null, null, null, null, null, null, null, null, null, null, null, null, null, null, null, null, null, null, null, null, null, null, null, null, null, null, null, null, null, null, null, null, null, null, null, null, null, null, null, null, null, null, null, null, null, null, null, null, null, null, null, null, null, null, null, null, null, null, null, null, null, null, null, null, null, 5.0, 3.0, null, null, null, null, null, null, null, null, null, null, null, null, null, null, null, null, null, null, null, null, null, null, null, null, null, null, null, null, null, null, null, null, null, null, null, null, null, null, null, null, null, null, null, null, null, null, null, null, null, null, null, null, null, null, null, null, null, null, null, null, null, null, null, null, null, null, null, null, null, null, null, null, null, null, null, null, null, null, null, null, null, null, null, null, null, null, null, null, null, null, null, null, null, null, null, null, null, null, null, null, null, null, null, null, null, null, null, null, null, null, null, null, null, null, null, null, null, null, null, null, null, null, null, null, null, null, null, null, null, null, null, null, null, 3.0, null, null, null, null, null, null, null, null, null, null, null, null, null, null, null, null, null, null, null, null, null, null, null, null, null, null, null, null, null, null, null, null, null, null, null, null, null, null, null, null, null, null, null, null, null, null, null, null, null, null, null, null, null, null, null, null, null, null, null, null, null, null, null, null, null, null, null, null, null, null, null, null, null, null, null, null, null, null, null, null, null, null, null, null, null, null, null, null, null, null, null, null, null, null, null, null, null, null, null, null, null, null, null, null, null, null, null, null, null, null, null, null]}, {\"name\": \"university\", \"opacity\": 0.5, \"type\": \"histogram\", \"x\": [null, 2.0, null, 5.0, 1.0, 3.0, 3.0, 2.0, 1.0, null, null, 1.0, null, 25.0, 1.0, 2.0, 2.0, 3.0, null, 2.0, 5.0, null, 1.0, 4.0, null, 3.0, 5.0, 2.0, 0.0, 2.0, null, null, 3.0, 2.0, null, 4.0, 2.0, null, 1.0, null, null, null, 5.0, 2.0, 5.0, 2.0, 3.0, 5.0, 1.0, null, null, 4.0, null, 2.0, 3.0, null, 5.0, null, null, null, 5.0, 2.0, 4.0, null, 10.0, null, null, 2.0, 2.0, 1.0, null, 3.0, 3.0, null, null, null, null, 4.0, null, 5.0, 5.0, null, 5.0, null, 3.0, 2.0, 2.0, 5.0, null, 1.0, null, 2.0, null, 3.0, null, 1.0, null, 5.0, 2.0, null, null, null, null, 2.0, 1.0, 1.0, 2.0, 5.0, null, 3.0, 5.0, 5.0, 3.0, 3.0, null, 4.0, 2.0, null, 3.0, null, null, 5.0, 3.0, 0.0, 7.0, 2.0, 5.0, 8.0, 8.0, 2.0, 1.0, 2.0, 1.0, 1.0, null, 3.0, 3.0, null, 3.0, 3.0, 2.0, 3.0, 0.0, 1.0, 5.0, null, 2.0, 1.0, 3.0, null, 3.0, null, 5.0, 3.0, 1.0, 5.0, 3.0, null, 10.0, 2.0, null, 5.0, 6.0, 2.0, 3.0, null, 3.0, 3.0, 3.0, 3.0, 6.0, null, null, 2.0, 6.0, 3.0, 2.0, 2.0, 3.0, 4.0, 7.0, 3.0, 10.0, 3.0, 2.0, 10.0, 4.0, 4.0, null, 4.0, null, 10.0, 3.0, 2.0, 5.0, 3.0, 4.0, 5.0, null, null, 5.0, 6.0, 5.0, 5.0, 5.0, 1.0, 2.0, 5.0, 3.0, 3.0, 3.0, 1.0, 3.0, 4.0, 5.0, 5.0, 4.0, 8.0, null, null, 3.0, 3.0, 3.0, 2.0, 10.0, 1.0, null, 4.0, null, 3.0, 5.0, 3.0, 3.0, null, 5.0, 3.0, 3.0, 2.0, 3.0, 4.0, 3.0, 3.0, 2.0, 3.0, 7.0, null, 1.0, 3.0, null, null, null, null, null, null, null, null, null, null, 3.0, null, null, null, 2.0, null, null, 3.0, 3.0, 2.0, null, 0.0, null, null, 3.0, 0.0, null, 5.0, null, 3.0, 2.0, 8.0, 3.0, 3.0]}, {\"name\": \"secondary\", \"opacity\": 0.5, \"type\": \"histogram\", \"x\": [1.0, 2.0, null, null, 2.0, 3.0, 2.0, 5.0, 3.0, 1.0, 6.0, 2.0, 2.0, 5.0, 2.0, 0.0, null, 5.0, 3.0, 3.0, 5.0, null, 5.0, 3.0, 3.0, 5.0, 1.0, 3.0, 1.0, 1.0, 10.0, 5.0, 5.0, 3.0, null, 3.0, null]}, {\"name\": \"graduate\", \"opacity\": 0.5, \"type\": \"histogram\", \"x\": [2.0, 3.0, 1.0, 3.0, 2.0, 3.0, null, 3.0, 3.0, 4.0, 2.0, 3.0, null, 2.0, null, null, null, 3.0, null, null, null, 5.0, 2.0, 1.0, 2.0, 5.0, null, 3.0, 5.0, 3.0, 3.0, 5.0, 5.0, 5.0, 2.0, 3.0, 2.0, 1.0, 1.0, 5.0, 5.0, 3.0, null, 2.0, null, 5.0, 8.0, 2.0, 3.0, 1.0, 2.0, 2.0, null, 2.0, null, null, null, null, 3.0, 3.0]}, {\"name\": \"postgraduate\", \"opacity\": 0.5, \"type\": \"histogram\", \"x\": [null]}],\n",
              "                        {\"barmode\": \"overlay\", \"height\": 400, \"template\": {\"data\": {\"bar\": [{\"error_x\": {\"color\": \"#2a3f5f\"}, \"error_y\": {\"color\": \"#2a3f5f\"}, \"marker\": {\"line\": {\"color\": \"#E5ECF6\", \"width\": 0.5}}, \"type\": \"bar\"}], \"barpolar\": [{\"marker\": {\"line\": {\"color\": \"#E5ECF6\", \"width\": 0.5}}, \"type\": \"barpolar\"}], \"carpet\": [{\"aaxis\": {\"endlinecolor\": \"#2a3f5f\", \"gridcolor\": \"white\", \"linecolor\": \"white\", \"minorgridcolor\": \"white\", \"startlinecolor\": \"#2a3f5f\"}, \"baxis\": {\"endlinecolor\": \"#2a3f5f\", \"gridcolor\": \"white\", \"linecolor\": \"white\", \"minorgridcolor\": \"white\", \"startlinecolor\": \"#2a3f5f\"}, \"type\": \"carpet\"}], \"choropleth\": [{\"colorbar\": {\"outlinewidth\": 0, \"ticks\": \"\"}, \"type\": \"choropleth\"}], \"contour\": [{\"colorbar\": {\"outlinewidth\": 0, \"ticks\": \"\"}, \"colorscale\": [[0.0, \"#0d0887\"], [0.1111111111111111, \"#46039f\"], [0.2222222222222222, \"#7201a8\"], [0.3333333333333333, \"#9c179e\"], [0.4444444444444444, \"#bd3786\"], [0.5555555555555556, \"#d8576b\"], [0.6666666666666666, \"#ed7953\"], [0.7777777777777778, \"#fb9f3a\"], [0.8888888888888888, \"#fdca26\"], [1.0, \"#f0f921\"]], \"type\": \"contour\"}], \"contourcarpet\": [{\"colorbar\": {\"outlinewidth\": 0, \"ticks\": \"\"}, \"type\": \"contourcarpet\"}], \"heatmap\": [{\"colorbar\": {\"outlinewidth\": 0, \"ticks\": \"\"}, \"colorscale\": [[0.0, \"#0d0887\"], [0.1111111111111111, \"#46039f\"], [0.2222222222222222, \"#7201a8\"], [0.3333333333333333, \"#9c179e\"], [0.4444444444444444, \"#bd3786\"], [0.5555555555555556, \"#d8576b\"], [0.6666666666666666, \"#ed7953\"], [0.7777777777777778, \"#fb9f3a\"], [0.8888888888888888, \"#fdca26\"], [1.0, \"#f0f921\"]], \"type\": \"heatmap\"}], \"heatmapgl\": [{\"colorbar\": {\"outlinewidth\": 0, \"ticks\": \"\"}, \"colorscale\": [[0.0, \"#0d0887\"], [0.1111111111111111, \"#46039f\"], [0.2222222222222222, \"#7201a8\"], [0.3333333333333333, \"#9c179e\"], [0.4444444444444444, \"#bd3786\"], [0.5555555555555556, \"#d8576b\"], [0.6666666666666666, \"#ed7953\"], [0.7777777777777778, \"#fb9f3a\"], [0.8888888888888888, \"#fdca26\"], [1.0, \"#f0f921\"]], \"type\": \"heatmapgl\"}], \"histogram\": [{\"marker\": {\"colorbar\": {\"outlinewidth\": 0, \"ticks\": \"\"}}, \"type\": \"histogram\"}], \"histogram2d\": [{\"colorbar\": {\"outlinewidth\": 0, \"ticks\": \"\"}, \"colorscale\": [[0.0, \"#0d0887\"], [0.1111111111111111, \"#46039f\"], [0.2222222222222222, \"#7201a8\"], [0.3333333333333333, \"#9c179e\"], [0.4444444444444444, \"#bd3786\"], [0.5555555555555556, \"#d8576b\"], [0.6666666666666666, \"#ed7953\"], [0.7777777777777778, \"#fb9f3a\"], [0.8888888888888888, \"#fdca26\"], [1.0, \"#f0f921\"]], \"type\": \"histogram2d\"}], \"histogram2dcontour\": [{\"colorbar\": {\"outlinewidth\": 0, \"ticks\": \"\"}, \"colorscale\": [[0.0, \"#0d0887\"], [0.1111111111111111, \"#46039f\"], [0.2222222222222222, \"#7201a8\"], [0.3333333333333333, \"#9c179e\"], [0.4444444444444444, \"#bd3786\"], [0.5555555555555556, \"#d8576b\"], [0.6666666666666666, \"#ed7953\"], [0.7777777777777778, \"#fb9f3a\"], [0.8888888888888888, \"#fdca26\"], [1.0, \"#f0f921\"]], \"type\": \"histogram2dcontour\"}], \"mesh3d\": [{\"colorbar\": {\"outlinewidth\": 0, \"ticks\": \"\"}, \"type\": \"mesh3d\"}], \"parcoords\": [{\"line\": {\"colorbar\": {\"outlinewidth\": 0, \"ticks\": \"\"}}, \"type\": \"parcoords\"}], \"pie\": [{\"automargin\": true, \"type\": \"pie\"}], \"scatter\": [{\"marker\": {\"colorbar\": {\"outlinewidth\": 0, \"ticks\": \"\"}}, \"type\": \"scatter\"}], \"scatter3d\": [{\"line\": {\"colorbar\": {\"outlinewidth\": 0, \"ticks\": \"\"}}, \"marker\": {\"colorbar\": {\"outlinewidth\": 0, \"ticks\": \"\"}}, \"type\": \"scatter3d\"}], \"scattercarpet\": [{\"marker\": {\"colorbar\": {\"outlinewidth\": 0, \"ticks\": \"\"}}, \"type\": \"scattercarpet\"}], \"scattergeo\": [{\"marker\": {\"colorbar\": {\"outlinewidth\": 0, \"ticks\": \"\"}}, \"type\": \"scattergeo\"}], \"scattergl\": [{\"marker\": {\"colorbar\": {\"outlinewidth\": 0, \"ticks\": \"\"}}, \"type\": \"scattergl\"}], \"scattermapbox\": [{\"marker\": {\"colorbar\": {\"outlinewidth\": 0, \"ticks\": \"\"}}, \"type\": \"scattermapbox\"}], \"scatterpolar\": [{\"marker\": {\"colorbar\": {\"outlinewidth\": 0, \"ticks\": \"\"}}, \"type\": \"scatterpolar\"}], \"scatterpolargl\": [{\"marker\": {\"colorbar\": {\"outlinewidth\": 0, \"ticks\": \"\"}}, \"type\": \"scatterpolargl\"}], \"scatterternary\": [{\"marker\": {\"colorbar\": {\"outlinewidth\": 0, \"ticks\": \"\"}}, \"type\": \"scatterternary\"}], \"surface\": [{\"colorbar\": {\"outlinewidth\": 0, \"ticks\": \"\"}, \"colorscale\": [[0.0, \"#0d0887\"], [0.1111111111111111, \"#46039f\"], [0.2222222222222222, \"#7201a8\"], [0.3333333333333333, \"#9c179e\"], [0.4444444444444444, \"#bd3786\"], [0.5555555555555556, \"#d8576b\"], [0.6666666666666666, \"#ed7953\"], [0.7777777777777778, \"#fb9f3a\"], [0.8888888888888888, \"#fdca26\"], [1.0, \"#f0f921\"]], \"type\": \"surface\"}], \"table\": [{\"cells\": {\"fill\": {\"color\": \"#EBF0F8\"}, \"line\": {\"color\": \"white\"}}, \"header\": {\"fill\": {\"color\": \"#C8D4E3\"}, \"line\": {\"color\": \"white\"}}, \"type\": \"table\"}]}, \"layout\": {\"annotationdefaults\": {\"arrowcolor\": \"#2a3f5f\", \"arrowhead\": 0, \"arrowwidth\": 1}, \"coloraxis\": {\"colorbar\": {\"outlinewidth\": 0, \"ticks\": \"\"}}, \"colorscale\": {\"diverging\": [[0, \"#8e0152\"], [0.1, \"#c51b7d\"], [0.2, \"#de77ae\"], [0.3, \"#f1b6da\"], [0.4, \"#fde0ef\"], [0.5, \"#f7f7f7\"], [0.6, \"#e6f5d0\"], [0.7, \"#b8e186\"], [0.8, \"#7fbc41\"], [0.9, \"#4d9221\"], [1, \"#276419\"]], \"sequential\": [[0.0, \"#0d0887\"], [0.1111111111111111, \"#46039f\"], [0.2222222222222222, \"#7201a8\"], [0.3333333333333333, \"#9c179e\"], [0.4444444444444444, \"#bd3786\"], [0.5555555555555556, \"#d8576b\"], [0.6666666666666666, \"#ed7953\"], [0.7777777777777778, \"#fb9f3a\"], [0.8888888888888888, \"#fdca26\"], [1.0, \"#f0f921\"]], \"sequentialminus\": [[0.0, \"#0d0887\"], [0.1111111111111111, \"#46039f\"], [0.2222222222222222, \"#7201a8\"], [0.3333333333333333, \"#9c179e\"], [0.4444444444444444, \"#bd3786\"], [0.5555555555555556, \"#d8576b\"], [0.6666666666666666, \"#ed7953\"], [0.7777777777777778, \"#fb9f3a\"], [0.8888888888888888, \"#fdca26\"], [1.0, \"#f0f921\"]]}, \"colorway\": [\"#636efa\", \"#EF553B\", \"#00cc96\", \"#ab63fa\", \"#FFA15A\", \"#19d3f3\", \"#FF6692\", \"#B6E880\", \"#FF97FF\", \"#FECB52\"], \"font\": {\"color\": \"#2a3f5f\"}, \"geo\": {\"bgcolor\": \"white\", \"lakecolor\": \"white\", \"landcolor\": \"#E5ECF6\", \"showlakes\": true, \"showland\": true, \"subunitcolor\": \"white\"}, \"hoverlabel\": {\"align\": \"left\"}, \"hovermode\": \"closest\", \"mapbox\": {\"style\": \"light\"}, \"paper_bgcolor\": \"white\", \"plot_bgcolor\": \"#E5ECF6\", \"polar\": {\"angularaxis\": {\"gridcolor\": \"white\", \"linecolor\": \"white\", \"ticks\": \"\"}, \"bgcolor\": \"#E5ECF6\", \"radialaxis\": {\"gridcolor\": \"white\", \"linecolor\": \"white\", \"ticks\": \"\"}}, \"scene\": {\"xaxis\": {\"backgroundcolor\": \"#E5ECF6\", \"gridcolor\": \"white\", \"gridwidth\": 2, \"linecolor\": \"white\", \"showbackground\": true, \"ticks\": \"\", \"zerolinecolor\": \"white\"}, \"yaxis\": {\"backgroundcolor\": \"#E5ECF6\", \"gridcolor\": \"white\", \"gridwidth\": 2, \"linecolor\": \"white\", \"showbackground\": true, \"ticks\": \"\", \"zerolinecolor\": \"white\"}, \"zaxis\": {\"backgroundcolor\": \"#E5ECF6\", \"gridcolor\": \"white\", \"gridwidth\": 2, \"linecolor\": \"white\", \"showbackground\": true, \"ticks\": \"\", \"zerolinecolor\": \"white\"}}, \"shapedefaults\": {\"line\": {\"color\": \"#2a3f5f\"}}, \"ternary\": {\"aaxis\": {\"gridcolor\": \"white\", \"linecolor\": \"white\", \"ticks\": \"\"}, \"baxis\": {\"gridcolor\": \"white\", \"linecolor\": \"white\", \"ticks\": \"\"}, \"bgcolor\": \"#E5ECF6\", \"caxis\": {\"gridcolor\": \"white\", \"linecolor\": \"white\", \"ticks\": \"\"}}, \"title\": {\"x\": 0.05}, \"xaxis\": {\"automargin\": true, \"gridcolor\": \"white\", \"linecolor\": \"white\", \"ticks\": \"\", \"title\": {\"standoff\": 15}, \"zerolinecolor\": \"white\", \"zerolinewidth\": 2}, \"yaxis\": {\"automargin\": true, \"gridcolor\": \"white\", \"linecolor\": \"white\", \"ticks\": \"\", \"title\": {\"standoff\": 15}, \"zerolinecolor\": \"white\", \"zerolinewidth\": 2}}}, \"title\": {\"text\": \"Minimum Experience Required\"}, \"width\": 800},\n",
              "                        {\"responsive\": true}\n",
              "                    ).then(function(){\n",
              "                            \n",
              "var gd = document.getElementById('1f3a4f4a-1ac9-40ff-8819-c6e43b6d605d');\n",
              "var x = new MutationObserver(function (mutations, observer) {{\n",
              "        var display = window.getComputedStyle(gd).display;\n",
              "        if (!display || display === 'none') {{\n",
              "            console.log([gd, 'removed!']);\n",
              "            Plotly.purge(gd);\n",
              "            observer.disconnect();\n",
              "        }}\n",
              "}});\n",
              "\n",
              "// Listen for the removal of the full notebook cells\n",
              "var notebookContainer = gd.closest('#notebook-container');\n",
              "if (notebookContainer) {{\n",
              "    x.observe(notebookContainer, {childList: true});\n",
              "}}\n",
              "\n",
              "// Listen for the clearing of the current output cell\n",
              "var outputEl = gd.closest('.output');\n",
              "if (outputEl) {{\n",
              "    x.observe(outputEl, {childList: true});\n",
              "}}\n",
              "\n",
              "                        })\n",
              "                };\n",
              "                \n",
              "            </script>\n",
              "        </div>\n",
              "</body>\n",
              "</html>"
            ]
          },
          "metadata": {
            "tags": []
          }
        }
      ]
    },
    {
      "cell_type": "code",
      "metadata": {
        "colab": {
          "base_uri": "https://localhost:8080/"
        },
        "id": "2gZmy1yMUBnH",
        "outputId": "f7e3d852-3899-4ac3-921d-ef71c727b076"
      },
      "source": [
        "final['Education Required'].value_counts()"
      ],
      "execution_count": 9,
      "outputs": [
        {
          "output_type": "execute_result",
          "data": {
            "text/plain": [
              "undefine        1317\n",
              "university       282\n",
              "graduate          60\n",
              "secondary         37\n",
              "postgraduate       1\n",
              "Name: Education Required, dtype: int64"
            ]
          },
          "metadata": {
            "tags": []
          },
          "execution_count": 9
        }
      ]
    },
    {
      "cell_type": "code",
      "metadata": {
        "id": "9YiDBLJ5Uh83"
      },
      "source": [
        "df = pd.DataFrame({'number': [28,216, 77,1]}, index=['secondary', 'university','graduate','post graduate'])"
      ],
      "execution_count": 10,
      "outputs": []
    },
    {
      "cell_type": "code",
      "metadata": {
        "colab": {
          "base_uri": "https://localhost:8080/",
          "height": 76
        },
        "id": "XYuHuhhCufpz",
        "outputId": "59493d5b-6f1a-462d-b862-3e2a9c3e78c7"
      },
      "source": [
        "display(final[final['Minimum Experience Required']>20])"
      ],
      "execution_count": 11,
      "outputs": [
        {
          "output_type": "display_data",
          "data": {
            "text/html": [
              "<div>\n",
              "<style scoped>\n",
              "    .dataframe tbody tr th:only-of-type {\n",
              "        vertical-align: middle;\n",
              "    }\n",
              "\n",
              "    .dataframe tbody tr th {\n",
              "        vertical-align: top;\n",
              "    }\n",
              "\n",
              "    .dataframe thead th {\n",
              "        text-align: right;\n",
              "    }\n",
              "</style>\n",
              "<table border=\"1\" class=\"dataframe\">\n",
              "  <thead>\n",
              "    <tr style=\"text-align: right;\">\n",
              "      <th></th>\n",
              "      <th>title</th>\n",
              "      <th>company</th>\n",
              "      <th>salary</th>\n",
              "      <th>link</th>\n",
              "      <th>description</th>\n",
              "      <th>location</th>\n",
              "      <th>Minimum Experience Required</th>\n",
              "      <th>Education Required</th>\n",
              "    </tr>\n",
              "  </thead>\n",
              "  <tbody>\n",
              "    <tr>\n",
              "      <th>59</th>\n",
              "      <td>Data Analyst</td>\n",
              "      <td>Intouch Insight</td>\n",
              "      <td>NaN</td>\n",
              "      <td>https://ca.indeed.com/viewjob?jk=02da0dba3689c...</td>\n",
              "      <td>['experience', 'experiences', 'experi', 'compa...</td>\n",
              "      <td>Laval, QC</td>\n",
              "      <td>25.0</td>\n",
              "      <td>university</td>\n",
              "    </tr>\n",
              "  </tbody>\n",
              "</table>\n",
              "</div>"
            ],
            "text/plain": [
              "           title  ... Education Required\n",
              "59  Data Analyst  ...         university\n",
              "\n",
              "[1 rows x 8 columns]"
            ]
          },
          "metadata": {
            "tags": []
          }
        }
      ]
    },
    {
      "cell_type": "code",
      "metadata": {
        "colab": {
          "base_uri": "https://localhost:8080/",
          "height": 466
        },
        "id": "fnBlPvq1UweA",
        "outputId": "6790466f-4a6a-413c-eaa6-72fcc1306c29"
      },
      "source": [
        "plot = df.plot.pie(subplots=True, figsize=(11, 8))"
      ],
      "execution_count": 12,
      "outputs": [
        {
          "output_type": "display_data",
          "data": {
            "image/png": "[encoded data removed]",
            "text/plain": [
              "<Figure size 792x576 with 1 Axes>"
            ]
          },
          "metadata": {
            "tags": []
          }
        }
      ]
    },
    {
      "cell_type": "code",
      "metadata": {
        "colab": {
          "base_uri": "https://localhost:8080/"
        },
        "id": "Qy6XOYZjw3YA",
        "outputId": "5cbcff40-9fdc-4594-ab8b-7c09ed8016cf"
      },
      "source": [
        "def boolean_df(item_lists, unique_items):\n",
        "# Create empty dict\n",
        "    bool_dict = {}\n",
        "    \n",
        "    # Loop through all the tags\n",
        "    for i, item in enumerate(unique_items):\n",
        "        \n",
        "        # Apply boolean mask\n",
        "        bool_dict[item] = item_lists.apply(lambda x: item in x)\n",
        "            \n",
        "    # Return the results as a dataframe\n",
        "    return pd.DataFrame(bool_dict)\n",
        "\n",
        "fi = final\n",
        "fi[\"description\"] = fi[\"description\"].apply(eval)\n",
        "\n",
        "fi_dict = {}\n",
        "for i in fi[\"description\"]:\n",
        "    for j in i:\n",
        "        if j not in fi_dict:\n",
        "            fi_dict[j] = 1\n",
        "        else:\n",
        "            fi_dict[j] += 1\n",
        "\n",
        "def to_1D(series):\n",
        " return pd.Series([x for _list in series for x in _list])\n",
        "\n",
        "to_1D(fi[\"description\"]).value_counts().head(10)\n"
      ],
      "execution_count": 13,
      "outputs": [
        {
          "output_type": "execute_result",
          "data": {
            "text/plain": [
              "experience       351\n",
              "skills           189\n",
              "excellent        167\n",
              "business         156\n",
              "data             146\n",
              "excel            110\n",
              "communication     97\n",
              "management        92\n",
              "strong            92\n",
              "program           65\n",
              "dtype: int64"
            ]
          },
          "metadata": {
            "tags": []
          },
          "execution_count": 13
        }
      ]
    },
    {
      "cell_type": "code",
      "metadata": {
        "colab": {
          "base_uri": "https://localhost:8080/",
          "height": 629
        },
        "id": "c3QkXdH9I-LC",
        "outputId": "ca00420c-9567-40c9-fae5-e06f1614ab0d"
      },
      "source": [
        "dc = pd.DataFrame({'frequency': [351,189,167,156,146,110]}, index=['experience', 'skill','excellent','business','data','excel'])\n",
        "plot = dc.plot.pie(subplots=True, figsize=(11,11))"
      ],
      "execution_count": 15,
      "outputs": [
        {
          "output_type": "display_data",
          "data": {
            "image/png": "[encoded data removed]",
            "text/plain": [
              "<Figure size 792x792 with 1 Axes>"
            ]
          },
          "metadata": {
            "tags": []
          }
        }
      ]
    },
    {
      "cell_type": "code",
      "metadata": {
        "colab": {
          "base_uri": "https://localhost:8080/",
          "height": 624
        },
        "id": "uiTvePH1T1yj",
        "outputId": "3f03ce41-ef47-43ee-f609-dc402e407404"
      },
      "source": [
        "display(final.head(15))"
      ],
      "execution_count": 16,
      "outputs": [
        {
          "output_type": "display_data",
          "data": {
            "text/html": [
              "<div>\n",
              "<style scoped>\n",
              "    .dataframe tbody tr th:only-of-type {\n",
              "        vertical-align: middle;\n",
              "    }\n",
              "\n",
              "    .dataframe tbody tr th {\n",
              "        vertical-align: top;\n",
              "    }\n",
              "\n",
              "    .dataframe thead th {\n",
              "        text-align: right;\n",
              "    }\n",
              "</style>\n",
              "<table border=\"1\" class=\"dataframe\">\n",
              "  <thead>\n",
              "    <tr style=\"text-align: right;\">\n",
              "      <th></th>\n",
              "      <th>title</th>\n",
              "      <th>company</th>\n",
              "      <th>salary</th>\n",
              "      <th>link</th>\n",
              "      <th>description</th>\n",
              "      <th>location</th>\n",
              "      <th>Minimum Experience Required</th>\n",
              "      <th>Education Required</th>\n",
              "    </tr>\n",
              "  </thead>\n",
              "  <tbody>\n",
              "    <tr>\n",
              "      <th>0</th>\n",
              "      <td>Data Analyst</td>\n",
              "      <td>Garage Living</td>\n",
              "      <td>31.25</td>\n",
              "      <td>https://ca.indeed.com/viewjob/pagead/clk?mo=r&amp;...</td>\n",
              "      <td>[]</td>\n",
              "      <td>Vaughan, ON</td>\n",
              "      <td>NaN</td>\n",
              "      <td>undefine</td>\n",
              "    </tr>\n",
              "    <tr>\n",
              "      <th>1</th>\n",
              "      <td>NaN</td>\n",
              "      <td>eBay Inc.</td>\n",
              "      <td>NaN</td>\n",
              "      <td>https://ca.indeed.com/viewjob/cmp/Ebay-Inc.</td>\n",
              "      <td>[]</td>\n",
              "      <td>Toronto, ON</td>\n",
              "      <td>NaN</td>\n",
              "      <td>undefine</td>\n",
              "    </tr>\n",
              "    <tr>\n",
              "      <th>2</th>\n",
              "      <td>Junior Data Analyst</td>\n",
              "      <td>Q &amp; A BP Consulting</td>\n",
              "      <td>22.92</td>\n",
              "      <td>https://ca.indeed.com/viewjob/company/Q-&amp;-A-BP...</td>\n",
              "      <td>[]</td>\n",
              "      <td>Vaughan, ON</td>\n",
              "      <td>NaN</td>\n",
              "      <td>undefine</td>\n",
              "    </tr>\n",
              "    <tr>\n",
              "      <th>3</th>\n",
              "      <td>Data Engineer/Analyst</td>\n",
              "      <td>RCN Call Center Services</td>\n",
              "      <td>NaN</td>\n",
              "      <td>https://ca.indeed.com/viewjob/pagead/clk?mo=r&amp;...</td>\n",
              "      <td>[]</td>\n",
              "      <td>Montréal, QC</td>\n",
              "      <td>NaN</td>\n",
              "      <td>undefine</td>\n",
              "    </tr>\n",
              "    <tr>\n",
              "      <th>4</th>\n",
              "      <td>Data Analyst/Financial Analyst</td>\n",
              "      <td>Sunnyfuture Group</td>\n",
              "      <td>28.85</td>\n",
              "      <td>https://ca.indeed.com/viewjob/company/SunnyFut...</td>\n",
              "      <td>[]</td>\n",
              "      <td>Toronto, ON</td>\n",
              "      <td>NaN</td>\n",
              "      <td>undefine</td>\n",
              "    </tr>\n",
              "    <tr>\n",
              "      <th>5</th>\n",
              "      <td>Junior Data Science Analyst</td>\n",
              "      <td>Entuitive</td>\n",
              "      <td>NaN</td>\n",
              "      <td>https://ca.indeed.com/viewjob?jk=4b0a0f66424bb...</td>\n",
              "      <td>[building, experience, data, performance, engi...</td>\n",
              "      <td>Toronto, ON</td>\n",
              "      <td>1.0</td>\n",
              "      <td>undefine</td>\n",
              "    </tr>\n",
              "    <tr>\n",
              "      <th>6</th>\n",
              "      <td>Sr Data Management Analyst</td>\n",
              "      <td>Client Of Emergitel</td>\n",
              "      <td>90.0</td>\n",
              "      <td>https://ca.indeed.com/viewjob/pagead/clk?mo=r&amp;...</td>\n",
              "      <td>[]</td>\n",
              "      <td>Toronto, ON</td>\n",
              "      <td>NaN</td>\n",
              "      <td>undefine</td>\n",
              "    </tr>\n",
              "    <tr>\n",
              "      <th>7</th>\n",
              "      <td>Google Data Engineering Certified - Data Analyst</td>\n",
              "      <td>Client Of Emergitel</td>\n",
              "      <td>90.0</td>\n",
              "      <td>https://ca.indeed.com/viewjob/pagead/clk?mo=r&amp;...</td>\n",
              "      <td>[]</td>\n",
              "      <td>Toronto, ON</td>\n",
              "      <td>NaN</td>\n",
              "      <td>undefine</td>\n",
              "    </tr>\n",
              "    <tr>\n",
              "      <th>8</th>\n",
              "      <td>Data Reporting Analyst</td>\n",
              "      <td>Small Business BC</td>\n",
              "      <td>27.26</td>\n",
              "      <td>https://ca.indeed.com/viewjob/company/Small-Bu...</td>\n",
              "      <td>[]</td>\n",
              "      <td>Vancouver, BC</td>\n",
              "      <td>NaN</td>\n",
              "      <td>undefine</td>\n",
              "    </tr>\n",
              "    <tr>\n",
              "      <th>9</th>\n",
              "      <td>Marketing Data Analyst</td>\n",
              "      <td>Vigorate Digital Solutions</td>\n",
              "      <td>NaN</td>\n",
              "      <td>https://ca.indeed.com/viewjob/pagead/clk?mo=r&amp;...</td>\n",
              "      <td>[]</td>\n",
              "      <td>Toronto, ON</td>\n",
              "      <td>NaN</td>\n",
              "      <td>undefine</td>\n",
              "    </tr>\n",
              "    <tr>\n",
              "      <th>10</th>\n",
              "      <td>Data Analyst</td>\n",
              "      <td>CAUSEWORX</td>\n",
              "      <td>26.78</td>\n",
              "      <td>https://ca.indeed.com/viewjob/company/CAUSEWOR...</td>\n",
              "      <td>[]</td>\n",
              "      <td>Durham Region, ON</td>\n",
              "      <td>NaN</td>\n",
              "      <td>undefine</td>\n",
              "    </tr>\n",
              "    <tr>\n",
              "      <th>11</th>\n",
              "      <td>Analyst, Data Insights</td>\n",
              "      <td>Salesforce</td>\n",
              "      <td>NaN</td>\n",
              "      <td>https://ca.indeed.com/viewjob?jk=607081c1f65a8...</td>\n",
              "      <td>[data, experience, experi, candidate, excellen...</td>\n",
              "      <td>Toronto, ON</td>\n",
              "      <td>NaN</td>\n",
              "      <td>university</td>\n",
              "    </tr>\n",
              "    <tr>\n",
              "      <th>12</th>\n",
              "      <td>Analyst, Data &amp; Analytics</td>\n",
              "      <td>RPS Real Property Solutions Limited.</td>\n",
              "      <td>30.05</td>\n",
              "      <td>https://ca.indeed.com/viewjob/company/RPS-Real...</td>\n",
              "      <td>[]</td>\n",
              "      <td>Toronto, ON</td>\n",
              "      <td>NaN</td>\n",
              "      <td>undefine</td>\n",
              "    </tr>\n",
              "    <tr>\n",
              "      <th>13</th>\n",
              "      <td>Amazon data and search analyst</td>\n",
              "      <td>L'Oreal</td>\n",
              "      <td>NaN</td>\n",
              "      <td>https://ca.indeed.com/viewjob?jk=8b14a78ccad31...</td>\n",
              "      <td>[requir, skills, strong project management, ad...</td>\n",
              "      <td>Montréal, QC</td>\n",
              "      <td>NaN</td>\n",
              "      <td>undefine</td>\n",
              "    </tr>\n",
              "    <tr>\n",
              "      <th>14</th>\n",
              "      <td>Data Analyst (Remote)</td>\n",
              "      <td>Yelp</td>\n",
              "      <td>NaN</td>\n",
              "      <td>https://ca.indeed.com/viewjob?jk=52df01128134e...</td>\n",
              "      <td>[experience, technically, technical, data, exc...</td>\n",
              "      <td>Remote</td>\n",
              "      <td>3.0</td>\n",
              "      <td>undefine</td>\n",
              "    </tr>\n",
              "  </tbody>\n",
              "</table>\n",
              "</div>"
            ],
            "text/plain": [
              "                                               title  ... Education Required\n",
              "0                                       Data Analyst  ...           undefine\n",
              "1                                                NaN  ...           undefine\n",
              "2                                Junior Data Analyst  ...           undefine\n",
              "3                              Data Engineer/Analyst  ...           undefine\n",
              "4                     Data Analyst/Financial Analyst  ...           undefine\n",
              "5                        Junior Data Science Analyst  ...           undefine\n",
              "6                         Sr Data Management Analyst  ...           undefine\n",
              "7   Google Data Engineering Certified - Data Analyst  ...           undefine\n",
              "8                             Data Reporting Analyst  ...           undefine\n",
              "9                             Marketing Data Analyst  ...           undefine\n",
              "10                                      Data Analyst  ...           undefine\n",
              "11                            Analyst, Data Insights  ...         university\n",
              "12                         Analyst, Data & Analytics  ...           undefine\n",
              "13                    Amazon data and search analyst  ...           undefine\n",
              "14                             Data Analyst (Remote)  ...           undefine\n",
              "\n",
              "[15 rows x 8 columns]"
            ]
          },
          "metadata": {
            "tags": []
          }
        }
      ]
    },
    {
      "cell_type": "markdown",
      "metadata": {
        "id": "slJxkb7oNkmn"
      },
      "source": [
        "#Data Cleaned(cleaned)\n",
        "\n",
        "1.   Encoding all data \n",
        "2.   List item\n",
        "\n"
      ]
    },
    {
      "cell_type": "code",
      "metadata": {
        "id": "TQfROOs7NuRq"
      },
      "source": [
        "cleaned = final.loc[:,['location','Minimum Experience Required','Education Required','company']]"
      ],
      "execution_count": 17,
      "outputs": []
    },
    {
      "cell_type": "code",
      "metadata": {
        "id": "WSTI68DROZSd"
      },
      "source": [
        "from sklearn import preprocessing\n",
        "le = preprocessing.LabelEncoder()"
      ],
      "execution_count": 18,
      "outputs": []
    },
    {
      "cell_type": "code",
      "metadata": {
        "id": "4DzGadX0Oaob"
      },
      "source": [
        "cleaned['location'] = le.fit_transform(cleaned['location'])"
      ],
      "execution_count": 19,
      "outputs": []
    },
    {
      "cell_type": "code",
      "metadata": {
        "id": "gfxNHH8qOwDt"
      },
      "source": [
        "cleaned['company'] = le.fit_transform(cleaned['company'])"
      ],
      "execution_count": 20,
      "outputs": []
    },
    {
      "cell_type": "markdown",
      "metadata": {
        "id": "KqDlrh-KVBSV"
      },
      "source": [
        "\n",
        "1.   secondary\n",
        "2.   university\n",
        "3.   graduate\n",
        "4.   postgraduate\n",
        "5.   Undefine"
      ]
    },
    {
      "cell_type": "code",
      "metadata": {
        "id": "Gm0AjkKEXCv9"
      },
      "source": [
        "def int_degree(dgr):\n",
        "  if dgr is np.nan:\n",
        "    return np.nan\n",
        "  if (\"college\" in dgr) | (\"secondary\" in dgr):\n",
        "    return 1\n",
        "  if  (\"doctor\" in dgr)| (\"post\" in dgr):\n",
        "    return 4\n",
        "  if (\"master\" in dgr) | (\"graduate\"  in dgr):\n",
        "    return 3\n",
        "  if \"high\" in dgr:\n",
        "    return 3\n",
        "\n",
        "  if \"bachelor\" in dgr:\n",
        "    return 2\n",
        "\n",
        "  if (\"college\" in dgr) | (\"secondary\" in dgr):\n",
        "    return 1\n",
        "\n",
        "  else: return 2\n",
        "cleaned['Education Required'] = cleaned['Education Required'].apply(int_degree)"
      ],
      "execution_count": 21,
      "outputs": []
    },
    {
      "cell_type": "code",
      "metadata": {
        "id": "TFC_KstrO1BO"
      },
      "source": [
        "cleaned['Education Required'] = le.fit_transform(cleaned['Education Required'])"
      ],
      "execution_count": 22,
      "outputs": []
    },
    {
      "cell_type": "code",
      "metadata": {
        "colab": {
          "base_uri": "https://localhost:8080/",
          "height": 401
        },
        "id": "bIe0C2_HO6LM",
        "outputId": "b8f50bf3-3aba-42c3-8152-f944c9b39c9a"
      },
      "source": [
        "cleaned = (cleaned - cleaned.mean())/ cleaned.std()#.astype(int)/2\n",
        "display(cleaned)"
      ],
      "execution_count": 23,
      "outputs": [
        {
          "output_type": "display_data",
          "data": {
            "text/html": [
              "<div>\n",
              "<style scoped>\n",
              "    .dataframe tbody tr th:only-of-type {\n",
              "        vertical-align: middle;\n",
              "    }\n",
              "\n",
              "    .dataframe tbody tr th {\n",
              "        vertical-align: top;\n",
              "    }\n",
              "\n",
              "    .dataframe thead th {\n",
              "        text-align: right;\n",
              "    }\n",
              "</style>\n",
              "<table border=\"1\" class=\"dataframe\">\n",
              "  <thead>\n",
              "    <tr style=\"text-align: right;\">\n",
              "      <th></th>\n",
              "      <th>location</th>\n",
              "      <th>Minimum Experience Required</th>\n",
              "      <th>Education Required</th>\n",
              "      <th>company</th>\n",
              "    </tr>\n",
              "  </thead>\n",
              "  <tbody>\n",
              "    <tr>\n",
              "      <th>0</th>\n",
              "      <td>0.884248</td>\n",
              "      <td>NaN</td>\n",
              "      <td>-0.060479</td>\n",
              "      <td>-0.140297</td>\n",
              "    </tr>\n",
              "    <tr>\n",
              "      <th>1</th>\n",
              "      <td>0.764097</td>\n",
              "      <td>NaN</td>\n",
              "      <td>-0.060479</td>\n",
              "      <td>1.713590</td>\n",
              "    </tr>\n",
              "    <tr>\n",
              "      <th>2</th>\n",
              "      <td>0.884248</td>\n",
              "      <td>NaN</td>\n",
              "      <td>-0.060479</td>\n",
              "      <td>0.865924</td>\n",
              "    </tr>\n",
              "    <tr>\n",
              "      <th>3</th>\n",
              "      <td>-0.317264</td>\n",
              "      <td>NaN</td>\n",
              "      <td>-0.060479</td>\n",
              "      <td>0.920809</td>\n",
              "    </tr>\n",
              "    <tr>\n",
              "      <th>4</th>\n",
              "      <td>0.764097</td>\n",
              "      <td>NaN</td>\n",
              "      <td>-0.060479</td>\n",
              "      <td>1.268413</td>\n",
              "    </tr>\n",
              "    <tr>\n",
              "      <th>...</th>\n",
              "      <td>...</td>\n",
              "      <td>...</td>\n",
              "      <td>...</td>\n",
              "      <td>...</td>\n",
              "    </tr>\n",
              "    <tr>\n",
              "      <th>2063</th>\n",
              "      <td>0.764097</td>\n",
              "      <td>NaN</td>\n",
              "      <td>-0.060479</td>\n",
              "      <td>-1.073339</td>\n",
              "    </tr>\n",
              "    <tr>\n",
              "      <th>2064</th>\n",
              "      <td>-0.437416</td>\n",
              "      <td>NaN</td>\n",
              "      <td>-0.060479</td>\n",
              "      <td>-1.134322</td>\n",
              "    </tr>\n",
              "    <tr>\n",
              "      <th>2065</th>\n",
              "      <td>1.044450</td>\n",
              "      <td>NaN</td>\n",
              "      <td>-0.060479</td>\n",
              "      <td>-1.177010</td>\n",
              "    </tr>\n",
              "    <tr>\n",
              "      <th>2066</th>\n",
              "      <td>0.764097</td>\n",
              "      <td>NaN</td>\n",
              "      <td>-0.060479</td>\n",
              "      <td>-1.177010</td>\n",
              "    </tr>\n",
              "    <tr>\n",
              "      <th>2067</th>\n",
              "      <td>1.044450</td>\n",
              "      <td>NaN</td>\n",
              "      <td>-0.060479</td>\n",
              "      <td>-1.177010</td>\n",
              "    </tr>\n",
              "  </tbody>\n",
              "</table>\n",
              "<p>1697 rows × 4 columns</p>\n",
              "</div>"
            ],
            "text/plain": [
              "      location  Minimum Experience Required  Education Required   company\n",
              "0     0.884248                          NaN           -0.060479 -0.140297\n",
              "1     0.764097                          NaN           -0.060479  1.713590\n",
              "2     0.884248                          NaN           -0.060479  0.865924\n",
              "3    -0.317264                          NaN           -0.060479  0.920809\n",
              "4     0.764097                          NaN           -0.060479  1.268413\n",
              "...        ...                          ...                 ...       ...\n",
              "2063  0.764097                          NaN           -0.060479 -1.073339\n",
              "2064 -0.437416                          NaN           -0.060479 -1.134322\n",
              "2065  1.044450                          NaN           -0.060479 -1.177010\n",
              "2066  0.764097                          NaN           -0.060479 -1.177010\n",
              "2067  1.044450                          NaN           -0.060479 -1.177010\n",
              "\n",
              "[1697 rows x 4 columns]"
            ]
          },
          "metadata": {
            "tags": []
          }
        }
      ]
    },
    {
      "cell_type": "code",
      "metadata": {
        "colab": {
          "base_uri": "https://localhost:8080/",
          "height": 401
        },
        "id": "blR8Epk3PVTO",
        "outputId": "29297cda-49cb-412b-ed3f-5dd817c01472"
      },
      "source": [
        "cleaned['salary'] = final['salary']\n",
        "cleaned = cleaned.dropna(subset=['salary'])\n",
        "\n",
        "\n",
        "display(cleaned)"
      ],
      "execution_count": 27,
      "outputs": [
        {
          "output_type": "display_data",
          "data": {
            "text/html": [
              "<div>\n",
              "<style scoped>\n",
              "    .dataframe tbody tr th:only-of-type {\n",
              "        vertical-align: middle;\n",
              "    }\n",
              "\n",
              "    .dataframe tbody tr th {\n",
              "        vertical-align: top;\n",
              "    }\n",
              "\n",
              "    .dataframe thead th {\n",
              "        text-align: right;\n",
              "    }\n",
              "</style>\n",
              "<table border=\"1\" class=\"dataframe\">\n",
              "  <thead>\n",
              "    <tr style=\"text-align: right;\">\n",
              "      <th></th>\n",
              "      <th>location</th>\n",
              "      <th>Minimum Experience Required</th>\n",
              "      <th>Education Required</th>\n",
              "      <th>company</th>\n",
              "      <th>salary</th>\n",
              "    </tr>\n",
              "  </thead>\n",
              "  <tbody>\n",
              "    <tr>\n",
              "      <th>0</th>\n",
              "      <td>0.884248</td>\n",
              "      <td>NaN</td>\n",
              "      <td>-0.060479</td>\n",
              "      <td>-0.140297</td>\n",
              "      <td>31.25</td>\n",
              "    </tr>\n",
              "    <tr>\n",
              "      <th>2</th>\n",
              "      <td>0.884248</td>\n",
              "      <td>NaN</td>\n",
              "      <td>-0.060479</td>\n",
              "      <td>0.865924</td>\n",
              "      <td>22.92</td>\n",
              "    </tr>\n",
              "    <tr>\n",
              "      <th>4</th>\n",
              "      <td>0.764097</td>\n",
              "      <td>NaN</td>\n",
              "      <td>-0.060479</td>\n",
              "      <td>1.268413</td>\n",
              "      <td>28.85</td>\n",
              "    </tr>\n",
              "    <tr>\n",
              "      <th>6</th>\n",
              "      <td>0.764097</td>\n",
              "      <td>NaN</td>\n",
              "      <td>-0.060479</td>\n",
              "      <td>-0.591572</td>\n",
              "      <td>90.0</td>\n",
              "    </tr>\n",
              "    <tr>\n",
              "      <th>7</th>\n",
              "      <td>0.764097</td>\n",
              "      <td>NaN</td>\n",
              "      <td>-0.060479</td>\n",
              "      <td>-0.591572</td>\n",
              "      <td>90.0</td>\n",
              "    </tr>\n",
              "    <tr>\n",
              "      <th>...</th>\n",
              "      <td>...</td>\n",
              "      <td>...</td>\n",
              "      <td>...</td>\n",
              "      <td>...</td>\n",
              "      <td>...</td>\n",
              "    </tr>\n",
              "    <tr>\n",
              "      <th>1933</th>\n",
              "      <td>-0.637668</td>\n",
              "      <td>NaN</td>\n",
              "      <td>-0.060479</td>\n",
              "      <td>1.609918</td>\n",
              "      <td>17.79</td>\n",
              "    </tr>\n",
              "    <tr>\n",
              "      <th>1934</th>\n",
              "      <td>0.844198</td>\n",
              "      <td>NaN</td>\n",
              "      <td>-0.060479</td>\n",
              "      <td>-0.591572</td>\n",
              "      <td>90.0</td>\n",
              "    </tr>\n",
              "    <tr>\n",
              "      <th>1935</th>\n",
              "      <td>0.764097</td>\n",
              "      <td>NaN</td>\n",
              "      <td>-0.060479</td>\n",
              "      <td>-0.591572</td>\n",
              "      <td>90.0</td>\n",
              "    </tr>\n",
              "    <tr>\n",
              "      <th>1936</th>\n",
              "      <td>-2.319786</td>\n",
              "      <td>NaN</td>\n",
              "      <td>-0.060479</td>\n",
              "      <td>-0.256165</td>\n",
              "      <td>19.95</td>\n",
              "    </tr>\n",
              "    <tr>\n",
              "      <th>1937</th>\n",
              "      <td>-0.317264</td>\n",
              "      <td>NaN</td>\n",
              "      <td>-0.060479</td>\n",
              "      <td>-0.304952</td>\n",
              "      <td>26.44</td>\n",
              "    </tr>\n",
              "  </tbody>\n",
              "</table>\n",
              "<p>164 rows × 5 columns</p>\n",
              "</div>"
            ],
            "text/plain": [
              "      location  Minimum Experience Required  ...   company  salary\n",
              "0     0.884248                          NaN  ... -0.140297   31.25\n",
              "2     0.884248                          NaN  ...  0.865924   22.92\n",
              "4     0.764097                          NaN  ...  1.268413   28.85\n",
              "6     0.764097                          NaN  ... -0.591572    90.0\n",
              "7     0.764097                          NaN  ... -0.591572    90.0\n",
              "...        ...                          ...  ...       ...     ...\n",
              "1933 -0.637668                          NaN  ...  1.609918   17.79\n",
              "1934  0.844198                          NaN  ... -0.591572    90.0\n",
              "1935  0.764097                          NaN  ... -0.591572    90.0\n",
              "1936 -2.319786                          NaN  ... -0.256165   19.95\n",
              "1937 -0.317264                          NaN  ... -0.304952   26.44\n",
              "\n",
              "[164 rows x 5 columns]"
            ]
          },
          "metadata": {
            "tags": []
          }
        }
      ]
    },
    {
      "cell_type": "code",
      "metadata": {
        "colab": {
          "base_uri": "https://localhost:8080/",
          "height": 401
        },
        "id": "m-H-kmJEYlyj",
        "outputId": "cb5bba7e-e821-4dbf-ed4c-8f249fa5e591"
      },
      "source": [
        "cleaned['salary'] = le.fit_transform(cleaned['salary'])\n",
        "display(cleaned)"
      ],
      "execution_count": 30,
      "outputs": [
        {
          "output_type": "display_data",
          "data": {
            "text/html": [
              "<div>\n",
              "<style scoped>\n",
              "    .dataframe tbody tr th:only-of-type {\n",
              "        vertical-align: middle;\n",
              "    }\n",
              "\n",
              "    .dataframe tbody tr th {\n",
              "        vertical-align: top;\n",
              "    }\n",
              "\n",
              "    .dataframe thead th {\n",
              "        text-align: right;\n",
              "    }\n",
              "</style>\n",
              "<table border=\"1\" class=\"dataframe\">\n",
              "  <thead>\n",
              "    <tr style=\"text-align: right;\">\n",
              "      <th></th>\n",
              "      <th>location</th>\n",
              "      <th>Minimum Experience Required</th>\n",
              "      <th>Education Required</th>\n",
              "      <th>company</th>\n",
              "      <th>salary</th>\n",
              "    </tr>\n",
              "  </thead>\n",
              "  <tbody>\n",
              "    <tr>\n",
              "      <th>0</th>\n",
              "      <td>0.884248</td>\n",
              "      <td>NaN</td>\n",
              "      <td>-0.060479</td>\n",
              "      <td>-0.140297</td>\n",
              "      <td>28</td>\n",
              "    </tr>\n",
              "    <tr>\n",
              "      <th>2</th>\n",
              "      <td>0.884248</td>\n",
              "      <td>NaN</td>\n",
              "      <td>-0.060479</td>\n",
              "      <td>0.865924</td>\n",
              "      <td>11</td>\n",
              "    </tr>\n",
              "    <tr>\n",
              "      <th>4</th>\n",
              "      <td>0.764097</td>\n",
              "      <td>NaN</td>\n",
              "      <td>-0.060479</td>\n",
              "      <td>1.268413</td>\n",
              "      <td>21</td>\n",
              "    </tr>\n",
              "    <tr>\n",
              "      <th>6</th>\n",
              "      <td>0.764097</td>\n",
              "      <td>NaN</td>\n",
              "      <td>-0.060479</td>\n",
              "      <td>-0.591572</td>\n",
              "      <td>73</td>\n",
              "    </tr>\n",
              "    <tr>\n",
              "      <th>7</th>\n",
              "      <td>0.764097</td>\n",
              "      <td>NaN</td>\n",
              "      <td>-0.060479</td>\n",
              "      <td>-0.591572</td>\n",
              "      <td>73</td>\n",
              "    </tr>\n",
              "    <tr>\n",
              "      <th>...</th>\n",
              "      <td>...</td>\n",
              "      <td>...</td>\n",
              "      <td>...</td>\n",
              "      <td>...</td>\n",
              "      <td>...</td>\n",
              "    </tr>\n",
              "    <tr>\n",
              "      <th>1933</th>\n",
              "      <td>-0.637668</td>\n",
              "      <td>NaN</td>\n",
              "      <td>-0.060479</td>\n",
              "      <td>1.609918</td>\n",
              "      <td>3</td>\n",
              "    </tr>\n",
              "    <tr>\n",
              "      <th>1934</th>\n",
              "      <td>0.844198</td>\n",
              "      <td>NaN</td>\n",
              "      <td>-0.060479</td>\n",
              "      <td>-0.591572</td>\n",
              "      <td>73</td>\n",
              "    </tr>\n",
              "    <tr>\n",
              "      <th>1935</th>\n",
              "      <td>0.764097</td>\n",
              "      <td>NaN</td>\n",
              "      <td>-0.060479</td>\n",
              "      <td>-0.591572</td>\n",
              "      <td>73</td>\n",
              "    </tr>\n",
              "    <tr>\n",
              "      <th>1936</th>\n",
              "      <td>-2.319786</td>\n",
              "      <td>NaN</td>\n",
              "      <td>-0.060479</td>\n",
              "      <td>-0.256165</td>\n",
              "      <td>4</td>\n",
              "    </tr>\n",
              "    <tr>\n",
              "      <th>1937</th>\n",
              "      <td>-0.317264</td>\n",
              "      <td>NaN</td>\n",
              "      <td>-0.060479</td>\n",
              "      <td>-0.304952</td>\n",
              "      <td>15</td>\n",
              "    </tr>\n",
              "  </tbody>\n",
              "</table>\n",
              "<p>164 rows × 5 columns</p>\n",
              "</div>"
            ],
            "text/plain": [
              "      location  Minimum Experience Required  ...   company  salary\n",
              "0     0.884248                          NaN  ... -0.140297      28\n",
              "2     0.884248                          NaN  ...  0.865924      11\n",
              "4     0.764097                          NaN  ...  1.268413      21\n",
              "6     0.764097                          NaN  ... -0.591572      73\n",
              "7     0.764097                          NaN  ... -0.591572      73\n",
              "...        ...                          ...  ...       ...     ...\n",
              "1933 -0.637668                          NaN  ...  1.609918       3\n",
              "1934  0.844198                          NaN  ... -0.591572      73\n",
              "1935  0.764097                          NaN  ... -0.591572      73\n",
              "1936 -2.319786                          NaN  ... -0.256165       4\n",
              "1937 -0.317264                          NaN  ... -0.304952      15\n",
              "\n",
              "[164 rows x 5 columns]"
            ]
          },
          "metadata": {
            "tags": []
          }
        }
      ]
    },
    {
      "cell_type": "code",
      "metadata": {
        "colab": {
          "base_uri": "https://localhost:8080/",
          "height": 898
        },
        "id": "d2K9_cs_RO23",
        "outputId": "a615ad5f-2d3f-456b-9f85-8abc682c9232"
      },
      "source": [
        "import matplotlib.pyplot as plt\n",
        "\n",
        "fig = plt.figure(figsize=(20,12))\n",
        "corr = cleaned.corr()\n",
        "display(corr)\n",
        "c = plt.pcolor(corr)\n",
        "plt.yticks(np.arange(0.2, len(corr.index), 1), corr.index)\n",
        "plt.xticks(np.arange(0.2, len(corr.columns), 1), corr.columns)\n",
        "fig.colorbar(c)"
      ],
      "execution_count": 31,
      "outputs": [
        {
          "output_type": "display_data",
          "data": {
            "text/html": [
              "<div>\n",
              "<style scoped>\n",
              "    .dataframe tbody tr th:only-of-type {\n",
              "        vertical-align: middle;\n",
              "    }\n",
              "\n",
              "    .dataframe tbody tr th {\n",
              "        vertical-align: top;\n",
              "    }\n",
              "\n",
              "    .dataframe thead th {\n",
              "        text-align: right;\n",
              "    }\n",
              "</style>\n",
              "<table border=\"1\" class=\"dataframe\">\n",
              "  <thead>\n",
              "    <tr style=\"text-align: right;\">\n",
              "      <th></th>\n",
              "      <th>location</th>\n",
              "      <th>Minimum Experience Required</th>\n",
              "      <th>Education Required</th>\n",
              "      <th>company</th>\n",
              "      <th>salary</th>\n",
              "    </tr>\n",
              "  </thead>\n",
              "  <tbody>\n",
              "    <tr>\n",
              "      <th>location</th>\n",
              "      <td>1.000000</td>\n",
              "      <td>0.620158</td>\n",
              "      <td>0.124895</td>\n",
              "      <td>0.156106</td>\n",
              "      <td>0.345127</td>\n",
              "    </tr>\n",
              "    <tr>\n",
              "      <th>Minimum Experience Required</th>\n",
              "      <td>0.620158</td>\n",
              "      <td>1.000000</td>\n",
              "      <td>-0.066748</td>\n",
              "      <td>-0.002567</td>\n",
              "      <td>0.144722</td>\n",
              "    </tr>\n",
              "    <tr>\n",
              "      <th>Education Required</th>\n",
              "      <td>0.124895</td>\n",
              "      <td>-0.066748</td>\n",
              "      <td>1.000000</td>\n",
              "      <td>0.100970</td>\n",
              "      <td>0.078602</td>\n",
              "    </tr>\n",
              "    <tr>\n",
              "      <th>company</th>\n",
              "      <td>0.156106</td>\n",
              "      <td>-0.002567</td>\n",
              "      <td>0.100970</td>\n",
              "      <td>1.000000</td>\n",
              "      <td>-0.281874</td>\n",
              "    </tr>\n",
              "    <tr>\n",
              "      <th>salary</th>\n",
              "      <td>0.345127</td>\n",
              "      <td>0.144722</td>\n",
              "      <td>0.078602</td>\n",
              "      <td>-0.281874</td>\n",
              "      <td>1.000000</td>\n",
              "    </tr>\n",
              "  </tbody>\n",
              "</table>\n",
              "</div>"
            ],
            "text/plain": [
              "                             location  ...    salary\n",
              "location                     1.000000  ...  0.345127\n",
              "Minimum Experience Required  0.620158  ...  0.144722\n",
              "Education Required           0.124895  ...  0.078602\n",
              "company                      0.156106  ... -0.281874\n",
              "salary                       0.345127  ...  1.000000\n",
              "\n",
              "[5 rows x 5 columns]"
            ]
          },
          "metadata": {
            "tags": []
          }
        },
        {
          "output_type": "execute_result",
          "data": {
            "text/plain": [
              "<matplotlib.colorbar.Colorbar at 0x7f0a2e75c4a8>"
            ]
          },
          "metadata": {
            "tags": []
          },
          "execution_count": 31
        },
        {
          "output_type": "display_data",
          "data": {
            "image/png": "[encoded data removed]",
            "text/plain": [
              "<Figure size 1440x864 with 2 Axes>"
            ]
          },
          "metadata": {
            "tags": [],
            "needs_background": "light"
          }
        }
      ]
    },
    {
      "cell_type": "code",
      "metadata": {
        "id": "b1HCFqMpPtEd",
        "colab": {
          "base_uri": "https://localhost:8080/",
          "height": 1000
        },
        "outputId": "967fd39c-282d-4088-ce57-0760de2b12c7"
      },
      "source": [
        "visualizable_feature_names = temp.columns[0:3] #\n",
        "\n",
        "num_visualizable_features = len(visualizable_feature_names)\n",
        "\n",
        "fig_scatmat = go.Figure(data=go.Splom(\n",
        "                        dimensions=[dict(label=feature, values=cleaned[feature]) \\\n",
        "                                    for feature in visualizable_feature_names], \\\n",
        "                        text=None,\n",
        "                        marker=dict(color= None, showscale=False, line_color='white', line_width=0.5)))\n",
        "\n",
        "fig_scatmat.update_layout(title='Pairwise feature scatter plots', \\\n",
        "                  width=400 * num_visualizable_features, \\\n",
        "                  height=400 * num_visualizable_features)\n",
        "\n",
        "fig_scatmat.show()"
      ],
      "execution_count": 32,
      "outputs": [
        {
          "output_type": "display_data",
          "data": {
            "text/html": [
              "<html>\n",
              "<head><meta charset=\"utf-8\" /></head>\n",
              "<body>\n",
              "    <div>\n",
              "            <script src=\"https://cdnjs.cloudflare.com/ajax/libs/mathjax/2.7.5/MathJax.js?config=TeX-AMS-MML_SVG\"></script><script type=\"text/javascript\">if (window.MathJax) {MathJax.Hub.Config({SVG: {font: \"STIX-Web\"}});}</script>\n",
              "                <script type=\"text/javascript\">window.PlotlyConfig = {MathJaxConfig: 'local'};</script>\n",
              "        <script src=\"https://cdn.plot.ly/plotly-latest.min.js\"></script>    \n",
              "            <div id=\"5c30d67b-4130-4b91-abff-e0d1a574a4f9\" class=\"plotly-graph-div\" style=\"height:1200px; width:1200px;\"></div>\n",
              "            <script type=\"text/javascript\">\n",
              "                \n",
              "                    window.PLOTLYENV=window.PLOTLYENV || {};\n",
              "                    \n",
              "                if (document.getElementById(\"5c30d67b-4130-4b91-abff-e0d1a574a4f9\")) {\n",
              "                    Plotly.newPlot(\n",
              "                        '5c30d67b-4130-4b91-abff-e0d1a574a4f9',\n",
              "                        [{\"dimensions\": [{\"label\": \"salary\", \"values\": [28, 11, 21, 73, 73, 17, 16, 24, 36, 57, 48, 18, 8, 36, 32, 18, 12, 71, 57, 18, 44, 22, 26, 27, 30, 18, 46, 0, 19, 15, 5, 36, 42, 40, 37, 37, 63, 13, 19, 73, 4, 28, 75, 66, 50, 25, 55, 52, 20, 19, 28, 75, 73, 4, 41, 51, 75, 20, 53, 44, 18, 1, 74, 58, 64, 19, 73, 4, 28, 68, 2, 29, 33, 3, 0, 28, 4, 47, 73, 18, 54, 45, 43, 38, 61, 29, 61, 31, 59, 28, 19, 69, 19, 49, 36, 18, 36, 14, 19, 18, 19, 10, 34, 24, 23, 35, 65, 62, 6, 6, 70, 44, 56, 60, 57, 21, 34, 39, 36, 7, 7, 7, 7, 7, 20, 7, 7, 7, 7, 7, 73, 28, 73, 4, 4, 72, 72, 15, 67, 4, 72, 72, 15, 4, 72, 72, 15, 9, 4, 72, 72, 15, 9, 73, 73, 73, 4, 15, 73, 3, 73, 73, 4, 15]}, {\"label\": \"location\", \"values\": [0.8842482225016395, 0.8842482225016395, 0.7640969506956277, 0.7640969506956277, 0.7640969506956277, 0.8441977985663023, -1.5187772136185975, 0.7640969506956277, -0.3172644955584791, 0.08323974379489381, -1.0381721263945503, -0.3172644955584791, -1.0381721263945503, -0.3172644955584791, -1.0381721263945503, -0.3172644955584791, -1.2384242460712367, 0.7640969506956277, 0.7640969506956277, -0.3172644955584791, 0.7640969506956277, -1.0381721263945503, -2.0794831487133196, -2.439936964131355, -0.11701237588179263, -0.3172644955584791, 0.7640969506956277, 0.7640969506956277, -0.4774661912998282, -0.23716364768780449, 0.7640969506956277, 1.084500342178326, -0.3172644955584791, -0.11701237588179263, 1.084500342178326, -2.279735268390006, 0.8441977985663023, -2.119533572648657, -0.4774661912998282, 0.7640969506956277, -2.3197856923253433, 0.8842482225016395, 0.8441977985663023, 0.7640969506956277, -0.7978695827825265, -0.4774661912998282, -1.4386763657479231, -1.4386763657479231, -0.4774661912998282, -0.4774661912998282, 0.8842482225016395, 0.7640969506956277, 0.7640969506956277, -2.3197856923253433, 1.0444499182429887, 0.7240465267602904, 0.7640969506956277, -0.1971132237524672, -0.39736534342915364, -0.3172644955584791, -0.3172644955584791, 0.8441977985663023, -0.3172644955584791, 0.7640969506956277, 0.48374398314826667, -0.4774661912998282, 0.7640969506956277, -2.3197856923253433, 0.8842482225016395, 0.7640969506956277, 0.7640969506956277, -0.5976174631058401, 0.9242986464369768, -0.6376678870411774, 0.7640969506956277, 0.8842482225016395, -2.3197856923253433, 0.8441977985663023, 0.7640969506956277, -0.3172644955584791, 0.28349186347158023, -1.0381721263945503, 0.7640969506956277, -1.6789789093599468, 0.9242986464369768, -0.5976174631058401, 0.9242986464369768, 0.7640969506956277, 0.7640969506956277, 0.8842482225016395, -0.4774661912998282, 0.7640969506956277, -0.4774661912998282, -2.52003781200203, 0.8441977985663023, -0.3172644955584791, -0.39736534342915364, 0.12329016773023109, -0.4774661912998282, -0.3172644955584791, -0.4774661912998282, -0.11701237588179263, -1.999382300842645, 0.7640969506956277, 0.7640969506956277, -0.3172644955584791, -1.999382300842645, 0.7640969506956277, 0.7640969506956277, 0.7640969506956277, 0.7640969506956277, -2.3197856923253433, -0.3172644955584791, 0.7640969506956277, 0.7640969506956277, 0.8441977985663023, 0.8441977985663023, 0.8441977985663023, 0.7640969506956277, -0.3172644955584791, -0.3172644955584791, -0.3172644955584791, -0.3172644955584791, -0.3172644955584791, 0.8441977985663023, -0.3172644955584791, -0.3172644955584791, -0.3172644955584791, -0.39736534342915364, -0.3172644955584791, -1.999382300842645, 0.8842482225016395, 0.8441977985663023, -2.3197856923253433, -2.3197856923253433, 0.7640969506956277, 0.7640969506956277, -0.27721407162314177, -0.5976174631058401, -2.3197856923253433, 0.7640969506956277, 0.7640969506956277, -0.27721407162314177, -2.3197856923253433, 0.7640969506956277, 0.7640969506956277, -0.27721407162314177, 0.7640969506956277, -2.3197856923253433, 0.7640969506956277, 0.7640969506956277, -0.27721407162314177, 0.7640969506956277, 0.8441977985663023, -1.999382300842645, 0.7640969506956277, -2.3197856923253433, -0.3172644955584791, -1.999382300842645, -0.6376678870411774, 0.8441977985663023, 0.7640969506956277, -2.3197856923253433, -0.3172644955584791]}, {\"label\": \"Minimum Experience Required\", \"values\": [null, null, null, null, null, null, null, null, null, -0.5984942197321717, null, null, -1.0456317931614196, null, null, null, null, null, null, null, null, -0.5984942197321717, -0.5984942197321717, null, null, null, -0.5984942197321717, 0.7429185005555723, null, null, null, null, -0.5984942197321717, null, null, null, null, null, null, null, null, null, -0.15135664630292367, 1.6371936474140683, -0.5984942197321717, null, -0.5984942197321717, null, null, null, null, null, null, null, null, -0.15135664630292367, null, null, null, null, null, null, null, null, null, null, null, null, null, null, null, -0.15135664630292367, 0.7429185005555723, null, 0.7429185005555723, null, null, null, null, null, null, -0.5984942197321717, -1.0456317931614196, -0.5984942197321717, 1.1900560739848203, -0.15135664630292367, 1.1900560739848203, null, 0.2957809271263243, null, null, null, null, null, null, null, null, null, null, null, null, null, null, null, null, null, null, null, null, null, null, null, null, null, null, null, null, null, null, null, null, null, null, null, null, null, null, null, null, null, null, null, null, null, null, null, null, null, null, null, null, null, null, null, null, null, null, null, null, null, null, null, null, null, null, null, null, null, null, null, null, null, null, null]}], \"marker\": {\"line\": {\"color\": \"white\", \"width\": 0.5}, \"showscale\": false}, \"type\": \"splom\"}],\n",
              "                        {\"height\": 1200, \"template\": {\"data\": {\"bar\": [{\"error_x\": {\"color\": \"#2a3f5f\"}, \"error_y\": {\"color\": \"#2a3f5f\"}, \"marker\": {\"line\": {\"color\": \"#E5ECF6\", \"width\": 0.5}}, \"type\": \"bar\"}], \"barpolar\": [{\"marker\": {\"line\": {\"color\": \"#E5ECF6\", \"width\": 0.5}}, \"type\": \"barpolar\"}], \"carpet\": [{\"aaxis\": {\"endlinecolor\": \"#2a3f5f\", \"gridcolor\": \"white\", \"linecolor\": \"white\", \"minorgridcolor\": \"white\", \"startlinecolor\": \"#2a3f5f\"}, \"baxis\": {\"endlinecolor\": \"#2a3f5f\", \"gridcolor\": \"white\", \"linecolor\": \"white\", \"minorgridcolor\": \"white\", \"startlinecolor\": \"#2a3f5f\"}, \"type\": \"carpet\"}], \"choropleth\": [{\"colorbar\": {\"outlinewidth\": 0, \"ticks\": \"\"}, \"type\": \"choropleth\"}], \"contour\": [{\"colorbar\": {\"outlinewidth\": 0, \"ticks\": \"\"}, \"colorscale\": [[0.0, \"#0d0887\"], [0.1111111111111111, \"#46039f\"], [0.2222222222222222, \"#7201a8\"], [0.3333333333333333, \"#9c179e\"], [0.4444444444444444, \"#bd3786\"], [0.5555555555555556, \"#d8576b\"], [0.6666666666666666, \"#ed7953\"], [0.7777777777777778, \"#fb9f3a\"], [0.8888888888888888, \"#fdca26\"], [1.0, \"#f0f921\"]], \"type\": \"contour\"}], \"contourcarpet\": [{\"colorbar\": {\"outlinewidth\": 0, \"ticks\": \"\"}, \"type\": \"contourcarpet\"}], \"heatmap\": [{\"colorbar\": {\"outlinewidth\": 0, \"ticks\": \"\"}, \"colorscale\": [[0.0, \"#0d0887\"], [0.1111111111111111, \"#46039f\"], [0.2222222222222222, \"#7201a8\"], [0.3333333333333333, \"#9c179e\"], [0.4444444444444444, \"#bd3786\"], [0.5555555555555556, \"#d8576b\"], [0.6666666666666666, \"#ed7953\"], [0.7777777777777778, \"#fb9f3a\"], [0.8888888888888888, \"#fdca26\"], [1.0, \"#f0f921\"]], \"type\": \"heatmap\"}], \"heatmapgl\": [{\"colorbar\": {\"outlinewidth\": 0, \"ticks\": \"\"}, \"colorscale\": [[0.0, \"#0d0887\"], [0.1111111111111111, \"#46039f\"], [0.2222222222222222, \"#7201a8\"], [0.3333333333333333, \"#9c179e\"], [0.4444444444444444, \"#bd3786\"], [0.5555555555555556, \"#d8576b\"], [0.6666666666666666, \"#ed7953\"], [0.7777777777777778, \"#fb9f3a\"], [0.8888888888888888, \"#fdca26\"], [1.0, \"#f0f921\"]], \"type\": \"heatmapgl\"}], \"histogram\": [{\"marker\": {\"colorbar\": {\"outlinewidth\": 0, \"ticks\": \"\"}}, \"type\": \"histogram\"}], \"histogram2d\": [{\"colorbar\": {\"outlinewidth\": 0, \"ticks\": \"\"}, \"colorscale\": [[0.0, \"#0d0887\"], [0.1111111111111111, \"#46039f\"], [0.2222222222222222, \"#7201a8\"], [0.3333333333333333, \"#9c179e\"], [0.4444444444444444, \"#bd3786\"], [0.5555555555555556, \"#d8576b\"], [0.6666666666666666, \"#ed7953\"], [0.7777777777777778, \"#fb9f3a\"], [0.8888888888888888, \"#fdca26\"], [1.0, \"#f0f921\"]], \"type\": \"histogram2d\"}], \"histogram2dcontour\": [{\"colorbar\": {\"outlinewidth\": 0, \"ticks\": \"\"}, \"colorscale\": [[0.0, \"#0d0887\"], [0.1111111111111111, \"#46039f\"], [0.2222222222222222, \"#7201a8\"], [0.3333333333333333, \"#9c179e\"], [0.4444444444444444, \"#bd3786\"], [0.5555555555555556, \"#d8576b\"], [0.6666666666666666, \"#ed7953\"], [0.7777777777777778, \"#fb9f3a\"], [0.8888888888888888, \"#fdca26\"], [1.0, \"#f0f921\"]], \"type\": \"histogram2dcontour\"}], \"mesh3d\": [{\"colorbar\": {\"outlinewidth\": 0, \"ticks\": \"\"}, \"type\": \"mesh3d\"}], \"parcoords\": [{\"line\": {\"colorbar\": {\"outlinewidth\": 0, \"ticks\": \"\"}}, \"type\": \"parcoords\"}], \"pie\": [{\"automargin\": true, \"type\": \"pie\"}], \"scatter\": [{\"marker\": {\"colorbar\": {\"outlinewidth\": 0, \"ticks\": \"\"}}, \"type\": \"scatter\"}], \"scatter3d\": [{\"line\": {\"colorbar\": {\"outlinewidth\": 0, \"ticks\": \"\"}}, \"marker\": {\"colorbar\": {\"outlinewidth\": 0, \"ticks\": \"\"}}, \"type\": \"scatter3d\"}], \"scattercarpet\": [{\"marker\": {\"colorbar\": {\"outlinewidth\": 0, \"ticks\": \"\"}}, \"type\": \"scattercarpet\"}], \"scattergeo\": [{\"marker\": {\"colorbar\": {\"outlinewidth\": 0, \"ticks\": \"\"}}, \"type\": \"scattergeo\"}], \"scattergl\": [{\"marker\": {\"colorbar\": {\"outlinewidth\": 0, \"ticks\": \"\"}}, \"type\": \"scattergl\"}], \"scattermapbox\": [{\"marker\": {\"colorbar\": {\"outlinewidth\": 0, \"ticks\": \"\"}}, \"type\": \"scattermapbox\"}], \"scatterpolar\": [{\"marker\": {\"colorbar\": {\"outlinewidth\": 0, \"ticks\": \"\"}}, \"type\": \"scatterpolar\"}], \"scatterpolargl\": [{\"marker\": {\"colorbar\": {\"outlinewidth\": 0, \"ticks\": \"\"}}, \"type\": \"scatterpolargl\"}], \"scatterternary\": [{\"marker\": {\"colorbar\": {\"outlinewidth\": 0, \"ticks\": \"\"}}, \"type\": \"scatterternary\"}], \"surface\": [{\"colorbar\": {\"outlinewidth\": 0, \"ticks\": \"\"}, \"colorscale\": [[0.0, \"#0d0887\"], [0.1111111111111111, \"#46039f\"], [0.2222222222222222, \"#7201a8\"], [0.3333333333333333, \"#9c179e\"], [0.4444444444444444, \"#bd3786\"], [0.5555555555555556, \"#d8576b\"], [0.6666666666666666, \"#ed7953\"], [0.7777777777777778, \"#fb9f3a\"], [0.8888888888888888, \"#fdca26\"], [1.0, \"#f0f921\"]], \"type\": \"surface\"}], \"table\": [{\"cells\": {\"fill\": {\"color\": \"#EBF0F8\"}, \"line\": {\"color\": \"white\"}}, \"header\": {\"fill\": {\"color\": \"#C8D4E3\"}, \"line\": {\"color\": \"white\"}}, \"type\": \"table\"}]}, \"layout\": {\"annotationdefaults\": {\"arrowcolor\": \"#2a3f5f\", \"arrowhead\": 0, \"arrowwidth\": 1}, \"coloraxis\": {\"colorbar\": {\"outlinewidth\": 0, \"ticks\": \"\"}}, \"colorscale\": {\"diverging\": [[0, \"#8e0152\"], [0.1, \"#c51b7d\"], [0.2, \"#de77ae\"], [0.3, \"#f1b6da\"], [0.4, \"#fde0ef\"], [0.5, \"#f7f7f7\"], [0.6, \"#e6f5d0\"], [0.7, \"#b8e186\"], [0.8, \"#7fbc41\"], [0.9, \"#4d9221\"], [1, \"#276419\"]], \"sequential\": [[0.0, \"#0d0887\"], [0.1111111111111111, \"#46039f\"], [0.2222222222222222, \"#7201a8\"], [0.3333333333333333, \"#9c179e\"], [0.4444444444444444, \"#bd3786\"], [0.5555555555555556, \"#d8576b\"], [0.6666666666666666, \"#ed7953\"], [0.7777777777777778, \"#fb9f3a\"], [0.8888888888888888, \"#fdca26\"], [1.0, \"#f0f921\"]], \"sequentialminus\": [[0.0, \"#0d0887\"], [0.1111111111111111, \"#46039f\"], [0.2222222222222222, \"#7201a8\"], [0.3333333333333333, \"#9c179e\"], [0.4444444444444444, \"#bd3786\"], [0.5555555555555556, \"#d8576b\"], [0.6666666666666666, \"#ed7953\"], [0.7777777777777778, \"#fb9f3a\"], [0.8888888888888888, \"#fdca26\"], [1.0, \"#f0f921\"]]}, \"colorway\": [\"#636efa\", \"#EF553B\", \"#00cc96\", \"#ab63fa\", \"#FFA15A\", \"#19d3f3\", \"#FF6692\", \"#B6E880\", \"#FF97FF\", \"#FECB52\"], \"font\": {\"color\": \"#2a3f5f\"}, \"geo\": {\"bgcolor\": \"white\", \"lakecolor\": \"white\", \"landcolor\": \"#E5ECF6\", \"showlakes\": true, \"showland\": true, \"subunitcolor\": \"white\"}, \"hoverlabel\": {\"align\": \"left\"}, \"hovermode\": \"closest\", \"mapbox\": {\"style\": \"light\"}, \"paper_bgcolor\": \"white\", \"plot_bgcolor\": \"#E5ECF6\", \"polar\": {\"angularaxis\": {\"gridcolor\": \"white\", \"linecolor\": \"white\", \"ticks\": \"\"}, \"bgcolor\": \"#E5ECF6\", \"radialaxis\": {\"gridcolor\": \"white\", \"linecolor\": \"white\", \"ticks\": \"\"}}, \"scene\": {\"xaxis\": {\"backgroundcolor\": \"#E5ECF6\", \"gridcolor\": \"white\", \"gridwidth\": 2, \"linecolor\": \"white\", \"showbackground\": true, \"ticks\": \"\", \"zerolinecolor\": \"white\"}, \"yaxis\": {\"backgroundcolor\": \"#E5ECF6\", \"gridcolor\": \"white\", \"gridwidth\": 2, \"linecolor\": \"white\", \"showbackground\": true, \"ticks\": \"\", \"zerolinecolor\": \"white\"}, \"zaxis\": {\"backgroundcolor\": \"#E5ECF6\", \"gridcolor\": \"white\", \"gridwidth\": 2, \"linecolor\": \"white\", \"showbackground\": true, \"ticks\": \"\", \"zerolinecolor\": \"white\"}}, \"shapedefaults\": {\"line\": {\"color\": \"#2a3f5f\"}}, \"ternary\": {\"aaxis\": {\"gridcolor\": \"white\", \"linecolor\": \"white\", \"ticks\": \"\"}, \"baxis\": {\"gridcolor\": \"white\", \"linecolor\": \"white\", \"ticks\": \"\"}, \"bgcolor\": \"#E5ECF6\", \"caxis\": {\"gridcolor\": \"white\", \"linecolor\": \"white\", \"ticks\": \"\"}}, \"title\": {\"x\": 0.05}, \"xaxis\": {\"automargin\": true, \"gridcolor\": \"white\", \"linecolor\": \"white\", \"ticks\": \"\", \"title\": {\"standoff\": 15}, \"zerolinecolor\": \"white\", \"zerolinewidth\": 2}, \"yaxis\": {\"automargin\": true, \"gridcolor\": \"white\", \"linecolor\": \"white\", \"ticks\": \"\", \"title\": {\"standoff\": 15}, \"zerolinecolor\": \"white\", \"zerolinewidth\": 2}}}, \"title\": {\"text\": \"Pairwise feature scatter plots\"}, \"width\": 1200},\n",
              "                        {\"responsive\": true}\n",
              "                    ).then(function(){\n",
              "                            \n",
              "var gd = document.getElementById('5c30d67b-4130-4b91-abff-e0d1a574a4f9');\n",
              "var x = new MutationObserver(function (mutations, observer) {{\n",
              "        var display = window.getComputedStyle(gd).display;\n",
              "        if (!display || display === 'none') {{\n",
              "            console.log([gd, 'removed!']);\n",
              "            Plotly.purge(gd);\n",
              "            observer.disconnect();\n",
              "        }}\n",
              "}});\n",
              "\n",
              "// Listen for the removal of the full notebook cells\n",
              "var notebookContainer = gd.closest('#notebook-container');\n",
              "if (notebookContainer) {{\n",
              "    x.observe(notebookContainer, {childList: true});\n",
              "}}\n",
              "\n",
              "// Listen for the clearing of the current output cell\n",
              "var outputEl = gd.closest('.output');\n",
              "if (outputEl) {{\n",
              "    x.observe(outputEl, {childList: true});\n",
              "}}\n",
              "\n",
              "                        })\n",
              "                };\n",
              "                \n",
              "            </script>\n",
              "        </div>\n",
              "</body>\n",
              "</html>"
            ]
          },
          "metadata": {
            "tags": []
          }
        }
      ]
    }
  ]
}